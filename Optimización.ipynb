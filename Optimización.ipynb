{
 "cells": [
  {
   "cell_type": "code",
   "execution_count": 2,
   "id": "55f87b17-1617-49f5-8c24-ba2052c15a67",
   "metadata": {},
   "outputs": [],
   "source": [
    "import numpy as np\n",
    "import pandas as pd\n",
    "\n",
    "#pip install import_ipynb\n",
    "\n",
    "import import_ipynb\n",
    "#from Pedidos import pedidos\n",
    "#from Fletes import fletes\n",
    "from Capacidad_de_almacenaje import capacidad_almacenaje\n",
    "from Clientes_por_planta import clientes_por_planta_\n",
    "from Capacidad_de_almacenaje import capacidad_almacenaje\n",
    "from Productos_por_planta import productos_por_planta\n",
    "from Puertos_por_planta import puertos_por_planta_"
   ]
  },
  {
   "cell_type": "markdown",
   "id": "e3bed612-3a5e-4276-9e62-4cc4031a4c76",
   "metadata": {},
   "source": [
    "# 2da Etapa: Optimización"
   ]
  },
  {
   "cell_type": "markdown",
   "id": "b41e61cc-bc3e-48c7-814f-ce81101a79da",
   "metadata": {},
   "source": [
    "*Función Objetivo*\\\n",
    "Se desea conocer un conjunto de plantas de almacenaje, puertos de origen y puertos de destino que minimicen el costo total de la cadena de suministro.\n",
    "\n",
    "Nomenclatura:\n",
    "- k: ID de pedido\n",
    "- i: ID de planta de almacenamiento\n",
    "- p: ID de puerto de origen\n",
    "- j: ID de puerto de destino\n",
    "- c: ID de transportista\n",
    "- s: Nivel de servicio\n",
    "- t: Tiempo de envío [días]\n",
    "- m: Modo de transporte (aire o tierra)\n",
    "- q: Cantidad de items en cada pedido [items]\n",
    "- w: Peso [kg/item]\n",
    "- F: Peso máximo [kg/item]\n",
    "\n",
    "- C: Costo de almacenamiento [USD/item]\n",
    "- M: Costo fijo de transporte [USD/kg]\n",
    "- X: Costo de almacenamiento [USD]\n",
    "- Y: Costo de transporte [USD/kg]\n",
    "- Z: Costo total de la cadena de suministro [USD]"
   ]
  },
  {
   "cell_type": "code",
   "execution_count": null,
   "id": "afbbc7c4-f2da-42fa-aeac-89972b5515ef",
   "metadata": {},
   "outputs": [],
   "source": [
    "pedidos = pedidos[[\"Producto\", \"Items\", \"Peso [kg/item]\"]].copy()\n",
    "\n",
    "df1 = pd.merge(pedidos, productos_por_planta, on = \"Producto\")\n",
    "df2 = pd.merge(df1, puertos_por_planta_, on = \"Planta\")\n",
    "df3 = pd.merge(df2, fletes, on = [\"Puerto de origen\"])\n",
    "df4 = pd.merge(df3, costos_almacenaje, on = \"Planta\")\n",
    "df5 = pd.merge(df4, capacidad_almacenaje, on = \"Planta\")\n",
    "df6 = pd.merge(df5, clientes_por_planta, on = \"Planta\")\n",
    "\n",
    "df6.round(2).head()"
   ]
  },
  {
   "cell_type": "markdown",
   "id": "31599bfc-5953-49e1-a573-30e7fe11dd3b",
   "metadata": {},
   "source": [
    "*¿La tabla contiene filas duplicadas?*"
   ]
  },
  {
   "cell_type": "code",
   "execution_count": null,
   "id": "06e1e43d-abcd-46aa-8878-1d84c03895dc",
   "metadata": {},
   "outputs": [],
   "source": [
    "df6.duplicated().any()"
   ]
  },
  {
   "cell_type": "markdown",
   "id": "73592d02-5219-4120-bc74-b1e490703a92",
   "metadata": {},
   "source": [
    "*Si la tabla tiene filas duplicadas, estas deben ser eliminadas.*"
   ]
  },
  {
   "cell_type": "code",
   "execution_count": null,
   "id": "048cd747-36f2-4cd6-95ef-245a4266df69",
   "metadata": {},
   "outputs": [],
   "source": [
    "df6.drop_duplicates(inplace = True)"
   ]
  },
  {
   "cell_type": "markdown",
   "id": "1d0b83db-3558-4b05-883b-4f33250ff523",
   "metadata": {},
   "source": [
    "*¿Cuántas filas y columnas tiene la nueva tabla? (N° filas, N° columnas)*"
   ]
  },
  {
   "cell_type": "code",
   "execution_count": null,
   "id": "93a7dc54-0a8c-4d54-bab1-aad3b3fd340a",
   "metadata": {},
   "outputs": [],
   "source": [
    "df6.shape"
   ]
  },
  {
   "cell_type": "markdown",
   "id": "4ed36222-8d61-45f6-981f-99a71bece7c0",
   "metadata": {},
   "source": [
    "*Estadística Descriptiva del Costo de Almacenaje [USD]*"
   ]
  },
  {
   "cell_type": "markdown",
   "id": "f2739405-08e9-4182-8fe2-91da94bf8475",
   "metadata": {},
   "source": [
    "$$ X_{ki} = q_{ki}*C_i $$\n"
   ]
  },
  {
   "cell_type": "code",
   "execution_count": null,
   "id": "e4a6121f-a90e-489a-bd05-a75e879dfb96",
   "metadata": {},
   "outputs": [],
   "source": [
    "df6[\"Costo de almacenaje [USD]\"] = df6[\"Items\"] * df6[\"Costo específico [USD/item]\"]\n",
    "df6_agrup = df6.groupby(by = [\"Planta\"]).agg({\"Costo de almacenaje [USD]\": [\"min\", \"mean\", \"max\", \"sum\"]})\n",
    "\n",
    "total = df6_agrup[(\"Costo de almacenaje [USD]\", \"sum\")].sum()\n",
    "df6_agrup[(\"Costo de almacenaje [USD]\", \"%\")] = df6_agrup[(\"Costo de almacenaje [USD]\", \"sum\")].apply(lambda x: x / total * 100)\n",
    "\n",
    "df6_agrup.round(2)"
   ]
  },
  {
   "cell_type": "code",
   "execution_count": null,
   "id": "9b785e88-2fac-47e0-ac33-422fff558730",
   "metadata": {},
   "outputs": [],
   "source": [
    "from functions import plot_bar\n",
    "\n",
    "plot_bar(\"Planta\", \"% Costo de Almacenaje\", df6_agrup.index, df6_agrup[(\"Costo de almacenaje [USD]\", \"%\")])"
   ]
  },
  {
   "cell_type": "markdown",
   "id": "d189b0df-8e8b-4752-8bd4-404af05c0c2a",
   "metadata": {},
   "source": [
    "*Estadística Descriptiva del Costo de Transporte [USD]*"
   ]
  },
  {
   "cell_type": "markdown",
   "id": "1d6953a5-376d-452d-8811-a6a09afb878a",
   "metadata": {},
   "source": [
    "$$ \\sum_{k}{w_{kpjcstm}} \\leq max \\ F_{kpjcstm} $$\n",
    "\n",
    "$$ Si \\ s = CRF \\ \\Rightarrow \\ Y_{kpjcstm} = 0 $$\n",
    "\n",
    "$$ Si \\ s \\neq CRF, \\ m = Tierra \\ \\Rightarrow \\ Y_{kpjcstm} = \\frac{w_{kpjcstm}}{\\sum_{k}{w_{kpjcstm}}}*R_{kpjcstm} $$\n",
    "\n",
    "$$ Si \\ s \\neq CRF, \\ m \\neq Tierra \\ \\Rightarrow \\ Y_{kpjcstm} = w_{kpjcstm}*R_{kpjcstm} $$\n",
    "\n",
    "$$ Si \\ Y_{kpjcstm} < M_{kpjcstm} \\ \\Rightarrow \\ Y_{kpjcstm} = M_{kpjcstm} $$"
   ]
  },
  {
   "cell_type": "code",
   "execution_count": null,
   "id": "9c185c42-b6ce-44b5-86a8-7aa7b6472a71",
   "metadata": {},
   "outputs": [],
   "source": [
    "df6[\"Peso [kg]\"] = df6[\"Items\"] * df6[\"Peso [kg/item]\"]\n",
    "df6[\"Peso máximo [kg]\"] = df6[\"Items\"] * df6[\"Peso máximo [kg/item]\"]\n",
    "\n",
    "df6[[\"Suma de Peso [kg]\", \"Máximo del Peso máximo [kg]\"]] = df6.groupby(by = [\"Puerto de origen\", \"Puerto de destino\", \"Transportista\", \n",
    "    \"Modo de transporte\", \"Envío [días]\"])[\"Peso [kg]\", \"Peso máximo [kg]\"].transform(\"sum\", \"max\").rename(columns = {\"Peso [kg]\": \"Suma de Peso [kg]\", \n",
    "    \"Peso máximo [kg]\": \"Máximo del Peso máximo [kg]\"})\n",
    "\n",
    "df6[\"Suma de Peso real [kg]\"] = np.where(df6[\"Suma de Peso [kg]\"] <= df6[\"Peso máximo [kg]\"], df6[\"Suma de Peso [kg]\"], df6[\"Peso máximo [kg]\"])\n",
    "df6.drop(labels = [\"Suma de Peso [kg]\", \"Máximo del Peso máximo [kg]\"], axis = 1, inplace = True)\n",
    "\n",
    "df6.round(2).head()"
   ]
  },
  {
   "cell_type": "code",
   "execution_count": null,
   "id": "481b76bc-cd8b-4605-ad79-f25ce859a6bd",
   "metadata": {},
   "outputs": [],
   "source": [
    "a = df6[\"Peso [kg]\"] / df6[\"Suma de Peso real [kg]\"] * df6[\"Tasa de flete [USD/kg]\"]\n",
    "b = df6[\"Peso [kg]\"] * df6[\"Tasa de flete [USD/kg]\"]\n",
    "c = df6[\"Costo mínimo [USD/kg]\"]\n",
    "\n",
    "df6[\"Costo de transporte [USD]\"] = np.where(df6[\"Nivel de servicio\"] == \"CRF\", 0, \n",
    "                                            np.where(df6[\"Modo de transporte\"] == \"Tierra\", np.where(a > c, a, c),\n",
    "                                                    np.where(b > c, b, c)))\n",
    "\n",
    "df6_agrup = df6.groupby(by = [\"Puerto de origen\", \"Puerto de destino\"]).agg({\"Costo de transporte [USD]\": [\"min\", \"mean\", \"max\", \"sum\"]})\n",
    "\n",
    "total = df6_agrup[(\"Costo de transporte [USD]\", \"sum\")].sum()\n",
    "df6_agrup[(\"Costo de transporte [USD]\", \"%\")] = df6_agrup[(\"Costo de transporte [USD]\", \"sum\")].apply(lambda x: x / total * 100)\n",
    "\n",
    "df6_agrup.round(2)"
   ]
  },
  {
   "cell_type": "code",
   "execution_count": null,
   "id": "0bef22ac-9c9c-4537-bba3-2d64becbcf3a",
   "metadata": {},
   "outputs": [],
   "source": [
    "plot_bar(\"Planta\", \"% Costo de Transporte\", df6_agrup.index.levels[0], df6_agrup[(\"Costo de transporte [USD]\", \"%\")])"
   ]
  },
  {
   "cell_type": "markdown",
   "id": "d29391c4-0d9f-417f-a0ae-5d7d61239a03",
   "metadata": {},
   "source": [
    "*Estadística Descriptiva del Costo Total [USD]*"
   ]
  },
  {
   "cell_type": "markdown",
   "id": "373bc855-47e6-407b-b73b-5045ede8d78d",
   "metadata": {},
   "source": [
    "$$ Z_{ipj} = min \\sum_{k}{(X_{ki} + Y_{kpj})} $$"
   ]
  },
  {
   "cell_type": "code",
   "execution_count": 11,
   "id": "f01dbac3-540a-45c0-8c09-92f78df4ba22",
   "metadata": {},
   "outputs": [],
   "source": [
    "#df6[\"Costo total [USD]\"] = df6[\"Costo de almacenaje [USD]\"] + df6[\"Costo de transporte [USD]\"]\n",
    "#df6_agrup = df6.groupby(by = [\"Planta\", \"Puerto de origen\", \"Puerto de destino\"]).agg({\"Costo total [USD]\": [\"min\", \"mean\", \"max\", \"sum\"]})\n",
    "\n",
    "#total = df6_agrup[(\"Costo total [USD]\", \"sum\")].sum()\n",
    "#df6_agrup[(\"Costo total [USD]\", \"%\")] = df6_agrup[(\"Costo total [USD]\", \"sum\")].apply(lambda x: x / total * 100)\n",
    "\n",
    "#df6_agrup.round(2)"
   ]
  },
  {
   "cell_type": "code",
   "execution_count": null,
   "id": "87448c70-6d68-4cc3-8db0-bfc645c3cec0",
   "metadata": {},
   "outputs": [],
   "source": []
  }
 ],
 "metadata": {
  "kernelspec": {
   "display_name": "Python 3",
   "language": "python",
   "name": "python3"
  },
  "language_info": {
   "codemirror_mode": {
    "name": "ipython",
    "version": 3
   },
   "file_extension": ".py",
   "mimetype": "text/x-python",
   "name": "python",
   "nbconvert_exporter": "python",
   "pygments_lexer": "ipython3",
   "version": "3.8.8"
  }
 },
 "nbformat": 4,
 "nbformat_minor": 5
}
