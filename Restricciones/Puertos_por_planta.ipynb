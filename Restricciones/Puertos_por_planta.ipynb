{
 "cells": [
  {
   "cell_type": "code",
   "execution_count": 1,
   "id": "ad805c15-0a2f-4dca-8c07-634009bdd8a4",
   "metadata": {},
   "outputs": [],
   "source": [
    "import numpy as np\n",
    "import pandas as pd"
   ]
  },
  {
   "cell_type": "markdown",
   "id": "4db2ac39-2970-44bc-8ce1-e992be418989",
   "metadata": {},
   "source": [
    "## Tabla Puertos por cada Planta"
   ]
  },
  {
   "cell_type": "markdown",
   "id": "eadbfdb1-ed05-4be7-9d0a-99bc8d70d512",
   "metadata": {},
   "source": [
    "Esta tabla describe las rutas permitidas entre los almacenes y los puertos de envío."
   ]
  },
  {
   "cell_type": "code",
   "execution_count": 2,
   "id": "b1c9aa88-e64c-44bf-ab4b-e0b5ae95b9c9",
   "metadata": {},
   "outputs": [],
   "source": [
    "puertos_por_planta = pd.read_excel(\"C:\\\\Users\\\\Hernan\\\\Documents\\\\Datasets\\\\Supply Chain\\\\Logisitcs problem.xlsx\", sheet_name = \"PlantPorts\").iloc[:, :2]\n",
    "\n",
    "puertos_por_planta.columns = [\"Planta\", \"Puerto de origen\"]"
   ]
  },
  {
   "cell_type": "code",
   "execution_count": 3,
   "id": "70e6bc67-ea3c-4b37-a8bc-631abca32cfc",
   "metadata": {},
   "outputs": [
    {
     "name": "stdout",
     "output_type": "stream",
     "text": [
      "<class 'pandas.core.frame.DataFrame'>\n",
      "RangeIndex: 22 entries, 0 to 21\n",
      "Data columns (total 2 columns):\n",
      " #   Column            Non-Null Count  Dtype \n",
      "---  ------            --------------  ----- \n",
      " 0   Planta            22 non-null     object\n",
      " 1   Puerto de origen  22 non-null     object\n",
      "dtypes: object(2)\n",
      "memory usage: 480.0+ bytes\n"
     ]
    }
   ],
   "source": [
    "puertos_por_planta.info()"
   ]
  },
  {
   "cell_type": "markdown",
   "id": "cad66e7a-d4a2-4529-b8d8-b468ff965de4",
   "metadata": {},
   "source": [
    "*¿La tabla contiene filas duplicadas?*"
   ]
  },
  {
   "cell_type": "code",
   "execution_count": 4,
   "id": "144fe973-8bc7-492e-9122-220b80c34ea3",
   "metadata": {},
   "outputs": [
    {
     "data": {
      "text/plain": [
       "False"
      ]
     },
     "execution_count": 4,
     "metadata": {},
     "output_type": "execute_result"
    }
   ],
   "source": [
    "puertos_por_planta.duplicated().any()"
   ]
  },
  {
   "cell_type": "code",
   "execution_count": 5,
   "id": "0be76ab5-e506-4b4b-8367-c14aa93bf27f",
   "metadata": {},
   "outputs": [
    {
     "data": {
      "text/html": [
       "<div>\n",
       "<style scoped>\n",
       "    .dataframe tbody tr th:only-of-type {\n",
       "        vertical-align: middle;\n",
       "    }\n",
       "\n",
       "    .dataframe tbody tr th {\n",
       "        vertical-align: top;\n",
       "    }\n",
       "\n",
       "    .dataframe thead th {\n",
       "        text-align: right;\n",
       "    }\n",
       "</style>\n",
       "<table border=\"1\" class=\"dataframe\">\n",
       "  <thead>\n",
       "    <tr style=\"text-align: right;\">\n",
       "      <th></th>\n",
       "      <th>Planta</th>\n",
       "      <th>Puerto de origen</th>\n",
       "    </tr>\n",
       "  </thead>\n",
       "  <tbody>\n",
       "    <tr>\n",
       "      <th>0</th>\n",
       "      <td>1</td>\n",
       "      <td>1</td>\n",
       "    </tr>\n",
       "    <tr>\n",
       "      <th>1</th>\n",
       "      <td>1</td>\n",
       "      <td>2</td>\n",
       "    </tr>\n",
       "    <tr>\n",
       "      <th>2</th>\n",
       "      <td>2</td>\n",
       "      <td>3</td>\n",
       "    </tr>\n",
       "    <tr>\n",
       "      <th>3</th>\n",
       "      <td>3</td>\n",
       "      <td>4</td>\n",
       "    </tr>\n",
       "    <tr>\n",
       "      <th>4</th>\n",
       "      <td>4</td>\n",
       "      <td>5</td>\n",
       "    </tr>\n",
       "  </tbody>\n",
       "</table>\n",
       "</div>"
      ],
      "text/plain": [
       "   Planta  Puerto de origen\n",
       "0       1                 1\n",
       "1       1                 2\n",
       "2       2                 3\n",
       "3       3                 4\n",
       "4       4                 5"
      ]
     },
     "execution_count": 5,
     "metadata": {},
     "output_type": "execute_result"
    }
   ],
   "source": [
    "values = np.arange(1, 16, 1)\n",
    "\n",
    "puertos_por_planta[[\"Planta\", \"Puerto de origen\"]] = puertos_por_planta[[\"Planta\", \"Puerto de origen\"]].replace({\"[^\\d.]\": \"\"}, regex = True).astype(int)\n",
    "puertos_por_planta = puertos_por_planta.loc[puertos_por_planta[\"Planta\"].isin(values), :]\n",
    "\n",
    "puertos_por_planta.head()"
   ]
  },
  {
   "cell_type": "code",
   "execution_count": 6,
   "id": "caf7bf3a-cded-41c0-92ec-786a2d0abf8d",
   "metadata": {},
   "outputs": [
    {
     "data": {
      "text/html": [
       "<div>\n",
       "<style scoped>\n",
       "    .dataframe tbody tr th:only-of-type {\n",
       "        vertical-align: middle;\n",
       "    }\n",
       "\n",
       "    .dataframe tbody tr th {\n",
       "        vertical-align: top;\n",
       "    }\n",
       "\n",
       "    .dataframe thead th {\n",
       "        text-align: right;\n",
       "    }\n",
       "</style>\n",
       "<table border=\"1\" class=\"dataframe\">\n",
       "  <thead>\n",
       "    <tr style=\"text-align: right;\">\n",
       "      <th></th>\n",
       "      <th>Planta</th>\n",
       "      <th>Puerto de origen</th>\n",
       "    </tr>\n",
       "  </thead>\n",
       "  <tbody>\n",
       "    <tr>\n",
       "      <th>0</th>\n",
       "      <td>1</td>\n",
       "      <td>9</td>\n",
       "    </tr>\n",
       "    <tr>\n",
       "      <th>1</th>\n",
       "      <td>2</td>\n",
       "      <td>9</td>\n",
       "    </tr>\n",
       "    <tr>\n",
       "      <th>2</th>\n",
       "      <td>3</td>\n",
       "      <td>9</td>\n",
       "    </tr>\n",
       "    <tr>\n",
       "      <th>3</th>\n",
       "      <td>4</td>\n",
       "      <td>9</td>\n",
       "    </tr>\n",
       "    <tr>\n",
       "      <th>4</th>\n",
       "      <td>5</td>\n",
       "      <td>9</td>\n",
       "    </tr>\n",
       "  </tbody>\n",
       "</table>\n",
       "</div>"
      ],
      "text/plain": [
       "   Planta  Puerto de origen\n",
       "0       1                 9\n",
       "1       2                 9\n",
       "2       3                 9\n",
       "3       4                 9\n",
       "4       5                 9"
      ]
     },
     "execution_count": 6,
     "metadata": {},
     "output_type": "execute_result"
    }
   ],
   "source": [
    "import sys\n",
    "sys.path.append(\"C:\\\\Users\\\\Hernan\\\\Documents\\\\Datasets\\\\Supply Chain\")\n",
    "\n",
    "from functions import combined_table\n",
    "\n",
    "planta = values\n",
    "puertos_de_origen = np.arange(9, 12, 1)\n",
    "\n",
    "df = combined_table(\"Planta\", \"Puerto de origen\", planta, puertos_de_origen)\n",
    "df.head()"
   ]
  },
  {
   "cell_type": "code",
   "execution_count": 7,
   "id": "a6885a24-5f60-4197-884a-7aa9d43a79ed",
   "metadata": {},
   "outputs": [
    {
     "data": {
      "text/html": [
       "<div>\n",
       "<style scoped>\n",
       "    .dataframe tbody tr th:only-of-type {\n",
       "        vertical-align: middle;\n",
       "    }\n",
       "\n",
       "    .dataframe tbody tr th {\n",
       "        vertical-align: top;\n",
       "    }\n",
       "\n",
       "    .dataframe thead th {\n",
       "        text-align: right;\n",
       "    }\n",
       "</style>\n",
       "<table border=\"1\" class=\"dataframe\">\n",
       "  <thead>\n",
       "    <tr style=\"text-align: right;\">\n",
       "      <th></th>\n",
       "      <th>Planta</th>\n",
       "      <th>Puerto de origen</th>\n",
       "    </tr>\n",
       "  </thead>\n",
       "  <tbody>\n",
       "    <tr>\n",
       "      <th>0</th>\n",
       "      <td>1</td>\n",
       "      <td>1</td>\n",
       "    </tr>\n",
       "    <tr>\n",
       "      <th>1</th>\n",
       "      <td>1</td>\n",
       "      <td>2</td>\n",
       "    </tr>\n",
       "    <tr>\n",
       "      <th>2</th>\n",
       "      <td>2</td>\n",
       "      <td>3</td>\n",
       "    </tr>\n",
       "    <tr>\n",
       "      <th>3</th>\n",
       "      <td>3</td>\n",
       "      <td>4</td>\n",
       "    </tr>\n",
       "    <tr>\n",
       "      <th>4</th>\n",
       "      <td>4</td>\n",
       "      <td>5</td>\n",
       "    </tr>\n",
       "  </tbody>\n",
       "</table>\n",
       "</div>"
      ],
      "text/plain": [
       "   Planta  Puerto de origen\n",
       "0       1                 1\n",
       "1       1                 2\n",
       "2       2                 3\n",
       "3       3                 4\n",
       "4       4                 5"
      ]
     },
     "execution_count": 7,
     "metadata": {},
     "output_type": "execute_result"
    }
   ],
   "source": [
    "puertos_por_planta = pd.concat([puertos_por_planta, df]).reset_index(drop = True)\n",
    "\n",
    "puertos_por_planta.head()"
   ]
  },
  {
   "cell_type": "code",
   "execution_count": 8,
   "id": "ee6437b3-2b92-415b-ab27-fb9641f00e0f",
   "metadata": {},
   "outputs": [
    {
     "data": {
      "text/html": [
       "<div>\n",
       "<style scoped>\n",
       "    .dataframe tbody tr th:only-of-type {\n",
       "        vertical-align: middle;\n",
       "    }\n",
       "\n",
       "    .dataframe tbody tr th {\n",
       "        vertical-align: top;\n",
       "    }\n",
       "\n",
       "    .dataframe thead th {\n",
       "        text-align: right;\n",
       "    }\n",
       "</style>\n",
       "<table border=\"1\" class=\"dataframe\">\n",
       "  <thead>\n",
       "    <tr style=\"text-align: right;\">\n",
       "      <th></th>\n",
       "      <th>Recuento de Puertos de origen</th>\n",
       "    </tr>\n",
       "    <tr>\n",
       "      <th>Planta</th>\n",
       "      <th></th>\n",
       "    </tr>\n",
       "  </thead>\n",
       "  <tbody>\n",
       "    <tr>\n",
       "      <th>1</th>\n",
       "      <td>5</td>\n",
       "    </tr>\n",
       "    <tr>\n",
       "      <th>2</th>\n",
       "      <td>4</td>\n",
       "    </tr>\n",
       "    <tr>\n",
       "      <th>3</th>\n",
       "      <td>4</td>\n",
       "    </tr>\n",
       "    <tr>\n",
       "      <th>4</th>\n",
       "      <td>4</td>\n",
       "    </tr>\n",
       "    <tr>\n",
       "      <th>5</th>\n",
       "      <td>4</td>\n",
       "    </tr>\n",
       "    <tr>\n",
       "      <th>6</th>\n",
       "      <td>4</td>\n",
       "    </tr>\n",
       "    <tr>\n",
       "      <th>7</th>\n",
       "      <td>5</td>\n",
       "    </tr>\n",
       "    <tr>\n",
       "      <th>8</th>\n",
       "      <td>4</td>\n",
       "    </tr>\n",
       "    <tr>\n",
       "      <th>9</th>\n",
       "      <td>4</td>\n",
       "    </tr>\n",
       "    <tr>\n",
       "      <th>10</th>\n",
       "      <td>5</td>\n",
       "    </tr>\n",
       "    <tr>\n",
       "      <th>11</th>\n",
       "      <td>4</td>\n",
       "    </tr>\n",
       "    <tr>\n",
       "      <th>12</th>\n",
       "      <td>4</td>\n",
       "    </tr>\n",
       "    <tr>\n",
       "      <th>13</th>\n",
       "      <td>4</td>\n",
       "    </tr>\n",
       "    <tr>\n",
       "      <th>14</th>\n",
       "      <td>4</td>\n",
       "    </tr>\n",
       "    <tr>\n",
       "      <th>15</th>\n",
       "      <td>4</td>\n",
       "    </tr>\n",
       "  </tbody>\n",
       "</table>\n",
       "</div>"
      ],
      "text/plain": [
       "        Recuento de Puertos de origen\n",
       "Planta                               \n",
       "1                                   5\n",
       "2                                   4\n",
       "3                                   4\n",
       "4                                   4\n",
       "5                                   4\n",
       "6                                   4\n",
       "7                                   5\n",
       "8                                   4\n",
       "9                                   4\n",
       "10                                  5\n",
       "11                                  4\n",
       "12                                  4\n",
       "13                                  4\n",
       "14                                  4\n",
       "15                                  4"
      ]
     },
     "execution_count": 8,
     "metadata": {},
     "output_type": "execute_result"
    }
   ],
   "source": [
    "puertos_agrup_por_planta = puertos_por_planta.groupby(by = \"Planta\").agg({\"Planta\": \"size\"}).rename(columns = {\"Planta\": \"Recuento de Puertos de origen\"})\n",
    "\n",
    "puertos_agrup_por_planta"
   ]
  },
  {
   "cell_type": "code",
   "execution_count": 9,
   "id": "8c5ccfc1-f2fd-46d1-9bb8-8c63a93ec223",
   "metadata": {},
   "outputs": [
    {
     "data": {
      "image/png": "[encoded data removed]",
      "text/plain": [
       "<Figure size 648x504 with 1 Axes>"
      ]
     },
     "metadata": {},
     "output_type": "display_data"
    }
   ],
   "source": [
    "from functions import plot_bar\n",
    "\n",
    "plot_bar(\"Planta\", \"Recuento de Puertos de origen\", puertos_agrup_por_planta.index, puertos_agrup_por_planta[\"Recuento de Puertos de origen\"])"
   ]
  },
  {
   "cell_type": "code",
   "execution_count": null,
   "id": "284c4932-dbad-479c-8946-5feb87647041",
   "metadata": {},
   "outputs": [],
   "source": []
  }
 ],
 "metadata": {
  "kernelspec": {
   "display_name": "Python 3",
   "language": "python",
   "name": "python3"
  },
  "language_info": {
   "codemirror_mode": {
    "name": "ipython",
    "version": 3
   },
   "file_extension": ".py",
   "mimetype": "text/x-python",
   "name": "python",
   "nbconvert_exporter": "python",
   "pygments_lexer": "ipython3",
   "version": "3.8.8"
  }
 },
 "nbformat": 4,
 "nbformat_minor": 5
}
