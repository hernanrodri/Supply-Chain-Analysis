{
 "cells": [
  {
   "cell_type": "code",
   "execution_count": 1,
   "id": "c56a7dbd-738b-4934-8d1e-7f5f6216e17b",
   "metadata": {},
   "outputs": [],
   "source": [
    "import numpy as np"
   ]
  },
  {
   "cell_type": "code",
   "execution_count": 20,
   "id": "a2c1f877-ee31-4c78-967d-978284faf2f5",
   "metadata": {},
   "outputs": [],
   "source": [
    "A = np.array([[1]])\n",
    "B = np.array([[7], [8], [9]])"
   ]
  },
  {
   "cell_type": "code",
   "execution_count": 21,
   "id": "621b7d8c-40c7-4e83-b2d1-9e0532042736",
   "metadata": {},
   "outputs": [
    {
     "data": {
      "text/plain": [
       "(1, 1)"
      ]
     },
     "execution_count": 21,
     "metadata": {},
     "output_type": "execute_result"
    }
   ],
   "source": [
    "A.shape"
   ]
  },
  {
   "cell_type": "code",
   "execution_count": 22,
   "id": "e51daf96-4961-4461-84b8-8fc1b0965358",
   "metadata": {},
   "outputs": [
    {
     "data": {
      "text/plain": [
       "(3, 1)"
      ]
     },
     "execution_count": 22,
     "metadata": {},
     "output_type": "execute_result"
    }
   ],
   "source": [
    "B.shape"
   ]
  },
  {
   "cell_type": "code",
   "execution_count": 23,
   "id": "7e2a84c3-2ec7-4d73-b830-5cee532e63b5",
   "metadata": {},
   "outputs": [
    {
     "data": {
      "text/plain": [
       "array([[ 8],\n",
       "       [ 9],\n",
       "       [10]])"
      ]
     },
     "execution_count": 23,
     "metadata": {},
     "output_type": "execute_result"
    }
   ],
   "source": [
    "A + B"
   ]
  },
  {
   "cell_type": "code",
   "execution_count": 64,
   "id": "13217927-3b5e-4d0e-a2ef-4ea9a8bcd354",
   "metadata": {},
   "outputs": [],
   "source": [
    "A = np.array([1])\n",
    "B = np.array([7, 8, 9]).reshape(1, -1)"
   ]
  },
  {
   "cell_type": "code",
   "execution_count": 50,
   "id": "601470bb-5ffa-4e34-95f9-006f53b3c855",
   "metadata": {},
   "outputs": [
    {
     "data": {
      "text/plain": [
       "array([[7],\n",
       "       [8],\n",
       "       [9]])"
      ]
     },
     "execution_count": 50,
     "metadata": {},
     "output_type": "execute_result"
    }
   ],
   "source": [
    "B.T"
   ]
  },
  {
   "cell_type": "code",
   "execution_count": 54,
   "id": "1ee5670c-342d-43c0-83e1-851f3126262d",
   "metadata": {},
   "outputs": [
    {
     "data": {
      "text/plain": [
       "array([[[7, 8, 9]]])"
      ]
     },
     "execution_count": 54,
     "metadata": {},
     "output_type": "execute_result"
    }
   ],
   "source": [
    "B.reshape(1, 1, -1)"
   ]
  },
  {
   "cell_type": "code",
   "execution_count": 65,
   "id": "4fe0f400-196a-47dd-b68c-7f181ff25503",
   "metadata": {},
   "outputs": [],
   "source": [
    "A = np.array([1, 2])\n",
    "B = np.array([7, 8, 9]).reshape(-1, 1)"
   ]
  },
  {
   "cell_type": "code",
   "execution_count": 66,
   "id": "fdb9aef4-207d-4ddc-b56d-b7cd57634f26",
   "metadata": {},
   "outputs": [
    {
     "data": {
      "text/plain": [
       "array([[ 8,  9],\n",
       "       [ 9, 10],\n",
       "       [10, 11]])"
      ]
     },
     "execution_count": 66,
     "metadata": {},
     "output_type": "execute_result"
    }
   ],
   "source": [
    "A + B"
   ]
  },
  {
   "cell_type": "code",
   "execution_count": 67,
   "id": "efb5c870-8360-4392-b8c9-5aa9d47765df",
   "metadata": {},
   "outputs": [
    {
     "data": {
      "text/plain": [
       "array([[ 8,  9],\n",
       "       [ 9, 10],\n",
       "       [10, 11]])"
      ]
     },
     "execution_count": 67,
     "metadata": {},
     "output_type": "execute_result"
    }
   ],
   "source": [
    "B + A"
   ]
  },
  {
   "cell_type": "code",
   "execution_count": null,
   "id": "cf4c1ad6-5537-495c-aa1e-cbfc3831e3db",
   "metadata": {},
   "outputs": [],
   "source": []
  }
 ],
 "metadata": {
  "kernelspec": {
   "display_name": "Python 3",
   "language": "python",
   "name": "python3"
  },
  "language_info": {
   "codemirror_mode": {
    "name": "ipython",
    "version": 3
   },
   "file_extension": ".py",
   "mimetype": "text/x-python",
   "name": "python",
   "nbconvert_exporter": "python",
   "pygments_lexer": "ipython3",
   "version": "3.8.8"
  }
 },
 "nbformat": 4,
 "nbformat_minor": 5
}
