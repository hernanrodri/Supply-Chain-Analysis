{
 "cells": [
  {
   "cell_type": "code",
   "execution_count": 316,
   "id": "bbc8ac01-e7cf-474a-b214-598c482bf58b",
   "metadata": {},
   "outputs": [],
   "source": [
    "import numpy as np\n",
    "import pandas as pd\n",
    "import matplotlib.pyplot as plt\n",
    "\n",
    "plt.style.use(\"seaborn-darkgrid\")"
   ]
  },
  {
   "cell_type": "code",
   "execution_count": 317,
   "id": "e9b9cdcc-73e7-49f9-b3a0-5005269af264",
   "metadata": {},
   "outputs": [
    {
     "data": {
      "text/plain": [
       "['Solarize_Light2',\n",
       " '_classic_test_patch',\n",
       " 'bmh',\n",
       " 'classic',\n",
       " 'dark_background',\n",
       " 'fast',\n",
       " 'fivethirtyeight',\n",
       " 'ggplot',\n",
       " 'grayscale',\n",
       " 'seaborn',\n",
       " 'seaborn-bright',\n",
       " 'seaborn-colorblind',\n",
       " 'seaborn-dark',\n",
       " 'seaborn-dark-palette',\n",
       " 'seaborn-darkgrid',\n",
       " 'seaborn-deep',\n",
       " 'seaborn-muted',\n",
       " 'seaborn-notebook',\n",
       " 'seaborn-paper',\n",
       " 'seaborn-pastel',\n",
       " 'seaborn-poster',\n",
       " 'seaborn-talk',\n",
       " 'seaborn-ticks',\n",
       " 'seaborn-white',\n",
       " 'seaborn-whitegrid',\n",
       " 'tableau-colorblind10']"
      ]
     },
     "execution_count": 317,
     "metadata": {},
     "output_type": "execute_result"
    }
   ],
   "source": [
    "plt.style.available"
   ]
  },
  {
   "cell_type": "markdown",
   "id": "8abfd7ed-9757-4b51-ad25-0a9d0c503b63",
   "metadata": {},
   "source": [
    "# Análisis exploratorio de los datos"
   ]
  },
  {
   "cell_type": "markdown",
   "id": "3189f660-ddd5-4211-ba53-cb41c2c9a798",
   "metadata": {},
   "source": [
    "## Tabla Pedidos"
   ]
  },
  {
   "cell_type": "code",
   "execution_count": 318,
   "id": "698f8039-991f-4dff-a5aa-8400ab879db9",
   "metadata": {},
   "outputs": [],
   "source": [
    "pedidos = pd.read_excel(\"Logisitcs problem.xlsx\", sheet_name = \"OrderList\")\n",
    "\n",
    "pedidos.columns = [\"Pedido\", \"Fecha\", \"Puerto de origen\", \"Transportista\", \"TPT\", \"Nivel de servicio\", \"Envío adelantado [días]\", \n",
    "                   \"Envío tardío [días]\", \"Cliente\", \"Producto\", \"Planta\", \"Puerto de destino\", \"Items\", \"Peso [kg/item]\"]"
   ]
  },
  {
   "cell_type": "code",
   "execution_count": 319,
   "id": "f4ab7e68-4de3-40a5-96c5-a9bf00c903ec",
   "metadata": {},
   "outputs": [
    {
     "name": "stdout",
     "output_type": "stream",
     "text": [
      "<class 'pandas.core.frame.DataFrame'>\n",
      "RangeIndex: 9215 entries, 0 to 9214\n",
      "Data columns (total 14 columns):\n",
      " #   Column                   Non-Null Count  Dtype         \n",
      "---  ------                   --------------  -----         \n",
      " 0   Pedido                   9215 non-null   float64       \n",
      " 1   Fecha                    9215 non-null   datetime64[ns]\n",
      " 2   Puerto de origen         9215 non-null   object        \n",
      " 3   Transportista            9215 non-null   object        \n",
      " 4   TPT                      9215 non-null   int64         \n",
      " 5   Nivel de servicio        9215 non-null   object        \n",
      " 6   Envío adelantado [días]  9215 non-null   int64         \n",
      " 7   Envío tardío [días]      9215 non-null   int64         \n",
      " 8   Cliente                  9215 non-null   object        \n",
      " 9   Producto                 9215 non-null   int64         \n",
      " 10  Planta                   9215 non-null   object        \n",
      " 11  Puerto de destino        9215 non-null   object        \n",
      " 12  Items                    9215 non-null   int64         \n",
      " 13  Peso [kg/item]           9215 non-null   float64       \n",
      "dtypes: datetime64[ns](1), float64(2), int64(5), object(6)\n",
      "memory usage: 1008.0+ KB\n"
     ]
    }
   ],
   "source": [
    "pedidos.info()"
   ]
  },
  {
   "cell_type": "code",
   "execution_count": 320,
   "id": "5687394b-a802-49f4-ba41-71152eeede41",
   "metadata": {},
   "outputs": [],
   "source": [
    "pedidos[\"Pedido\"] = pedidos[\"Pedido\"].astype(int)\n",
    "lista = [\"Puerto de origen\", \"Planta\", \"Puerto de destino\"]\n",
    "pedidos[lista] = pedidos[lista].replace(to_replace = \"[^\\d.]\", value = \"\", regex = True).astype(int)"
   ]
  },
  {
   "cell_type": "markdown",
   "id": "68fb6ae2-591b-461a-869d-5409629486b4",
   "metadata": {},
   "source": [
    "*¿Cuál es el total de pedidos en esa fecha?*"
   ]
  },
  {
   "cell_type": "code",
   "execution_count": 321,
   "id": "2e4ac753-bb7e-469e-b8e0-c2db35f0c3d1",
   "metadata": {},
   "outputs": [
    {
     "data": {
      "text/plain": [
       "9215"
      ]
     },
     "execution_count": 321,
     "metadata": {},
     "output_type": "execute_result"
    }
   ],
   "source": [
    "pedidos.shape[0]"
   ]
  },
  {
   "cell_type": "markdown",
   "id": "c94242ae-2c82-4c8d-907e-0270ffa5bc3c",
   "metadata": {},
   "source": [
    "*¿En qué fecha se realizaron los pedidos?*"
   ]
  },
  {
   "cell_type": "code",
   "execution_count": 322,
   "id": "8d2e7581-e803-4eb9-ab74-2a7459f9bb69",
   "metadata": {},
   "outputs": [
    {
     "data": {
      "text/plain": [
       "'2013-05-26'"
      ]
     },
     "execution_count": 322,
     "metadata": {},
     "output_type": "execute_result"
    }
   ],
   "source": [
    "d = pedidos[\"Fecha\"].unique().astype(\"datetime64[D]\").astype(str)\n",
    "d[0]"
   ]
  },
  {
   "cell_type": "markdown",
   "id": "698314b2-0464-4eac-82c6-37e1b0be768b",
   "metadata": {},
   "source": [
    "*¿Cuántos pedidos hubo por cada conjunto Planta, Puerto de origen y Puerto de destino?*"
   ]
  },
  {
   "cell_type": "code",
   "execution_count": 323,
   "id": "62d9ab6a-207d-427f-8cbb-321525fe05a0",
   "metadata": {},
   "outputs": [
    {
     "data": {
      "text/html": [
       "<div>\n",
       "<style scoped>\n",
       "    .dataframe tbody tr th:only-of-type {\n",
       "        vertical-align: middle;\n",
       "    }\n",
       "\n",
       "    .dataframe tbody tr th {\n",
       "        vertical-align: top;\n",
       "    }\n",
       "\n",
       "    .dataframe thead th {\n",
       "        text-align: right;\n",
       "    }\n",
       "</style>\n",
       "<table border=\"1\" class=\"dataframe\">\n",
       "  <thead>\n",
       "    <tr style=\"text-align: right;\">\n",
       "      <th></th>\n",
       "      <th></th>\n",
       "      <th></th>\n",
       "      <th>Recuento</th>\n",
       "      <th>%</th>\n",
       "    </tr>\n",
       "    <tr>\n",
       "      <th>Planta</th>\n",
       "      <th>Puerto de origen</th>\n",
       "      <th>Puerto de destino</th>\n",
       "      <th></th>\n",
       "      <th></th>\n",
       "    </tr>\n",
       "  </thead>\n",
       "  <tbody>\n",
       "    <tr>\n",
       "      <th>3</th>\n",
       "      <th>4</th>\n",
       "      <th>9</th>\n",
       "      <td>8541</td>\n",
       "      <td>92.69</td>\n",
       "    </tr>\n",
       "    <tr>\n",
       "      <th>4</th>\n",
       "      <th>5</th>\n",
       "      <th>9</th>\n",
       "      <td>1</td>\n",
       "      <td>0.01</td>\n",
       "    </tr>\n",
       "    <tr>\n",
       "      <th>8</th>\n",
       "      <th>4</th>\n",
       "      <th>9</th>\n",
       "      <td>102</td>\n",
       "      <td>1.11</td>\n",
       "    </tr>\n",
       "    <tr>\n",
       "      <th>9</th>\n",
       "      <th>4</th>\n",
       "      <th>9</th>\n",
       "      <td>12</td>\n",
       "      <td>0.13</td>\n",
       "    </tr>\n",
       "    <tr>\n",
       "      <th>12</th>\n",
       "      <th>4</th>\n",
       "      <th>9</th>\n",
       "      <td>300</td>\n",
       "      <td>3.26</td>\n",
       "    </tr>\n",
       "    <tr>\n",
       "      <th>13</th>\n",
       "      <th>4</th>\n",
       "      <th>9</th>\n",
       "      <td>86</td>\n",
       "      <td>0.93</td>\n",
       "    </tr>\n",
       "    <tr>\n",
       "      <th>16</th>\n",
       "      <th>9</th>\n",
       "      <th>9</th>\n",
       "      <td>173</td>\n",
       "      <td>1.88</td>\n",
       "    </tr>\n",
       "  </tbody>\n",
       "</table>\n",
       "</div>"
      ],
      "text/plain": [
       "                                           Recuento      %\n",
       "Planta Puerto de origen Puerto de destino                 \n",
       "3      4                9                      8541  92.69\n",
       "4      5                9                         1   0.01\n",
       "8      4                9                       102   1.11\n",
       "9      4                9                        12   0.13\n",
       "12     4                9                       300   3.26\n",
       "13     4                9                        86   0.93\n",
       "16     9                9                       173   1.88"
      ]
     },
     "execution_count": 323,
     "metadata": {},
     "output_type": "execute_result"
    }
   ],
   "source": [
    "pedidos_agrup = pedidos.groupby(by = [\"Planta\", \"Puerto de origen\", \"Puerto de destino\"]).agg({\"Pedido\": \"size\"})\n",
    "pedidos_agrup = pedidos_agrup.rename(columns = {\"Pedido\": \"Recuento\"})\n",
    "\n",
    "total = pedidos_agrup[\"Recuento\"].sum()\n",
    "porcentaje = lambda x: x / total * 100\n",
    "\n",
    "pedidos_agrup[\"%\"] = pedidos_agrup[\"Recuento\"].apply(porcentaje)\n",
    "pedidos_agrup.round(2)"
   ]
  },
  {
   "cell_type": "code",
   "execution_count": 324,
   "id": "b34c1cfd-8925-4048-a07f-9adc0c9c8e63",
   "metadata": {},
   "outputs": [
    {
     "data": {
      "image/png": "[encoded data removed]",
      "text/plain": [
       "<Figure size 921.6x633.6 with 1 Axes>"
      ]
     },
     "metadata": {},
     "output_type": "display_data"
    }
   ],
   "source": [
    "plt.figure(1)\n",
    "plt.bar(x = pedidos_agrup.index.levels[0], height = pedidos_agrup[\"%\"])\n",
    "plt.xlabel(\"Planta\")\n",
    "plt.ylabel(\"% Recuento\");"
   ]
  },
  {
   "cell_type": "markdown",
   "id": "71b2d729-0ce8-41bb-af68-482e0c8537d0",
   "metadata": {},
   "source": [
    "*¿Cuántos items hubo por cada conjunto Planta, Puerto de origen y Puerto de destino?*"
   ]
  },
  {
   "cell_type": "code",
   "execution_count": 325,
   "id": "2c12643f-c0a5-4cb1-875a-a33a7294105b",
   "metadata": {},
   "outputs": [
    {
     "data": {
      "text/html": [
       "<div>\n",
       "<style scoped>\n",
       "    .dataframe tbody tr th:only-of-type {\n",
       "        vertical-align: middle;\n",
       "    }\n",
       "\n",
       "    .dataframe tbody tr th {\n",
       "        vertical-align: top;\n",
       "    }\n",
       "\n",
       "    .dataframe thead tr th {\n",
       "        text-align: left;\n",
       "    }\n",
       "\n",
       "    .dataframe thead tr:last-of-type th {\n",
       "        text-align: right;\n",
       "    }\n",
       "</style>\n",
       "<table border=\"1\" class=\"dataframe\">\n",
       "  <thead>\n",
       "    <tr>\n",
       "      <th></th>\n",
       "      <th></th>\n",
       "      <th></th>\n",
       "      <th colspan=\"6\" halign=\"left\">Items</th>\n",
       "    </tr>\n",
       "    <tr>\n",
       "      <th></th>\n",
       "      <th></th>\n",
       "      <th></th>\n",
       "      <th>min</th>\n",
       "      <th>mean</th>\n",
       "      <th>max</th>\n",
       "      <th>std</th>\n",
       "      <th>sum</th>\n",
       "      <th>%</th>\n",
       "    </tr>\n",
       "    <tr>\n",
       "      <th>Planta</th>\n",
       "      <th>Puerto de origen</th>\n",
       "      <th>Puerto de destino</th>\n",
       "      <th></th>\n",
       "      <th></th>\n",
       "      <th></th>\n",
       "      <th></th>\n",
       "      <th></th>\n",
       "      <th></th>\n",
       "    </tr>\n",
       "  </thead>\n",
       "  <tbody>\n",
       "    <tr>\n",
       "      <th>3</th>\n",
       "      <th>4</th>\n",
       "      <th>9</th>\n",
       "      <td>235</td>\n",
       "      <td>3349.91</td>\n",
       "      <td>561847</td>\n",
       "      <td>16525.97</td>\n",
       "      <td>28611617</td>\n",
       "      <td>96.94</td>\n",
       "    </tr>\n",
       "    <tr>\n",
       "      <th>4</th>\n",
       "      <th>5</th>\n",
       "      <th>9</th>\n",
       "      <td>348</td>\n",
       "      <td>348.00</td>\n",
       "      <td>348</td>\n",
       "      <td>NaN</td>\n",
       "      <td>348</td>\n",
       "      <td>0.00</td>\n",
       "    </tr>\n",
       "    <tr>\n",
       "      <th>8</th>\n",
       "      <th>4</th>\n",
       "      <th>9</th>\n",
       "      <td>684</td>\n",
       "      <td>2715.76</td>\n",
       "      <td>5680</td>\n",
       "      <td>1504.06</td>\n",
       "      <td>277008</td>\n",
       "      <td>0.94</td>\n",
       "    </tr>\n",
       "    <tr>\n",
       "      <th>9</th>\n",
       "      <th>4</th>\n",
       "      <th>9</th>\n",
       "      <td>2301</td>\n",
       "      <td>18652.50</td>\n",
       "      <td>101069</td>\n",
       "      <td>28877.08</td>\n",
       "      <td>223830</td>\n",
       "      <td>0.76</td>\n",
       "    </tr>\n",
       "    <tr>\n",
       "      <th>12</th>\n",
       "      <th>4</th>\n",
       "      <th>9</th>\n",
       "      <td>236</td>\n",
       "      <td>373.33</td>\n",
       "      <td>1321</td>\n",
       "      <td>169.36</td>\n",
       "      <td>112000</td>\n",
       "      <td>0.38</td>\n",
       "    </tr>\n",
       "    <tr>\n",
       "      <th>13</th>\n",
       "      <th>4</th>\n",
       "      <th>9</th>\n",
       "      <td>240</td>\n",
       "      <td>504.41</td>\n",
       "      <td>5244</td>\n",
       "      <td>609.10</td>\n",
       "      <td>43379</td>\n",
       "      <td>0.15</td>\n",
       "    </tr>\n",
       "    <tr>\n",
       "      <th>16</th>\n",
       "      <th>9</th>\n",
       "      <th>9</th>\n",
       "      <td>280</td>\n",
       "      <td>1416.95</td>\n",
       "      <td>4464</td>\n",
       "      <td>1121.49</td>\n",
       "      <td>245133</td>\n",
       "      <td>0.83</td>\n",
       "    </tr>\n",
       "  </tbody>\n",
       "</table>\n",
       "</div>"
      ],
      "text/plain": [
       "                                          Items                              \\\n",
       "                                            min      mean     max       std   \n",
       "Planta Puerto de origen Puerto de destino                                     \n",
       "3      4                9                   235   3349.91  561847  16525.97   \n",
       "4      5                9                   348    348.00     348       NaN   \n",
       "8      4                9                   684   2715.76    5680   1504.06   \n",
       "9      4                9                  2301  18652.50  101069  28877.08   \n",
       "12     4                9                   236    373.33    1321    169.36   \n",
       "13     4                9                   240    504.41    5244    609.10   \n",
       "16     9                9                   280   1416.95    4464   1121.49   \n",
       "\n",
       "                                                            \n",
       "                                                sum      %  \n",
       "Planta Puerto de origen Puerto de destino                   \n",
       "3      4                9                  28611617  96.94  \n",
       "4      5                9                       348   0.00  \n",
       "8      4                9                    277008   0.94  \n",
       "9      4                9                    223830   0.76  \n",
       "12     4                9                    112000   0.38  \n",
       "13     4                9                     43379   0.15  \n",
       "16     9                9                    245133   0.83  "
      ]
     },
     "execution_count": 325,
     "metadata": {},
     "output_type": "execute_result"
    }
   ],
   "source": [
    "pedidos_agrup = pedidos.groupby(by = [\"Planta\", \"Puerto de origen\", \"Puerto de destino\"]).agg({\"Items\": [\"min\", \"mean\", \"max\", \"std\", \"sum\"]})\n",
    "\n",
    "total = pedidos_agrup[(\"Items\", \"sum\")].sum()\n",
    "porcentaje = lambda x: x / total * 100\n",
    "\n",
    "pedidos_agrup[(\"Items\", \"%\")] = pedidos_agrup[(\"Items\", \"sum\")].apply(porcentaje)\n",
    "pedidos_agrup.round(2)"
   ]
  },
  {
   "cell_type": "code",
   "execution_count": 326,
   "id": "74e5f50f-5604-484e-a2b2-b092b7277da4",
   "metadata": {},
   "outputs": [
    {
     "data": {
      "image/png": "[encoded data removed]",
      "text/plain": [
       "<Figure size 921.6x633.6 with 1 Axes>"
      ]
     },
     "metadata": {},
     "output_type": "display_data"
    }
   ],
   "source": [
    "plt.figure(1)\n",
    "plt.bar(x = pedidos_agrup.index.levels[0], height = pedidos_agrup[(\"Items\", \"%\")])\n",
    "plt.xlabel(\"Planta\")\n",
    "plt.ylabel(\"% Items\");"
   ]
  },
  {
   "cell_type": "markdown",
   "id": "a5783d68-336f-4d31-a364-fd22ab1be991",
   "metadata": {},
   "source": [
    "*Estadística descriptiva de Peso [kg/items] por cada conjunto Planta, Puerto de origen y Puerto de destino*"
   ]
  },
  {
   "cell_type": "code",
   "execution_count": 327,
   "id": "a8d5feaa-90f0-45be-af5d-9669aca4fa4a",
   "metadata": {},
   "outputs": [
    {
     "data": {
      "text/html": [
       "<div>\n",
       "<style scoped>\n",
       "    .dataframe tbody tr th:only-of-type {\n",
       "        vertical-align: middle;\n",
       "    }\n",
       "\n",
       "    .dataframe tbody tr th {\n",
       "        vertical-align: top;\n",
       "    }\n",
       "\n",
       "    .dataframe thead tr th {\n",
       "        text-align: left;\n",
       "    }\n",
       "\n",
       "    .dataframe thead tr:last-of-type th {\n",
       "        text-align: right;\n",
       "    }\n",
       "</style>\n",
       "<table border=\"1\" class=\"dataframe\">\n",
       "  <thead>\n",
       "    <tr>\n",
       "      <th></th>\n",
       "      <th></th>\n",
       "      <th></th>\n",
       "      <th colspan=\"6\" halign=\"left\">Peso [kg]</th>\n",
       "    </tr>\n",
       "    <tr>\n",
       "      <th></th>\n",
       "      <th></th>\n",
       "      <th></th>\n",
       "      <th>min</th>\n",
       "      <th>mean</th>\n",
       "      <th>max</th>\n",
       "      <th>std</th>\n",
       "      <th>sum</th>\n",
       "      <th>%</th>\n",
       "    </tr>\n",
       "    <tr>\n",
       "      <th>Planta</th>\n",
       "      <th>Puerto de origen</th>\n",
       "      <th>Puerto de destino</th>\n",
       "      <th></th>\n",
       "      <th></th>\n",
       "      <th></th>\n",
       "      <th></th>\n",
       "      <th></th>\n",
       "      <th></th>\n",
       "    </tr>\n",
       "  </thead>\n",
       "  <tbody>\n",
       "    <tr>\n",
       "      <th>3</th>\n",
       "      <th>4</th>\n",
       "      <th>9</th>\n",
       "      <td>0.00</td>\n",
       "      <td>450220.37</td>\n",
       "      <td>3.543400e+08</td>\n",
       "      <td>6837051.65</td>\n",
       "      <td>3.845332e+09</td>\n",
       "      <td>97.10</td>\n",
       "    </tr>\n",
       "    <tr>\n",
       "      <th>4</th>\n",
       "      <th>5</th>\n",
       "      <th>9</th>\n",
       "      <td>731.19</td>\n",
       "      <td>731.19</td>\n",
       "      <td>7.311900e+02</td>\n",
       "      <td>NaN</td>\n",
       "      <td>7.311900e+02</td>\n",
       "      <td>0.00</td>\n",
       "    </tr>\n",
       "    <tr>\n",
       "      <th>8</th>\n",
       "      <th>4</th>\n",
       "      <th>9</th>\n",
       "      <td>2080.80</td>\n",
       "      <td>54381.49</td>\n",
       "      <td>2.462982e+05</td>\n",
       "      <td>55826.22</td>\n",
       "      <td>5.546912e+06</td>\n",
       "      <td>0.14</td>\n",
       "    </tr>\n",
       "    <tr>\n",
       "      <th>9</th>\n",
       "      <th>4</th>\n",
       "      <th>9</th>\n",
       "      <td>12300.18</td>\n",
       "      <td>1904321.00</td>\n",
       "      <td>1.737580e+07</td>\n",
       "      <td>4966753.18</td>\n",
       "      <td>2.285185e+07</td>\n",
       "      <td>0.58</td>\n",
       "    </tr>\n",
       "    <tr>\n",
       "      <th>12</th>\n",
       "      <th>4</th>\n",
       "      <th>9</th>\n",
       "      <td>87.48</td>\n",
       "      <td>17698.06</td>\n",
       "      <td>3.170878e+05</td>\n",
       "      <td>46996.80</td>\n",
       "      <td>5.309418e+06</td>\n",
       "      <td>0.13</td>\n",
       "    </tr>\n",
       "    <tr>\n",
       "      <th>13</th>\n",
       "      <th>4</th>\n",
       "      <th>9</th>\n",
       "      <td>90.88</td>\n",
       "      <td>104671.33</td>\n",
       "      <td>4.963446e+06</td>\n",
       "      <td>543657.14</td>\n",
       "      <td>9.001734e+06</td>\n",
       "      <td>0.23</td>\n",
       "    </tr>\n",
       "    <tr>\n",
       "      <th>16</th>\n",
       "      <th>9</th>\n",
       "      <th>9</th>\n",
       "      <td>219.77</td>\n",
       "      <td>417614.22</td>\n",
       "      <td>3.630482e+06</td>\n",
       "      <td>729269.77</td>\n",
       "      <td>7.224726e+07</td>\n",
       "      <td>1.82</td>\n",
       "    </tr>\n",
       "  </tbody>\n",
       "</table>\n",
       "</div>"
      ],
      "text/plain": [
       "                                          Peso [kg]                            \\\n",
       "                                                min        mean           max   \n",
       "Planta Puerto de origen Puerto de destino                                       \n",
       "3      4                9                      0.00   450220.37  3.543400e+08   \n",
       "4      5                9                    731.19      731.19  7.311900e+02   \n",
       "8      4                9                   2080.80    54381.49  2.462982e+05   \n",
       "9      4                9                  12300.18  1904321.00  1.737580e+07   \n",
       "12     4                9                     87.48    17698.06  3.170878e+05   \n",
       "13     4                9                     90.88   104671.33  4.963446e+06   \n",
       "16     9                9                    219.77   417614.22  3.630482e+06   \n",
       "\n",
       "                                                                            \n",
       "                                                  std           sum      %  \n",
       "Planta Puerto de origen Puerto de destino                                   \n",
       "3      4                9                  6837051.65  3.845332e+09  97.10  \n",
       "4      5                9                         NaN  7.311900e+02   0.00  \n",
       "8      4                9                    55826.22  5.546912e+06   0.14  \n",
       "9      4                9                  4966753.18  2.285185e+07   0.58  \n",
       "12     4                9                    46996.80  5.309418e+06   0.13  \n",
       "13     4                9                   543657.14  9.001734e+06   0.23  \n",
       "16     9                9                   729269.77  7.224726e+07   1.82  "
      ]
     },
     "execution_count": 327,
     "metadata": {},
     "output_type": "execute_result"
    }
   ],
   "source": [
    "pedidos[\"Peso [kg]\"] = pedidos[\"Items\"] * pedidos[\"Peso [kg/item]\"]\n",
    "pedidos_agrup = pedidos.groupby(by = [\"Planta\", \"Puerto de origen\", \"Puerto de destino\"]).agg({\"Peso [kg]\": [\"min\", \"mean\", \"max\", \"std\", \"sum\"]})\n",
    "\n",
    "total = pedidos_agrup[(\"Peso [kg]\", \"sum\")].sum()\n",
    "porcentaje = lambda x: x / total * 100\n",
    "\n",
    "pedidos_agrup[(\"Peso [kg]\", \"%\")] = pedidos_agrup[(\"Peso [kg]\", \"sum\")].apply(porcentaje)\n",
    "pedidos_agrup.round(2)"
   ]
  },
  {
   "cell_type": "code",
   "execution_count": 328,
   "id": "8d384e4d-401d-4a9d-9d63-c3603a15e7fb",
   "metadata": {},
   "outputs": [
    {
     "data": {
      "image/png": "[encoded data removed]",
      "text/plain": [
       "<Figure size 921.6x633.6 with 1 Axes>"
      ]
     },
     "metadata": {},
     "output_type": "display_data"
    }
   ],
   "source": [
    "plt.figure(1)\n",
    "plt.bar(x = pedidos_agrup.index.levels[0], height = pedidos_agrup[(\"Peso [kg]\", \"%\")])\n",
    "plt.xlabel(\"Planta\")\n",
    "plt.ylabel(\"% de Peso\");"
   ]
  },
  {
   "cell_type": "markdown",
   "id": "7b87c7b7-397b-4c44-a27f-49edee6df47f",
   "metadata": {},
   "source": [
    "*¿Hay alguna correlación entre Peso [kg/items] e Items?*"
   ]
  },
  {
   "cell_type": "code",
   "execution_count": 329,
   "id": "c57f757b-0c33-432d-86c5-d83fdc7130c9",
   "metadata": {},
   "outputs": [
    {
     "data": {
      "image/png": "[encoded data removed]",
      "text/plain": [
       "<Figure size 921.6x633.6 with 1 Axes>"
      ]
     },
     "metadata": {},
     "output_type": "display_data"
    }
   ],
   "source": [
    "plt.figure(1)\n",
    "plt.scatter(pedidos[\"Items\"], pedidos[\"Peso [kg/item]\"], s = 5)\n",
    "plt.xlabel(\"Items\")\n",
    "plt.ylabel(\"Peso [kg/item]\");"
   ]
  },
  {
   "cell_type": "code",
   "execution_count": 330,
   "id": "ed77e421-8bd3-4f38-89d9-2787ced7c41f",
   "metadata": {},
   "outputs": [
    {
     "data": {
      "text/plain": [
       "0.345"
      ]
     },
     "execution_count": 330,
     "metadata": {},
     "output_type": "execute_result"
    }
   ],
   "source": [
    "from scipy.stats import pearsonr \n",
    "\n",
    "r2, pvalue = pearsonr(x = pedidos[\"Items\"], y = pedidos[\"Peso [kg/item]\"])\n",
    "round(r2, 3)"
   ]
  },
  {
   "cell_type": "markdown",
   "id": "b2ebc619-18ca-486f-b49a-43fd06467c8a",
   "metadata": {},
   "source": [
    "## Tabla Fletes"
   ]
  },
  {
   "cell_type": "code",
   "execution_count": 331,
   "id": "8225a2c7-2a4b-4737-9c0b-fc29df493eed",
   "metadata": {},
   "outputs": [],
   "source": [
    "fletes = pd.read_excel(\"Logisitcs problem.xlsx\", sheet_name = \"FreightRates\")\n",
    "\n",
    "fletes.columns = [\"Transportista\", \"Puerto de origen\", \"Puerto de destino\", \"Peso mínimo [kg/item]\", \"Peso máximo [kg/item]\", \n",
    "                  \"Nivel de servicio\", \"Costo mínimo [USD/kg]\", \"Tasa de flete [USD/kg]\", \"Modo de transporte\", \"Envío [días]\", \n",
    "                  \"Tipo de transportista\"]"
   ]
  },
  {
   "cell_type": "code",
   "execution_count": 332,
   "id": "ac65edfc-b769-4b5a-8342-f2750e712dad",
   "metadata": {},
   "outputs": [
    {
     "name": "stdout",
     "output_type": "stream",
     "text": [
      "<class 'pandas.core.frame.DataFrame'>\n",
      "RangeIndex: 1540 entries, 0 to 1539\n",
      "Data columns (total 11 columns):\n",
      " #   Column                  Non-Null Count  Dtype  \n",
      "---  ------                  --------------  -----  \n",
      " 0   Transportista           1540 non-null   object \n",
      " 1   Puerto de origen        1540 non-null   object \n",
      " 2   Puerto de destino       1540 non-null   object \n",
      " 3   Peso mínimo [kg/item]   1540 non-null   float64\n",
      " 4   Peso máximo [kg/item]   1540 non-null   float64\n",
      " 5   Nivel de servicio       1540 non-null   object \n",
      " 6   Costo mínimo [USD/kg]   1540 non-null   float64\n",
      " 7   Tasa de flete [USD/kg]  1540 non-null   float64\n",
      " 8   Modo de transporte      1540 non-null   object \n",
      " 9   Envío [días]            1540 non-null   int64  \n",
      " 10  Tipo de transportista   1540 non-null   object \n",
      "dtypes: float64(4), int64(1), object(6)\n",
      "memory usage: 132.5+ KB\n"
     ]
    }
   ],
   "source": [
    "fletes.info()"
   ]
  },
  {
   "cell_type": "code",
   "execution_count": 333,
   "id": "610e83bb-805a-417f-8ed0-8b9f7fe15501",
   "metadata": {},
   "outputs": [],
   "source": [
    "lista = [\"Puerto de origen\", \"Puerto de destino\"]\n",
    "fletes[lista] = fletes[lista].replace(to_replace = \"[^\\d.]\", value = \"\", regex = True).astype(int)\n",
    "fletes[\"Modo de transporte\"] = fletes[\"Modo de transporte\"].replace({\"AIR   \": \"Aire\", \"GROUND\": \"Tierra\"}, regex = True)"
   ]
  },
  {
   "cell_type": "markdown",
   "id": "581fcaa6-f18a-48b7-9d2f-63782ca8e163",
   "metadata": {},
   "source": [
    "*Estadística descriptiva de Tasa de flete [USD/kg] para cada conjunto Puerto de origen y Puerto de destino*"
   ]
  },
  {
   "cell_type": "code",
   "execution_count": 334,
   "id": "3b3dca68-152c-4f8d-ac54-a854eb7aac80",
   "metadata": {},
   "outputs": [
    {
     "data": {
      "text/html": [
       "<div>\n",
       "<style scoped>\n",
       "    .dataframe tbody tr th:only-of-type {\n",
       "        vertical-align: middle;\n",
       "    }\n",
       "\n",
       "    .dataframe tbody tr th {\n",
       "        vertical-align: top;\n",
       "    }\n",
       "\n",
       "    .dataframe thead tr th {\n",
       "        text-align: left;\n",
       "    }\n",
       "\n",
       "    .dataframe thead tr:last-of-type th {\n",
       "        text-align: right;\n",
       "    }\n",
       "</style>\n",
       "<table border=\"1\" class=\"dataframe\">\n",
       "  <thead>\n",
       "    <tr>\n",
       "      <th></th>\n",
       "      <th></th>\n",
       "      <th colspan=\"4\" halign=\"left\">Tasa de flete [USD/kg]</th>\n",
       "    </tr>\n",
       "    <tr>\n",
       "      <th></th>\n",
       "      <th></th>\n",
       "      <th>min</th>\n",
       "      <th>mean</th>\n",
       "      <th>max</th>\n",
       "      <th>std</th>\n",
       "    </tr>\n",
       "    <tr>\n",
       "      <th>Puerto de origen</th>\n",
       "      <th>Puerto de destino</th>\n",
       "      <th></th>\n",
       "      <th></th>\n",
       "      <th></th>\n",
       "      <th></th>\n",
       "    </tr>\n",
       "  </thead>\n",
       "  <tbody>\n",
       "    <tr>\n",
       "      <th>2</th>\n",
       "      <th>9</th>\n",
       "      <td>0.05</td>\n",
       "      <td>1.87</td>\n",
       "      <td>7.06</td>\n",
       "      <td>1.78</td>\n",
       "    </tr>\n",
       "    <tr>\n",
       "      <th>3</th>\n",
       "      <th>9</th>\n",
       "      <td>0.12</td>\n",
       "      <td>9.98</td>\n",
       "      <td>128.03</td>\n",
       "      <td>19.30</td>\n",
       "    </tr>\n",
       "    <tr>\n",
       "      <th>4</th>\n",
       "      <th>9</th>\n",
       "      <td>0.04</td>\n",
       "      <td>1.94</td>\n",
       "      <td>7.66</td>\n",
       "      <td>2.05</td>\n",
       "    </tr>\n",
       "    <tr>\n",
       "      <th>5</th>\n",
       "      <th>9</th>\n",
       "      <td>0.07</td>\n",
       "      <td>2.87</td>\n",
       "      <td>12.07</td>\n",
       "      <td>2.90</td>\n",
       "    </tr>\n",
       "    <tr>\n",
       "      <th>6</th>\n",
       "      <th>9</th>\n",
       "      <td>0.07</td>\n",
       "      <td>2.53</td>\n",
       "      <td>7.16</td>\n",
       "      <td>1.74</td>\n",
       "    </tr>\n",
       "    <tr>\n",
       "      <th>7</th>\n",
       "      <th>9</th>\n",
       "      <td>0.14</td>\n",
       "      <td>0.20</td>\n",
       "      <td>0.28</td>\n",
       "      <td>0.04</td>\n",
       "    </tr>\n",
       "    <tr>\n",
       "      <th>8</th>\n",
       "      <th>9</th>\n",
       "      <td>0.10</td>\n",
       "      <td>0.59</td>\n",
       "      <td>1.83</td>\n",
       "      <td>0.56</td>\n",
       "    </tr>\n",
       "    <tr>\n",
       "      <th>9</th>\n",
       "      <th>9</th>\n",
       "      <td>0.03</td>\n",
       "      <td>2.84</td>\n",
       "      <td>21.28</td>\n",
       "      <td>6.59</td>\n",
       "    </tr>\n",
       "    <tr>\n",
       "      <th>10</th>\n",
       "      <th>9</th>\n",
       "      <td>0.10</td>\n",
       "      <td>5.37</td>\n",
       "      <td>18.96</td>\n",
       "      <td>4.99</td>\n",
       "    </tr>\n",
       "    <tr>\n",
       "      <th>11</th>\n",
       "      <th>9</th>\n",
       "      <td>0.07</td>\n",
       "      <td>0.13</td>\n",
       "      <td>0.34</td>\n",
       "      <td>0.06</td>\n",
       "    </tr>\n",
       "  </tbody>\n",
       "</table>\n",
       "</div>"
      ],
      "text/plain": [
       "                                   Tasa de flete [USD/kg]                     \n",
       "                                                      min  mean     max    std\n",
       "Puerto de origen Puerto de destino                                            \n",
       "2                9                                   0.05  1.87    7.06   1.78\n",
       "3                9                                   0.12  9.98  128.03  19.30\n",
       "4                9                                   0.04  1.94    7.66   2.05\n",
       "5                9                                   0.07  2.87   12.07   2.90\n",
       "6                9                                   0.07  2.53    7.16   1.74\n",
       "7                9                                   0.14  0.20    0.28   0.04\n",
       "8                9                                   0.10  0.59    1.83   0.56\n",
       "9                9                                   0.03  2.84   21.28   6.59\n",
       "10               9                                   0.10  5.37   18.96   4.99\n",
       "11               9                                   0.07  0.13    0.34   0.06"
      ]
     },
     "execution_count": 334,
     "metadata": {},
     "output_type": "execute_result"
    }
   ],
   "source": [
    "fletes_agrup = fletes.groupby(by = [\"Puerto de origen\", \"Puerto de destino\"]).agg({\"Tasa de flete [USD/kg]\": [\"min\", \"mean\", \"max\", \"std\"]})\n",
    "fletes_agrup.round(2)"
   ]
  },
  {
   "cell_type": "code",
   "execution_count": 335,
   "id": "92da0a66-27b6-430c-995c-26dd2014cdb5",
   "metadata": {},
   "outputs": [
    {
     "data": {
      "image/png": "[encoded data removed]",
      "text/plain": [
       "<Figure size 921.6x633.6 with 1 Axes>"
      ]
     },
     "metadata": {},
     "output_type": "display_data"
    }
   ],
   "source": [
    "plt.figure(1)\n",
    "plt.hist(fletes[\"Tasa de flete [USD/kg]\"], bins = 100)\n",
    "plt.xlabel(\"Promedio de Tasa de flete [USD/kg]\")\n",
    "plt.ylabel(\"Frecuencia absoluta\");"
   ]
  },
  {
   "cell_type": "markdown",
   "id": "c431dd6d-04ae-43af-ba1f-fa491505f9c8",
   "metadata": {},
   "source": [
    "*Estadística descriptiva de Envío [días] para cada conjunto Puerto de origen y Puerto de destino*"
   ]
  },
  {
   "cell_type": "code",
   "execution_count": 336,
   "id": "f18518cc-53f3-455f-b437-8804c1008243",
   "metadata": {},
   "outputs": [
    {
     "data": {
      "text/html": [
       "<div>\n",
       "<style scoped>\n",
       "    .dataframe tbody tr th:only-of-type {\n",
       "        vertical-align: middle;\n",
       "    }\n",
       "\n",
       "    .dataframe tbody tr th {\n",
       "        vertical-align: top;\n",
       "    }\n",
       "\n",
       "    .dataframe thead tr th {\n",
       "        text-align: left;\n",
       "    }\n",
       "\n",
       "    .dataframe thead tr:last-of-type th {\n",
       "        text-align: right;\n",
       "    }\n",
       "</style>\n",
       "<table border=\"1\" class=\"dataframe\">\n",
       "  <thead>\n",
       "    <tr>\n",
       "      <th></th>\n",
       "      <th></th>\n",
       "      <th colspan=\"4\" halign=\"left\">Envío [días]</th>\n",
       "    </tr>\n",
       "    <tr>\n",
       "      <th></th>\n",
       "      <th></th>\n",
       "      <th>min</th>\n",
       "      <th>mean</th>\n",
       "      <th>max</th>\n",
       "      <th>size</th>\n",
       "    </tr>\n",
       "    <tr>\n",
       "      <th>Puerto de origen</th>\n",
       "      <th>Puerto de destino</th>\n",
       "      <th></th>\n",
       "      <th></th>\n",
       "      <th></th>\n",
       "      <th></th>\n",
       "    </tr>\n",
       "  </thead>\n",
       "  <tbody>\n",
       "    <tr>\n",
       "      <th>2</th>\n",
       "      <th>9</th>\n",
       "      <td>0</td>\n",
       "      <td>1.62</td>\n",
       "      <td>14</td>\n",
       "      <td>226</td>\n",
       "    </tr>\n",
       "    <tr>\n",
       "      <th>3</th>\n",
       "      <th>9</th>\n",
       "      <td>0</td>\n",
       "      <td>2.91</td>\n",
       "      <td>14</td>\n",
       "      <td>45</td>\n",
       "    </tr>\n",
       "    <tr>\n",
       "      <th>4</th>\n",
       "      <th>9</th>\n",
       "      <td>0</td>\n",
       "      <td>1.58</td>\n",
       "      <td>14</td>\n",
       "      <td>231</td>\n",
       "    </tr>\n",
       "    <tr>\n",
       "      <th>5</th>\n",
       "      <th>9</th>\n",
       "      <td>1</td>\n",
       "      <td>1.27</td>\n",
       "      <td>4</td>\n",
       "      <td>219</td>\n",
       "    </tr>\n",
       "    <tr>\n",
       "      <th>6</th>\n",
       "      <th>9</th>\n",
       "      <td>1</td>\n",
       "      <td>1.99</td>\n",
       "      <td>3</td>\n",
       "      <td>479</td>\n",
       "    </tr>\n",
       "    <tr>\n",
       "      <th>7</th>\n",
       "      <th>9</th>\n",
       "      <td>3</td>\n",
       "      <td>4.50</td>\n",
       "      <td>6</td>\n",
       "      <td>20</td>\n",
       "    </tr>\n",
       "    <tr>\n",
       "      <th>8</th>\n",
       "      <th>9</th>\n",
       "      <td>2</td>\n",
       "      <td>4.82</td>\n",
       "      <td>14</td>\n",
       "      <td>39</td>\n",
       "    </tr>\n",
       "    <tr>\n",
       "      <th>9</th>\n",
       "      <th>9</th>\n",
       "      <td>0</td>\n",
       "      <td>4.42</td>\n",
       "      <td>14</td>\n",
       "      <td>24</td>\n",
       "    </tr>\n",
       "    <tr>\n",
       "      <th>10</th>\n",
       "      <th>9</th>\n",
       "      <td>2</td>\n",
       "      <td>3.17</td>\n",
       "      <td>6</td>\n",
       "      <td>222</td>\n",
       "    </tr>\n",
       "    <tr>\n",
       "      <th>11</th>\n",
       "      <th>9</th>\n",
       "      <td>0</td>\n",
       "      <td>5.29</td>\n",
       "      <td>14</td>\n",
       "      <td>35</td>\n",
       "    </tr>\n",
       "  </tbody>\n",
       "</table>\n",
       "</div>"
      ],
      "text/plain": [
       "                                   Envío [días]               \n",
       "                                            min  mean max size\n",
       "Puerto de origen Puerto de destino                            \n",
       "2                9                            0  1.62  14  226\n",
       "3                9                            0  2.91  14   45\n",
       "4                9                            0  1.58  14  231\n",
       "5                9                            1  1.27   4  219\n",
       "6                9                            1  1.99   3  479\n",
       "7                9                            3  4.50   6   20\n",
       "8                9                            2  4.82  14   39\n",
       "9                9                            0  4.42  14   24\n",
       "10               9                            2  3.17   6  222\n",
       "11               9                            0  5.29  14   35"
      ]
     },
     "execution_count": 336,
     "metadata": {},
     "output_type": "execute_result"
    }
   ],
   "source": [
    "fletes_agrup = fletes.groupby(by = [\"Puerto de origen\", \"Puerto de destino\"]).agg({\"Envío [días]\": [\"min\", \"mean\", \"max\", \"size\"]})\n",
    "fletes_agrup.round(2)"
   ]
  },
  {
   "cell_type": "code",
   "execution_count": 337,
   "id": "75812733-5f27-46c6-a036-447c54bdb38e",
   "metadata": {},
   "outputs": [
    {
     "data": {
      "image/png": "[encoded data removed]",
      "text/plain": [
       "<Figure size 921.6x633.6 with 1 Axes>"
      ]
     },
     "metadata": {},
     "output_type": "display_data"
    }
   ],
   "source": [
    "fletes_agrup = fletes.groupby(by = \"Envío [días]\").agg({\"Envío [días]\": \"size\"}).rename(columns = {\"Envío [días]\": \"Recuento\"})\n",
    "\n",
    "plt.figure(1)\n",
    "plt.bar(x = fletes_agrup.index, height = fletes_agrup[\"Recuento\"])\n",
    "plt.xlabel(\"Envío [días]\")\n",
    "plt.ylabel(\"Recuento\");"
   ]
  },
  {
   "cell_type": "markdown",
   "id": "b365d9c2-5a58-4cfb-9738-d456f7da61c9",
   "metadata": {},
   "source": [
    "*Estadística descriptiva de Modo de Transporte*"
   ]
  },
  {
   "cell_type": "code",
   "execution_count": 338,
   "id": "6f360db4-0059-4dc7-95a6-7c00ae97a129",
   "metadata": {},
   "outputs": [
    {
     "data": {
      "image/png": "[encoded data removed]",
      "text/plain": [
       "<Figure size 921.6x633.6 with 1 Axes>"
      ]
     },
     "metadata": {},
     "output_type": "display_data"
    }
   ],
   "source": [
    "fletes_agrup = fletes.groupby(by = \"Modo de transporte\").agg({\"Puerto de origen\": \"size\"})\n",
    "fletes_agrup = fletes_agrup.rename(columns = {\"Puerto de origen\": \"Recuento de Puerto de origen\"})\n",
    "\n",
    "plt.figure(1)\n",
    "plt.title(\"Modo de transporte\")\n",
    "plt.pie(x = fletes_agrup[\"Recuento de Puerto de origen\"], labels = fletes_agrup.index, autopct = \"%1.1f%%\");"
   ]
  },
  {
   "cell_type": "markdown",
   "id": "a111c376-6fd3-4789-84dd-e581640678f6",
   "metadata": {},
   "source": [
    "## Tabla Costos de Almacenaje"
   ]
  },
  {
   "cell_type": "code",
   "execution_count": 339,
   "id": "57aa9f11-af0a-4d06-8e29-b8d329df91b2",
   "metadata": {},
   "outputs": [],
   "source": [
    "costos_almacenaje = pd.read_excel(\"Logisitcs problem.xlsx\", sheet_name = \"WhCosts\")\n",
    "\n",
    "costos_almacenaje.columns = [\"Planta\", \"Costo específico [USD/item]\"]"
   ]
  },
  {
   "cell_type": "code",
   "execution_count": 340,
   "id": "d4fd0853-bc1c-4aa3-8705-17b84fbc875a",
   "metadata": {},
   "outputs": [
    {
     "name": "stdout",
     "output_type": "stream",
     "text": [
      "<class 'pandas.core.frame.DataFrame'>\n",
      "RangeIndex: 19 entries, 0 to 18\n",
      "Data columns (total 2 columns):\n",
      " #   Column                       Non-Null Count  Dtype  \n",
      "---  ------                       --------------  -----  \n",
      " 0   Planta                       19 non-null     object \n",
      " 1   Costo específico [USD/item]  19 non-null     float64\n",
      "dtypes: float64(1), object(1)\n",
      "memory usage: 432.0+ bytes\n"
     ]
    }
   ],
   "source": [
    "costos_almacenaje.info()"
   ]
  },
  {
   "cell_type": "code",
   "execution_count": 341,
   "id": "27bd4274-ae57-4a03-b21f-82715c354320",
   "metadata": {},
   "outputs": [],
   "source": [
    "costos_almacenaje[\"Planta\"] = costos_almacenaje[\"Planta\"].replace(to_replace = \"[^\\d.]\", value = \"\", regex = True).astype(int)"
   ]
  },
  {
   "cell_type": "markdown",
   "id": "5fac7c82-fdee-4ba3-9538-2a9487ef9ce3",
   "metadata": {},
   "source": [
    "*Estadística descriptiva de Costo específico [USD/item]*"
   ]
  },
  {
   "cell_type": "code",
   "execution_count": 342,
   "id": "ceaaccf4-336f-4d81-bd25-9cc293aa0e03",
   "metadata": {},
   "outputs": [
    {
     "data": {
      "image/png": "[encoded data removed]",
      "text/plain": [
       "<Figure size 921.6x633.6 with 1 Axes>"
      ]
     },
     "metadata": {},
     "output_type": "display_data"
    }
   ],
   "source": [
    "plt.figure(1)\n",
    "plt.bar(x = costos_almacenaje[\"Planta\"], height = costos_almacenaje[\"Costo específico [USD/item]\"])\n",
    "plt.xlabel(\"Planta\")\n",
    "plt.xticks(costos_almacenaje[\"Planta\"])\n",
    "plt.ylabel(\"Costo específico [USD/item]\");"
   ]
  },
  {
   "cell_type": "markdown",
   "id": "9ad9011e-3e79-4bd6-a49f-b6ca4f7415f9",
   "metadata": {},
   "source": [
    "## Tabla Capacidad de Almacenaje"
   ]
  },
  {
   "cell_type": "code",
   "execution_count": 343,
   "id": "317efcfc-5446-41fe-bb72-51bb4764b486",
   "metadata": {},
   "outputs": [],
   "source": [
    "capacidad_almacenaje = pd.read_excel(\"Logisitcs problem.xlsx\", sheet_name = \"WhCapacities\")\n",
    "\n",
    "capacidad_almacenaje.columns = [\"Planta\", \"Capacidad [kg/día]\"]"
   ]
  },
  {
   "cell_type": "code",
   "execution_count": 344,
   "id": "747f3555-2c13-47b4-aead-d3074f23b6ce",
   "metadata": {},
   "outputs": [
    {
     "name": "stdout",
     "output_type": "stream",
     "text": [
      "<class 'pandas.core.frame.DataFrame'>\n",
      "RangeIndex: 19 entries, 0 to 18\n",
      "Data columns (total 2 columns):\n",
      " #   Column              Non-Null Count  Dtype \n",
      "---  ------              --------------  ----- \n",
      " 0   Planta              19 non-null     object\n",
      " 1   Capacidad [kg/día]  19 non-null     int64 \n",
      "dtypes: int64(1), object(1)\n",
      "memory usage: 432.0+ bytes\n"
     ]
    }
   ],
   "source": [
    "capacidad_almacenaje.info()"
   ]
  },
  {
   "cell_type": "code",
   "execution_count": 345,
   "id": "b4fe582a-dfca-4db9-b8b7-db58519ff729",
   "metadata": {},
   "outputs": [],
   "source": [
    "capacidad_almacenaje[\"Planta\"] = capacidad_almacenaje[\"Planta\"].replace(to_replace = \"[^\\d.]\", value = \"\", regex = True).astype(int)"
   ]
  },
  {
   "cell_type": "markdown",
   "id": "510a2bc4-aac5-4557-b5fa-603a14472266",
   "metadata": {},
   "source": [
    "*Estadística descriptiva de Capacidad [kg/día]*"
   ]
  },
  {
   "cell_type": "code",
   "execution_count": 346,
   "id": "33e6e718-ab4f-41ca-850a-b5968e0ae562",
   "metadata": {},
   "outputs": [
    {
     "data": {
      "image/png": "[encoded data removed]",
      "text/plain": [
       "<Figure size 921.6x633.6 with 1 Axes>"
      ]
     },
     "metadata": {},
     "output_type": "display_data"
    }
   ],
   "source": [
    "plt.figure(1)\n",
    "plt.bar(x = capacidad_almacenaje[\"Planta\"], height = capacidad_almacenaje[\"Capacidad [kg/día]\"])\n",
    "plt.xlabel(\"Planta\")\n",
    "plt.xticks(capacidad_almacenaje[\"Planta\"])\n",
    "plt.ylabel(\"Capacidad [kg/día]\");"
   ]
  },
  {
   "cell_type": "markdown",
   "id": "3ec3264b-8a34-41e4-bde8-11638ca69d72",
   "metadata": {},
   "source": [
    "## Tabla Productos por cada Planta"
   ]
  },
  {
   "cell_type": "code",
   "execution_count": 347,
   "id": "0e2de0e1-a56b-4baa-a4ca-fcb7515f8c18",
   "metadata": {},
   "outputs": [],
   "source": [
    "productos_por_planta = pd.read_excel(\"Logisitcs problem.xlsx\", sheet_name = \"ProductsPerPlant\")\n",
    "\n",
    "productos_por_planta.columns = [\"Planta\", \"Producto\"]"
   ]
  },
  {
   "cell_type": "code",
   "execution_count": 348,
   "id": "9971c1c2-05a7-42f8-a336-953625cb8c0c",
   "metadata": {},
   "outputs": [
    {
     "name": "stdout",
     "output_type": "stream",
     "text": [
      "<class 'pandas.core.frame.DataFrame'>\n",
      "RangeIndex: 2036 entries, 0 to 2035\n",
      "Data columns (total 2 columns):\n",
      " #   Column    Non-Null Count  Dtype \n",
      "---  ------    --------------  ----- \n",
      " 0   Planta    2036 non-null   object\n",
      " 1   Producto  2036 non-null   int64 \n",
      "dtypes: int64(1), object(1)\n",
      "memory usage: 31.9+ KB\n"
     ]
    }
   ],
   "source": [
    "productos_por_planta.info()"
   ]
  },
  {
   "cell_type": "code",
   "execution_count": 349,
   "id": "81576217-c838-47c0-bffc-052eb433c5e2",
   "metadata": {},
   "outputs": [],
   "source": [
    "productos_por_planta[\"Planta\"] = productos_por_planta[\"Planta\"].replace(to_replace = \"[^\\d.]\", value = \"\", regex = True).astype(int)"
   ]
  },
  {
   "cell_type": "markdown",
   "id": "1abf203a-faf9-47fd-b9b1-ee22e8afb762",
   "metadata": {},
   "source": [
    "*Estadística descriptiva de Recuento de Productos*"
   ]
  },
  {
   "cell_type": "code",
   "execution_count": 350,
   "id": "bd2f49a4-67de-4189-8723-e9d9539f4051",
   "metadata": {},
   "outputs": [
    {
     "data": {
      "image/png": "[encoded data removed]",
      "text/plain": [
       "<Figure size 921.6x633.6 with 1 Axes>"
      ]
     },
     "metadata": {},
     "output_type": "display_data"
    }
   ],
   "source": [
    "productos_agrup_por_planta = productos_por_planta.groupby(by = \"Planta\").agg({\"Planta\": \"size\"})\n",
    "productos_agrup_por_planta = productos_agrup_por_planta.rename(columns = {\"Planta\": \"Recuento de Productos\"})\n",
    "\n",
    "plt.figure(1)\n",
    "plt.bar(x = productos_agrup_por_planta.index, height = productos_agrup_por_planta[\"Recuento de Productos\"])\n",
    "plt.xlabel(\"Planta\")\n",
    "plt.xticks(productos_agrup_por_planta.index)\n",
    "plt.ylabel(\"Recuento de Productos\");"
   ]
  },
  {
   "cell_type": "markdown",
   "id": "13de2f4e-cb27-41c3-aa87-0b8b5e416556",
   "metadata": {},
   "source": [
    "## Tabla Clientes por cada Planta"
   ]
  },
  {
   "cell_type": "code",
   "execution_count": 351,
   "id": "aa4a2d6b-0564-4289-9d70-3c7aa6fec1c5",
   "metadata": {},
   "outputs": [],
   "source": [
    "productos_por_planta = pd.read_excel(\"Logisitcs problem.xlsx\", sheet_name = \"ProductsPerPlant\")\n",
    "\n",
    "clientes_por_planta.columns = [\"Planta\", \"Cliente\"]"
   ]
  },
  {
   "cell_type": "code",
   "execution_count": 352,
   "id": "95f81009-00d1-4bf5-a5c7-72babaa153f2",
   "metadata": {},
   "outputs": [
    {
     "name": "stdout",
     "output_type": "stream",
     "text": [
      "<class 'pandas.core.frame.DataFrame'>\n",
      "RangeIndex: 14 entries, 0 to 13\n",
      "Data columns (total 2 columns):\n",
      " #   Column   Non-Null Count  Dtype \n",
      "---  ------   --------------  ----- \n",
      " 0   Planta   14 non-null     int32 \n",
      " 1   Cliente  14 non-null     object\n",
      "dtypes: int32(1), object(1)\n",
      "memory usage: 296.0+ bytes\n"
     ]
    }
   ],
   "source": [
    "clientes_por_planta.info()"
   ]
  },
  {
   "cell_type": "code",
   "execution_count": 353,
   "id": "20e7dc67-a89f-4345-b3bf-ad778e660f62",
   "metadata": {},
   "outputs": [],
   "source": [
    "clientes_por_planta[\"Planta\"] = clientes_por_planta[\"Planta\"].replace(to_replace = \"[^\\d.]\", value = \"\", regex = True).astype(int)"
   ]
  },
  {
   "cell_type": "markdown",
   "id": "5b525663-9e63-42d1-9665-b38fa47fab23",
   "metadata": {},
   "source": [
    "*Estadística descriptiva de Clientes por cada Planta*"
   ]
  },
  {
   "cell_type": "code",
   "execution_count": 354,
   "id": "106a09d0-553a-4fd7-95d2-4608d303635e",
   "metadata": {},
   "outputs": [
    {
     "data": {
      "image/png": "[encoded data removed]",
      "text/plain": [
       "<Figure size 921.6x633.6 with 1 Axes>"
      ]
     },
     "metadata": {},
     "output_type": "display_data"
    }
   ],
   "source": [
    "clientes_agrup_por_planta = clientes_por_planta.groupby(by = \"Planta\").agg({\"Planta\": \"size\"}).rename(columns = {\"Planta\": \"Recuento de Clientes\"})\n",
    "\n",
    "plt.figure(1)\n",
    "plt.bar(x = clientes_agrup_por_planta.index, height = clientes_agrup_por_planta[\"Recuento de Clientes\"])\n",
    "plt.xlabel(\"Planta\")\n",
    "plt.xticks(productos_agrup_por_planta.index)\n",
    "plt.ylabel(\"Recuento de Clientes\");"
   ]
  },
  {
   "cell_type": "markdown",
   "id": "c96c8892-eac4-4b73-a796-e36d508b6f3c",
   "metadata": {},
   "source": [
    "## Tabla Puertos por cada Planta"
   ]
  },
  {
   "cell_type": "code",
   "execution_count": 355,
   "id": "98f27eac-84c1-4e6f-a174-80af7e8c48e1",
   "metadata": {},
   "outputs": [],
   "source": [
    "puertos_por_planta = pd.read_excel(\"Logisitcs problem.xlsx\", sheet_name = \"PlantPorts\").iloc[:, :2]\n",
    "\n",
    "puertos_por_planta.columns = [\"Planta\", \"Puerto de Origen\"]"
   ]
  },
  {
   "cell_type": "code",
   "execution_count": 356,
   "id": "76c319e7-7d2d-48ed-bfad-1d6925dc29a9",
   "metadata": {},
   "outputs": [
    {
     "name": "stdout",
     "output_type": "stream",
     "text": [
      "<class 'pandas.core.frame.DataFrame'>\n",
      "RangeIndex: 22 entries, 0 to 21\n",
      "Data columns (total 2 columns):\n",
      " #   Column            Non-Null Count  Dtype \n",
      "---  ------            --------------  ----- \n",
      " 0   Planta            22 non-null     object\n",
      " 1   Puerto de Origen  22 non-null     object\n",
      "dtypes: object(2)\n",
      "memory usage: 480.0+ bytes\n"
     ]
    }
   ],
   "source": [
    "puertos_por_planta.info()"
   ]
  },
  {
   "cell_type": "code",
   "execution_count": 357,
   "id": "8b7cb9bd-e30c-4a20-ab73-3d0a72a901c4",
   "metadata": {},
   "outputs": [],
   "source": [
    "puertos_por_planta[[\"Planta\", \"Puerto de Origen\"]] = puertos_por_planta[[\"Planta\", \"Puerto de Origen\"]].replace(to_replace = \"[^\\d.]\", value = \"\", regex = True).astype(int)"
   ]
  },
  {
   "cell_type": "markdown",
   "id": "aef59f9b-a49e-49f5-aeb0-343e0c1c632a",
   "metadata": {},
   "source": [
    "*Estadística descriptiva de Puertos por cada Planta*"
   ]
  },
  {
   "cell_type": "code",
   "execution_count": 358,
   "id": "4250bca6-3020-494d-a337-415c6aa0973d",
   "metadata": {},
   "outputs": [
    {
     "data": {
      "image/png": "[encoded data removed]",
      "text/plain": [
       "<Figure size 921.6x633.6 with 1 Axes>"
      ]
     },
     "metadata": {},
     "output_type": "display_data"
    }
   ],
   "source": [
    "from scipy.stats import pearsonr, contingency, chisquare\n",
    "\n",
    "puertos_agrup_por_planta = puertos_por_planta.groupby(by = \"Planta\").agg({\"Planta\": \"size\"}).rename(columns = {\"Planta\": \"Recuento de Puertos de origen\"})\n",
    "\n",
    "plt.figure(1)\n",
    "plt.bar(x = puertos_agrup_por_planta.index, height = puertos_agrup_por_planta[\"Recuento de Puertos de origen\"])\n",
    "plt.xlabel(\"Planta\")\n",
    "plt.xticks(productos_agrup_por_planta.index)\n",
    "plt.ylabel(\"Recuento de Puertos de origen\");"
   ]
  },
  {
   "cell_type": "code",
   "execution_count": 359,
   "id": "cd1e53b1-0bbf-41ee-b11e-d00a3c69246e",
   "metadata": {},
   "outputs": [
    {
     "data": {
      "text/html": [
       "<div>\n",
       "<style scoped>\n",
       "    .dataframe tbody tr th:only-of-type {\n",
       "        vertical-align: middle;\n",
       "    }\n",
       "\n",
       "    .dataframe tbody tr th {\n",
       "        vertical-align: top;\n",
       "    }\n",
       "\n",
       "    .dataframe thead th {\n",
       "        text-align: right;\n",
       "    }\n",
       "</style>\n",
       "<table border=\"1\" class=\"dataframe\">\n",
       "  <thead>\n",
       "    <tr style=\"text-align: right;\">\n",
       "      <th>Puerto de Origen</th>\n",
       "      <th>1</th>\n",
       "      <th>2</th>\n",
       "      <th>3</th>\n",
       "      <th>4</th>\n",
       "      <th>5</th>\n",
       "      <th>6</th>\n",
       "      <th>7</th>\n",
       "      <th>8</th>\n",
       "      <th>9</th>\n",
       "      <th>10</th>\n",
       "      <th>11</th>\n",
       "    </tr>\n",
       "    <tr>\n",
       "      <th>Planta</th>\n",
       "      <th></th>\n",
       "      <th></th>\n",
       "      <th></th>\n",
       "      <th></th>\n",
       "      <th></th>\n",
       "      <th></th>\n",
       "      <th></th>\n",
       "      <th></th>\n",
       "      <th></th>\n",
       "      <th></th>\n",
       "      <th></th>\n",
       "    </tr>\n",
       "  </thead>\n",
       "  <tbody>\n",
       "    <tr>\n",
       "      <th>1</th>\n",
       "      <td>1</td>\n",
       "      <td>1</td>\n",
       "      <td>0</td>\n",
       "      <td>0</td>\n",
       "      <td>0</td>\n",
       "      <td>0</td>\n",
       "      <td>0</td>\n",
       "      <td>0</td>\n",
       "      <td>0</td>\n",
       "      <td>0</td>\n",
       "      <td>0</td>\n",
       "    </tr>\n",
       "    <tr>\n",
       "      <th>2</th>\n",
       "      <td>0</td>\n",
       "      <td>0</td>\n",
       "      <td>1</td>\n",
       "      <td>0</td>\n",
       "      <td>0</td>\n",
       "      <td>0</td>\n",
       "      <td>0</td>\n",
       "      <td>0</td>\n",
       "      <td>0</td>\n",
       "      <td>0</td>\n",
       "      <td>0</td>\n",
       "    </tr>\n",
       "    <tr>\n",
       "      <th>3</th>\n",
       "      <td>0</td>\n",
       "      <td>0</td>\n",
       "      <td>0</td>\n",
       "      <td>1</td>\n",
       "      <td>0</td>\n",
       "      <td>0</td>\n",
       "      <td>0</td>\n",
       "      <td>0</td>\n",
       "      <td>0</td>\n",
       "      <td>0</td>\n",
       "      <td>0</td>\n",
       "    </tr>\n",
       "    <tr>\n",
       "      <th>4</th>\n",
       "      <td>0</td>\n",
       "      <td>0</td>\n",
       "      <td>0</td>\n",
       "      <td>0</td>\n",
       "      <td>1</td>\n",
       "      <td>0</td>\n",
       "      <td>0</td>\n",
       "      <td>0</td>\n",
       "      <td>0</td>\n",
       "      <td>0</td>\n",
       "      <td>0</td>\n",
       "    </tr>\n",
       "    <tr>\n",
       "      <th>5</th>\n",
       "      <td>0</td>\n",
       "      <td>0</td>\n",
       "      <td>0</td>\n",
       "      <td>0</td>\n",
       "      <td>0</td>\n",
       "      <td>1</td>\n",
       "      <td>0</td>\n",
       "      <td>0</td>\n",
       "      <td>0</td>\n",
       "      <td>0</td>\n",
       "      <td>0</td>\n",
       "    </tr>\n",
       "  </tbody>\n",
       "</table>\n",
       "</div>"
      ],
      "text/plain": [
       "Puerto de Origen  1   2   3   4   5   6   7   8   9   10  11\n",
       "Planta                                                      \n",
       "1                  1   1   0   0   0   0   0   0   0   0   0\n",
       "2                  0   0   1   0   0   0   0   0   0   0   0\n",
       "3                  0   0   0   1   0   0   0   0   0   0   0\n",
       "4                  0   0   0   0   1   0   0   0   0   0   0\n",
       "5                  0   0   0   0   0   1   0   0   0   0   0"
      ]
     },
     "execution_count": 359,
     "metadata": {},
     "output_type": "execute_result"
    }
   ],
   "source": [
    "puertos_por_planta_pivot = puertos_por_planta.pivot_table(index = \"Planta\", columns = \"Puerto de Origen\", aggfunc = \"size\").fillna(0).astype(int)\n",
    "puertos_por_planta_pivot.head()"
   ]
  },
  {
   "cell_type": "code",
   "execution_count": 360,
   "id": "a6bb0cd2-53db-4e50-8b90-7fb77af0228b",
   "metadata": {},
   "outputs": [
    {
     "data": {
      "text/plain": [
       "198.0"
      ]
     },
     "execution_count": 360,
     "metadata": {},
     "output_type": "execute_result"
    }
   ],
   "source": [
    "datos_esperados = contingency.expected_freq(puertos_por_planta_pivot)\n",
    "resultados = chisquare(puertos_por_planta_pivot, datos_esperados, axis = None) #Estadístico Chi Cuadrado\n",
    "\n",
    "resultados.statistic"
   ]
  },
  {
   "cell_type": "markdown",
   "id": "db6cf97b-3e22-4db8-afe0-7a9e4ed7059b",
   "metadata": {},
   "source": [
    "## Tabla Completa"
   ]
  },
  {
   "cell_type": "markdown",
   "id": "f71b0107-3032-4bb7-8246-6a64e8276967",
   "metadata": {},
   "source": [
    "**Función Objetivo**\\\n",
    "Se desea conocer un conjunto de plantas de almacenaje, puertos de origen y puertos de destino que minimicen el costo total de la cadena de suministro. \n",
    "Matematicamente, se trata de un problema de optimización.\n",
    "\n",
    "Costo total = Costo de almacenaje + Costo de transporte\n",
    "\n",
    "El cliente decide qué nivel de servicio requiere:\n",
    "- DTD: Puerta a Puerta (Door To Door)\n",
    "- DTP: Puerta a Puerto (Door To Port)\n",
    "- CRF: Carga Referida por el Cliente (Customer Referred Freight)\n",
    "\n",
    "*Suposiciones:*\n",
    "\n",
    "-\n",
    "-\n",
    "-\n",
    "-\n"
   ]
  },
  {
   "cell_type": "code",
   "execution_count": 361,
   "id": "7b56dc5c-b0a2-490d-ad9e-a63a9571fbc3",
   "metadata": {},
   "outputs": [],
   "source": [
    "df1 = pd.merge(pedidos, fletes, on = [\"Puerto de origen\", \"Puerto de destino\", \"Transportista\", \"Nivel de servicio\"])\n",
    "df2 = pd.merge(df1, costos_almacenaje, on = [\"Planta\"])\n",
    "df3 = pd.merge(df2, capacidad_almacenaje, on = [\"Planta\"])"
   ]
  },
  {
   "cell_type": "markdown",
   "id": "a45ceae7-ec4b-4e55-a012-e2a5c8ee5005",
   "metadata": {},
   "source": [
    "*Estadística Descriptiva del Costo de Almacenaje [USD]*"
   ]
  },
  {
   "cell_type": "code",
   "execution_count": 362,
   "id": "d2cba41e-4b38-4490-acf0-38d49065b1e0",
   "metadata": {},
   "outputs": [
    {
     "data": {
      "text/html": [
       "<div>\n",
       "<style scoped>\n",
       "    .dataframe tbody tr th:only-of-type {\n",
       "        vertical-align: middle;\n",
       "    }\n",
       "\n",
       "    .dataframe tbody tr th {\n",
       "        vertical-align: top;\n",
       "    }\n",
       "\n",
       "    .dataframe thead tr th {\n",
       "        text-align: left;\n",
       "    }\n",
       "\n",
       "    .dataframe thead tr:last-of-type th {\n",
       "        text-align: right;\n",
       "    }\n",
       "</style>\n",
       "<table border=\"1\" class=\"dataframe\">\n",
       "  <thead>\n",
       "    <tr>\n",
       "      <th></th>\n",
       "      <th></th>\n",
       "      <th></th>\n",
       "      <th colspan=\"5\" halign=\"left\">Costo de almacenaje [USD]</th>\n",
       "    </tr>\n",
       "    <tr>\n",
       "      <th></th>\n",
       "      <th></th>\n",
       "      <th></th>\n",
       "      <th>min</th>\n",
       "      <th>mean</th>\n",
       "      <th>max</th>\n",
       "      <th>sum</th>\n",
       "      <th>%</th>\n",
       "    </tr>\n",
       "    <tr>\n",
       "      <th>Planta</th>\n",
       "      <th>Puerto de origen</th>\n",
       "      <th>Puerto de destino</th>\n",
       "      <th></th>\n",
       "      <th></th>\n",
       "      <th></th>\n",
       "      <th></th>\n",
       "      <th></th>\n",
       "    </tr>\n",
       "  </thead>\n",
       "  <tbody>\n",
       "    <tr>\n",
       "      <th>3</th>\n",
       "      <th>4</th>\n",
       "      <th>9</th>\n",
       "      <td>121.61</td>\n",
       "      <td>1170.68</td>\n",
       "      <td>290756.89</td>\n",
       "      <td>1.613191e+08</td>\n",
       "      <td>97.24</td>\n",
       "    </tr>\n",
       "    <tr>\n",
       "      <th>8</th>\n",
       "      <th>4</th>\n",
       "      <th>9</th>\n",
       "      <td>357.63</td>\n",
       "      <td>1430.16</td>\n",
       "      <td>2969.83</td>\n",
       "      <td>1.444466e+06</td>\n",
       "      <td>0.87</td>\n",
       "    </tr>\n",
       "    <tr>\n",
       "      <th>9</th>\n",
       "      <th>4</th>\n",
       "      <th>9</th>\n",
       "      <td>1070.13</td>\n",
       "      <td>8674.74</td>\n",
       "      <td>47004.27</td>\n",
       "      <td>1.040969e+06</td>\n",
       "      <td>0.63</td>\n",
       "    </tr>\n",
       "    <tr>\n",
       "      <th>12</th>\n",
       "      <th>4</th>\n",
       "      <th>9</th>\n",
       "      <td>182.46</td>\n",
       "      <td>291.55</td>\n",
       "      <td>1021.31</td>\n",
       "      <td>1.862992e+06</td>\n",
       "      <td>1.12</td>\n",
       "    </tr>\n",
       "    <tr>\n",
       "      <th>13</th>\n",
       "      <th>4</th>\n",
       "      <th>9</th>\n",
       "      <td>112.73</td>\n",
       "      <td>236.92</td>\n",
       "      <td>2463.14</td>\n",
       "      <td>2.037542e+05</td>\n",
       "      <td>0.12</td>\n",
       "    </tr>\n",
       "    <tr>\n",
       "      <th>16</th>\n",
       "      <th>9</th>\n",
       "      <th>9</th>\n",
       "      <td>539.47</td>\n",
       "      <td>703.10</td>\n",
       "      <td>1581.92</td>\n",
       "      <td>2.390544e+04</td>\n",
       "      <td>0.01</td>\n",
       "    </tr>\n",
       "  </tbody>\n",
       "</table>\n",
       "</div>"
      ],
      "text/plain": [
       "                                          Costo de almacenaje [USD]           \\\n",
       "                                                                min     mean   \n",
       "Planta Puerto de origen Puerto de destino                                      \n",
       "3      4                9                                    121.61  1170.68   \n",
       "8      4                9                                    357.63  1430.16   \n",
       "9      4                9                                   1070.13  8674.74   \n",
       "12     4                9                                    182.46   291.55   \n",
       "13     4                9                                    112.73   236.92   \n",
       "16     9                9                                    539.47   703.10   \n",
       "\n",
       "                                                                           \n",
       "                                                 max           sum      %  \n",
       "Planta Puerto de origen Puerto de destino                                  \n",
       "3      4                9                  290756.89  1.613191e+08  97.24  \n",
       "8      4                9                    2969.83  1.444466e+06   0.87  \n",
       "9      4                9                   47004.27  1.040969e+06   0.63  \n",
       "12     4                9                    1021.31  1.862992e+06   1.12  \n",
       "13     4                9                    2463.14  2.037542e+05   0.12  \n",
       "16     9                9                    1581.92  2.390544e+04   0.01  "
      ]
     },
     "execution_count": 362,
     "metadata": {},
     "output_type": "execute_result"
    }
   ],
   "source": [
    "df3[\"Costo de almacenaje [USD]\"] = df3[\"Items\"] * df3[\"Costo específico [USD/item]\"]\n",
    "df3_agrup = df3.groupby(by = [\"Planta\", \"Puerto de origen\", \"Puerto de destino\"]).agg({\"Costo de almacenaje [USD]\": [\"min\", \"mean\", \"max\", \"sum\"]})\n",
    "\n",
    "total = df3_agrup[(\"Costo de almacenaje [USD]\", \"sum\")].sum()\n",
    "porcentaje = lambda x: x / total * 100\n",
    "\n",
    "df3_agrup[(\"Costo de almacenaje [USD]\", \"%\")] = df3_agrup[(\"Costo de almacenaje [USD]\", \"sum\")].apply(porcentaje)\n",
    "df3_agrup.round(2)"
   ]
  },
  {
   "cell_type": "code",
   "execution_count": 363,
   "id": "992a58b4-57f5-4d40-adee-cbfc35ef64c9",
   "metadata": {},
   "outputs": [
    {
     "data": {
      "image/png": "[encoded data removed]",
      "text/plain": [
       "<Figure size 921.6x633.6 with 1 Axes>"
      ]
     },
     "metadata": {},
     "output_type": "display_data"
    }
   ],
   "source": [
    "plt.figure(1)\n",
    "plt.bar(x = df3_agrup.index.levels[0], height = df3_agrup[(\"Costo de almacenaje [USD]\", \"%\")])\n",
    "plt.xlabel(\"Planta\")\n",
    "plt.xticks(df3_agrup.index.levels[0])\n",
    "plt.ylabel(\"% Costo de Almacenaje\");"
   ]
  },
  {
   "cell_type": "markdown",
   "id": "93d40d6c-57a3-43d3-860d-4bccf0c49a9f",
   "metadata": {},
   "source": [
    "*Estadística Descriptiva del Costo de Transporte [USD]*"
   ]
  },
  {
   "cell_type": "code",
   "execution_count": 364,
   "id": "af25d896-8cf9-438e-a3ee-02e3b8030a5a",
   "metadata": {},
   "outputs": [
    {
     "data": {
      "text/html": [
       "<div>\n",
       "<style scoped>\n",
       "    .dataframe tbody tr th:only-of-type {\n",
       "        vertical-align: middle;\n",
       "    }\n",
       "\n",
       "    .dataframe tbody tr th {\n",
       "        vertical-align: top;\n",
       "    }\n",
       "\n",
       "    .dataframe thead tr th {\n",
       "        text-align: left;\n",
       "    }\n",
       "\n",
       "    .dataframe thead tr:last-of-type th {\n",
       "        text-align: right;\n",
       "    }\n",
       "</style>\n",
       "<table border=\"1\" class=\"dataframe\">\n",
       "  <thead>\n",
       "    <tr>\n",
       "      <th></th>\n",
       "      <th></th>\n",
       "      <th></th>\n",
       "      <th colspan=\"5\" halign=\"left\">Costo de transporte [USD]</th>\n",
       "    </tr>\n",
       "    <tr>\n",
       "      <th></th>\n",
       "      <th></th>\n",
       "      <th></th>\n",
       "      <th>min</th>\n",
       "      <th>mean</th>\n",
       "      <th>max</th>\n",
       "      <th>sum</th>\n",
       "      <th>%</th>\n",
       "    </tr>\n",
       "    <tr>\n",
       "      <th>Planta</th>\n",
       "      <th>Puerto de origen</th>\n",
       "      <th>Puerto de destino</th>\n",
       "      <th></th>\n",
       "      <th></th>\n",
       "      <th></th>\n",
       "      <th></th>\n",
       "      <th></th>\n",
       "    </tr>\n",
       "  </thead>\n",
       "  <tbody>\n",
       "    <tr>\n",
       "      <th>3</th>\n",
       "      <th>4</th>\n",
       "      <th>9</th>\n",
       "      <td>0.00</td>\n",
       "      <td>16635.35</td>\n",
       "      <td>17150058.30</td>\n",
       "      <td>2.292351e+09</td>\n",
       "      <td>97.71</td>\n",
       "    </tr>\n",
       "    <tr>\n",
       "      <th>8</th>\n",
       "      <th>4</th>\n",
       "      <th>9</th>\n",
       "      <td>88.23</td>\n",
       "      <td>2392.90</td>\n",
       "      <td>11920.83</td>\n",
       "      <td>2.416832e+06</td>\n",
       "      <td>0.10</td>\n",
       "    </tr>\n",
       "    <tr>\n",
       "      <th>9</th>\n",
       "      <th>4</th>\n",
       "      <th>9</th>\n",
       "      <td>521.53</td>\n",
       "      <td>83028.40</td>\n",
       "      <td>840988.85</td>\n",
       "      <td>9.963407e+06</td>\n",
       "      <td>0.42</td>\n",
       "    </tr>\n",
       "    <tr>\n",
       "      <th>12</th>\n",
       "      <th>4</th>\n",
       "      <th>9</th>\n",
       "      <td>3.71</td>\n",
       "      <td>2735.21</td>\n",
       "      <td>98032.14</td>\n",
       "      <td>1.747802e+07</td>\n",
       "      <td>0.75</td>\n",
       "    </tr>\n",
       "    <tr>\n",
       "      <th>13</th>\n",
       "      <th>4</th>\n",
       "      <th>9</th>\n",
       "      <td>3.85</td>\n",
       "      <td>4563.67</td>\n",
       "      <td>240230.79</td>\n",
       "      <td>3.924756e+06</td>\n",
       "      <td>0.17</td>\n",
       "    </tr>\n",
       "    <tr>\n",
       "      <th>16</th>\n",
       "      <th>9</th>\n",
       "      <th>9</th>\n",
       "      <td>2698.44</td>\n",
       "      <td>583942.84</td>\n",
       "      <td>9561053.88</td>\n",
       "      <td>1.985406e+07</td>\n",
       "      <td>0.85</td>\n",
       "    </tr>\n",
       "  </tbody>\n",
       "</table>\n",
       "</div>"
      ],
      "text/plain": [
       "                                          Costo de transporte [USD]  \\\n",
       "                                                                min   \n",
       "Planta Puerto de origen Puerto de destino                             \n",
       "3      4                9                                      0.00   \n",
       "8      4                9                                     88.23   \n",
       "9      4                9                                    521.53   \n",
       "12     4                9                                      3.71   \n",
       "13     4                9                                      3.85   \n",
       "16     9                9                                   2698.44   \n",
       "\n",
       "                                                                   \\\n",
       "                                                mean          max   \n",
       "Planta Puerto de origen Puerto de destino                           \n",
       "3      4                9                   16635.35  17150058.30   \n",
       "8      4                9                    2392.90     11920.83   \n",
       "9      4                9                   83028.40    840988.85   \n",
       "12     4                9                    2735.21     98032.14   \n",
       "13     4                9                    4563.67    240230.79   \n",
       "16     9                9                  583942.84   9561053.88   \n",
       "\n",
       "                                                                \n",
       "                                                    sum      %  \n",
       "Planta Puerto de origen Puerto de destino                       \n",
       "3      4                9                  2.292351e+09  97.71  \n",
       "8      4                9                  2.416832e+06   0.10  \n",
       "9      4                9                  9.963407e+06   0.42  \n",
       "12     4                9                  1.747802e+07   0.75  \n",
       "13     4                9                  3.924756e+06   0.17  \n",
       "16     9                9                  1.985406e+07   0.85  "
      ]
     },
     "execution_count": 364,
     "metadata": {},
     "output_type": "execute_result"
    }
   ],
   "source": [
    "df3[\"Costo de transporte [USD]\"] = np.where(df3[\"Nivel de servicio\"] == \"CRF\", 0, df3[\"Items\"] * df3[\"Peso [kg/item]\"] * df3[\"Tasa de flete [USD/kg]\"])\n",
    "df3_agrup = df3.groupby(by = [\"Planta\", \"Puerto de origen\", \"Puerto de destino\"]).agg({\"Costo de transporte [USD]\": [\"min\", \"mean\", \"max\", \"sum\"]})\n",
    "\n",
    "total = df3_agrup[(\"Costo de transporte [USD]\", \"sum\")].sum()\n",
    "porcentaje = lambda x: x / total * 100\n",
    "\n",
    "df3_agrup[(\"Costo de transporte [USD]\", \"%\")] = df3_agrup[(\"Costo de transporte [USD]\", \"sum\")].apply(porcentaje)\n",
    "df3_agrup.round(2)"
   ]
  },
  {
   "cell_type": "code",
   "execution_count": 365,
   "id": "52ea6fce-1c62-40f0-867a-76a406739660",
   "metadata": {},
   "outputs": [
    {
     "data": {
      "image/png": "[encoded data removed]",
      "text/plain": [
       "<Figure size 921.6x633.6 with 1 Axes>"
      ]
     },
     "metadata": {},
     "output_type": "display_data"
    }
   ],
   "source": [
    "plt.figure(1)\n",
    "plt.bar(x = df3_agrup.index.levels[0], height = df3_agrup[(\"Costo de transporte [USD]\", \"%\")])\n",
    "plt.xlabel(\"Planta\")\n",
    "plt.xticks(df3_agrup.index.levels[0])\n",
    "plt.ylabel(\"% Costo de Transporte\");"
   ]
  },
  {
   "cell_type": "markdown",
   "id": "bc033abf-debb-457d-9a35-585fa8a75f04",
   "metadata": {},
   "source": [
    "*Estadística Descriptiva del Costo Total [USD]*"
   ]
  },
  {
   "cell_type": "code",
   "execution_count": 366,
   "id": "6e51cc6f-c9c2-4d92-85ff-2d9ca22d9997",
   "metadata": {},
   "outputs": [
    {
     "data": {
      "text/html": [
       "<div>\n",
       "<style scoped>\n",
       "    .dataframe tbody tr th:only-of-type {\n",
       "        vertical-align: middle;\n",
       "    }\n",
       "\n",
       "    .dataframe tbody tr th {\n",
       "        vertical-align: top;\n",
       "    }\n",
       "\n",
       "    .dataframe thead tr th {\n",
       "        text-align: left;\n",
       "    }\n",
       "\n",
       "    .dataframe thead tr:last-of-type th {\n",
       "        text-align: right;\n",
       "    }\n",
       "</style>\n",
       "<table border=\"1\" class=\"dataframe\">\n",
       "  <thead>\n",
       "    <tr>\n",
       "      <th></th>\n",
       "      <th></th>\n",
       "      <th></th>\n",
       "      <th colspan=\"5\" halign=\"left\">Costo total [USD]</th>\n",
       "    </tr>\n",
       "    <tr>\n",
       "      <th></th>\n",
       "      <th></th>\n",
       "      <th></th>\n",
       "      <th>min</th>\n",
       "      <th>mean</th>\n",
       "      <th>max</th>\n",
       "      <th>sum</th>\n",
       "      <th>%</th>\n",
       "    </tr>\n",
       "    <tr>\n",
       "      <th>Planta</th>\n",
       "      <th>Puerto de origen</th>\n",
       "      <th>Puerto de destino</th>\n",
       "      <th></th>\n",
       "      <th></th>\n",
       "      <th></th>\n",
       "      <th></th>\n",
       "      <th></th>\n",
       "    </tr>\n",
       "  </thead>\n",
       "  <tbody>\n",
       "    <tr>\n",
       "      <th>3</th>\n",
       "      <th>4</th>\n",
       "      <th>9</th>\n",
       "      <td>121.72</td>\n",
       "      <td>17806.02</td>\n",
       "      <td>17440815.18</td>\n",
       "      <td>2.453670e+09</td>\n",
       "      <td>97.68</td>\n",
       "    </tr>\n",
       "    <tr>\n",
       "      <th>8</th>\n",
       "      <th>4</th>\n",
       "      <th>9</th>\n",
       "      <td>445.86</td>\n",
       "      <td>3823.07</td>\n",
       "      <td>14871.84</td>\n",
       "      <td>3.861298e+06</td>\n",
       "      <td>0.15</td>\n",
       "    </tr>\n",
       "    <tr>\n",
       "      <th>9</th>\n",
       "      <th>4</th>\n",
       "      <th>9</th>\n",
       "      <td>1591.66</td>\n",
       "      <td>91703.13</td>\n",
       "      <td>887993.12</td>\n",
       "      <td>1.100438e+07</td>\n",
       "      <td>0.44</td>\n",
       "    </tr>\n",
       "    <tr>\n",
       "      <th>12</th>\n",
       "      <th>4</th>\n",
       "      <th>9</th>\n",
       "      <td>192.14</td>\n",
       "      <td>3026.76</td>\n",
       "      <td>98823.05</td>\n",
       "      <td>1.934101e+07</td>\n",
       "      <td>0.77</td>\n",
       "    </tr>\n",
       "    <tr>\n",
       "      <th>13</th>\n",
       "      <th>4</th>\n",
       "      <th>9</th>\n",
       "      <td>121.62</td>\n",
       "      <td>4800.59</td>\n",
       "      <td>242693.93</td>\n",
       "      <td>4.128510e+06</td>\n",
       "      <td>0.16</td>\n",
       "    </tr>\n",
       "    <tr>\n",
       "      <th>16</th>\n",
       "      <th>9</th>\n",
       "      <th>9</th>\n",
       "      <td>3385.73</td>\n",
       "      <td>584645.94</td>\n",
       "      <td>9561693.17</td>\n",
       "      <td>1.987796e+07</td>\n",
       "      <td>0.79</td>\n",
       "    </tr>\n",
       "  </tbody>\n",
       "</table>\n",
       "</div>"
      ],
      "text/plain": [
       "                                          Costo total [USD]             \\\n",
       "                                                        min       mean   \n",
       "Planta Puerto de origen Puerto de destino                                \n",
       "3      4                9                            121.72   17806.02   \n",
       "8      4                9                            445.86    3823.07   \n",
       "9      4                9                           1591.66   91703.13   \n",
       "12     4                9                            192.14    3026.76   \n",
       "13     4                9                            121.62    4800.59   \n",
       "16     9                9                           3385.73  584645.94   \n",
       "\n",
       "                                                                             \n",
       "                                                   max           sum      %  \n",
       "Planta Puerto de origen Puerto de destino                                    \n",
       "3      4                9                  17440815.18  2.453670e+09  97.68  \n",
       "8      4                9                     14871.84  3.861298e+06   0.15  \n",
       "9      4                9                    887993.12  1.100438e+07   0.44  \n",
       "12     4                9                     98823.05  1.934101e+07   0.77  \n",
       "13     4                9                    242693.93  4.128510e+06   0.16  \n",
       "16     9                9                   9561693.17  1.987796e+07   0.79  "
      ]
     },
     "execution_count": 366,
     "metadata": {},
     "output_type": "execute_result"
    }
   ],
   "source": [
    "df3[\"Costo total [USD]\"] = df3[\"Costo de almacenaje [USD]\"] + df3[\"Costo de transporte [USD]\"]\n",
    "df3_agrup = df3.groupby(by = [\"Planta\", \"Puerto de origen\", \"Puerto de destino\"]).agg({\"Costo total [USD]\": [\"min\", \"mean\", \"max\", \"sum\"]})\n",
    "\n",
    "total = df3_agrup[(\"Costo total [USD]\", \"sum\")].sum()\n",
    "porcentaje = lambda x: x / total * 100\n",
    "\n",
    "df3_agrup[(\"Costo total [USD]\", \"%\")] = df3_agrup[(\"Costo total [USD]\", \"sum\")].apply(porcentaje)\n",
    "df3_agrup.round(2)"
   ]
  },
  {
   "cell_type": "code",
   "execution_count": 367,
   "id": "561b76f7-6180-4ef4-9f1e-fb15488819fc",
   "metadata": {},
   "outputs": [
    {
     "data": {
      "image/png": "[encoded data removed]",
      "text/plain": [
       "<Figure size 921.6x633.6 with 1 Axes>"
      ]
     },
     "metadata": {},
     "output_type": "display_data"
    }
   ],
   "source": [
    "plt.figure(1)\n",
    "plt.bar(x = df3_agrup.index.levels[0], height = df3_agrup[(\"Costo total [USD]\", \"%\")])\n",
    "plt.xlabel(\"Planta\")\n",
    "plt.xticks(df3_agrup.index.levels[0])\n",
    "plt.ylabel(\"% Costo total\");"
   ]
  },
  {
   "cell_type": "code",
   "execution_count": 368,
   "id": "d898cbf1-8193-4615-991a-28364e36758b",
   "metadata": {},
   "outputs": [],
   "source": [
    "#idx = pd.IndexSlice\n",
    "#df3_agrup.loc[idx[:, 4, 9], :]"
   ]
  }
 ],
 "metadata": {
  "kernelspec": {
   "display_name": "Python 3",
   "language": "python",
   "name": "python3"
  },
  "language_info": {
   "codemirror_mode": {
    "name": "ipython",
    "version": 3
   },
   "file_extension": ".py",
   "mimetype": "text/x-python",
   "name": "python",
   "nbconvert_exporter": "python",
   "pygments_lexer": "ipython3",
   "version": "3.8.8"
  }
 },
 "nbformat": 4,
 "nbformat_minor": 5
}
