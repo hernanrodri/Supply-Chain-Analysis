{
 "cells": [
  {
   "cell_type": "code",
   "execution_count": 119,
   "id": "bbc8ac01-e7cf-474a-b214-598c482bf58b",
   "metadata": {},
   "outputs": [],
   "source": [
    "import numpy as np\n",
    "import pandas as pd\n",
    "import matplotlib.pyplot as plt\n",
    "\n",
    "plt.style.use(\"seaborn-darkgrid\")"
   ]
  },
  {
   "cell_type": "markdown",
   "id": "8abfd7ed-9757-4b51-ad25-0a9d0c503b63",
   "metadata": {},
   "source": [
    "# 1ra Etapa: Análisis exploratorio de los datos"
   ]
  },
  {
   "cell_type": "markdown",
   "id": "3189f660-ddd5-4211-ba53-cb41c2c9a798",
   "metadata": {},
   "source": [
    "## Tabla Pedidos"
   ]
  },
  {
   "cell_type": "markdown",
   "id": "1280fa3e-841a-4379-b1c8-9d48ab71fdc0",
   "metadata": {},
   "source": [
    "Esta tabla contiene los registros históricos de los pedidos realizados por los clientes en una fecha determinada. Aunque los datos no pertenecen a la cadena de suministro actual, nos sirve como base para armar las restricciones de optimización de la misma."
   ]
  },
  {
   "cell_type": "code",
   "execution_count": 120,
   "id": "698f8039-991f-4dff-a5aa-8400ab879db9",
   "metadata": {},
   "outputs": [],
   "source": [
    "pedidos = pd.read_excel(\"Logisitcs problem.xlsx\", sheet_name = \"OrderList\")\n",
    "\n",
    "pedidos.columns = [\"Pedido\", \"Fecha\", \"Puerto de origen\", \"Transportista\", \"TPT\", \"Nivel de servicio\", \"Envío adelantado [días]\", \n",
    "                   \"Envío tardío [días]\", \"Cliente\", \"Producto\", \"Planta\", \"Puerto de destino\", \"Items\", \"Peso [kg/item]\"]"
   ]
  },
  {
   "cell_type": "code",
   "execution_count": 121,
   "id": "f4ab7e68-4de3-40a5-96c5-a9bf00c903ec",
   "metadata": {},
   "outputs": [
    {
     "name": "stdout",
     "output_type": "stream",
     "text": [
      "<class 'pandas.core.frame.DataFrame'>\n",
      "RangeIndex: 9215 entries, 0 to 9214\n",
      "Data columns (total 14 columns):\n",
      " #   Column                   Non-Null Count  Dtype         \n",
      "---  ------                   --------------  -----         \n",
      " 0   Pedido                   9215 non-null   float64       \n",
      " 1   Fecha                    9215 non-null   datetime64[ns]\n",
      " 2   Puerto de origen         9215 non-null   object        \n",
      " 3   Transportista            9215 non-null   object        \n",
      " 4   TPT                      9215 non-null   int64         \n",
      " 5   Nivel de servicio        9215 non-null   object        \n",
      " 6   Envío adelantado [días]  9215 non-null   int64         \n",
      " 7   Envío tardío [días]      9215 non-null   int64         \n",
      " 8   Cliente                  9215 non-null   object        \n",
      " 9   Producto                 9215 non-null   int64         \n",
      " 10  Planta                   9215 non-null   object        \n",
      " 11  Puerto de destino        9215 non-null   object        \n",
      " 12  Items                    9215 non-null   int64         \n",
      " 13  Peso [kg/item]           9215 non-null   float64       \n",
      "dtypes: datetime64[ns](1), float64(2), int64(5), object(6)\n",
      "memory usage: 1008.0+ KB\n"
     ]
    }
   ],
   "source": [
    "pedidos.info()"
   ]
  },
  {
   "cell_type": "markdown",
   "id": "a03939b8-2804-49c6-bc73-d98d042d1c4a",
   "metadata": {},
   "source": [
    "*¿La tabla contiene filas duplicadas?*"
   ]
  },
  {
   "cell_type": "code",
   "execution_count": 122,
   "id": "3a4eceec-5fb1-4283-9530-ea5e8005cb73",
   "metadata": {},
   "outputs": [
    {
     "data": {
      "text/plain": [
       "False"
      ]
     },
     "execution_count": 122,
     "metadata": {},
     "output_type": "execute_result"
    }
   ],
   "source": [
    "pedidos.duplicated().any()"
   ]
  },
  {
   "cell_type": "code",
   "execution_count": 123,
   "id": "5687394b-a802-49f4-ba41-71152eeede41",
   "metadata": {},
   "outputs": [
    {
     "data": {
      "text/html": [
       "<div>\n",
       "<style scoped>\n",
       "    .dataframe tbody tr th:only-of-type {\n",
       "        vertical-align: middle;\n",
       "    }\n",
       "\n",
       "    .dataframe tbody tr th {\n",
       "        vertical-align: top;\n",
       "    }\n",
       "\n",
       "    .dataframe thead th {\n",
       "        text-align: right;\n",
       "    }\n",
       "</style>\n",
       "<table border=\"1\" class=\"dataframe\">\n",
       "  <thead>\n",
       "    <tr style=\"text-align: right;\">\n",
       "      <th></th>\n",
       "      <th>Pedido</th>\n",
       "      <th>Fecha</th>\n",
       "      <th>Puerto de origen</th>\n",
       "      <th>Transportista</th>\n",
       "      <th>TPT</th>\n",
       "      <th>Nivel de servicio</th>\n",
       "      <th>Envío adelantado [días]</th>\n",
       "      <th>Envío tardío [días]</th>\n",
       "      <th>Cliente</th>\n",
       "      <th>Producto</th>\n",
       "      <th>Planta</th>\n",
       "      <th>Puerto de destino</th>\n",
       "      <th>Items</th>\n",
       "      <th>Peso [kg/item]</th>\n",
       "    </tr>\n",
       "  </thead>\n",
       "  <tbody>\n",
       "    <tr>\n",
       "      <th>0</th>\n",
       "      <td>1447296446</td>\n",
       "      <td>2013-05-26</td>\n",
       "      <td>9</td>\n",
       "      <td>V44_3</td>\n",
       "      <td>1</td>\n",
       "      <td>CRF</td>\n",
       "      <td>3</td>\n",
       "      <td>0</td>\n",
       "      <td>V55555_53</td>\n",
       "      <td>1700106</td>\n",
       "      <td>16</td>\n",
       "      <td>9</td>\n",
       "      <td>808</td>\n",
       "      <td>14.30</td>\n",
       "    </tr>\n",
       "    <tr>\n",
       "      <th>1</th>\n",
       "      <td>1447158014</td>\n",
       "      <td>2013-05-26</td>\n",
       "      <td>9</td>\n",
       "      <td>V44_3</td>\n",
       "      <td>1</td>\n",
       "      <td>CRF</td>\n",
       "      <td>3</td>\n",
       "      <td>0</td>\n",
       "      <td>V55555_53</td>\n",
       "      <td>1700106</td>\n",
       "      <td>16</td>\n",
       "      <td>9</td>\n",
       "      <td>3188</td>\n",
       "      <td>87.94</td>\n",
       "    </tr>\n",
       "    <tr>\n",
       "      <th>2</th>\n",
       "      <td>1447138898</td>\n",
       "      <td>2013-05-26</td>\n",
       "      <td>9</td>\n",
       "      <td>V44_3</td>\n",
       "      <td>1</td>\n",
       "      <td>CRF</td>\n",
       "      <td>3</td>\n",
       "      <td>0</td>\n",
       "      <td>V55555_53</td>\n",
       "      <td>1700106</td>\n",
       "      <td>16</td>\n",
       "      <td>9</td>\n",
       "      <td>2331</td>\n",
       "      <td>61.20</td>\n",
       "    </tr>\n",
       "    <tr>\n",
       "      <th>3</th>\n",
       "      <td>1447363527</td>\n",
       "      <td>2013-05-26</td>\n",
       "      <td>9</td>\n",
       "      <td>V44_3</td>\n",
       "      <td>1</td>\n",
       "      <td>CRF</td>\n",
       "      <td>3</td>\n",
       "      <td>0</td>\n",
       "      <td>V55555_53</td>\n",
       "      <td>1700106</td>\n",
       "      <td>16</td>\n",
       "      <td>9</td>\n",
       "      <td>847</td>\n",
       "      <td>16.16</td>\n",
       "    </tr>\n",
       "    <tr>\n",
       "      <th>4</th>\n",
       "      <td>1447363980</td>\n",
       "      <td>2013-05-26</td>\n",
       "      <td>9</td>\n",
       "      <td>V44_3</td>\n",
       "      <td>1</td>\n",
       "      <td>CRF</td>\n",
       "      <td>3</td>\n",
       "      <td>0</td>\n",
       "      <td>V55555_53</td>\n",
       "      <td>1700106</td>\n",
       "      <td>16</td>\n",
       "      <td>9</td>\n",
       "      <td>2163</td>\n",
       "      <td>52.34</td>\n",
       "    </tr>\n",
       "  </tbody>\n",
       "</table>\n",
       "</div>"
      ],
      "text/plain": [
       "       Pedido      Fecha  Puerto de origen Transportista  TPT  \\\n",
       "0  1447296446 2013-05-26                 9         V44_3    1   \n",
       "1  1447158014 2013-05-26                 9         V44_3    1   \n",
       "2  1447138898 2013-05-26                 9         V44_3    1   \n",
       "3  1447363527 2013-05-26                 9         V44_3    1   \n",
       "4  1447363980 2013-05-26                 9         V44_3    1   \n",
       "\n",
       "  Nivel de servicio  Envío adelantado [días]  Envío tardío [días]    Cliente  \\\n",
       "0               CRF                        3                    0  V55555_53   \n",
       "1               CRF                        3                    0  V55555_53   \n",
       "2               CRF                        3                    0  V55555_53   \n",
       "3               CRF                        3                    0  V55555_53   \n",
       "4               CRF                        3                    0  V55555_53   \n",
       "\n",
       "   Producto  Planta  Puerto de destino  Items  Peso [kg/item]  \n",
       "0   1700106      16                  9    808           14.30  \n",
       "1   1700106      16                  9   3188           87.94  \n",
       "2   1700106      16                  9   2331           61.20  \n",
       "3   1700106      16                  9    847           16.16  \n",
       "4   1700106      16                  9   2163           52.34  "
      ]
     },
     "execution_count": 123,
     "metadata": {},
     "output_type": "execute_result"
    }
   ],
   "source": [
    "pedidos[\"Pedido\"] = pedidos[\"Pedido\"].astype(int)\n",
    "pedidos[[\"Puerto de origen\", \"Planta\", \"Puerto de destino\"]] = pedidos[[\"Puerto de origen\", \"Planta\", \"Puerto de destino\"]].replace(to_replace = \"[^\\d.]\", value = \"\", regex = True).astype(int)\n",
    "\n",
    "pedidos.head()"
   ]
  },
  {
   "cell_type": "markdown",
   "id": "c9fac729-b2c5-40d9-b1d6-3fc0e8c31750",
   "metadata": {},
   "source": [
    "*¿Cuántas filas y columnas tiene esta tabla? (N° filas, N° columnas)*"
   ]
  },
  {
   "cell_type": "code",
   "execution_count": 124,
   "id": "769a9337-e9b2-48eb-8157-2e032ca2c736",
   "metadata": {},
   "outputs": [
    {
     "data": {
      "text/plain": [
       "(9215, 14)"
      ]
     },
     "execution_count": 124,
     "metadata": {},
     "output_type": "execute_result"
    }
   ],
   "source": [
    "pedidos.shape"
   ]
  },
  {
   "cell_type": "markdown",
   "id": "c94242ae-2c82-4c8d-907e-0270ffa5bc3c",
   "metadata": {},
   "source": [
    "*¿Cuándo se realizaron los pedidos?*"
   ]
  },
  {
   "cell_type": "code",
   "execution_count": 125,
   "id": "8d2e7581-e803-4eb9-ab74-2a7459f9bb69",
   "metadata": {},
   "outputs": [
    {
     "data": {
      "text/plain": [
       "'2013-05-26'"
      ]
     },
     "execution_count": 125,
     "metadata": {},
     "output_type": "execute_result"
    }
   ],
   "source": [
    "d = pedidos[\"Fecha\"].unique().astype(\"datetime64[D]\").astype(str)\n",
    "d[0]"
   ]
  },
  {
   "cell_type": "markdown",
   "id": "68fb6ae2-591b-461a-869d-5409629486b4",
   "metadata": {},
   "source": [
    "*¿Cuál es el total de pedidos?*"
   ]
  },
  {
   "cell_type": "code",
   "execution_count": 126,
   "id": "2e4ac753-bb7e-469e-b8e0-c2db35f0c3d1",
   "metadata": {},
   "outputs": [
    {
     "data": {
      "text/plain": [
       "9215"
      ]
     },
     "execution_count": 126,
     "metadata": {},
     "output_type": "execute_result"
    }
   ],
   "source": [
    "pedidos.shape[0]"
   ]
  },
  {
   "cell_type": "markdown",
   "id": "698314b2-0464-4eac-82c6-37e1b0be768b",
   "metadata": {},
   "source": [
    "*¿Cuántos pedidos fueron solicitados por cada conjunto Planta, Puerto de origen y Puerto de destino?*"
   ]
  },
  {
   "cell_type": "code",
   "execution_count": 127,
   "id": "62d9ab6a-207d-427f-8cbb-321525fe05a0",
   "metadata": {},
   "outputs": [
    {
     "data": {
      "text/html": [
       "<div>\n",
       "<style scoped>\n",
       "    .dataframe tbody tr th:only-of-type {\n",
       "        vertical-align: middle;\n",
       "    }\n",
       "\n",
       "    .dataframe tbody tr th {\n",
       "        vertical-align: top;\n",
       "    }\n",
       "\n",
       "    .dataframe thead th {\n",
       "        text-align: right;\n",
       "    }\n",
       "</style>\n",
       "<table border=\"1\" class=\"dataframe\">\n",
       "  <thead>\n",
       "    <tr style=\"text-align: right;\">\n",
       "      <th></th>\n",
       "      <th></th>\n",
       "      <th></th>\n",
       "      <th>Recuento de Pedidos</th>\n",
       "      <th>%</th>\n",
       "    </tr>\n",
       "    <tr>\n",
       "      <th>Planta</th>\n",
       "      <th>Puerto de origen</th>\n",
       "      <th>Puerto de destino</th>\n",
       "      <th></th>\n",
       "      <th></th>\n",
       "    </tr>\n",
       "  </thead>\n",
       "  <tbody>\n",
       "    <tr>\n",
       "      <th>3</th>\n",
       "      <th>4</th>\n",
       "      <th>9</th>\n",
       "      <td>8541</td>\n",
       "      <td>92.69</td>\n",
       "    </tr>\n",
       "    <tr>\n",
       "      <th>4</th>\n",
       "      <th>5</th>\n",
       "      <th>9</th>\n",
       "      <td>1</td>\n",
       "      <td>0.01</td>\n",
       "    </tr>\n",
       "    <tr>\n",
       "      <th>8</th>\n",
       "      <th>4</th>\n",
       "      <th>9</th>\n",
       "      <td>102</td>\n",
       "      <td>1.11</td>\n",
       "    </tr>\n",
       "    <tr>\n",
       "      <th>9</th>\n",
       "      <th>4</th>\n",
       "      <th>9</th>\n",
       "      <td>12</td>\n",
       "      <td>0.13</td>\n",
       "    </tr>\n",
       "    <tr>\n",
       "      <th>12</th>\n",
       "      <th>4</th>\n",
       "      <th>9</th>\n",
       "      <td>300</td>\n",
       "      <td>3.26</td>\n",
       "    </tr>\n",
       "    <tr>\n",
       "      <th>13</th>\n",
       "      <th>4</th>\n",
       "      <th>9</th>\n",
       "      <td>86</td>\n",
       "      <td>0.93</td>\n",
       "    </tr>\n",
       "    <tr>\n",
       "      <th>16</th>\n",
       "      <th>9</th>\n",
       "      <th>9</th>\n",
       "      <td>173</td>\n",
       "      <td>1.88</td>\n",
       "    </tr>\n",
       "  </tbody>\n",
       "</table>\n",
       "</div>"
      ],
      "text/plain": [
       "                                           Recuento de Pedidos      %\n",
       "Planta Puerto de origen Puerto de destino                            \n",
       "3      4                9                                 8541  92.69\n",
       "4      5                9                                    1   0.01\n",
       "8      4                9                                  102   1.11\n",
       "9      4                9                                   12   0.13\n",
       "12     4                9                                  300   3.26\n",
       "13     4                9                                   86   0.93\n",
       "16     9                9                                  173   1.88"
      ]
     },
     "execution_count": 127,
     "metadata": {},
     "output_type": "execute_result"
    }
   ],
   "source": [
    "pedidos_agrup = pedidos.groupby(by = [\"Planta\", \"Puerto de origen\", \"Puerto de destino\"]).agg({\"Pedido\": \"size\"})\n",
    "pedidos_agrup = pedidos_agrup.rename(columns = {\"Pedido\": \"Recuento de Pedidos\"})\n",
    "\n",
    "total = pedidos_agrup[\"Recuento de Pedidos\"].sum()\n",
    "porcentaje = lambda x: x / total * 100\n",
    "\n",
    "pedidos_agrup[\"%\"] = pedidos_agrup[\"Recuento de Pedidos\"].apply(porcentaje)\n",
    "pedidos_agrup.round(2)"
   ]
  },
  {
   "cell_type": "code",
   "execution_count": 128,
   "id": "b34c1cfd-8925-4048-a07f-9adc0c9c8e63",
   "metadata": {},
   "outputs": [
    {
     "data": {
      "image/png": "[encoded data removed]",
      "text/plain": [
       "<Figure size 432x288 with 1 Axes>"
      ]
     },
     "metadata": {},
     "output_type": "display_data"
    }
   ],
   "source": [
    "plt.figure(1)\n",
    "plt.bar(x = pedidos_agrup.index.levels[0], height = pedidos_agrup[\"%\"])\n",
    "plt.xlabel(\"Planta\")\n",
    "plt.ylabel(\"% Recuento de Pedidos\");"
   ]
  },
  {
   "cell_type": "markdown",
   "id": "71b2d729-0ce8-41bb-af68-482e0c8537d0",
   "metadata": {},
   "source": [
    "*¿Cuántos items fueron solicitados por cada conjunto Planta, Puerto de origen y Puerto de destino?*"
   ]
  },
  {
   "cell_type": "code",
   "execution_count": 129,
   "id": "2c12643f-c0a5-4cb1-875a-a33a7294105b",
   "metadata": {},
   "outputs": [
    {
     "data": {
      "text/html": [
       "<div>\n",
       "<style scoped>\n",
       "    .dataframe tbody tr th:only-of-type {\n",
       "        vertical-align: middle;\n",
       "    }\n",
       "\n",
       "    .dataframe tbody tr th {\n",
       "        vertical-align: top;\n",
       "    }\n",
       "\n",
       "    .dataframe thead tr th {\n",
       "        text-align: left;\n",
       "    }\n",
       "\n",
       "    .dataframe thead tr:last-of-type th {\n",
       "        text-align: right;\n",
       "    }\n",
       "</style>\n",
       "<table border=\"1\" class=\"dataframe\">\n",
       "  <thead>\n",
       "    <tr>\n",
       "      <th></th>\n",
       "      <th></th>\n",
       "      <th></th>\n",
       "      <th colspan=\"6\" halign=\"left\">Items</th>\n",
       "    </tr>\n",
       "    <tr>\n",
       "      <th></th>\n",
       "      <th></th>\n",
       "      <th></th>\n",
       "      <th>min</th>\n",
       "      <th>mean</th>\n",
       "      <th>max</th>\n",
       "      <th>std</th>\n",
       "      <th>sum</th>\n",
       "      <th>%</th>\n",
       "    </tr>\n",
       "    <tr>\n",
       "      <th>Planta</th>\n",
       "      <th>Puerto de origen</th>\n",
       "      <th>Puerto de destino</th>\n",
       "      <th></th>\n",
       "      <th></th>\n",
       "      <th></th>\n",
       "      <th></th>\n",
       "      <th></th>\n",
       "      <th></th>\n",
       "    </tr>\n",
       "  </thead>\n",
       "  <tbody>\n",
       "    <tr>\n",
       "      <th>3</th>\n",
       "      <th>4</th>\n",
       "      <th>9</th>\n",
       "      <td>235</td>\n",
       "      <td>3349.91</td>\n",
       "      <td>561847</td>\n",
       "      <td>16525.97</td>\n",
       "      <td>28611617</td>\n",
       "      <td>96.94</td>\n",
       "    </tr>\n",
       "    <tr>\n",
       "      <th>4</th>\n",
       "      <th>5</th>\n",
       "      <th>9</th>\n",
       "      <td>348</td>\n",
       "      <td>348.00</td>\n",
       "      <td>348</td>\n",
       "      <td>NaN</td>\n",
       "      <td>348</td>\n",
       "      <td>0.00</td>\n",
       "    </tr>\n",
       "    <tr>\n",
       "      <th>8</th>\n",
       "      <th>4</th>\n",
       "      <th>9</th>\n",
       "      <td>684</td>\n",
       "      <td>2715.76</td>\n",
       "      <td>5680</td>\n",
       "      <td>1504.06</td>\n",
       "      <td>277008</td>\n",
       "      <td>0.94</td>\n",
       "    </tr>\n",
       "    <tr>\n",
       "      <th>9</th>\n",
       "      <th>4</th>\n",
       "      <th>9</th>\n",
       "      <td>2301</td>\n",
       "      <td>18652.50</td>\n",
       "      <td>101069</td>\n",
       "      <td>28877.08</td>\n",
       "      <td>223830</td>\n",
       "      <td>0.76</td>\n",
       "    </tr>\n",
       "    <tr>\n",
       "      <th>12</th>\n",
       "      <th>4</th>\n",
       "      <th>9</th>\n",
       "      <td>236</td>\n",
       "      <td>373.33</td>\n",
       "      <td>1321</td>\n",
       "      <td>169.36</td>\n",
       "      <td>112000</td>\n",
       "      <td>0.38</td>\n",
       "    </tr>\n",
       "    <tr>\n",
       "      <th>13</th>\n",
       "      <th>4</th>\n",
       "      <th>9</th>\n",
       "      <td>240</td>\n",
       "      <td>504.41</td>\n",
       "      <td>5244</td>\n",
       "      <td>609.10</td>\n",
       "      <td>43379</td>\n",
       "      <td>0.15</td>\n",
       "    </tr>\n",
       "    <tr>\n",
       "      <th>16</th>\n",
       "      <th>9</th>\n",
       "      <th>9</th>\n",
       "      <td>280</td>\n",
       "      <td>1416.95</td>\n",
       "      <td>4464</td>\n",
       "      <td>1121.49</td>\n",
       "      <td>245133</td>\n",
       "      <td>0.83</td>\n",
       "    </tr>\n",
       "  </tbody>\n",
       "</table>\n",
       "</div>"
      ],
      "text/plain": [
       "                                          Items                              \\\n",
       "                                            min      mean     max       std   \n",
       "Planta Puerto de origen Puerto de destino                                     \n",
       "3      4                9                   235   3349.91  561847  16525.97   \n",
       "4      5                9                   348    348.00     348       NaN   \n",
       "8      4                9                   684   2715.76    5680   1504.06   \n",
       "9      4                9                  2301  18652.50  101069  28877.08   \n",
       "12     4                9                   236    373.33    1321    169.36   \n",
       "13     4                9                   240    504.41    5244    609.10   \n",
       "16     9                9                   280   1416.95    4464   1121.49   \n",
       "\n",
       "                                                            \n",
       "                                                sum      %  \n",
       "Planta Puerto de origen Puerto de destino                   \n",
       "3      4                9                  28611617  96.94  \n",
       "4      5                9                       348   0.00  \n",
       "8      4                9                    277008   0.94  \n",
       "9      4                9                    223830   0.76  \n",
       "12     4                9                    112000   0.38  \n",
       "13     4                9                     43379   0.15  \n",
       "16     9                9                    245133   0.83  "
      ]
     },
     "execution_count": 129,
     "metadata": {},
     "output_type": "execute_result"
    }
   ],
   "source": [
    "pedidos_agrup = pedidos.groupby(by = [\"Planta\", \"Puerto de origen\", \"Puerto de destino\"]).agg({\"Items\": [\"min\", \"mean\", \"max\", \"std\", \"sum\"]})\n",
    "\n",
    "total = pedidos_agrup[(\"Items\", \"sum\")].sum()\n",
    "porcentaje = lambda x: x / total * 100\n",
    "\n",
    "pedidos_agrup[(\"Items\", \"%\")] = pedidos_agrup[(\"Items\", \"sum\")].apply(porcentaje)\n",
    "pedidos_agrup.round(2)"
   ]
  },
  {
   "cell_type": "code",
   "execution_count": 130,
   "id": "74e5f50f-5604-484e-a2b2-b092b7277da4",
   "metadata": {},
   "outputs": [
    {
     "data": {
      "image/png": "[encoded data removed]",
      "text/plain": [
       "<Figure size 432x288 with 1 Axes>"
      ]
     },
     "metadata": {},
     "output_type": "display_data"
    }
   ],
   "source": [
    "plt.figure(1)\n",
    "plt.bar(x = pedidos_agrup.index.levels[0], height = pedidos_agrup[(\"Items\", \"%\")])\n",
    "plt.xlabel(\"Planta\")\n",
    "plt.ylabel(\"% Items\");"
   ]
  },
  {
   "cell_type": "markdown",
   "id": "a5783d68-336f-4d31-a364-fd22ab1be991",
   "metadata": {},
   "source": [
    "*Estadística descriptiva de Peso [kg/items] por cada conjunto Planta, Puerto de origen y Puerto de destino*"
   ]
  },
  {
   "cell_type": "code",
   "execution_count": 131,
   "id": "a8d5feaa-90f0-45be-af5d-9669aca4fa4a",
   "metadata": {},
   "outputs": [
    {
     "data": {
      "text/html": [
       "<div>\n",
       "<style scoped>\n",
       "    .dataframe tbody tr th:only-of-type {\n",
       "        vertical-align: middle;\n",
       "    }\n",
       "\n",
       "    .dataframe tbody tr th {\n",
       "        vertical-align: top;\n",
       "    }\n",
       "\n",
       "    .dataframe thead tr th {\n",
       "        text-align: left;\n",
       "    }\n",
       "\n",
       "    .dataframe thead tr:last-of-type th {\n",
       "        text-align: right;\n",
       "    }\n",
       "</style>\n",
       "<table border=\"1\" class=\"dataframe\">\n",
       "  <thead>\n",
       "    <tr>\n",
       "      <th></th>\n",
       "      <th></th>\n",
       "      <th></th>\n",
       "      <th colspan=\"6\" halign=\"left\">Peso [kg/item]</th>\n",
       "    </tr>\n",
       "    <tr>\n",
       "      <th></th>\n",
       "      <th></th>\n",
       "      <th></th>\n",
       "      <th>min</th>\n",
       "      <th>mean</th>\n",
       "      <th>max</th>\n",
       "      <th>std</th>\n",
       "      <th>sum</th>\n",
       "      <th>%</th>\n",
       "    </tr>\n",
       "    <tr>\n",
       "      <th>Planta</th>\n",
       "      <th>Puerto de origen</th>\n",
       "      <th>Puerto de destino</th>\n",
       "      <th></th>\n",
       "      <th></th>\n",
       "      <th></th>\n",
       "      <th></th>\n",
       "      <th></th>\n",
       "      <th></th>\n",
       "    </tr>\n",
       "  </thead>\n",
       "  <tbody>\n",
       "    <tr>\n",
       "      <th>3</th>\n",
       "      <th>4</th>\n",
       "      <th>9</th>\n",
       "      <td>0.00</td>\n",
       "      <td>15.86</td>\n",
       "      <td>1356.76</td>\n",
       "      <td>50.20</td>\n",
       "      <td>135486.51</td>\n",
       "      <td>73.99</td>\n",
       "    </tr>\n",
       "    <tr>\n",
       "      <th>4</th>\n",
       "      <th>5</th>\n",
       "      <th>9</th>\n",
       "      <td>2.10</td>\n",
       "      <td>2.10</td>\n",
       "      <td>2.10</td>\n",
       "      <td>NaN</td>\n",
       "      <td>2.10</td>\n",
       "      <td>0.00</td>\n",
       "    </tr>\n",
       "    <tr>\n",
       "      <th>8</th>\n",
       "      <th>4</th>\n",
       "      <th>9</th>\n",
       "      <td>2.29</td>\n",
       "      <td>14.50</td>\n",
       "      <td>43.64</td>\n",
       "      <td>10.37</td>\n",
       "      <td>1478.79</td>\n",
       "      <td>0.81</td>\n",
       "    </tr>\n",
       "    <tr>\n",
       "      <th>9</th>\n",
       "      <th>4</th>\n",
       "      <th>9</th>\n",
       "      <td>5.35</td>\n",
       "      <td>33.86</td>\n",
       "      <td>171.92</td>\n",
       "      <td>48.35</td>\n",
       "      <td>406.36</td>\n",
       "      <td>0.22</td>\n",
       "    </tr>\n",
       "    <tr>\n",
       "      <th>12</th>\n",
       "      <th>4</th>\n",
       "      <th>9</th>\n",
       "      <td>0.26</td>\n",
       "      <td>27.16</td>\n",
       "      <td>325.96</td>\n",
       "      <td>52.33</td>\n",
       "      <td>8147.43</td>\n",
       "      <td>4.45</td>\n",
       "    </tr>\n",
       "    <tr>\n",
       "      <th>13</th>\n",
       "      <th>4</th>\n",
       "      <th>9</th>\n",
       "      <td>0.35</td>\n",
       "      <td>63.12</td>\n",
       "      <td>946.50</td>\n",
       "      <td>127.13</td>\n",
       "      <td>5428.39</td>\n",
       "      <td>2.96</td>\n",
       "    </tr>\n",
       "    <tr>\n",
       "      <th>16</th>\n",
       "      <th>9</th>\n",
       "      <th>9</th>\n",
       "      <td>0.61</td>\n",
       "      <td>185.94</td>\n",
       "      <td>2338.41</td>\n",
       "      <td>264.06</td>\n",
       "      <td>32168.01</td>\n",
       "      <td>17.57</td>\n",
       "    </tr>\n",
       "  </tbody>\n",
       "</table>\n",
       "</div>"
      ],
      "text/plain": [
       "                                          Peso [kg/item]                   \\\n",
       "                                                     min    mean      max   \n",
       "Planta Puerto de origen Puerto de destino                                   \n",
       "3      4                9                           0.00   15.86  1356.76   \n",
       "4      5                9                           2.10    2.10     2.10   \n",
       "8      4                9                           2.29   14.50    43.64   \n",
       "9      4                9                           5.35   33.86   171.92   \n",
       "12     4                9                           0.26   27.16   325.96   \n",
       "13     4                9                           0.35   63.12   946.50   \n",
       "16     9                9                           0.61  185.94  2338.41   \n",
       "\n",
       "                                                                     \n",
       "                                              std        sum      %  \n",
       "Planta Puerto de origen Puerto de destino                            \n",
       "3      4                9                   50.20  135486.51  73.99  \n",
       "4      5                9                     NaN       2.10   0.00  \n",
       "8      4                9                   10.37    1478.79   0.81  \n",
       "9      4                9                   48.35     406.36   0.22  \n",
       "12     4                9                   52.33    8147.43   4.45  \n",
       "13     4                9                  127.13    5428.39   2.96  \n",
       "16     9                9                  264.06   32168.01  17.57  "
      ]
     },
     "execution_count": 131,
     "metadata": {},
     "output_type": "execute_result"
    }
   ],
   "source": [
    "pedidos_agrup = pedidos.groupby(by = [\"Planta\", \"Puerto de origen\", \"Puerto de destino\"]).agg({\"Peso [kg/item]\": [\"min\", \"mean\", \"max\", \"std\", \"sum\"]})\n",
    "\n",
    "total = pedidos_agrup[(\"Peso [kg/item]\", \"sum\")].sum()\n",
    "porcentaje = lambda x: x / total * 100\n",
    "\n",
    "pedidos_agrup[(\"Peso [kg/item]\", \"%\")] = pedidos_agrup[(\"Peso [kg/item]\", \"sum\")].apply(porcentaje)\n",
    "pedidos_agrup.round(2)"
   ]
  },
  {
   "cell_type": "code",
   "execution_count": 132,
   "id": "8d384e4d-401d-4a9d-9d63-c3603a15e7fb",
   "metadata": {},
   "outputs": [
    {
     "data": {
      "image/png": "[encoded data removed]",
      "text/plain": [
       "<Figure size 432x288 with 1 Axes>"
      ]
     },
     "metadata": {},
     "output_type": "display_data"
    }
   ],
   "source": [
    "plt.figure(1)\n",
    "plt.bar(x = pedidos_agrup.index.levels[0], height = pedidos_agrup[(\"Peso [kg/item]\", \"%\")])\n",
    "plt.xlabel(\"Planta\")\n",
    "plt.ylabel(\"% de Peso\");"
   ]
  },
  {
   "cell_type": "markdown",
   "id": "7b87c7b7-397b-4c44-a27f-49edee6df47f",
   "metadata": {},
   "source": [
    "*¿Hay alguna correlación entre Peso [kg/items] e Items?*"
   ]
  },
  {
   "cell_type": "code",
   "execution_count": 133,
   "id": "c57f757b-0c33-432d-86c5-d83fdc7130c9",
   "metadata": {},
   "outputs": [
    {
     "data": {
      "image/png": "[encoded data removed]",
      "text/plain": [
       "<Figure size 432x288 with 1 Axes>"
      ]
     },
     "metadata": {},
     "output_type": "display_data"
    }
   ],
   "source": [
    "plt.figure(1)\n",
    "plt.scatter(pedidos[\"Items\"], pedidos[\"Peso [kg/item]\"], s = 5)\n",
    "plt.xlabel(\"Items\")\n",
    "plt.ylabel(\"Peso [kg/item]\");"
   ]
  },
  {
   "cell_type": "code",
   "execution_count": 134,
   "id": "ed77e421-8bd3-4f38-89d9-2787ced7c41f",
   "metadata": {},
   "outputs": [
    {
     "data": {
      "text/plain": [
       "0.345"
      ]
     },
     "execution_count": 134,
     "metadata": {},
     "output_type": "execute_result"
    }
   ],
   "source": [
    "from scipy.stats import pearsonr \n",
    "\n",
    "r2, pvalue = pearsonr(x = pedidos[\"Items\"], y = pedidos[\"Peso [kg/item]\"])\n",
    "round(r2, 3)"
   ]
  },
  {
   "cell_type": "markdown",
   "id": "b2ebc619-18ca-486f-b49a-43fd06467c8a",
   "metadata": {},
   "source": [
    "## Tabla Fletes"
   ]
  },
  {
   "cell_type": "markdown",
   "id": "c92339c1-e818-4b83-91bc-3110ac89159f",
   "metadata": {},
   "source": [
    "Esta tabla describe todos los transportistas disponibles, los rangos de peso para cada ruta individual y las tarifas asociadas. "
   ]
  },
  {
   "cell_type": "code",
   "execution_count": 135,
   "id": "8225a2c7-2a4b-4737-9c0b-fc29df493eed",
   "metadata": {},
   "outputs": [],
   "source": [
    "fletes = pd.read_excel(\"Logisitcs problem.xlsx\", sheet_name = \"FreightRates\")\n",
    "\n",
    "fletes.columns = [\"Transportista\", \"Puerto de origen\", \"Puerto de destino\", \"Peso mínimo [kg/item]\", \"Peso máximo [kg/item]\", \n",
    "                  \"Nivel de servicio\", \"Costo mínimo [USD/kg]\", \"Tasa de flete [USD/kg]\", \"Modo de transporte\", \"Envío [días]\", \n",
    "                  \"Tipo de transportista\"]"
   ]
  },
  {
   "cell_type": "code",
   "execution_count": 136,
   "id": "ac65edfc-b769-4b5a-8342-f2750e712dad",
   "metadata": {},
   "outputs": [
    {
     "name": "stdout",
     "output_type": "stream",
     "text": [
      "<class 'pandas.core.frame.DataFrame'>\n",
      "RangeIndex: 1540 entries, 0 to 1539\n",
      "Data columns (total 11 columns):\n",
      " #   Column                  Non-Null Count  Dtype  \n",
      "---  ------                  --------------  -----  \n",
      " 0   Transportista           1540 non-null   object \n",
      " 1   Puerto de origen        1540 non-null   object \n",
      " 2   Puerto de destino       1540 non-null   object \n",
      " 3   Peso mínimo [kg/item]   1540 non-null   float64\n",
      " 4   Peso máximo [kg/item]   1540 non-null   float64\n",
      " 5   Nivel de servicio       1540 non-null   object \n",
      " 6   Costo mínimo [USD/kg]   1540 non-null   float64\n",
      " 7   Tasa de flete [USD/kg]  1540 non-null   float64\n",
      " 8   Modo de transporte      1540 non-null   object \n",
      " 9   Envío [días]            1540 non-null   int64  \n",
      " 10  Tipo de transportista   1540 non-null   object \n",
      "dtypes: float64(4), int64(1), object(6)\n",
      "memory usage: 132.5+ KB\n"
     ]
    }
   ],
   "source": [
    "fletes.info()"
   ]
  },
  {
   "cell_type": "markdown",
   "id": "fb704bd4-1165-437f-a516-544550656316",
   "metadata": {},
   "source": [
    "*¿La tabla contiene filas duplicadas?*"
   ]
  },
  {
   "cell_type": "code",
   "execution_count": 137,
   "id": "8bc216f6-e20a-4d87-8148-0a34ab01846b",
   "metadata": {},
   "outputs": [
    {
     "data": {
      "text/plain": [
       "True"
      ]
     },
     "execution_count": 137,
     "metadata": {},
     "output_type": "execute_result"
    }
   ],
   "source": [
    "fletes.duplicated().any()"
   ]
  },
  {
   "cell_type": "markdown",
   "id": "0132d2c8-af49-4a49-b950-7d958439bf8f",
   "metadata": {},
   "source": [
    "*Si la tabla tiene filas duplicadas, estas deben ser eliminadas.*"
   ]
  },
  {
   "cell_type": "code",
   "execution_count": 138,
   "id": "37b0741b-284a-41b9-997c-5218a49a8527",
   "metadata": {},
   "outputs": [],
   "source": [
    "fletes = fletes.drop_duplicates()"
   ]
  },
  {
   "cell_type": "code",
   "execution_count": 139,
   "id": "610e83bb-805a-417f-8ed0-8b9f7fe15501",
   "metadata": {},
   "outputs": [
    {
     "data": {
      "text/html": [
       "<div>\n",
       "<style scoped>\n",
       "    .dataframe tbody tr th:only-of-type {\n",
       "        vertical-align: middle;\n",
       "    }\n",
       "\n",
       "    .dataframe tbody tr th {\n",
       "        vertical-align: top;\n",
       "    }\n",
       "\n",
       "    .dataframe thead th {\n",
       "        text-align: right;\n",
       "    }\n",
       "</style>\n",
       "<table border=\"1\" class=\"dataframe\">\n",
       "  <thead>\n",
       "    <tr style=\"text-align: right;\">\n",
       "      <th></th>\n",
       "      <th>Transportista</th>\n",
       "      <th>Puerto de origen</th>\n",
       "      <th>Puerto de destino</th>\n",
       "      <th>Peso mínimo [kg/item]</th>\n",
       "      <th>Peso máximo [kg/item]</th>\n",
       "      <th>Nivel de servicio</th>\n",
       "      <th>Costo mínimo [USD/kg]</th>\n",
       "      <th>Tasa de flete [USD/kg]</th>\n",
       "      <th>Modo de transporte</th>\n",
       "      <th>Envío [días]</th>\n",
       "      <th>Tipo de transportista</th>\n",
       "    </tr>\n",
       "  </thead>\n",
       "  <tbody>\n",
       "    <tr>\n",
       "      <th>0</th>\n",
       "      <td>V444_6</td>\n",
       "      <td>8</td>\n",
       "      <td>9</td>\n",
       "      <td>250.0</td>\n",
       "      <td>499.99</td>\n",
       "      <td>DTD</td>\n",
       "      <td>43.2272</td>\n",
       "      <td>0.7132</td>\n",
       "      <td>Aire</td>\n",
       "      <td>2</td>\n",
       "      <td>V88888888_0</td>\n",
       "    </tr>\n",
       "    <tr>\n",
       "      <th>1</th>\n",
       "      <td>V444_6</td>\n",
       "      <td>8</td>\n",
       "      <td>9</td>\n",
       "      <td>65.0</td>\n",
       "      <td>69.99</td>\n",
       "      <td>DTD</td>\n",
       "      <td>43.2272</td>\n",
       "      <td>0.7512</td>\n",
       "      <td>Aire</td>\n",
       "      <td>2</td>\n",
       "      <td>V88888888_0</td>\n",
       "    </tr>\n",
       "    <tr>\n",
       "      <th>2</th>\n",
       "      <td>V444_6</td>\n",
       "      <td>8</td>\n",
       "      <td>9</td>\n",
       "      <td>60.0</td>\n",
       "      <td>64.99</td>\n",
       "      <td>DTD</td>\n",
       "      <td>43.2272</td>\n",
       "      <td>0.7892</td>\n",
       "      <td>Aire</td>\n",
       "      <td>2</td>\n",
       "      <td>V88888888_0</td>\n",
       "    </tr>\n",
       "    <tr>\n",
       "      <th>3</th>\n",
       "      <td>V444_6</td>\n",
       "      <td>8</td>\n",
       "      <td>9</td>\n",
       "      <td>50.0</td>\n",
       "      <td>54.99</td>\n",
       "      <td>DTD</td>\n",
       "      <td>43.2272</td>\n",
       "      <td>0.8272</td>\n",
       "      <td>Aire</td>\n",
       "      <td>2</td>\n",
       "      <td>V88888888_0</td>\n",
       "    </tr>\n",
       "    <tr>\n",
       "      <th>4</th>\n",
       "      <td>V444_6</td>\n",
       "      <td>8</td>\n",
       "      <td>9</td>\n",
       "      <td>35.0</td>\n",
       "      <td>39.99</td>\n",
       "      <td>DTD</td>\n",
       "      <td>43.2272</td>\n",
       "      <td>1.0552</td>\n",
       "      <td>Aire</td>\n",
       "      <td>2</td>\n",
       "      <td>V88888888_0</td>\n",
       "    </tr>\n",
       "  </tbody>\n",
       "</table>\n",
       "</div>"
      ],
      "text/plain": [
       "  Transportista  Puerto de origen  Puerto de destino  Peso mínimo [kg/item]  \\\n",
       "0        V444_6                 8                  9                  250.0   \n",
       "1        V444_6                 8                  9                   65.0   \n",
       "2        V444_6                 8                  9                   60.0   \n",
       "3        V444_6                 8                  9                   50.0   \n",
       "4        V444_6                 8                  9                   35.0   \n",
       "\n",
       "   Peso máximo [kg/item] Nivel de servicio  Costo mínimo [USD/kg]  \\\n",
       "0                 499.99               DTD                43.2272   \n",
       "1                  69.99               DTD                43.2272   \n",
       "2                  64.99               DTD                43.2272   \n",
       "3                  54.99               DTD                43.2272   \n",
       "4                  39.99               DTD                43.2272   \n",
       "\n",
       "   Tasa de flete [USD/kg] Modo de transporte  Envío [días]  \\\n",
       "0                  0.7132               Aire             2   \n",
       "1                  0.7512               Aire             2   \n",
       "2                  0.7892               Aire             2   \n",
       "3                  0.8272               Aire             2   \n",
       "4                  1.0552               Aire             2   \n",
       "\n",
       "  Tipo de transportista  \n",
       "0           V88888888_0  \n",
       "1           V88888888_0  \n",
       "2           V88888888_0  \n",
       "3           V88888888_0  \n",
       "4           V88888888_0  "
      ]
     },
     "execution_count": 139,
     "metadata": {},
     "output_type": "execute_result"
    }
   ],
   "source": [
    "fletes[[\"Puerto de origen\", \"Puerto de destino\"]] = fletes[[\"Puerto de origen\", \"Puerto de destino\"]].replace(to_replace = \"[^\\d.]\", value = \"\", regex = True).astype(int)\n",
    "fletes[\"Modo de transporte\"] = fletes[\"Modo de transporte\"].replace({\"AIR   \": \"Aire\", \"GROUND\": \"Tierra\"}, regex = True)\n",
    "\n",
    "fletes.head()"
   ]
  },
  {
   "cell_type": "markdown",
   "id": "6d61933c-cd57-4482-93c9-f0c12346006f",
   "metadata": {},
   "source": [
    "*¿Cuántas filas y columnas tiene esta tabla?*"
   ]
  },
  {
   "cell_type": "code",
   "execution_count": 140,
   "id": "47cece75-d29d-48ca-948c-7eda2f2be937",
   "metadata": {},
   "outputs": [
    {
     "data": {
      "text/plain": [
       "(1537, 11)"
      ]
     },
     "execution_count": 140,
     "metadata": {},
     "output_type": "execute_result"
    }
   ],
   "source": [
    "fletes.shape"
   ]
  },
  {
   "cell_type": "markdown",
   "id": "581fcaa6-f18a-48b7-9d2f-63782ca8e163",
   "metadata": {},
   "source": [
    "*Estadística descriptiva de Tasa de flete [USD/kg] para cada conjunto Puerto de origen y Puerto de destino*"
   ]
  },
  {
   "cell_type": "code",
   "execution_count": 141,
   "id": "3b3dca68-152c-4f8d-ac54-a854eb7aac80",
   "metadata": {},
   "outputs": [
    {
     "data": {
      "text/html": [
       "<div>\n",
       "<style scoped>\n",
       "    .dataframe tbody tr th:only-of-type {\n",
       "        vertical-align: middle;\n",
       "    }\n",
       "\n",
       "    .dataframe tbody tr th {\n",
       "        vertical-align: top;\n",
       "    }\n",
       "\n",
       "    .dataframe thead tr th {\n",
       "        text-align: left;\n",
       "    }\n",
       "\n",
       "    .dataframe thead tr:last-of-type th {\n",
       "        text-align: right;\n",
       "    }\n",
       "</style>\n",
       "<table border=\"1\" class=\"dataframe\">\n",
       "  <thead>\n",
       "    <tr>\n",
       "      <th></th>\n",
       "      <th></th>\n",
       "      <th colspan=\"4\" halign=\"left\">Tasa de flete [USD/kg]</th>\n",
       "    </tr>\n",
       "    <tr>\n",
       "      <th></th>\n",
       "      <th></th>\n",
       "      <th>min</th>\n",
       "      <th>mean</th>\n",
       "      <th>max</th>\n",
       "      <th>std</th>\n",
       "    </tr>\n",
       "    <tr>\n",
       "      <th>Puerto de origen</th>\n",
       "      <th>Puerto de destino</th>\n",
       "      <th></th>\n",
       "      <th></th>\n",
       "      <th></th>\n",
       "      <th></th>\n",
       "    </tr>\n",
       "  </thead>\n",
       "  <tbody>\n",
       "    <tr>\n",
       "      <th>2</th>\n",
       "      <th>9</th>\n",
       "      <td>0.05</td>\n",
       "      <td>1.87</td>\n",
       "      <td>7.06</td>\n",
       "      <td>1.78</td>\n",
       "    </tr>\n",
       "    <tr>\n",
       "      <th>3</th>\n",
       "      <th>9</th>\n",
       "      <td>0.12</td>\n",
       "      <td>9.84</td>\n",
       "      <td>128.03</td>\n",
       "      <td>19.98</td>\n",
       "    </tr>\n",
       "    <tr>\n",
       "      <th>4</th>\n",
       "      <th>9</th>\n",
       "      <td>0.04</td>\n",
       "      <td>1.94</td>\n",
       "      <td>7.66</td>\n",
       "      <td>2.05</td>\n",
       "    </tr>\n",
       "    <tr>\n",
       "      <th>5</th>\n",
       "      <th>9</th>\n",
       "      <td>0.07</td>\n",
       "      <td>2.87</td>\n",
       "      <td>12.07</td>\n",
       "      <td>2.90</td>\n",
       "    </tr>\n",
       "    <tr>\n",
       "      <th>6</th>\n",
       "      <th>9</th>\n",
       "      <td>0.07</td>\n",
       "      <td>2.53</td>\n",
       "      <td>7.16</td>\n",
       "      <td>1.74</td>\n",
       "    </tr>\n",
       "    <tr>\n",
       "      <th>7</th>\n",
       "      <th>9</th>\n",
       "      <td>0.14</td>\n",
       "      <td>0.20</td>\n",
       "      <td>0.28</td>\n",
       "      <td>0.04</td>\n",
       "    </tr>\n",
       "    <tr>\n",
       "      <th>8</th>\n",
       "      <th>9</th>\n",
       "      <td>0.10</td>\n",
       "      <td>0.59</td>\n",
       "      <td>1.83</td>\n",
       "      <td>0.56</td>\n",
       "    </tr>\n",
       "    <tr>\n",
       "      <th>9</th>\n",
       "      <th>9</th>\n",
       "      <td>0.03</td>\n",
       "      <td>2.84</td>\n",
       "      <td>21.28</td>\n",
       "      <td>6.59</td>\n",
       "    </tr>\n",
       "    <tr>\n",
       "      <th>10</th>\n",
       "      <th>9</th>\n",
       "      <td>0.10</td>\n",
       "      <td>5.37</td>\n",
       "      <td>18.96</td>\n",
       "      <td>4.99</td>\n",
       "    </tr>\n",
       "    <tr>\n",
       "      <th>11</th>\n",
       "      <th>9</th>\n",
       "      <td>0.07</td>\n",
       "      <td>0.13</td>\n",
       "      <td>0.34</td>\n",
       "      <td>0.06</td>\n",
       "    </tr>\n",
       "  </tbody>\n",
       "</table>\n",
       "</div>"
      ],
      "text/plain": [
       "                                   Tasa de flete [USD/kg]                     \n",
       "                                                      min  mean     max    std\n",
       "Puerto de origen Puerto de destino                                            \n",
       "2                9                                   0.05  1.87    7.06   1.78\n",
       "3                9                                   0.12  9.84  128.03  19.98\n",
       "4                9                                   0.04  1.94    7.66   2.05\n",
       "5                9                                   0.07  2.87   12.07   2.90\n",
       "6                9                                   0.07  2.53    7.16   1.74\n",
       "7                9                                   0.14  0.20    0.28   0.04\n",
       "8                9                                   0.10  0.59    1.83   0.56\n",
       "9                9                                   0.03  2.84   21.28   6.59\n",
       "10               9                                   0.10  5.37   18.96   4.99\n",
       "11               9                                   0.07  0.13    0.34   0.06"
      ]
     },
     "execution_count": 141,
     "metadata": {},
     "output_type": "execute_result"
    }
   ],
   "source": [
    "fletes_agrup = fletes.groupby(by = [\"Puerto de origen\", \"Puerto de destino\"]).agg({\"Tasa de flete [USD/kg]\": [\"min\", \"mean\", \"max\", \"std\"]})\n",
    "fletes_agrup.round(2)"
   ]
  },
  {
   "cell_type": "code",
   "execution_count": 142,
   "id": "92da0a66-27b6-430c-995c-26dd2014cdb5",
   "metadata": {},
   "outputs": [
    {
     "data": {
      "image/png": "[encoded data removed]",
      "text/plain": [
       "<Figure size 432x288 with 1 Axes>"
      ]
     },
     "metadata": {},
     "output_type": "display_data"
    }
   ],
   "source": [
    "plt.figure(1)\n",
    "plt.hist(fletes[\"Tasa de flete [USD/kg]\"], bins = 100)\n",
    "plt.xlabel(\"Tasa de flete [USD/kg]\")\n",
    "plt.ylabel(\"Frecuencia absoluta\");"
   ]
  },
  {
   "cell_type": "markdown",
   "id": "c431dd6d-04ae-43af-ba1f-fa491505f9c8",
   "metadata": {},
   "source": [
    "*Estadística descriptiva de Envío [días] para cada conjunto Puerto de origen y Puerto de destino*"
   ]
  },
  {
   "cell_type": "code",
   "execution_count": 143,
   "id": "f18518cc-53f3-455f-b437-8804c1008243",
   "metadata": {},
   "outputs": [
    {
     "data": {
      "text/html": [
       "<div>\n",
       "<style scoped>\n",
       "    .dataframe tbody tr th:only-of-type {\n",
       "        vertical-align: middle;\n",
       "    }\n",
       "\n",
       "    .dataframe tbody tr th {\n",
       "        vertical-align: top;\n",
       "    }\n",
       "\n",
       "    .dataframe thead tr th {\n",
       "        text-align: left;\n",
       "    }\n",
       "\n",
       "    .dataframe thead tr:last-of-type th {\n",
       "        text-align: right;\n",
       "    }\n",
       "</style>\n",
       "<table border=\"1\" class=\"dataframe\">\n",
       "  <thead>\n",
       "    <tr>\n",
       "      <th></th>\n",
       "      <th></th>\n",
       "      <th colspan=\"4\" halign=\"left\">Envío [días]</th>\n",
       "    </tr>\n",
       "    <tr>\n",
       "      <th></th>\n",
       "      <th></th>\n",
       "      <th>min</th>\n",
       "      <th>mean</th>\n",
       "      <th>max</th>\n",
       "      <th>size</th>\n",
       "    </tr>\n",
       "    <tr>\n",
       "      <th>Puerto de origen</th>\n",
       "      <th>Puerto de destino</th>\n",
       "      <th></th>\n",
       "      <th></th>\n",
       "      <th></th>\n",
       "      <th></th>\n",
       "    </tr>\n",
       "  </thead>\n",
       "  <tbody>\n",
       "    <tr>\n",
       "      <th>2</th>\n",
       "      <th>9</th>\n",
       "      <td>0</td>\n",
       "      <td>1.62</td>\n",
       "      <td>14</td>\n",
       "      <td>226</td>\n",
       "    </tr>\n",
       "    <tr>\n",
       "      <th>3</th>\n",
       "      <th>9</th>\n",
       "      <td>0</td>\n",
       "      <td>3.05</td>\n",
       "      <td>14</td>\n",
       "      <td>42</td>\n",
       "    </tr>\n",
       "    <tr>\n",
       "      <th>4</th>\n",
       "      <th>9</th>\n",
       "      <td>0</td>\n",
       "      <td>1.58</td>\n",
       "      <td>14</td>\n",
       "      <td>231</td>\n",
       "    </tr>\n",
       "    <tr>\n",
       "      <th>5</th>\n",
       "      <th>9</th>\n",
       "      <td>1</td>\n",
       "      <td>1.27</td>\n",
       "      <td>4</td>\n",
       "      <td>219</td>\n",
       "    </tr>\n",
       "    <tr>\n",
       "      <th>6</th>\n",
       "      <th>9</th>\n",
       "      <td>1</td>\n",
       "      <td>1.99</td>\n",
       "      <td>3</td>\n",
       "      <td>479</td>\n",
       "    </tr>\n",
       "    <tr>\n",
       "      <th>7</th>\n",
       "      <th>9</th>\n",
       "      <td>3</td>\n",
       "      <td>4.50</td>\n",
       "      <td>6</td>\n",
       "      <td>20</td>\n",
       "    </tr>\n",
       "    <tr>\n",
       "      <th>8</th>\n",
       "      <th>9</th>\n",
       "      <td>2</td>\n",
       "      <td>4.82</td>\n",
       "      <td>14</td>\n",
       "      <td>39</td>\n",
       "    </tr>\n",
       "    <tr>\n",
       "      <th>9</th>\n",
       "      <th>9</th>\n",
       "      <td>0</td>\n",
       "      <td>4.42</td>\n",
       "      <td>14</td>\n",
       "      <td>24</td>\n",
       "    </tr>\n",
       "    <tr>\n",
       "      <th>10</th>\n",
       "      <th>9</th>\n",
       "      <td>2</td>\n",
       "      <td>3.17</td>\n",
       "      <td>6</td>\n",
       "      <td>222</td>\n",
       "    </tr>\n",
       "    <tr>\n",
       "      <th>11</th>\n",
       "      <th>9</th>\n",
       "      <td>0</td>\n",
       "      <td>5.29</td>\n",
       "      <td>14</td>\n",
       "      <td>35</td>\n",
       "    </tr>\n",
       "  </tbody>\n",
       "</table>\n",
       "</div>"
      ],
      "text/plain": [
       "                                   Envío [días]               \n",
       "                                            min  mean max size\n",
       "Puerto de origen Puerto de destino                            \n",
       "2                9                            0  1.62  14  226\n",
       "3                9                            0  3.05  14   42\n",
       "4                9                            0  1.58  14  231\n",
       "5                9                            1  1.27   4  219\n",
       "6                9                            1  1.99   3  479\n",
       "7                9                            3  4.50   6   20\n",
       "8                9                            2  4.82  14   39\n",
       "9                9                            0  4.42  14   24\n",
       "10               9                            2  3.17   6  222\n",
       "11               9                            0  5.29  14   35"
      ]
     },
     "execution_count": 143,
     "metadata": {},
     "output_type": "execute_result"
    }
   ],
   "source": [
    "fletes_agrup = fletes.groupby(by = [\"Puerto de origen\", \"Puerto de destino\"]).agg({\"Envío [días]\": [\"min\", \"mean\", \"max\", \"size\"]})\n",
    "fletes_agrup.round(2)"
   ]
  },
  {
   "cell_type": "code",
   "execution_count": 144,
   "id": "75812733-5f27-46c6-a036-447c54bdb38e",
   "metadata": {},
   "outputs": [
    {
     "data": {
      "image/png": "[encoded data removed]",
      "text/plain": [
       "<Figure size 432x288 with 1 Axes>"
      ]
     },
     "metadata": {},
     "output_type": "display_data"
    }
   ],
   "source": [
    "fletes_agrup = fletes.groupby(by = \"Envío [días]\").agg({\"Envío [días]\": \"size\"}).rename(columns = {\"Envío [días]\": \"Recuento\"})\n",
    "\n",
    "plt.figure(1)\n",
    "plt.bar(x = fletes_agrup.index, height = fletes_agrup[\"Recuento\"])\n",
    "plt.xlabel(\"Envío [días]\")\n",
    "plt.ylabel(\"Recuento\");"
   ]
  },
  {
   "cell_type": "markdown",
   "id": "b365d9c2-5a58-4cfb-9738-d456f7da61c9",
   "metadata": {},
   "source": [
    "*Estadística descriptiva de Modo de Transporte*"
   ]
  },
  {
   "cell_type": "code",
   "execution_count": 145,
   "id": "6f360db4-0059-4dc7-95a6-7c00ae97a129",
   "metadata": {},
   "outputs": [
    {
     "data": {
      "image/png": "[encoded data removed]",
      "text/plain": [
       "<Figure size 432x288 with 1 Axes>"
      ]
     },
     "metadata": {},
     "output_type": "display_data"
    }
   ],
   "source": [
    "fletes_agrup = fletes.groupby(by = \"Modo de transporte\").agg({\"Puerto de origen\": \"size\"})\n",
    "fletes_agrup = fletes_agrup.rename(columns = {\"Puerto de origen\": \"Recuento de Puerto de origen\"})\n",
    "\n",
    "plt.figure(1)\n",
    "plt.title(\"Modo de transporte\")\n",
    "plt.pie(x = fletes_agrup[\"Recuento de Puerto de origen\"], labels = fletes_agrup.index, autopct = \"%1.1f%%\");"
   ]
  },
  {
   "cell_type": "markdown",
   "id": "a111c376-6fd3-4789-84dd-e581640678f6",
   "metadata": {},
   "source": [
    "## Tabla Costos de Almacenaje"
   ]
  },
  {
   "cell_type": "markdown",
   "id": "0c4942f6-2ff5-4178-b131-6dc3f69dbee9",
   "metadata": {},
   "source": [
    "Esta tabla especifica el costo asociado al almacenamiento de los productos en un almacén determinado medido en dólares por unidad (item)."
   ]
  },
  {
   "cell_type": "code",
   "execution_count": 146,
   "id": "57aa9f11-af0a-4d06-8e29-b8d329df91b2",
   "metadata": {},
   "outputs": [],
   "source": [
    "costos_almacenaje_ = pd.read_excel(\"Logisitcs problem.xlsx\", sheet_name = \"WhCosts\")\n",
    "\n",
    "costos_almacenaje_.columns = [\"Planta\", \"Costo específico [USD/item]\"]"
   ]
  },
  {
   "cell_type": "code",
   "execution_count": 147,
   "id": "d4fd0853-bc1c-4aa3-8705-17b84fbc875a",
   "metadata": {},
   "outputs": [
    {
     "name": "stdout",
     "output_type": "stream",
     "text": [
      "<class 'pandas.core.frame.DataFrame'>\n",
      "RangeIndex: 19 entries, 0 to 18\n",
      "Data columns (total 2 columns):\n",
      " #   Column                       Non-Null Count  Dtype  \n",
      "---  ------                       --------------  -----  \n",
      " 0   Planta                       19 non-null     object \n",
      " 1   Costo específico [USD/item]  19 non-null     float64\n",
      "dtypes: float64(1), object(1)\n",
      "memory usage: 432.0+ bytes\n"
     ]
    }
   ],
   "source": [
    "costos_almacenaje_.info()"
   ]
  },
  {
   "cell_type": "markdown",
   "id": "4724a546-3a5d-4ac1-bc67-ee378c1932c0",
   "metadata": {},
   "source": [
    "*¿La tabla contiene filas duplicadas?*"
   ]
  },
  {
   "cell_type": "code",
   "execution_count": 148,
   "id": "62720aba-d666-49a6-b11b-41b4b4de3763",
   "metadata": {},
   "outputs": [
    {
     "data": {
      "text/plain": [
       "False"
      ]
     },
     "execution_count": 148,
     "metadata": {},
     "output_type": "execute_result"
    }
   ],
   "source": [
    "costos_almacenaje_.duplicated().any()"
   ]
  },
  {
   "cell_type": "code",
   "execution_count": 149,
   "id": "c4b119ca-80fb-4118-a1a3-5d95a1b33565",
   "metadata": {},
   "outputs": [],
   "source": [
    "values = np.arange(0, 16, 1)"
   ]
  },
  {
   "cell_type": "code",
   "execution_count": 150,
   "id": "27bd4274-ae57-4a03-b21f-82715c354320",
   "metadata": {},
   "outputs": [
    {
     "data": {
      "text/html": [
       "<div>\n",
       "<style scoped>\n",
       "    .dataframe tbody tr th:only-of-type {\n",
       "        vertical-align: middle;\n",
       "    }\n",
       "\n",
       "    .dataframe tbody tr th {\n",
       "        vertical-align: top;\n",
       "    }\n",
       "\n",
       "    .dataframe thead th {\n",
       "        text-align: right;\n",
       "    }\n",
       "</style>\n",
       "<table border=\"1\" class=\"dataframe\">\n",
       "  <thead>\n",
       "    <tr style=\"text-align: right;\">\n",
       "      <th></th>\n",
       "      <th>Planta</th>\n",
       "      <th>Costo específico [USD/item]</th>\n",
       "    </tr>\n",
       "  </thead>\n",
       "  <tbody>\n",
       "    <tr>\n",
       "      <th>0</th>\n",
       "      <td>15</td>\n",
       "      <td>1.42</td>\n",
       "    </tr>\n",
       "    <tr>\n",
       "      <th>3</th>\n",
       "      <td>5</td>\n",
       "      <td>0.49</td>\n",
       "    </tr>\n",
       "    <tr>\n",
       "      <th>4</th>\n",
       "      <td>2</td>\n",
       "      <td>0.48</td>\n",
       "    </tr>\n",
       "    <tr>\n",
       "      <th>5</th>\n",
       "      <td>1</td>\n",
       "      <td>0.57</td>\n",
       "    </tr>\n",
       "    <tr>\n",
       "      <th>6</th>\n",
       "      <td>6</td>\n",
       "      <td>0.55</td>\n",
       "    </tr>\n",
       "    <tr>\n",
       "      <th>7</th>\n",
       "      <td>10</td>\n",
       "      <td>0.49</td>\n",
       "    </tr>\n",
       "    <tr>\n",
       "      <th>8</th>\n",
       "      <td>7</td>\n",
       "      <td>0.37</td>\n",
       "    </tr>\n",
       "    <tr>\n",
       "      <th>9</th>\n",
       "      <td>14</td>\n",
       "      <td>0.63</td>\n",
       "    </tr>\n",
       "    <tr>\n",
       "      <th>11</th>\n",
       "      <td>12</td>\n",
       "      <td>0.77</td>\n",
       "    </tr>\n",
       "    <tr>\n",
       "      <th>12</th>\n",
       "      <td>11</td>\n",
       "      <td>0.56</td>\n",
       "    </tr>\n",
       "    <tr>\n",
       "      <th>13</th>\n",
       "      <td>9</td>\n",
       "      <td>0.47</td>\n",
       "    </tr>\n",
       "    <tr>\n",
       "      <th>14</th>\n",
       "      <td>3</td>\n",
       "      <td>0.52</td>\n",
       "    </tr>\n",
       "    <tr>\n",
       "      <th>15</th>\n",
       "      <td>13</td>\n",
       "      <td>0.47</td>\n",
       "    </tr>\n",
       "    <tr>\n",
       "      <th>17</th>\n",
       "      <td>8</td>\n",
       "      <td>0.52</td>\n",
       "    </tr>\n",
       "    <tr>\n",
       "      <th>18</th>\n",
       "      <td>4</td>\n",
       "      <td>0.43</td>\n",
       "    </tr>\n",
       "  </tbody>\n",
       "</table>\n",
       "</div>"
      ],
      "text/plain": [
       "    Planta  Costo específico [USD/item]\n",
       "0       15                         1.42\n",
       "3        5                         0.49\n",
       "4        2                         0.48\n",
       "5        1                         0.57\n",
       "6        6                         0.55\n",
       "7       10                         0.49\n",
       "8        7                         0.37\n",
       "9       14                         0.63\n",
       "11      12                         0.77\n",
       "12      11                         0.56\n",
       "13       9                         0.47\n",
       "14       3                         0.52\n",
       "15      13                         0.47\n",
       "17       8                         0.52\n",
       "18       4                         0.43"
      ]
     },
     "execution_count": 150,
     "metadata": {},
     "output_type": "execute_result"
    }
   ],
   "source": [
    "costos_almacenaje_[\"Planta\"] = costos_almacenaje_[\"Planta\"].replace(to_replace = \"[^\\d.]\", value = \"\", regex = True).astype(int)\n",
    "costos_almacenaje = costos_almacenaje_.loc[costos_almacenaje_[\"Planta\"].isin(values), :]\n",
    "\n",
    "costos_almacenaje.round(2)"
   ]
  },
  {
   "cell_type": "markdown",
   "id": "5fac7c82-fdee-4ba3-9538-2a9487ef9ce3",
   "metadata": {},
   "source": [
    "*Estadística descriptiva de Costo específico [USD/item]*"
   ]
  },
  {
   "cell_type": "code",
   "execution_count": 151,
   "id": "ceaaccf4-336f-4d81-bd25-9cc293aa0e03",
   "metadata": {},
   "outputs": [
    {
     "data": {
      "image/png": "[encoded data removed]",
      "text/plain": [
       "<Figure size 432x288 with 1 Axes>"
      ]
     },
     "metadata": {},
     "output_type": "display_data"
    }
   ],
   "source": [
    "plt.figure(1)\n",
    "plt.bar(x = costos_almacenaje[\"Planta\"], height = costos_almacenaje[\"Costo específico [USD/item]\"])\n",
    "plt.xlabel(\"Planta\")\n",
    "plt.xticks(costos_almacenaje[\"Planta\"])\n",
    "plt.ylabel(\"Costo específico [USD/item]\");"
   ]
  },
  {
   "cell_type": "markdown",
   "id": "9ad9011e-3e79-4bd6-a49f-b6ca4f7415f9",
   "metadata": {},
   "source": [
    "## Tabla Capacidad de Almacenaje"
   ]
  },
  {
   "cell_type": "markdown",
   "id": "0c7b4a8c-888a-445e-8396-e5319f1dc806",
   "metadata": {},
   "source": [
    "La capacidad de almacenaje es el número máximo de pedidos que se pueden procesar por cada planta, no depende de productos específicos."
   ]
  },
  {
   "cell_type": "code",
   "execution_count": 152,
   "id": "317efcfc-5446-41fe-bb72-51bb4764b486",
   "metadata": {},
   "outputs": [],
   "source": [
    "capacidad_almacenaje_ = pd.read_excel(\"Logisitcs problem.xlsx\", sheet_name = \"WhCapacities\")\n",
    "\n",
    "capacidad_almacenaje_.columns = [\"Planta\", \"Capacidad [pedidos/día]\"]"
   ]
  },
  {
   "cell_type": "code",
   "execution_count": 153,
   "id": "747f3555-2c13-47b4-aead-d3074f23b6ce",
   "metadata": {},
   "outputs": [
    {
     "name": "stdout",
     "output_type": "stream",
     "text": [
      "<class 'pandas.core.frame.DataFrame'>\n",
      "RangeIndex: 19 entries, 0 to 18\n",
      "Data columns (total 2 columns):\n",
      " #   Column                   Non-Null Count  Dtype \n",
      "---  ------                   --------------  ----- \n",
      " 0   Planta                   19 non-null     object\n",
      " 1   Capacidad [pedidos/día]  19 non-null     int64 \n",
      "dtypes: int64(1), object(1)\n",
      "memory usage: 432.0+ bytes\n"
     ]
    }
   ],
   "source": [
    "capacidad_almacenaje_.info()"
   ]
  },
  {
   "cell_type": "markdown",
   "id": "fd485943-097d-4b3e-9402-93227f2430eb",
   "metadata": {},
   "source": [
    "*¿La tabla contiene filas duplicadas?*"
   ]
  },
  {
   "cell_type": "code",
   "execution_count": 154,
   "id": "f4f99699-8334-4bbb-ba2e-585ab2863cb6",
   "metadata": {},
   "outputs": [
    {
     "data": {
      "text/plain": [
       "False"
      ]
     },
     "execution_count": 154,
     "metadata": {},
     "output_type": "execute_result"
    }
   ],
   "source": [
    "capacidad_almacenaje_.duplicated().any()"
   ]
  },
  {
   "cell_type": "code",
   "execution_count": 155,
   "id": "b4fe582a-dfca-4db9-b8b7-db58519ff729",
   "metadata": {},
   "outputs": [
    {
     "data": {
      "text/html": [
       "<div>\n",
       "<style scoped>\n",
       "    .dataframe tbody tr th:only-of-type {\n",
       "        vertical-align: middle;\n",
       "    }\n",
       "\n",
       "    .dataframe tbody tr th {\n",
       "        vertical-align: top;\n",
       "    }\n",
       "\n",
       "    .dataframe thead th {\n",
       "        text-align: right;\n",
       "    }\n",
       "</style>\n",
       "<table border=\"1\" class=\"dataframe\">\n",
       "  <thead>\n",
       "    <tr style=\"text-align: right;\">\n",
       "      <th></th>\n",
       "      <th>Planta</th>\n",
       "      <th>Capacidad [pedidos/día]</th>\n",
       "    </tr>\n",
       "  </thead>\n",
       "  <tbody>\n",
       "    <tr>\n",
       "      <th>0</th>\n",
       "      <td>15</td>\n",
       "      <td>11</td>\n",
       "    </tr>\n",
       "    <tr>\n",
       "      <th>3</th>\n",
       "      <td>5</td>\n",
       "      <td>385</td>\n",
       "    </tr>\n",
       "    <tr>\n",
       "      <th>4</th>\n",
       "      <td>2</td>\n",
       "      <td>138</td>\n",
       "    </tr>\n",
       "    <tr>\n",
       "      <th>5</th>\n",
       "      <td>1</td>\n",
       "      <td>1070</td>\n",
       "    </tr>\n",
       "    <tr>\n",
       "      <th>6</th>\n",
       "      <td>6</td>\n",
       "      <td>49</td>\n",
       "    </tr>\n",
       "    <tr>\n",
       "      <th>7</th>\n",
       "      <td>10</td>\n",
       "      <td>118</td>\n",
       "    </tr>\n",
       "    <tr>\n",
       "      <th>8</th>\n",
       "      <td>7</td>\n",
       "      <td>265</td>\n",
       "    </tr>\n",
       "    <tr>\n",
       "      <th>9</th>\n",
       "      <td>14</td>\n",
       "      <td>549</td>\n",
       "    </tr>\n",
       "    <tr>\n",
       "      <th>11</th>\n",
       "      <td>12</td>\n",
       "      <td>209</td>\n",
       "    </tr>\n",
       "    <tr>\n",
       "      <th>12</th>\n",
       "      <td>11</td>\n",
       "      <td>332</td>\n",
       "    </tr>\n",
       "    <tr>\n",
       "      <th>13</th>\n",
       "      <td>9</td>\n",
       "      <td>11</td>\n",
       "    </tr>\n",
       "    <tr>\n",
       "      <th>14</th>\n",
       "      <td>3</td>\n",
       "      <td>1013</td>\n",
       "    </tr>\n",
       "    <tr>\n",
       "      <th>15</th>\n",
       "      <td>13</td>\n",
       "      <td>490</td>\n",
       "    </tr>\n",
       "    <tr>\n",
       "      <th>17</th>\n",
       "      <td>8</td>\n",
       "      <td>14</td>\n",
       "    </tr>\n",
       "    <tr>\n",
       "      <th>18</th>\n",
       "      <td>4</td>\n",
       "      <td>554</td>\n",
       "    </tr>\n",
       "  </tbody>\n",
       "</table>\n",
       "</div>"
      ],
      "text/plain": [
       "    Planta  Capacidad [pedidos/día]\n",
       "0       15                       11\n",
       "3        5                      385\n",
       "4        2                      138\n",
       "5        1                     1070\n",
       "6        6                       49\n",
       "7       10                      118\n",
       "8        7                      265\n",
       "9       14                      549\n",
       "11      12                      209\n",
       "12      11                      332\n",
       "13       9                       11\n",
       "14       3                     1013\n",
       "15      13                      490\n",
       "17       8                       14\n",
       "18       4                      554"
      ]
     },
     "execution_count": 155,
     "metadata": {},
     "output_type": "execute_result"
    }
   ],
   "source": [
    "capacidad_almacenaje_[\"Planta\"] = capacidad_almacenaje_[\"Planta\"].replace(to_replace = \"[^\\d.]\", value = \"\", regex = True).astype(int)\n",
    "capacidad_almacenaje = capacidad_almacenaje_.loc[capacidad_almacenaje_[\"Planta\"].isin(values), :]\n",
    "\n",
    "capacidad_almacenaje.round(2)"
   ]
  },
  {
   "cell_type": "markdown",
   "id": "510a2bc4-aac5-4557-b5fa-603a14472266",
   "metadata": {},
   "source": [
    "*Estadística descriptiva de Capacidad [items/día]*"
   ]
  },
  {
   "cell_type": "code",
   "execution_count": 156,
   "id": "33e6e718-ab4f-41ca-850a-b5968e0ae562",
   "metadata": {},
   "outputs": [
    {
     "data": {
      "image/png": "[encoded data removed]",
      "text/plain": [
       "<Figure size 432x288 with 1 Axes>"
      ]
     },
     "metadata": {},
     "output_type": "display_data"
    }
   ],
   "source": [
    "plt.figure(1)\n",
    "plt.bar(x = capacidad_almacenaje[\"Planta\"], height = capacidad_almacenaje[\"Capacidad [pedidos/día]\"])\n",
    "plt.xlabel(\"Planta\")\n",
    "plt.xticks(capacidad_almacenaje[\"Planta\"])\n",
    "plt.ylabel(\"Capacidad [pedidos/día]\");"
   ]
  },
  {
   "cell_type": "markdown",
   "id": "3ec3264b-8a34-41e4-bde8-11638ca69d72",
   "metadata": {},
   "source": [
    "## Tabla Productos por cada Planta"
   ]
  },
  {
   "cell_type": "markdown",
   "id": "8cf096b9-20a0-41a6-bd21-ac42bf5d42c4",
   "metadata": {},
   "source": [
    "Esta tabla enumera todas las combinaciones de productos y almacén admitidas."
   ]
  },
  {
   "cell_type": "code",
   "execution_count": 157,
   "id": "0e2de0e1-a56b-4baa-a4ca-fcb7515f8c18",
   "metadata": {},
   "outputs": [],
   "source": [
    "productos_por_planta_ = pd.read_excel(\"Logisitcs problem.xlsx\", sheet_name = \"ProductsPerPlant\")\n",
    "\n",
    "productos_por_planta_.columns = [\"Planta\", \"Producto\"]"
   ]
  },
  {
   "cell_type": "code",
   "execution_count": 158,
   "id": "9971c1c2-05a7-42f8-a336-953625cb8c0c",
   "metadata": {},
   "outputs": [
    {
     "name": "stdout",
     "output_type": "stream",
     "text": [
      "<class 'pandas.core.frame.DataFrame'>\n",
      "RangeIndex: 2036 entries, 0 to 2035\n",
      "Data columns (total 2 columns):\n",
      " #   Column    Non-Null Count  Dtype \n",
      "---  ------    --------------  ----- \n",
      " 0   Planta    2036 non-null   object\n",
      " 1   Producto  2036 non-null   int64 \n",
      "dtypes: int64(1), object(1)\n",
      "memory usage: 31.9+ KB\n"
     ]
    }
   ],
   "source": [
    "productos_por_planta_.info()"
   ]
  },
  {
   "cell_type": "markdown",
   "id": "0dd02657-e0d8-4fa4-90e1-04b53e9c9552",
   "metadata": {},
   "source": [
    "*¿La tabla contiene filas duplicadas?*"
   ]
  },
  {
   "cell_type": "code",
   "execution_count": 159,
   "id": "b1b554ca-e18f-4118-9c6a-515c872cd7ea",
   "metadata": {},
   "outputs": [
    {
     "data": {
      "text/plain": [
       "False"
      ]
     },
     "execution_count": 159,
     "metadata": {},
     "output_type": "execute_result"
    }
   ],
   "source": [
    "productos_por_planta_.duplicated().any()"
   ]
  },
  {
   "cell_type": "code",
   "execution_count": 160,
   "id": "81576217-c838-47c0-bffc-052eb433c5e2",
   "metadata": {},
   "outputs": [
    {
     "data": {
      "text/html": [
       "<div>\n",
       "<style scoped>\n",
       "    .dataframe tbody tr th:only-of-type {\n",
       "        vertical-align: middle;\n",
       "    }\n",
       "\n",
       "    .dataframe tbody tr th {\n",
       "        vertical-align: top;\n",
       "    }\n",
       "\n",
       "    .dataframe thead th {\n",
       "        text-align: right;\n",
       "    }\n",
       "</style>\n",
       "<table border=\"1\" class=\"dataframe\">\n",
       "  <thead>\n",
       "    <tr style=\"text-align: right;\">\n",
       "      <th></th>\n",
       "      <th>Planta</th>\n",
       "      <th>Producto</th>\n",
       "    </tr>\n",
       "  </thead>\n",
       "  <tbody>\n",
       "    <tr>\n",
       "      <th>0</th>\n",
       "      <td>15</td>\n",
       "      <td>1698815</td>\n",
       "    </tr>\n",
       "    <tr>\n",
       "      <th>33</th>\n",
       "      <td>5</td>\n",
       "      <td>1650942</td>\n",
       "    </tr>\n",
       "    <tr>\n",
       "      <th>34</th>\n",
       "      <td>5</td>\n",
       "      <td>1650946</td>\n",
       "    </tr>\n",
       "    <tr>\n",
       "      <th>35</th>\n",
       "      <td>5</td>\n",
       "      <td>1656871</td>\n",
       "    </tr>\n",
       "    <tr>\n",
       "      <th>36</th>\n",
       "      <td>5</td>\n",
       "      <td>1656873</td>\n",
       "    </tr>\n",
       "    <tr>\n",
       "      <th>...</th>\n",
       "      <td>...</td>\n",
       "      <td>...</td>\n",
       "    </tr>\n",
       "    <tr>\n",
       "      <th>2031</th>\n",
       "      <td>4</td>\n",
       "      <td>1699951</td>\n",
       "    </tr>\n",
       "    <tr>\n",
       "      <th>2032</th>\n",
       "      <td>4</td>\n",
       "      <td>1699952</td>\n",
       "    </tr>\n",
       "    <tr>\n",
       "      <th>2033</th>\n",
       "      <td>4</td>\n",
       "      <td>1699953</td>\n",
       "    </tr>\n",
       "    <tr>\n",
       "      <th>2034</th>\n",
       "      <td>4</td>\n",
       "      <td>1699954</td>\n",
       "    </tr>\n",
       "    <tr>\n",
       "      <th>2035</th>\n",
       "      <td>4</td>\n",
       "      <td>1699974</td>\n",
       "    </tr>\n",
       "  </tbody>\n",
       "</table>\n",
       "<p>1891 rows × 2 columns</p>\n",
       "</div>"
      ],
      "text/plain": [
       "      Planta  Producto\n",
       "0         15   1698815\n",
       "33         5   1650942\n",
       "34         5   1650946\n",
       "35         5   1656871\n",
       "36         5   1656873\n",
       "...      ...       ...\n",
       "2031       4   1699951\n",
       "2032       4   1699952\n",
       "2033       4   1699953\n",
       "2034       4   1699954\n",
       "2035       4   1699974\n",
       "\n",
       "[1891 rows x 2 columns]"
      ]
     },
     "execution_count": 160,
     "metadata": {},
     "output_type": "execute_result"
    }
   ],
   "source": [
    "productos_por_planta_[\"Planta\"] = productos_por_planta_[\"Planta\"].replace(to_replace = \"[^\\d.]\", value = \"\", regex = True).astype(int)\n",
    "productos_por_planta = productos_por_planta_.loc[productos_por_planta_[\"Planta\"].isin(values), :]\n",
    "\n",
    "productos_por_planta"
   ]
  },
  {
   "cell_type": "markdown",
   "id": "1abf203a-faf9-47fd-b9b1-ee22e8afb762",
   "metadata": {},
   "source": [
    "*Estadística descriptiva de Recuento de Productos*"
   ]
  },
  {
   "cell_type": "code",
   "execution_count": 161,
   "id": "bd2f49a4-67de-4189-8723-e9d9539f4051",
   "metadata": {},
   "outputs": [
    {
     "data": {
      "image/png": "[encoded data removed]",
      "text/plain": [
       "<Figure size 432x288 with 1 Axes>"
      ]
     },
     "metadata": {},
     "output_type": "display_data"
    }
   ],
   "source": [
    "productos_agrup_por_planta = productos_por_planta.groupby(by = \"Planta\").agg({\"Planta\": \"size\"}).rename(columns = {\"Planta\": \"Recuento de Productos\"})\n",
    "\n",
    "plt.figure(1)\n",
    "plt.bar(x = productos_agrup_por_planta.index, height = productos_agrup_por_planta[\"Recuento de Productos\"])\n",
    "plt.xlabel(\"Planta\")\n",
    "plt.xticks(productos_agrup_por_planta.index)\n",
    "plt.ylabel(\"Recuento de Productos\");"
   ]
  },
  {
   "cell_type": "markdown",
   "id": "13de2f4e-cb27-41c3-aa87-0b8b5e416556",
   "metadata": {},
   "source": [
    "## Tabla Clientes por cada Planta"
   ]
  },
  {
   "cell_type": "markdown",
   "id": "a2d12859-f690-43b3-ba73-89ad3d8443ad",
   "metadata": {},
   "source": [
    "Esta tabla enumera todos los casos especiales, en los que el almacén solo puede brindar soporte a un cliente específico, mientras que cualquier otro almacén no registrado en la tabla puede abastecer a cualquier cliente."
   ]
  },
  {
   "cell_type": "code",
   "execution_count": 162,
   "id": "aa4a2d6b-0564-4289-9d70-3c7aa6fec1c5",
   "metadata": {},
   "outputs": [],
   "source": [
    "clientes_por_planta_ = pd.read_excel(\"Logisitcs problem.xlsx\", sheet_name = \"VmiCustomers\")\n",
    "\n",
    "clientes_por_planta_.columns = [\"Planta\", \"Cliente\"]"
   ]
  },
  {
   "cell_type": "code",
   "execution_count": 163,
   "id": "95f81009-00d1-4bf5-a5c7-72babaa153f2",
   "metadata": {},
   "outputs": [
    {
     "name": "stdout",
     "output_type": "stream",
     "text": [
      "<class 'pandas.core.frame.DataFrame'>\n",
      "RangeIndex: 14 entries, 0 to 13\n",
      "Data columns (total 2 columns):\n",
      " #   Column   Non-Null Count  Dtype \n",
      "---  ------   --------------  ----- \n",
      " 0   Planta   14 non-null     object\n",
      " 1   Cliente  14 non-null     object\n",
      "dtypes: object(2)\n",
      "memory usage: 352.0+ bytes\n"
     ]
    }
   ],
   "source": [
    "clientes_por_planta_.info()"
   ]
  },
  {
   "cell_type": "markdown",
   "id": "5c1ce7ad-f8f2-468d-bde9-820e0c3ca40d",
   "metadata": {},
   "source": [
    "*¿La tabla contiene filas duplicadas?*"
   ]
  },
  {
   "cell_type": "code",
   "execution_count": 164,
   "id": "ecd63d7f-9679-4b1f-956c-719fcf6bef2d",
   "metadata": {},
   "outputs": [
    {
     "data": {
      "text/plain": [
       "False"
      ]
     },
     "execution_count": 164,
     "metadata": {},
     "output_type": "execute_result"
    }
   ],
   "source": [
    "clientes_por_planta_.duplicated().any()"
   ]
  },
  {
   "cell_type": "code",
   "execution_count": 165,
   "id": "20e7dc67-a89f-4345-b3bf-ad778e660f62",
   "metadata": {},
   "outputs": [
    {
     "data": {
      "text/html": [
       "<div>\n",
       "<style scoped>\n",
       "    .dataframe tbody tr th:only-of-type {\n",
       "        vertical-align: middle;\n",
       "    }\n",
       "\n",
       "    .dataframe tbody tr th {\n",
       "        vertical-align: top;\n",
       "    }\n",
       "\n",
       "    .dataframe thead th {\n",
       "        text-align: right;\n",
       "    }\n",
       "</style>\n",
       "<table border=\"1\" class=\"dataframe\">\n",
       "  <thead>\n",
       "    <tr style=\"text-align: right;\">\n",
       "      <th></th>\n",
       "      <th>Planta</th>\n",
       "      <th>Cliente</th>\n",
       "    </tr>\n",
       "  </thead>\n",
       "  <tbody>\n",
       "    <tr>\n",
       "      <th>0</th>\n",
       "      <td>2</td>\n",
       "      <td>V5555555555555_16</td>\n",
       "    </tr>\n",
       "    <tr>\n",
       "      <th>1</th>\n",
       "      <td>2</td>\n",
       "      <td>V555555555555555_29</td>\n",
       "    </tr>\n",
       "    <tr>\n",
       "      <th>2</th>\n",
       "      <td>2</td>\n",
       "      <td>V555555555_3</td>\n",
       "    </tr>\n",
       "    <tr>\n",
       "      <th>3</th>\n",
       "      <td>2</td>\n",
       "      <td>V55555555555555_8</td>\n",
       "    </tr>\n",
       "    <tr>\n",
       "      <th>4</th>\n",
       "      <td>2</td>\n",
       "      <td>V55555555_9</td>\n",
       "    </tr>\n",
       "    <tr>\n",
       "      <th>5</th>\n",
       "      <td>2</td>\n",
       "      <td>V55555_10</td>\n",
       "    </tr>\n",
       "    <tr>\n",
       "      <th>6</th>\n",
       "      <td>2</td>\n",
       "      <td>V55555555_5</td>\n",
       "    </tr>\n",
       "    <tr>\n",
       "      <th>7</th>\n",
       "      <td>6</td>\n",
       "      <td>V555555555555555_18</td>\n",
       "    </tr>\n",
       "    <tr>\n",
       "      <th>8</th>\n",
       "      <td>6</td>\n",
       "      <td>V55555_10</td>\n",
       "    </tr>\n",
       "    <tr>\n",
       "      <th>9</th>\n",
       "      <td>10</td>\n",
       "      <td>V555555555555555_29</td>\n",
       "    </tr>\n",
       "    <tr>\n",
       "      <th>10</th>\n",
       "      <td>10</td>\n",
       "      <td>V555555_34</td>\n",
       "    </tr>\n",
       "    <tr>\n",
       "      <th>11</th>\n",
       "      <td>10</td>\n",
       "      <td>V5555555555555555555_54</td>\n",
       "    </tr>\n",
       "    <tr>\n",
       "      <th>12</th>\n",
       "      <td>10</td>\n",
       "      <td>V55555_10</td>\n",
       "    </tr>\n",
       "    <tr>\n",
       "      <th>13</th>\n",
       "      <td>11</td>\n",
       "      <td>V5555555555555555555_54</td>\n",
       "    </tr>\n",
       "  </tbody>\n",
       "</table>\n",
       "</div>"
      ],
      "text/plain": [
       "    Planta                  Cliente\n",
       "0        2        V5555555555555_16\n",
       "1        2      V555555555555555_29\n",
       "2        2             V555555555_3\n",
       "3        2        V55555555555555_8\n",
       "4        2              V55555555_9\n",
       "5        2                V55555_10\n",
       "6        2              V55555555_5\n",
       "7        6      V555555555555555_18\n",
       "8        6                V55555_10\n",
       "9       10      V555555555555555_29\n",
       "10      10               V555555_34\n",
       "11      10  V5555555555555555555_54\n",
       "12      10                V55555_10\n",
       "13      11  V5555555555555555555_54"
      ]
     },
     "execution_count": 165,
     "metadata": {},
     "output_type": "execute_result"
    }
   ],
   "source": [
    "clientes_por_planta_[\"Planta\"] = clientes_por_planta_[\"Planta\"].replace(to_replace = \"[^\\d.]\", value = \"\", regex = True).astype(int)\n",
    "clientes_por_planta = clientes_por_planta_.loc[clientes_por_planta_[\"Planta\"].isin(values), :]\n",
    "\n",
    "clientes_por_planta"
   ]
  },
  {
   "cell_type": "markdown",
   "id": "5b525663-9e63-42d1-9665-b38fa47fab23",
   "metadata": {},
   "source": [
    "*Estadística descriptiva de Clientes por cada Planta*"
   ]
  },
  {
   "cell_type": "code",
   "execution_count": 166,
   "id": "106a09d0-553a-4fd7-95d2-4608d303635e",
   "metadata": {},
   "outputs": [
    {
     "data": {
      "image/png": "[encoded data removed]",
      "text/plain": [
       "<Figure size 432x288 with 1 Axes>"
      ]
     },
     "metadata": {},
     "output_type": "display_data"
    }
   ],
   "source": [
    "clientes_agrup_por_planta = clientes_por_planta.groupby(by = \"Planta\").agg({\"Planta\": \"size\"}).rename(columns = {\"Planta\": \"Recuento de Clientes\"})\n",
    "\n",
    "plt.figure(1)\n",
    "plt.bar(x = clientes_agrup_por_planta.index, height = clientes_agrup_por_planta[\"Recuento de Clientes\"])\n",
    "plt.xlabel(\"Planta\")\n",
    "plt.xticks(productos_agrup_por_planta.index)\n",
    "plt.ylabel(\"Recuento de Clientes\");"
   ]
  },
  {
   "cell_type": "markdown",
   "id": "c96c8892-eac4-4b73-a796-e36d508b6f3c",
   "metadata": {},
   "source": [
    "## Tabla Puertos por cada Planta"
   ]
  },
  {
   "cell_type": "markdown",
   "id": "199834cb-2901-4131-9dad-5656f7296321",
   "metadata": {},
   "source": [
    "Esta tabla describe las rutas permitidas entre los almacenes y los puertos de envío."
   ]
  },
  {
   "cell_type": "code",
   "execution_count": 167,
   "id": "98f27eac-84c1-4e6f-a174-80af7e8c48e1",
   "metadata": {},
   "outputs": [],
   "source": [
    "puertos_por_planta_ = pd.read_excel(\"Logisitcs problem.xlsx\", sheet_name = \"PlantPorts\").iloc[:, :2]\n",
    "\n",
    "puertos_por_planta_.columns = [\"Planta\", \"Puerto de origen\"]"
   ]
  },
  {
   "cell_type": "code",
   "execution_count": 168,
   "id": "76c319e7-7d2d-48ed-bfad-1d6925dc29a9",
   "metadata": {},
   "outputs": [
    {
     "name": "stdout",
     "output_type": "stream",
     "text": [
      "<class 'pandas.core.frame.DataFrame'>\n",
      "RangeIndex: 22 entries, 0 to 21\n",
      "Data columns (total 2 columns):\n",
      " #   Column            Non-Null Count  Dtype \n",
      "---  ------            --------------  ----- \n",
      " 0   Planta            22 non-null     object\n",
      " 1   Puerto de origen  22 non-null     object\n",
      "dtypes: object(2)\n",
      "memory usage: 480.0+ bytes\n"
     ]
    }
   ],
   "source": [
    "puertos_por_planta_.info()"
   ]
  },
  {
   "cell_type": "markdown",
   "id": "3aa60b06-a7af-42b3-8960-4cd61a0ab026",
   "metadata": {},
   "source": [
    "*¿La tabla contiene filas duplicadas?*"
   ]
  },
  {
   "cell_type": "code",
   "execution_count": 169,
   "id": "574a0477-1afc-4bf3-902a-546f074d40e0",
   "metadata": {},
   "outputs": [
    {
     "data": {
      "text/plain": [
       "False"
      ]
     },
     "execution_count": 169,
     "metadata": {},
     "output_type": "execute_result"
    }
   ],
   "source": [
    "puertos_por_planta_.duplicated().any()"
   ]
  },
  {
   "cell_type": "code",
   "execution_count": 170,
   "id": "8b7cb9bd-e30c-4a20-ab73-3d0a72a901c4",
   "metadata": {},
   "outputs": [
    {
     "data": {
      "text/html": [
       "<div>\n",
       "<style scoped>\n",
       "    .dataframe tbody tr th:only-of-type {\n",
       "        vertical-align: middle;\n",
       "    }\n",
       "\n",
       "    .dataframe tbody tr th {\n",
       "        vertical-align: top;\n",
       "    }\n",
       "\n",
       "    .dataframe thead th {\n",
       "        text-align: right;\n",
       "    }\n",
       "</style>\n",
       "<table border=\"1\" class=\"dataframe\">\n",
       "  <thead>\n",
       "    <tr style=\"text-align: right;\">\n",
       "      <th></th>\n",
       "      <th>Planta</th>\n",
       "      <th>Puerto de origen</th>\n",
       "    </tr>\n",
       "  </thead>\n",
       "  <tbody>\n",
       "    <tr>\n",
       "      <th>0</th>\n",
       "      <td>1</td>\n",
       "      <td>1</td>\n",
       "    </tr>\n",
       "    <tr>\n",
       "      <th>1</th>\n",
       "      <td>1</td>\n",
       "      <td>2</td>\n",
       "    </tr>\n",
       "    <tr>\n",
       "      <th>2</th>\n",
       "      <td>2</td>\n",
       "      <td>3</td>\n",
       "    </tr>\n",
       "    <tr>\n",
       "      <th>3</th>\n",
       "      <td>3</td>\n",
       "      <td>4</td>\n",
       "    </tr>\n",
       "    <tr>\n",
       "      <th>4</th>\n",
       "      <td>4</td>\n",
       "      <td>5</td>\n",
       "    </tr>\n",
       "    <tr>\n",
       "      <th>5</th>\n",
       "      <td>5</td>\n",
       "      <td>6</td>\n",
       "    </tr>\n",
       "    <tr>\n",
       "      <th>6</th>\n",
       "      <td>6</td>\n",
       "      <td>6</td>\n",
       "    </tr>\n",
       "    <tr>\n",
       "      <th>7</th>\n",
       "      <td>7</td>\n",
       "      <td>1</td>\n",
       "    </tr>\n",
       "    <tr>\n",
       "      <th>8</th>\n",
       "      <td>7</td>\n",
       "      <td>2</td>\n",
       "    </tr>\n",
       "    <tr>\n",
       "      <th>9</th>\n",
       "      <td>8</td>\n",
       "      <td>4</td>\n",
       "    </tr>\n",
       "    <tr>\n",
       "      <th>10</th>\n",
       "      <td>9</td>\n",
       "      <td>4</td>\n",
       "    </tr>\n",
       "    <tr>\n",
       "      <th>11</th>\n",
       "      <td>10</td>\n",
       "      <td>1</td>\n",
       "    </tr>\n",
       "    <tr>\n",
       "      <th>12</th>\n",
       "      <td>10</td>\n",
       "      <td>2</td>\n",
       "    </tr>\n",
       "    <tr>\n",
       "      <th>13</th>\n",
       "      <td>11</td>\n",
       "      <td>4</td>\n",
       "    </tr>\n",
       "    <tr>\n",
       "      <th>14</th>\n",
       "      <td>12</td>\n",
       "      <td>4</td>\n",
       "    </tr>\n",
       "    <tr>\n",
       "      <th>15</th>\n",
       "      <td>13</td>\n",
       "      <td>4</td>\n",
       "    </tr>\n",
       "    <tr>\n",
       "      <th>16</th>\n",
       "      <td>14</td>\n",
       "      <td>7</td>\n",
       "    </tr>\n",
       "    <tr>\n",
       "      <th>17</th>\n",
       "      <td>15</td>\n",
       "      <td>8</td>\n",
       "    </tr>\n",
       "  </tbody>\n",
       "</table>\n",
       "</div>"
      ],
      "text/plain": [
       "    Planta  Puerto de origen\n",
       "0        1                 1\n",
       "1        1                 2\n",
       "2        2                 3\n",
       "3        3                 4\n",
       "4        4                 5\n",
       "5        5                 6\n",
       "6        6                 6\n",
       "7        7                 1\n",
       "8        7                 2\n",
       "9        8                 4\n",
       "10       9                 4\n",
       "11      10                 1\n",
       "12      10                 2\n",
       "13      11                 4\n",
       "14      12                 4\n",
       "15      13                 4\n",
       "16      14                 7\n",
       "17      15                 8"
      ]
     },
     "execution_count": 170,
     "metadata": {},
     "output_type": "execute_result"
    }
   ],
   "source": [
    "puertos_por_planta_[[\"Planta\", \"Puerto de origen\"]] = puertos_por_planta_[[\"Planta\", \"Puerto de origen\"]].replace(to_replace = \"[^\\d.]\", value = \"\", regex = True).astype(int)\n",
    "puertos_por_planta = puertos_por_planta_.loc[puertos_por_planta_[\"Planta\"].isin(values), :]\n",
    "\n",
    "puertos_por_planta"
   ]
  },
  {
   "cell_type": "code",
   "execution_count": 171,
   "id": "fd036fe8-cf60-4429-a7ae-175c6d8c12e9",
   "metadata": {},
   "outputs": [
    {
     "data": {
      "image/png": "[encoded data removed]",
      "text/plain": [
       "<Figure size 432x288 with 1 Axes>"
      ]
     },
     "metadata": {},
     "output_type": "display_data"
    }
   ],
   "source": [
    "puertos_agrup_por_planta = puertos_por_planta.groupby(by = \"Planta\").agg({\"Planta\": \"size\"}).rename(columns = {\"Planta\": \"Recuento de Puertos de origen\"})\n",
    "\n",
    "plt.figure(1)\n",
    "plt.bar(x = puertos_agrup_por_planta.index, height = puertos_agrup_por_planta[\"Recuento de Puertos de origen\"])\n",
    "plt.xlabel(\"Planta\")\n",
    "plt.xticks(productos_agrup_por_planta.index)\n",
    "plt.ylabel(\"Recuento de Puertos de origen\");"
   ]
  },
  {
   "cell_type": "markdown",
   "id": "db6cf97b-3e22-4db8-afe0-7a9e4ed7059b",
   "metadata": {},
   "source": [
    "# 2da Etapa: Optimización"
   ]
  },
  {
   "cell_type": "markdown",
   "id": "f71b0107-3032-4bb7-8246-6a64e8276967",
   "metadata": {},
   "source": [
    "*Función Objetivo*\\\n",
    "Se desea conocer un conjunto de plantas de almacenaje, puertos de origen y puertos de destino que minimicen el costo total de la cadena de suministro.\n",
    "\n",
    "Nomenclatura:\n",
    "- k: ID de pedido\n",
    "- i: ID de planta de almacenamiento\n",
    "- p: ID de puerto de origen\n",
    "- j: ID de puerto de destino\n",
    "- c: ID de transportista\n",
    "- s: Nivel de servicio\n",
    "- t: Tiempo de envío [días]\n",
    "- m: Modo de transporte (aire o tierra)\n",
    "- q: Cantidad de items en cada pedido [items]\n",
    "- w: Peso [kg/item]\n",
    "- F: Peso máximo [kg/item]\n",
    "\n",
    "- C: Costo de almacenamiento [USD/item]\n",
    "- M: Costo fijo de transporte [USD/kg]\n",
    "- X: Costo de almacenamiento [USD]\n",
    "- Y: Costo de transporte [USD/kg]\n",
    "- Z: Costo total de la cadena de suministro [USD]"
   ]
  },
  {
   "cell_type": "code",
   "execution_count": 172,
   "id": "7b56dc5c-b0a2-490d-ad9e-a63a9571fbc3",
   "metadata": {},
   "outputs": [
    {
     "data": {
      "text/html": [
       "<div>\n",
       "<style scoped>\n",
       "    .dataframe tbody tr th:only-of-type {\n",
       "        vertical-align: middle;\n",
       "    }\n",
       "\n",
       "    .dataframe tbody tr th {\n",
       "        vertical-align: top;\n",
       "    }\n",
       "\n",
       "    .dataframe thead th {\n",
       "        text-align: right;\n",
       "    }\n",
       "</style>\n",
       "<table border=\"1\" class=\"dataframe\">\n",
       "  <thead>\n",
       "    <tr style=\"text-align: right;\">\n",
       "      <th></th>\n",
       "      <th>Producto</th>\n",
       "      <th>Items</th>\n",
       "      <th>Peso [kg/item]</th>\n",
       "      <th>Planta</th>\n",
       "      <th>Puerto de origen</th>\n",
       "      <th>Transportista</th>\n",
       "      <th>Puerto de destino</th>\n",
       "      <th>Peso mínimo [kg/item]</th>\n",
       "      <th>Peso máximo [kg/item]</th>\n",
       "      <th>Nivel de servicio</th>\n",
       "      <th>Costo mínimo [USD/kg]</th>\n",
       "      <th>Tasa de flete [USD/kg]</th>\n",
       "      <th>Modo de transporte</th>\n",
       "      <th>Envío [días]</th>\n",
       "      <th>Tipo de transportista</th>\n",
       "      <th>Costo específico [USD/item]</th>\n",
       "      <th>Capacidad [pedidos/día]</th>\n",
       "      <th>Cliente</th>\n",
       "    </tr>\n",
       "  </thead>\n",
       "  <tbody>\n",
       "    <tr>\n",
       "      <th>0</th>\n",
       "      <td>1688629</td>\n",
       "      <td>247</td>\n",
       "      <td>0.18</td>\n",
       "      <td>11</td>\n",
       "      <td>4</td>\n",
       "      <td>V444_8</td>\n",
       "      <td>9</td>\n",
       "      <td>100.0</td>\n",
       "      <td>249.99</td>\n",
       "      <td>DTD</td>\n",
       "      <td>21.47</td>\n",
       "      <td>0.06</td>\n",
       "      <td>Aire</td>\n",
       "      <td>14</td>\n",
       "      <td>V88888888_0</td>\n",
       "      <td>0.56</td>\n",
       "      <td>332</td>\n",
       "      <td>V5555555555555555555_54</td>\n",
       "    </tr>\n",
       "    <tr>\n",
       "      <th>1</th>\n",
       "      <td>1688629</td>\n",
       "      <td>247</td>\n",
       "      <td>0.18</td>\n",
       "      <td>11</td>\n",
       "      <td>4</td>\n",
       "      <td>V444_8</td>\n",
       "      <td>9</td>\n",
       "      <td>0.0</td>\n",
       "      <td>99.99</td>\n",
       "      <td>DTD</td>\n",
       "      <td>21.47</td>\n",
       "      <td>0.06</td>\n",
       "      <td>Aire</td>\n",
       "      <td>14</td>\n",
       "      <td>V88888888_0</td>\n",
       "      <td>0.56</td>\n",
       "      <td>332</td>\n",
       "      <td>V5555555555555555555_54</td>\n",
       "    </tr>\n",
       "    <tr>\n",
       "      <th>2</th>\n",
       "      <td>1688629</td>\n",
       "      <td>247</td>\n",
       "      <td>0.18</td>\n",
       "      <td>11</td>\n",
       "      <td>4</td>\n",
       "      <td>V444_8</td>\n",
       "      <td>9</td>\n",
       "      <td>500.0</td>\n",
       "      <td>1999.99</td>\n",
       "      <td>DTD</td>\n",
       "      <td>21.47</td>\n",
       "      <td>0.06</td>\n",
       "      <td>Aire</td>\n",
       "      <td>14</td>\n",
       "      <td>V88888888_0</td>\n",
       "      <td>0.56</td>\n",
       "      <td>332</td>\n",
       "      <td>V5555555555555555555_54</td>\n",
       "    </tr>\n",
       "    <tr>\n",
       "      <th>3</th>\n",
       "      <td>1688629</td>\n",
       "      <td>247</td>\n",
       "      <td>0.18</td>\n",
       "      <td>11</td>\n",
       "      <td>4</td>\n",
       "      <td>V444_8</td>\n",
       "      <td>9</td>\n",
       "      <td>250.0</td>\n",
       "      <td>499.99</td>\n",
       "      <td>DTD</td>\n",
       "      <td>21.47</td>\n",
       "      <td>0.06</td>\n",
       "      <td>Aire</td>\n",
       "      <td>14</td>\n",
       "      <td>V88888888_0</td>\n",
       "      <td>0.56</td>\n",
       "      <td>332</td>\n",
       "      <td>V5555555555555555555_54</td>\n",
       "    </tr>\n",
       "    <tr>\n",
       "      <th>4</th>\n",
       "      <td>1688629</td>\n",
       "      <td>247</td>\n",
       "      <td>0.18</td>\n",
       "      <td>11</td>\n",
       "      <td>4</td>\n",
       "      <td>V444_8</td>\n",
       "      <td>9</td>\n",
       "      <td>2000.0</td>\n",
       "      <td>99999.99</td>\n",
       "      <td>DTD</td>\n",
       "      <td>21.47</td>\n",
       "      <td>0.06</td>\n",
       "      <td>Aire</td>\n",
       "      <td>14</td>\n",
       "      <td>V88888888_0</td>\n",
       "      <td>0.56</td>\n",
       "      <td>332</td>\n",
       "      <td>V5555555555555555555_54</td>\n",
       "    </tr>\n",
       "  </tbody>\n",
       "</table>\n",
       "</div>"
      ],
      "text/plain": [
       "   Producto  Items  Peso [kg/item]  Planta  Puerto de origen Transportista  \\\n",
       "0   1688629    247            0.18      11                 4        V444_8   \n",
       "1   1688629    247            0.18      11                 4        V444_8   \n",
       "2   1688629    247            0.18      11                 4        V444_8   \n",
       "3   1688629    247            0.18      11                 4        V444_8   \n",
       "4   1688629    247            0.18      11                 4        V444_8   \n",
       "\n",
       "   Puerto de destino  Peso mínimo [kg/item]  Peso máximo [kg/item]  \\\n",
       "0                  9                  100.0                 249.99   \n",
       "1                  9                    0.0                  99.99   \n",
       "2                  9                  500.0                1999.99   \n",
       "3                  9                  250.0                 499.99   \n",
       "4                  9                 2000.0               99999.99   \n",
       "\n",
       "  Nivel de servicio  Costo mínimo [USD/kg]  Tasa de flete [USD/kg]  \\\n",
       "0               DTD                  21.47                    0.06   \n",
       "1               DTD                  21.47                    0.06   \n",
       "2               DTD                  21.47                    0.06   \n",
       "3               DTD                  21.47                    0.06   \n",
       "4               DTD                  21.47                    0.06   \n",
       "\n",
       "  Modo de transporte  Envío [días] Tipo de transportista  \\\n",
       "0               Aire            14           V88888888_0   \n",
       "1               Aire            14           V88888888_0   \n",
       "2               Aire            14           V88888888_0   \n",
       "3               Aire            14           V88888888_0   \n",
       "4               Aire            14           V88888888_0   \n",
       "\n",
       "   Costo específico [USD/item]  Capacidad [pedidos/día]  \\\n",
       "0                         0.56                      332   \n",
       "1                         0.56                      332   \n",
       "2                         0.56                      332   \n",
       "3                         0.56                      332   \n",
       "4                         0.56                      332   \n",
       "\n",
       "                   Cliente  \n",
       "0  V5555555555555555555_54  \n",
       "1  V5555555555555555555_54  \n",
       "2  V5555555555555555555_54  \n",
       "3  V5555555555555555555_54  \n",
       "4  V5555555555555555555_54  "
      ]
     },
     "execution_count": 172,
     "metadata": {},
     "output_type": "execute_result"
    }
   ],
   "source": [
    "pedidos = pedidos[[\"Producto\", \"Items\", \"Peso [kg/item]\"]].copy()\n",
    "\n",
    "df1 = pd.merge(pedidos, productos_por_planta, on = \"Producto\")\n",
    "df2 = pd.merge(df1, puertos_por_planta, on = \"Planta\")\n",
    "df3 = pd.merge(df2, fletes, on = [\"Puerto de origen\"])\n",
    "df4 = pd.merge(df3, costos_almacenaje, on = \"Planta\")\n",
    "df5 = pd.merge(df4, capacidad_almacenaje, on = \"Planta\")\n",
    "df6 = pd.merge(df5, clientes_por_planta, on = \"Planta\")\n",
    "\n",
    "df6.round(2).head()"
   ]
  },
  {
   "cell_type": "markdown",
   "id": "0eedc747-ca45-4f9c-9726-1d3d037703de",
   "metadata": {},
   "source": [
    "*¿La tabla contiene filas duplicadas?*"
   ]
  },
  {
   "cell_type": "code",
   "execution_count": 173,
   "id": "818bf483-825a-4655-bcfe-113df53b06fe",
   "metadata": {},
   "outputs": [
    {
     "data": {
      "text/plain": [
       "True"
      ]
     },
     "execution_count": 173,
     "metadata": {},
     "output_type": "execute_result"
    }
   ],
   "source": [
    "df6.duplicated().any()"
   ]
  },
  {
   "cell_type": "markdown",
   "id": "d0f70a18-ce2c-4e79-abde-77cadd6daf32",
   "metadata": {},
   "source": [
    "*Si la tabla tiene filas duplicadas, estas deben ser eliminadas.*"
   ]
  },
  {
   "cell_type": "code",
   "execution_count": 174,
   "id": "68be7e49-dca3-440a-8144-c503c957957e",
   "metadata": {},
   "outputs": [],
   "source": [
    "df6 = df6.drop_duplicates()"
   ]
  },
  {
   "cell_type": "markdown",
   "id": "4621f1c6-3609-42ce-bb1c-c6ea0ce2d571",
   "metadata": {},
   "source": [
    "*¿Cuántas filas y columnas tiene la nueva tabla? (N° filas, N° columnas)*"
   ]
  },
  {
   "cell_type": "code",
   "execution_count": 175,
   "id": "0be3d8f3-57cc-45c2-80b5-76ba1b4a009a",
   "metadata": {},
   "outputs": [
    {
     "data": {
      "text/plain": [
       "(2908233, 18)"
      ]
     },
     "execution_count": 175,
     "metadata": {},
     "output_type": "execute_result"
    }
   ],
   "source": [
    "df6.shape"
   ]
  },
  {
   "cell_type": "markdown",
   "id": "a45ceae7-ec4b-4e55-a012-e2a5c8ee5005",
   "metadata": {},
   "source": [
    "*Estadística Descriptiva del Costo de Almacenaje [USD]*"
   ]
  },
  {
   "cell_type": "markdown",
   "id": "f4c0d677-8d4a-41e8-8351-e863da9ef559",
   "metadata": {},
   "source": [
    "$$ X_{ki} = q_{ki}*C_i $$"
   ]
  },
  {
   "cell_type": "code",
   "execution_count": 176,
   "id": "97f8864a-92db-40f8-a4fa-89cc10b10e84",
   "metadata": {},
   "outputs": [],
   "source": [
    "df6[\"Costo de almacenaje [USD]\"] = df6[\"Items\"] * df6[\"Costo específico [USD/item]\"]"
   ]
  },
  {
   "cell_type": "code",
   "execution_count": 177,
   "id": "f4cbf378-e818-402b-9909-21e7bca6250b",
   "metadata": {},
   "outputs": [
    {
     "data": {
      "text/html": [
       "<div>\n",
       "<style scoped>\n",
       "    .dataframe tbody tr th:only-of-type {\n",
       "        vertical-align: middle;\n",
       "    }\n",
       "\n",
       "    .dataframe tbody tr th {\n",
       "        vertical-align: top;\n",
       "    }\n",
       "\n",
       "    .dataframe thead tr th {\n",
       "        text-align: left;\n",
       "    }\n",
       "\n",
       "    .dataframe thead tr:last-of-type th {\n",
       "        text-align: right;\n",
       "    }\n",
       "</style>\n",
       "<table border=\"1\" class=\"dataframe\">\n",
       "  <thead>\n",
       "    <tr>\n",
       "      <th></th>\n",
       "      <th></th>\n",
       "      <th></th>\n",
       "      <th colspan=\"5\" halign=\"left\">Costo de almacenaje [USD]</th>\n",
       "    </tr>\n",
       "    <tr>\n",
       "      <th></th>\n",
       "      <th></th>\n",
       "      <th></th>\n",
       "      <th>min</th>\n",
       "      <th>mean</th>\n",
       "      <th>max</th>\n",
       "      <th>sum</th>\n",
       "      <th>%</th>\n",
       "    </tr>\n",
       "    <tr>\n",
       "      <th>Planta</th>\n",
       "      <th>Puerto de origen</th>\n",
       "      <th>Puerto de destino</th>\n",
       "      <th></th>\n",
       "      <th></th>\n",
       "      <th></th>\n",
       "      <th></th>\n",
       "      <th></th>\n",
       "    </tr>\n",
       "  </thead>\n",
       "  <tbody>\n",
       "    <tr>\n",
       "      <th>2</th>\n",
       "      <th>3</th>\n",
       "      <th>9</th>\n",
       "      <td>112.21</td>\n",
       "      <td>208.14</td>\n",
       "      <td>2934.26</td>\n",
       "      <td>1.264864e+08</td>\n",
       "      <td>16.91</td>\n",
       "    </tr>\n",
       "    <tr>\n",
       "      <th>6</th>\n",
       "      <th>6</th>\n",
       "      <th>9</th>\n",
       "      <td>143.51</td>\n",
       "      <td>612.06</td>\n",
       "      <td>5415.10</td>\n",
       "      <td>1.231335e+07</td>\n",
       "      <td>1.65</td>\n",
       "    </tr>\n",
       "    <tr>\n",
       "      <th>10</th>\n",
       "      <th>2</th>\n",
       "      <th>9</th>\n",
       "      <td>115.99</td>\n",
       "      <td>273.70</td>\n",
       "      <td>4823.78</td>\n",
       "      <td>5.002920e+08</td>\n",
       "      <td>66.88</td>\n",
       "    </tr>\n",
       "    <tr>\n",
       "      <th>11</th>\n",
       "      <th>4</th>\n",
       "      <th>9</th>\n",
       "      <td>130.48</td>\n",
       "      <td>240.67</td>\n",
       "      <td>3411.99</td>\n",
       "      <td>1.089113e+08</td>\n",
       "      <td>14.56</td>\n",
       "    </tr>\n",
       "  </tbody>\n",
       "</table>\n",
       "</div>"
      ],
      "text/plain": [
       "                                          Costo de almacenaje [USD]          \\\n",
       "                                                                min    mean   \n",
       "Planta Puerto de origen Puerto de destino                                     \n",
       "2      3                9                                    112.21  208.14   \n",
       "6      6                9                                    143.51  612.06   \n",
       "10     2                9                                    115.99  273.70   \n",
       "11     4                9                                    130.48  240.67   \n",
       "\n",
       "                                                                         \n",
       "                                               max           sum      %  \n",
       "Planta Puerto de origen Puerto de destino                                \n",
       "2      3                9                  2934.26  1.264864e+08  16.91  \n",
       "6      6                9                  5415.10  1.231335e+07   1.65  \n",
       "10     2                9                  4823.78  5.002920e+08  66.88  \n",
       "11     4                9                  3411.99  1.089113e+08  14.56  "
      ]
     },
     "execution_count": 177,
     "metadata": {},
     "output_type": "execute_result"
    }
   ],
   "source": [
    "df6_agrup = df6.groupby(by = [\"Planta\", \"Puerto de origen\", \"Puerto de destino\"]).agg({\"Costo de almacenaje [USD]\": [\"min\", \"mean\", \"max\", \"sum\"]})\n",
    "\n",
    "total = df6_agrup[(\"Costo de almacenaje [USD]\", \"sum\")].sum()\n",
    "porcentaje = lambda x: x / total * 100\n",
    "\n",
    "df6_agrup[(\"Costo de almacenaje [USD]\", \"%\")] = df6_agrup[(\"Costo de almacenaje [USD]\", \"sum\")].apply(porcentaje)\n",
    "df6_agrup.round(2)"
   ]
  },
  {
   "cell_type": "code",
   "execution_count": 178,
   "id": "992a58b4-57f5-4d40-adee-cbfc35ef64c9",
   "metadata": {},
   "outputs": [
    {
     "data": {
      "image/png": "[encoded data removed]",
      "text/plain": [
       "<Figure size 432x288 with 1 Axes>"
      ]
     },
     "metadata": {},
     "output_type": "display_data"
    }
   ],
   "source": [
    "plt.figure(1)\n",
    "plt.bar(x = df6_agrup.index.levels[0], height = df6_agrup[(\"Costo de almacenaje [USD]\", \"%\")])\n",
    "plt.xlabel(\"Planta\")\n",
    "plt.xticks(df6_agrup.index.levels[0])\n",
    "plt.ylabel(\"% Costo de Almacenaje\");"
   ]
  },
  {
   "cell_type": "markdown",
   "id": "93d40d6c-57a3-43d3-860d-4bccf0c49a9f",
   "metadata": {},
   "source": [
    "*Estadística Descriptiva del Costo de Transporte [USD]*"
   ]
  },
  {
   "cell_type": "markdown",
   "id": "f0426cb5-6ace-470d-af95-20a05e1229a7",
   "metadata": {},
   "source": [
    "$$ \\sum_{k}{w_{kpjcstm}} \\leq max \\ F_{kpjcstm} $$"
   ]
  },
  {
   "cell_type": "code",
   "execution_count": 179,
   "id": "13a5bd79-6082-43a0-95cc-915ee17ce95e",
   "metadata": {},
   "outputs": [],
   "source": [
    "df6[\"Peso [kg]\"] = df6[\"Items\"] * df6[\"Peso [kg/item]\"]\n",
    "df6[\"Peso máximo [kg]\"] = df6[\"Items\"] * df6[\"Peso máximo [kg/item]\"]"
   ]
  },
  {
   "cell_type": "code",
   "execution_count": 180,
   "id": "1a97d661-7a88-41a2-a363-ccec74ddb573",
   "metadata": {},
   "outputs": [
    {
     "name": "stderr",
     "output_type": "stream",
     "text": [
      "<ipython-input-180-2333f888e043>:1: FutureWarning: Indexing with multiple keys (implicitly converted to a tuple of keys) will be deprecated, use a list instead.\n",
      "  df6[[\"Suma de Peso [kg]\", \"Máximo del Peso máximo [kg]\"]] = df6.groupby(by = [\"Puerto de origen\", \"Puerto de destino\", \"Transportista\", \"Modo de transporte\", \"Envío [días]\"])[\"Peso [kg]\", \"Peso máximo [kg]\"].transform(\"sum\", \"max\").rename(columns = {\"Peso [kg]\": \"Suma de Peso [kg]\", \"Peso máximo [kg]\": \"Máximo del Peso máximo [kg]\"})\n"
     ]
    },
    {
     "data": {
      "text/html": [
       "<div>\n",
       "<style scoped>\n",
       "    .dataframe tbody tr th:only-of-type {\n",
       "        vertical-align: middle;\n",
       "    }\n",
       "\n",
       "    .dataframe tbody tr th {\n",
       "        vertical-align: top;\n",
       "    }\n",
       "\n",
       "    .dataframe thead th {\n",
       "        text-align: right;\n",
       "    }\n",
       "</style>\n",
       "<table border=\"1\" class=\"dataframe\">\n",
       "  <thead>\n",
       "    <tr style=\"text-align: right;\">\n",
       "      <th></th>\n",
       "      <th>Producto</th>\n",
       "      <th>Items</th>\n",
       "      <th>Peso [kg/item]</th>\n",
       "      <th>Planta</th>\n",
       "      <th>Puerto de origen</th>\n",
       "      <th>Transportista</th>\n",
       "      <th>Puerto de destino</th>\n",
       "      <th>Peso mínimo [kg/item]</th>\n",
       "      <th>Peso máximo [kg/item]</th>\n",
       "      <th>Nivel de servicio</th>\n",
       "      <th>...</th>\n",
       "      <th>Modo de transporte</th>\n",
       "      <th>Envío [días]</th>\n",
       "      <th>Tipo de transportista</th>\n",
       "      <th>Costo específico [USD/item]</th>\n",
       "      <th>Capacidad [pedidos/día]</th>\n",
       "      <th>Cliente</th>\n",
       "      <th>Costo de almacenaje [USD]</th>\n",
       "      <th>Peso [kg]</th>\n",
       "      <th>Peso máximo [kg]</th>\n",
       "      <th>Suma de Peso real [kg]</th>\n",
       "    </tr>\n",
       "  </thead>\n",
       "  <tbody>\n",
       "    <tr>\n",
       "      <th>0</th>\n",
       "      <td>1688629</td>\n",
       "      <td>247</td>\n",
       "      <td>0.18</td>\n",
       "      <td>11</td>\n",
       "      <td>4</td>\n",
       "      <td>V444_8</td>\n",
       "      <td>9</td>\n",
       "      <td>100.0</td>\n",
       "      <td>249.99</td>\n",
       "      <td>DTD</td>\n",
       "      <td>...</td>\n",
       "      <td>Aire</td>\n",
       "      <td>14</td>\n",
       "      <td>V88888888_0</td>\n",
       "      <td>0.56</td>\n",
       "      <td>332</td>\n",
       "      <td>V5555555555555555555_54</td>\n",
       "      <td>137.15</td>\n",
       "      <td>44.3</td>\n",
       "      <td>61747.53</td>\n",
       "      <td>61747.53</td>\n",
       "    </tr>\n",
       "    <tr>\n",
       "      <th>1</th>\n",
       "      <td>1688629</td>\n",
       "      <td>247</td>\n",
       "      <td>0.18</td>\n",
       "      <td>11</td>\n",
       "      <td>4</td>\n",
       "      <td>V444_8</td>\n",
       "      <td>9</td>\n",
       "      <td>0.0</td>\n",
       "      <td>99.99</td>\n",
       "      <td>DTD</td>\n",
       "      <td>...</td>\n",
       "      <td>Aire</td>\n",
       "      <td>14</td>\n",
       "      <td>V88888888_0</td>\n",
       "      <td>0.56</td>\n",
       "      <td>332</td>\n",
       "      <td>V5555555555555555555_54</td>\n",
       "      <td>137.15</td>\n",
       "      <td>44.3</td>\n",
       "      <td>24697.53</td>\n",
       "      <td>24697.53</td>\n",
       "    </tr>\n",
       "    <tr>\n",
       "      <th>2</th>\n",
       "      <td>1688629</td>\n",
       "      <td>247</td>\n",
       "      <td>0.18</td>\n",
       "      <td>11</td>\n",
       "      <td>4</td>\n",
       "      <td>V444_8</td>\n",
       "      <td>9</td>\n",
       "      <td>500.0</td>\n",
       "      <td>1999.99</td>\n",
       "      <td>DTD</td>\n",
       "      <td>...</td>\n",
       "      <td>Aire</td>\n",
       "      <td>14</td>\n",
       "      <td>V88888888_0</td>\n",
       "      <td>0.56</td>\n",
       "      <td>332</td>\n",
       "      <td>V5555555555555555555_54</td>\n",
       "      <td>137.15</td>\n",
       "      <td>44.3</td>\n",
       "      <td>493997.53</td>\n",
       "      <td>493997.53</td>\n",
       "    </tr>\n",
       "    <tr>\n",
       "      <th>3</th>\n",
       "      <td>1688629</td>\n",
       "      <td>247</td>\n",
       "      <td>0.18</td>\n",
       "      <td>11</td>\n",
       "      <td>4</td>\n",
       "      <td>V444_8</td>\n",
       "      <td>9</td>\n",
       "      <td>250.0</td>\n",
       "      <td>499.99</td>\n",
       "      <td>DTD</td>\n",
       "      <td>...</td>\n",
       "      <td>Aire</td>\n",
       "      <td>14</td>\n",
       "      <td>V88888888_0</td>\n",
       "      <td>0.56</td>\n",
       "      <td>332</td>\n",
       "      <td>V5555555555555555555_54</td>\n",
       "      <td>137.15</td>\n",
       "      <td>44.3</td>\n",
       "      <td>123497.53</td>\n",
       "      <td>123497.53</td>\n",
       "    </tr>\n",
       "    <tr>\n",
       "      <th>4</th>\n",
       "      <td>1688629</td>\n",
       "      <td>247</td>\n",
       "      <td>0.18</td>\n",
       "      <td>11</td>\n",
       "      <td>4</td>\n",
       "      <td>V444_8</td>\n",
       "      <td>9</td>\n",
       "      <td>2000.0</td>\n",
       "      <td>99999.99</td>\n",
       "      <td>DTD</td>\n",
       "      <td>...</td>\n",
       "      <td>Aire</td>\n",
       "      <td>14</td>\n",
       "      <td>V88888888_0</td>\n",
       "      <td>0.56</td>\n",
       "      <td>332</td>\n",
       "      <td>V5555555555555555555_54</td>\n",
       "      <td>137.15</td>\n",
       "      <td>44.3</td>\n",
       "      <td>24699997.53</td>\n",
       "      <td>24699997.53</td>\n",
       "    </tr>\n",
       "  </tbody>\n",
       "</table>\n",
       "<p>5 rows × 22 columns</p>\n",
       "</div>"
      ],
      "text/plain": [
       "   Producto  Items  Peso [kg/item]  Planta  Puerto de origen Transportista  \\\n",
       "0   1688629    247            0.18      11                 4        V444_8   \n",
       "1   1688629    247            0.18      11                 4        V444_8   \n",
       "2   1688629    247            0.18      11                 4        V444_8   \n",
       "3   1688629    247            0.18      11                 4        V444_8   \n",
       "4   1688629    247            0.18      11                 4        V444_8   \n",
       "\n",
       "   Puerto de destino  Peso mínimo [kg/item]  Peso máximo [kg/item]  \\\n",
       "0                  9                  100.0                 249.99   \n",
       "1                  9                    0.0                  99.99   \n",
       "2                  9                  500.0                1999.99   \n",
       "3                  9                  250.0                 499.99   \n",
       "4                  9                 2000.0               99999.99   \n",
       "\n",
       "  Nivel de servicio  ...  Modo de transporte  Envío [días]  \\\n",
       "0               DTD  ...                Aire            14   \n",
       "1               DTD  ...                Aire            14   \n",
       "2               DTD  ...                Aire            14   \n",
       "3               DTD  ...                Aire            14   \n",
       "4               DTD  ...                Aire            14   \n",
       "\n",
       "  Tipo de transportista  Costo específico [USD/item] Capacidad [pedidos/día]  \\\n",
       "0           V88888888_0                         0.56                     332   \n",
       "1           V88888888_0                         0.56                     332   \n",
       "2           V88888888_0                         0.56                     332   \n",
       "3           V88888888_0                         0.56                     332   \n",
       "4           V88888888_0                         0.56                     332   \n",
       "\n",
       "                   Cliente  Costo de almacenaje [USD] Peso [kg]  \\\n",
       "0  V5555555555555555555_54                     137.15      44.3   \n",
       "1  V5555555555555555555_54                     137.15      44.3   \n",
       "2  V5555555555555555555_54                     137.15      44.3   \n",
       "3  V5555555555555555555_54                     137.15      44.3   \n",
       "4  V5555555555555555555_54                     137.15      44.3   \n",
       "\n",
       "   Peso máximo [kg]  Suma de Peso real [kg]  \n",
       "0          61747.53                61747.53  \n",
       "1          24697.53                24697.53  \n",
       "2         493997.53               493997.53  \n",
       "3         123497.53               123497.53  \n",
       "4       24699997.53             24699997.53  \n",
       "\n",
       "[5 rows x 22 columns]"
      ]
     },
     "execution_count": 180,
     "metadata": {},
     "output_type": "execute_result"
    }
   ],
   "source": [
    "df6[[\"Suma de Peso [kg]\", \"Máximo del Peso máximo [kg]\"]] = df6.groupby(by = [\"Puerto de origen\", \"Puerto de destino\", \"Transportista\", \"Modo de transporte\", \"Envío [días]\"])[\"Peso [kg]\", \"Peso máximo [kg]\"].transform(\"sum\", \"max\").rename(columns = {\"Peso [kg]\": \"Suma de Peso [kg]\", \"Peso máximo [kg]\": \"Máximo del Peso máximo [kg]\"})\n",
    "df6[\"Suma de Peso real [kg]\"] = np.where(df6[\"Suma de Peso [kg]\"] <= df6[\"Peso máximo [kg]\"], df6[\"Suma de Peso [kg]\"], df6[\"Peso máximo [kg]\"])\n",
    "df6 = df6.drop(labels = [\"Suma de Peso [kg]\", \"Máximo del Peso máximo [kg]\"], axis = 1)\n",
    "\n",
    "df6.round(2).head()"
   ]
  },
  {
   "cell_type": "markdown",
   "id": "312637a8-172b-4cd7-9f2b-ce3adce81fa7",
   "metadata": {},
   "source": [
    "$$ Si \\ s = CRF \\ \\Rightarrow \\ Y_{kpjcstm} = 0 $$\n",
    "\n",
    "$$ Si \\ s \\neq CRF, \\ m = Tierra \\ \\Rightarrow \\ Y_{kpjcstm} = \\frac{w_{kpjcstm}}{\\sum_{k}{w_{kpjcstm}}}*R_{kpjcstm} $$\n",
    "\n",
    "$$ Si \\ s \\neq CRF, \\ m \\neq Tierra \\ \\Rightarrow \\ Y_{kpjcstm} = w_{kpjcstm}*R_{kpjcstm} $$\n",
    "\n",
    "$$ Si \\ Y_{kpjcstm} < M_{kpjcstm} \\ \\Rightarrow \\ Y_{kpjcstm} = M_{kpjcstm} $$"
   ]
  },
  {
   "cell_type": "code",
   "execution_count": 181,
   "id": "039e95dd-5a78-479f-b2c3-d822812b1c72",
   "metadata": {},
   "outputs": [
    {
     "data": {
      "text/html": [
       "<div>\n",
       "<style scoped>\n",
       "    .dataframe tbody tr th:only-of-type {\n",
       "        vertical-align: middle;\n",
       "    }\n",
       "\n",
       "    .dataframe tbody tr th {\n",
       "        vertical-align: top;\n",
       "    }\n",
       "\n",
       "    .dataframe thead tr th {\n",
       "        text-align: left;\n",
       "    }\n",
       "\n",
       "    .dataframe thead tr:last-of-type th {\n",
       "        text-align: right;\n",
       "    }\n",
       "</style>\n",
       "<table border=\"1\" class=\"dataframe\">\n",
       "  <thead>\n",
       "    <tr>\n",
       "      <th></th>\n",
       "      <th></th>\n",
       "      <th></th>\n",
       "      <th colspan=\"5\" halign=\"left\">Costo de transporte [USD]</th>\n",
       "    </tr>\n",
       "    <tr>\n",
       "      <th></th>\n",
       "      <th></th>\n",
       "      <th></th>\n",
       "      <th>min</th>\n",
       "      <th>mean</th>\n",
       "      <th>max</th>\n",
       "      <th>sum</th>\n",
       "      <th>%</th>\n",
       "    </tr>\n",
       "    <tr>\n",
       "      <th>Planta</th>\n",
       "      <th>Puerto de origen</th>\n",
       "      <th>Puerto de destino</th>\n",
       "      <th></th>\n",
       "      <th></th>\n",
       "      <th></th>\n",
       "      <th></th>\n",
       "      <th></th>\n",
       "    </tr>\n",
       "  </thead>\n",
       "  <tbody>\n",
       "    <tr>\n",
       "      <th>2</th>\n",
       "      <th>3</th>\n",
       "      <th>9</th>\n",
       "      <td>19.36</td>\n",
       "      <td>1893.88</td>\n",
       "      <td>1046541.73</td>\n",
       "      <td>1.150906e+09</td>\n",
       "      <td>1.71</td>\n",
       "    </tr>\n",
       "    <tr>\n",
       "      <th>6</th>\n",
       "      <th>6</th>\n",
       "      <th>9</th>\n",
       "      <td>2.81</td>\n",
       "      <td>38625.71</td>\n",
       "      <td>1625612.09</td>\n",
       "      <td>7.770720e+08</td>\n",
       "      <td>1.15</td>\n",
       "    </tr>\n",
       "    <tr>\n",
       "      <th>10</th>\n",
       "      <th>2</th>\n",
       "      <th>9</th>\n",
       "      <td>1.79</td>\n",
       "      <td>29393.24</td>\n",
       "      <td>17952919.93</td>\n",
       "      <td>5.372755e+10</td>\n",
       "      <td>79.60</td>\n",
       "    </tr>\n",
       "    <tr>\n",
       "      <th>11</th>\n",
       "      <th>4</th>\n",
       "      <th>9</th>\n",
       "      <td>1.50</td>\n",
       "      <td>26166.77</td>\n",
       "      <td>19486627.34</td>\n",
       "      <td>1.184122e+10</td>\n",
       "      <td>17.54</td>\n",
       "    </tr>\n",
       "  </tbody>\n",
       "</table>\n",
       "</div>"
      ],
      "text/plain": [
       "                                          Costo de transporte [USD]            \\\n",
       "                                                                min      mean   \n",
       "Planta Puerto de origen Puerto de destino                                       \n",
       "2      3                9                                     19.36   1893.88   \n",
       "6      6                9                                      2.81  38625.71   \n",
       "10     2                9                                      1.79  29393.24   \n",
       "11     4                9                                      1.50  26166.77   \n",
       "\n",
       "                                                                             \n",
       "                                                   max           sum      %  \n",
       "Planta Puerto de origen Puerto de destino                                    \n",
       "2      3                9                   1046541.73  1.150906e+09   1.71  \n",
       "6      6                9                   1625612.09  7.770720e+08   1.15  \n",
       "10     2                9                  17952919.93  5.372755e+10  79.60  \n",
       "11     4                9                  19486627.34  1.184122e+10  17.54  "
      ]
     },
     "execution_count": 181,
     "metadata": {},
     "output_type": "execute_result"
    }
   ],
   "source": [
    "a = df6[\"Peso [kg]\"] / df6[\"Suma de Peso real [kg]\"] * df6[\"Tasa de flete [USD/kg]\"]\n",
    "b = df6[\"Peso [kg]\"] * df6[\"Tasa de flete [USD/kg]\"]\n",
    "c = df6[\"Costo mínimo [USD/kg]\"]\n",
    "\n",
    "df6[\"Costo de transporte [USD]\"] = np.where(df6[\"Nivel de servicio\"] == \"CRF\", 0, \n",
    "                                            np.where(df6[\"Modo de transporte\"] == \"Tierra\", np.where(a > c, a, c),\n",
    "                                                    np.where(b > c, b, c)))\n",
    "\n",
    "df6_agrup = df6.groupby(by = [\"Planta\", \"Puerto de origen\", \"Puerto de destino\"]).agg({\"Costo de transporte [USD]\": [\"min\", \"mean\", \"max\", \"sum\"]})\n",
    "\n",
    "total = df6_agrup[(\"Costo de transporte [USD]\", \"sum\")].sum()\n",
    "porcentaje = lambda x: x / total * 100\n",
    "\n",
    "df6_agrup[(\"Costo de transporte [USD]\", \"%\")] = df6_agrup[(\"Costo de transporte [USD]\", \"sum\")].apply(porcentaje)\n",
    "df6_agrup.round(2)"
   ]
  },
  {
   "cell_type": "code",
   "execution_count": 182,
   "id": "52ea6fce-1c62-40f0-867a-76a406739660",
   "metadata": {},
   "outputs": [
    {
     "data": {
      "image/png": "[encoded data removed]",
      "text/plain": [
       "<Figure size 432x288 with 1 Axes>"
      ]
     },
     "metadata": {},
     "output_type": "display_data"
    }
   ],
   "source": [
    "plt.figure(1)\n",
    "plt.bar(x = df6_agrup.index.levels[0], height = df6_agrup[(\"Costo de transporte [USD]\", \"%\")])\n",
    "plt.xlabel(\"Planta\")\n",
    "plt.xticks(df6_agrup.index.levels[0])\n",
    "plt.ylabel(\"% Costo de Transporte\");"
   ]
  },
  {
   "cell_type": "markdown",
   "id": "bc033abf-debb-457d-9a35-585fa8a75f04",
   "metadata": {},
   "source": [
    "*Estadística Descriptiva del Costo Total [USD]*\n",
    "\n",
    "$$ Z_{ipj} = min \\sum_{k}{(X_{ki} + Y_{kpj})} $$"
   ]
  },
  {
   "cell_type": "code",
   "execution_count": 183,
   "id": "6e51cc6f-c9c2-4d92-85ff-2d9ca22d9997",
   "metadata": {},
   "outputs": [
    {
     "data": {
      "text/html": [
       "<div>\n",
       "<style scoped>\n",
       "    .dataframe tbody tr th:only-of-type {\n",
       "        vertical-align: middle;\n",
       "    }\n",
       "\n",
       "    .dataframe tbody tr th {\n",
       "        vertical-align: top;\n",
       "    }\n",
       "\n",
       "    .dataframe thead tr th {\n",
       "        text-align: left;\n",
       "    }\n",
       "\n",
       "    .dataframe thead tr:last-of-type th {\n",
       "        text-align: right;\n",
       "    }\n",
       "</style>\n",
       "<table border=\"1\" class=\"dataframe\">\n",
       "  <thead>\n",
       "    <tr>\n",
       "      <th></th>\n",
       "      <th></th>\n",
       "      <th></th>\n",
       "      <th colspan=\"5\" halign=\"left\">Costo total [USD]</th>\n",
       "    </tr>\n",
       "    <tr>\n",
       "      <th></th>\n",
       "      <th></th>\n",
       "      <th></th>\n",
       "      <th>min</th>\n",
       "      <th>mean</th>\n",
       "      <th>max</th>\n",
       "      <th>sum</th>\n",
       "      <th>%</th>\n",
       "    </tr>\n",
       "    <tr>\n",
       "      <th>Planta</th>\n",
       "      <th>Puerto de origen</th>\n",
       "      <th>Puerto de destino</th>\n",
       "      <th></th>\n",
       "      <th></th>\n",
       "      <th></th>\n",
       "      <th></th>\n",
       "      <th></th>\n",
       "    </tr>\n",
       "  </thead>\n",
       "  <tbody>\n",
       "    <tr>\n",
       "      <th>2</th>\n",
       "      <th>3</th>\n",
       "      <th>9</th>\n",
       "      <td>131.58</td>\n",
       "      <td>2102.02</td>\n",
       "      <td>1049475.99</td>\n",
       "      <td>1.277392e+09</td>\n",
       "      <td>1.87</td>\n",
       "    </tr>\n",
       "    <tr>\n",
       "      <th>6</th>\n",
       "      <th>6</th>\n",
       "      <th>9</th>\n",
       "      <td>148.48</td>\n",
       "      <td>39237.76</td>\n",
       "      <td>1631027.20</td>\n",
       "      <td>7.893853e+08</td>\n",
       "      <td>1.16</td>\n",
       "    </tr>\n",
       "    <tr>\n",
       "      <th>10</th>\n",
       "      <th>2</th>\n",
       "      <th>9</th>\n",
       "      <td>117.78</td>\n",
       "      <td>29666.94</td>\n",
       "      <td>17955952.99</td>\n",
       "      <td>5.422784e+10</td>\n",
       "      <td>79.46</td>\n",
       "    </tr>\n",
       "    <tr>\n",
       "      <th>11</th>\n",
       "      <th>4</th>\n",
       "      <th>9</th>\n",
       "      <td>131.98</td>\n",
       "      <td>26407.44</td>\n",
       "      <td>19490039.34</td>\n",
       "      <td>1.195013e+10</td>\n",
       "      <td>17.51</td>\n",
       "    </tr>\n",
       "  </tbody>\n",
       "</table>\n",
       "</div>"
      ],
      "text/plain": [
       "                                          Costo total [USD]            \\\n",
       "                                                        min      mean   \n",
       "Planta Puerto de origen Puerto de destino                               \n",
       "2      3                9                            131.58   2102.02   \n",
       "6      6                9                            148.48  39237.76   \n",
       "10     2                9                            117.78  29666.94   \n",
       "11     4                9                            131.98  26407.44   \n",
       "\n",
       "                                                                             \n",
       "                                                   max           sum      %  \n",
       "Planta Puerto de origen Puerto de destino                                    \n",
       "2      3                9                   1049475.99  1.277392e+09   1.87  \n",
       "6      6                9                   1631027.20  7.893853e+08   1.16  \n",
       "10     2                9                  17955952.99  5.422784e+10  79.46  \n",
       "11     4                9                  19490039.34  1.195013e+10  17.51  "
      ]
     },
     "execution_count": 183,
     "metadata": {},
     "output_type": "execute_result"
    }
   ],
   "source": [
    "df6[\"Costo total [USD]\"] = df6[\"Costo de almacenaje [USD]\"] + df6[\"Costo de transporte [USD]\"]\n",
    "df6_agrup = df6.groupby(by = [\"Planta\", \"Puerto de origen\", \"Puerto de destino\"]).agg({\"Costo total [USD]\": [\"min\", \"mean\", \"max\", \"sum\"]})\n",
    "\n",
    "total = df6_agrup[(\"Costo total [USD]\", \"sum\")].sum()\n",
    "porcentaje = lambda x: x / total * 100\n",
    "\n",
    "df6_agrup[(\"Costo total [USD]\", \"%\")] = df6_agrup[(\"Costo total [USD]\", \"sum\")].apply(porcentaje)\n",
    "df6_agrup.round(2)"
   ]
  },
  {
   "cell_type": "code",
   "execution_count": 184,
   "id": "561b76f7-6180-4ef4-9f1e-fb15488819fc",
   "metadata": {},
   "outputs": [
    {
     "data": {
      "image/png": "[encoded data removed]",
      "text/plain": [
       "<Figure size 432x288 with 1 Axes>"
      ]
     },
     "metadata": {},
     "output_type": "display_data"
    }
   ],
   "source": [
    "plt.figure(1)\n",
    "plt.bar(x = df6_agrup.index.levels[0], height = df6_agrup[(\"Costo total [USD]\", \"%\")])\n",
    "plt.xlabel(\"Planta\")\n",
    "plt.xticks(df6_agrup.index.levels[0])\n",
    "plt.ylabel(\"% Costo total\");"
   ]
  },
  {
   "cell_type": "code",
   "execution_count": null,
   "id": "61f6d23a-8f88-41ad-a712-944bcf35d1cc",
   "metadata": {},
   "outputs": [],
   "source": []
  }
 ],
 "metadata": {
  "kernelspec": {
   "display_name": "Python 3",
   "language": "python",
   "name": "python3"
  },
  "language_info": {
   "codemirror_mode": {
    "name": "ipython",
    "version": 3
   },
   "file_extension": ".py",
   "mimetype": "text/x-python",
   "name": "python",
   "nbconvert_exporter": "python",
   "pygments_lexer": "ipython3",
   "version": "3.8.8"
  }
 },
 "nbformat": 4,
 "nbformat_minor": 5
}
