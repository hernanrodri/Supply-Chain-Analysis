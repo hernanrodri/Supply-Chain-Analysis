{
 "cells": [
  {
   "cell_type": "code",
   "execution_count": 177,
   "id": "bbc8ac01-e7cf-474a-b214-598c482bf58b",
   "metadata": {},
   "outputs": [],
   "source": [
    "import numpy as np\n",
    "import pandas as pd\n",
    "import matplotlib.pyplot as plt\n",
    "\n",
    "plt.style.use(\"seaborn-darkgrid\")"
   ]
  },
  {
   "cell_type": "markdown",
   "id": "8abfd7ed-9757-4b51-ad25-0a9d0c503b63",
   "metadata": {},
   "source": [
    "# 1ra Etapa: Análisis exploratorio de los datos"
   ]
  },
  {
   "cell_type": "markdown",
   "id": "3189f660-ddd5-4211-ba53-cb41c2c9a798",
   "metadata": {},
   "source": [
    "## Tabla Pedidos"
   ]
  },
  {
   "cell_type": "code",
   "execution_count": 178,
   "id": "698f8039-991f-4dff-a5aa-8400ab879db9",
   "metadata": {},
   "outputs": [],
   "source": [
    "pedidos = pd.read_excel(\"Logisitcs problem.xlsx\", sheet_name = \"OrderList\")\n",
    "\n",
    "pedidos.columns = [\"Pedido\", \"Fecha\", \"Puerto de origen\", \"Transportista\", \"TPT\", \"Nivel de servicio\", \"Envío adelantado [días]\", \n",
    "                   \"Envío tardío [días]\", \"Cliente\", \"Producto\", \"Planta\", \"Puerto de destino\", \"Items\", \"Peso [kg/item]\"]"
   ]
  },
  {
   "cell_type": "code",
   "execution_count": 179,
   "id": "f4ab7e68-4de3-40a5-96c5-a9bf00c903ec",
   "metadata": {},
   "outputs": [
    {
     "name": "stdout",
     "output_type": "stream",
     "text": [
      "<class 'pandas.core.frame.DataFrame'>\n",
      "RangeIndex: 9215 entries, 0 to 9214\n",
      "Data columns (total 14 columns):\n",
      " #   Column                   Non-Null Count  Dtype         \n",
      "---  ------                   --------------  -----         \n",
      " 0   Pedido                   9215 non-null   float64       \n",
      " 1   Fecha                    9215 non-null   datetime64[ns]\n",
      " 2   Puerto de origen         9215 non-null   object        \n",
      " 3   Transportista            9215 non-null   object        \n",
      " 4   TPT                      9215 non-null   int64         \n",
      " 5   Nivel de servicio        9215 non-null   object        \n",
      " 6   Envío adelantado [días]  9215 non-null   int64         \n",
      " 7   Envío tardío [días]      9215 non-null   int64         \n",
      " 8   Cliente                  9215 non-null   object        \n",
      " 9   Producto                 9215 non-null   int64         \n",
      " 10  Planta                   9215 non-null   object        \n",
      " 11  Puerto de destino        9215 non-null   object        \n",
      " 12  Items                    9215 non-null   int64         \n",
      " 13  Peso [kg/item]           9215 non-null   float64       \n",
      "dtypes: datetime64[ns](1), float64(2), int64(5), object(6)\n",
      "memory usage: 1008.0+ KB\n"
     ]
    }
   ],
   "source": [
    "pedidos.info()"
   ]
  },
  {
   "cell_type": "code",
   "execution_count": 180,
   "id": "5687394b-a802-49f4-ba41-71152eeede41",
   "metadata": {},
   "outputs": [
    {
     "data": {
      "text/html": [
       "<div>\n",
       "<style scoped>\n",
       "    .dataframe tbody tr th:only-of-type {\n",
       "        vertical-align: middle;\n",
       "    }\n",
       "\n",
       "    .dataframe tbody tr th {\n",
       "        vertical-align: top;\n",
       "    }\n",
       "\n",
       "    .dataframe thead th {\n",
       "        text-align: right;\n",
       "    }\n",
       "</style>\n",
       "<table border=\"1\" class=\"dataframe\">\n",
       "  <thead>\n",
       "    <tr style=\"text-align: right;\">\n",
       "      <th></th>\n",
       "      <th>Pedido</th>\n",
       "      <th>Fecha</th>\n",
       "      <th>Puerto de origen</th>\n",
       "      <th>Transportista</th>\n",
       "      <th>TPT</th>\n",
       "      <th>Nivel de servicio</th>\n",
       "      <th>Envío adelantado [días]</th>\n",
       "      <th>Envío tardío [días]</th>\n",
       "      <th>Cliente</th>\n",
       "      <th>Producto</th>\n",
       "      <th>Planta</th>\n",
       "      <th>Puerto de destino</th>\n",
       "      <th>Items</th>\n",
       "      <th>Peso [kg/item]</th>\n",
       "    </tr>\n",
       "  </thead>\n",
       "  <tbody>\n",
       "    <tr>\n",
       "      <th>0</th>\n",
       "      <td>1447296446</td>\n",
       "      <td>2013-05-26</td>\n",
       "      <td>9</td>\n",
       "      <td>V44_3</td>\n",
       "      <td>1</td>\n",
       "      <td>CRF</td>\n",
       "      <td>3</td>\n",
       "      <td>0</td>\n",
       "      <td>V55555_53</td>\n",
       "      <td>1700106</td>\n",
       "      <td>16</td>\n",
       "      <td>9</td>\n",
       "      <td>808</td>\n",
       "      <td>14.30</td>\n",
       "    </tr>\n",
       "    <tr>\n",
       "      <th>1</th>\n",
       "      <td>1447158014</td>\n",
       "      <td>2013-05-26</td>\n",
       "      <td>9</td>\n",
       "      <td>V44_3</td>\n",
       "      <td>1</td>\n",
       "      <td>CRF</td>\n",
       "      <td>3</td>\n",
       "      <td>0</td>\n",
       "      <td>V55555_53</td>\n",
       "      <td>1700106</td>\n",
       "      <td>16</td>\n",
       "      <td>9</td>\n",
       "      <td>3188</td>\n",
       "      <td>87.94</td>\n",
       "    </tr>\n",
       "    <tr>\n",
       "      <th>2</th>\n",
       "      <td>1447138898</td>\n",
       "      <td>2013-05-26</td>\n",
       "      <td>9</td>\n",
       "      <td>V44_3</td>\n",
       "      <td>1</td>\n",
       "      <td>CRF</td>\n",
       "      <td>3</td>\n",
       "      <td>0</td>\n",
       "      <td>V55555_53</td>\n",
       "      <td>1700106</td>\n",
       "      <td>16</td>\n",
       "      <td>9</td>\n",
       "      <td>2331</td>\n",
       "      <td>61.20</td>\n",
       "    </tr>\n",
       "    <tr>\n",
       "      <th>3</th>\n",
       "      <td>1447363527</td>\n",
       "      <td>2013-05-26</td>\n",
       "      <td>9</td>\n",
       "      <td>V44_3</td>\n",
       "      <td>1</td>\n",
       "      <td>CRF</td>\n",
       "      <td>3</td>\n",
       "      <td>0</td>\n",
       "      <td>V55555_53</td>\n",
       "      <td>1700106</td>\n",
       "      <td>16</td>\n",
       "      <td>9</td>\n",
       "      <td>847</td>\n",
       "      <td>16.16</td>\n",
       "    </tr>\n",
       "    <tr>\n",
       "      <th>4</th>\n",
       "      <td>1447363980</td>\n",
       "      <td>2013-05-26</td>\n",
       "      <td>9</td>\n",
       "      <td>V44_3</td>\n",
       "      <td>1</td>\n",
       "      <td>CRF</td>\n",
       "      <td>3</td>\n",
       "      <td>0</td>\n",
       "      <td>V55555_53</td>\n",
       "      <td>1700106</td>\n",
       "      <td>16</td>\n",
       "      <td>9</td>\n",
       "      <td>2163</td>\n",
       "      <td>52.34</td>\n",
       "    </tr>\n",
       "  </tbody>\n",
       "</table>\n",
       "</div>"
      ],
      "text/plain": [
       "       Pedido      Fecha  Puerto de origen Transportista  TPT  \\\n",
       "0  1447296446 2013-05-26                 9         V44_3    1   \n",
       "1  1447158014 2013-05-26                 9         V44_3    1   \n",
       "2  1447138898 2013-05-26                 9         V44_3    1   \n",
       "3  1447363527 2013-05-26                 9         V44_3    1   \n",
       "4  1447363980 2013-05-26                 9         V44_3    1   \n",
       "\n",
       "  Nivel de servicio  Envío adelantado [días]  Envío tardío [días]    Cliente  \\\n",
       "0               CRF                        3                    0  V55555_53   \n",
       "1               CRF                        3                    0  V55555_53   \n",
       "2               CRF                        3                    0  V55555_53   \n",
       "3               CRF                        3                    0  V55555_53   \n",
       "4               CRF                        3                    0  V55555_53   \n",
       "\n",
       "   Producto  Planta  Puerto de destino  Items  Peso [kg/item]  \n",
       "0   1700106      16                  9    808           14.30  \n",
       "1   1700106      16                  9   3188           87.94  \n",
       "2   1700106      16                  9   2331           61.20  \n",
       "3   1700106      16                  9    847           16.16  \n",
       "4   1700106      16                  9   2163           52.34  "
      ]
     },
     "execution_count": 180,
     "metadata": {},
     "output_type": "execute_result"
    }
   ],
   "source": [
    "pedidos[\"Pedido\"] = pedidos[\"Pedido\"].astype(int)\n",
    "pedidos[[\"Puerto de origen\", \"Planta\", \"Puerto de destino\"]] = pedidos[[\"Puerto de origen\", \"Planta\", \"Puerto de destino\"]].replace(to_replace = \"[^\\d.]\", value = \"\", regex = True).astype(int)\n",
    "\n",
    "pedidos.head()"
   ]
  },
  {
   "cell_type": "markdown",
   "id": "c9fac729-b2c5-40d9-b1d6-3fc0e8c31750",
   "metadata": {},
   "source": [
    "*¿Cuántas filas y columnas tiene esta tabla?*"
   ]
  },
  {
   "cell_type": "code",
   "execution_count": 181,
   "id": "769a9337-e9b2-48eb-8157-2e032ca2c736",
   "metadata": {},
   "outputs": [
    {
     "data": {
      "text/plain": [
       "(9215, 14)"
      ]
     },
     "execution_count": 181,
     "metadata": {},
     "output_type": "execute_result"
    }
   ],
   "source": [
    "pedidos.shape"
   ]
  },
  {
   "cell_type": "markdown",
   "id": "c94242ae-2c82-4c8d-907e-0270ffa5bc3c",
   "metadata": {},
   "source": [
    "*¿Cuándo se realizaron los pedidos?*"
   ]
  },
  {
   "cell_type": "code",
   "execution_count": 182,
   "id": "8d2e7581-e803-4eb9-ab74-2a7459f9bb69",
   "metadata": {},
   "outputs": [
    {
     "data": {
      "text/plain": [
       "'2013-05-26'"
      ]
     },
     "execution_count": 182,
     "metadata": {},
     "output_type": "execute_result"
    }
   ],
   "source": [
    "d = pedidos[\"Fecha\"].unique().astype(\"datetime64[D]\").astype(str)\n",
    "d[0]"
   ]
  },
  {
   "cell_type": "markdown",
   "id": "68fb6ae2-591b-461a-869d-5409629486b4",
   "metadata": {},
   "source": [
    "*¿Cuál es el total de pedidos en esa fecha?*"
   ]
  },
  {
   "cell_type": "code",
   "execution_count": 183,
   "id": "2e4ac753-bb7e-469e-b8e0-c2db35f0c3d1",
   "metadata": {},
   "outputs": [
    {
     "data": {
      "text/plain": [
       "9215"
      ]
     },
     "execution_count": 183,
     "metadata": {},
     "output_type": "execute_result"
    }
   ],
   "source": [
    "pedidos.shape[0]"
   ]
  },
  {
   "cell_type": "markdown",
   "id": "698314b2-0464-4eac-82c6-37e1b0be768b",
   "metadata": {},
   "source": [
    "*¿Cuántos pedidos hubo por cada conjunto Planta, Puerto de origen y Puerto de destino?*"
   ]
  },
  {
   "cell_type": "code",
   "execution_count": 184,
   "id": "62d9ab6a-207d-427f-8cbb-321525fe05a0",
   "metadata": {},
   "outputs": [
    {
     "data": {
      "text/html": [
       "<div>\n",
       "<style scoped>\n",
       "    .dataframe tbody tr th:only-of-type {\n",
       "        vertical-align: middle;\n",
       "    }\n",
       "\n",
       "    .dataframe tbody tr th {\n",
       "        vertical-align: top;\n",
       "    }\n",
       "\n",
       "    .dataframe thead th {\n",
       "        text-align: right;\n",
       "    }\n",
       "</style>\n",
       "<table border=\"1\" class=\"dataframe\">\n",
       "  <thead>\n",
       "    <tr style=\"text-align: right;\">\n",
       "      <th></th>\n",
       "      <th></th>\n",
       "      <th></th>\n",
       "      <th>Recuento de Pedidos</th>\n",
       "      <th>%</th>\n",
       "    </tr>\n",
       "    <tr>\n",
       "      <th>Planta</th>\n",
       "      <th>Puerto de origen</th>\n",
       "      <th>Puerto de destino</th>\n",
       "      <th></th>\n",
       "      <th></th>\n",
       "    </tr>\n",
       "  </thead>\n",
       "  <tbody>\n",
       "    <tr>\n",
       "      <th>3</th>\n",
       "      <th>4</th>\n",
       "      <th>9</th>\n",
       "      <td>8541</td>\n",
       "      <td>92.69</td>\n",
       "    </tr>\n",
       "    <tr>\n",
       "      <th>4</th>\n",
       "      <th>5</th>\n",
       "      <th>9</th>\n",
       "      <td>1</td>\n",
       "      <td>0.01</td>\n",
       "    </tr>\n",
       "    <tr>\n",
       "      <th>8</th>\n",
       "      <th>4</th>\n",
       "      <th>9</th>\n",
       "      <td>102</td>\n",
       "      <td>1.11</td>\n",
       "    </tr>\n",
       "    <tr>\n",
       "      <th>9</th>\n",
       "      <th>4</th>\n",
       "      <th>9</th>\n",
       "      <td>12</td>\n",
       "      <td>0.13</td>\n",
       "    </tr>\n",
       "    <tr>\n",
       "      <th>12</th>\n",
       "      <th>4</th>\n",
       "      <th>9</th>\n",
       "      <td>300</td>\n",
       "      <td>3.26</td>\n",
       "    </tr>\n",
       "    <tr>\n",
       "      <th>13</th>\n",
       "      <th>4</th>\n",
       "      <th>9</th>\n",
       "      <td>86</td>\n",
       "      <td>0.93</td>\n",
       "    </tr>\n",
       "    <tr>\n",
       "      <th>16</th>\n",
       "      <th>9</th>\n",
       "      <th>9</th>\n",
       "      <td>173</td>\n",
       "      <td>1.88</td>\n",
       "    </tr>\n",
       "  </tbody>\n",
       "</table>\n",
       "</div>"
      ],
      "text/plain": [
       "                                           Recuento de Pedidos      %\n",
       "Planta Puerto de origen Puerto de destino                            \n",
       "3      4                9                                 8541  92.69\n",
       "4      5                9                                    1   0.01\n",
       "8      4                9                                  102   1.11\n",
       "9      4                9                                   12   0.13\n",
       "12     4                9                                  300   3.26\n",
       "13     4                9                                   86   0.93\n",
       "16     9                9                                  173   1.88"
      ]
     },
     "execution_count": 184,
     "metadata": {},
     "output_type": "execute_result"
    }
   ],
   "source": [
    "pedidos_agrup = pedidos.groupby(by = [\"Planta\", \"Puerto de origen\", \"Puerto de destino\"]).agg({\"Pedido\": \"size\"})\n",
    "pedidos_agrup = pedidos_agrup.rename(columns = {\"Pedido\": \"Recuento de Pedidos\"})\n",
    "\n",
    "total = pedidos_agrup[\"Recuento de Pedidos\"].sum()\n",
    "porcentaje = lambda x: x / total * 100\n",
    "\n",
    "pedidos_agrup[\"%\"] = pedidos_agrup[\"Recuento de Pedidos\"].apply(porcentaje)\n",
    "pedidos_agrup.round(2)"
   ]
  },
  {
   "cell_type": "code",
   "execution_count": 185,
   "id": "b34c1cfd-8925-4048-a07f-9adc0c9c8e63",
   "metadata": {},
   "outputs": [
    {
     "data": {
      "image/png": "[encoded data removed]",
      "text/plain": [
       "<Figure size 432x288 with 1 Axes>"
      ]
     },
     "metadata": {},
     "output_type": "display_data"
    }
   ],
   "source": [
    "plt.figure(1)\n",
    "plt.bar(x = pedidos_agrup.index.levels[0], height = pedidos_agrup[\"%\"])\n",
    "plt.xlabel(\"Planta\")\n",
    "plt.ylabel(\"% Recuento de Pedidos\");"
   ]
  },
  {
   "cell_type": "markdown",
   "id": "71b2d729-0ce8-41bb-af68-482e0c8537d0",
   "metadata": {},
   "source": [
    "*¿Cuántos items hubo por cada conjunto Planta, Puerto de origen y Puerto de destino?*"
   ]
  },
  {
   "cell_type": "code",
   "execution_count": 186,
   "id": "2c12643f-c0a5-4cb1-875a-a33a7294105b",
   "metadata": {},
   "outputs": [
    {
     "data": {
      "text/html": [
       "<div>\n",
       "<style scoped>\n",
       "    .dataframe tbody tr th:only-of-type {\n",
       "        vertical-align: middle;\n",
       "    }\n",
       "\n",
       "    .dataframe tbody tr th {\n",
       "        vertical-align: top;\n",
       "    }\n",
       "\n",
       "    .dataframe thead tr th {\n",
       "        text-align: left;\n",
       "    }\n",
       "\n",
       "    .dataframe thead tr:last-of-type th {\n",
       "        text-align: right;\n",
       "    }\n",
       "</style>\n",
       "<table border=\"1\" class=\"dataframe\">\n",
       "  <thead>\n",
       "    <tr>\n",
       "      <th></th>\n",
       "      <th></th>\n",
       "      <th></th>\n",
       "      <th colspan=\"6\" halign=\"left\">Items</th>\n",
       "    </tr>\n",
       "    <tr>\n",
       "      <th></th>\n",
       "      <th></th>\n",
       "      <th></th>\n",
       "      <th>min</th>\n",
       "      <th>mean</th>\n",
       "      <th>max</th>\n",
       "      <th>std</th>\n",
       "      <th>sum</th>\n",
       "      <th>%</th>\n",
       "    </tr>\n",
       "    <tr>\n",
       "      <th>Planta</th>\n",
       "      <th>Puerto de origen</th>\n",
       "      <th>Puerto de destino</th>\n",
       "      <th></th>\n",
       "      <th></th>\n",
       "      <th></th>\n",
       "      <th></th>\n",
       "      <th></th>\n",
       "      <th></th>\n",
       "    </tr>\n",
       "  </thead>\n",
       "  <tbody>\n",
       "    <tr>\n",
       "      <th>3</th>\n",
       "      <th>4</th>\n",
       "      <th>9</th>\n",
       "      <td>235</td>\n",
       "      <td>3349.91</td>\n",
       "      <td>561847</td>\n",
       "      <td>16525.97</td>\n",
       "      <td>28611617</td>\n",
       "      <td>96.94</td>\n",
       "    </tr>\n",
       "    <tr>\n",
       "      <th>4</th>\n",
       "      <th>5</th>\n",
       "      <th>9</th>\n",
       "      <td>348</td>\n",
       "      <td>348.00</td>\n",
       "      <td>348</td>\n",
       "      <td>NaN</td>\n",
       "      <td>348</td>\n",
       "      <td>0.00</td>\n",
       "    </tr>\n",
       "    <tr>\n",
       "      <th>8</th>\n",
       "      <th>4</th>\n",
       "      <th>9</th>\n",
       "      <td>684</td>\n",
       "      <td>2715.76</td>\n",
       "      <td>5680</td>\n",
       "      <td>1504.06</td>\n",
       "      <td>277008</td>\n",
       "      <td>0.94</td>\n",
       "    </tr>\n",
       "    <tr>\n",
       "      <th>9</th>\n",
       "      <th>4</th>\n",
       "      <th>9</th>\n",
       "      <td>2301</td>\n",
       "      <td>18652.50</td>\n",
       "      <td>101069</td>\n",
       "      <td>28877.08</td>\n",
       "      <td>223830</td>\n",
       "      <td>0.76</td>\n",
       "    </tr>\n",
       "    <tr>\n",
       "      <th>12</th>\n",
       "      <th>4</th>\n",
       "      <th>9</th>\n",
       "      <td>236</td>\n",
       "      <td>373.33</td>\n",
       "      <td>1321</td>\n",
       "      <td>169.36</td>\n",
       "      <td>112000</td>\n",
       "      <td>0.38</td>\n",
       "    </tr>\n",
       "    <tr>\n",
       "      <th>13</th>\n",
       "      <th>4</th>\n",
       "      <th>9</th>\n",
       "      <td>240</td>\n",
       "      <td>504.41</td>\n",
       "      <td>5244</td>\n",
       "      <td>609.10</td>\n",
       "      <td>43379</td>\n",
       "      <td>0.15</td>\n",
       "    </tr>\n",
       "    <tr>\n",
       "      <th>16</th>\n",
       "      <th>9</th>\n",
       "      <th>9</th>\n",
       "      <td>280</td>\n",
       "      <td>1416.95</td>\n",
       "      <td>4464</td>\n",
       "      <td>1121.49</td>\n",
       "      <td>245133</td>\n",
       "      <td>0.83</td>\n",
       "    </tr>\n",
       "  </tbody>\n",
       "</table>\n",
       "</div>"
      ],
      "text/plain": [
       "                                          Items                              \\\n",
       "                                            min      mean     max       std   \n",
       "Planta Puerto de origen Puerto de destino                                     \n",
       "3      4                9                   235   3349.91  561847  16525.97   \n",
       "4      5                9                   348    348.00     348       NaN   \n",
       "8      4                9                   684   2715.76    5680   1504.06   \n",
       "9      4                9                  2301  18652.50  101069  28877.08   \n",
       "12     4                9                   236    373.33    1321    169.36   \n",
       "13     4                9                   240    504.41    5244    609.10   \n",
       "16     9                9                   280   1416.95    4464   1121.49   \n",
       "\n",
       "                                                            \n",
       "                                                sum      %  \n",
       "Planta Puerto de origen Puerto de destino                   \n",
       "3      4                9                  28611617  96.94  \n",
       "4      5                9                       348   0.00  \n",
       "8      4                9                    277008   0.94  \n",
       "9      4                9                    223830   0.76  \n",
       "12     4                9                    112000   0.38  \n",
       "13     4                9                     43379   0.15  \n",
       "16     9                9                    245133   0.83  "
      ]
     },
     "execution_count": 186,
     "metadata": {},
     "output_type": "execute_result"
    }
   ],
   "source": [
    "pedidos_agrup = pedidos.groupby(by = [\"Planta\", \"Puerto de origen\", \"Puerto de destino\"]).agg({\"Items\": [\"min\", \"mean\", \"max\", \"std\", \"sum\"]})\n",
    "\n",
    "total = pedidos_agrup[(\"Items\", \"sum\")].sum()\n",
    "porcentaje = lambda x: x / total * 100\n",
    "\n",
    "pedidos_agrup[(\"Items\", \"%\")] = pedidos_agrup[(\"Items\", \"sum\")].apply(porcentaje)\n",
    "pedidos_agrup.round(2)"
   ]
  },
  {
   "cell_type": "code",
   "execution_count": 187,
   "id": "74e5f50f-5604-484e-a2b2-b092b7277da4",
   "metadata": {},
   "outputs": [
    {
     "data": {
      "image/png": "[encoded data removed]",
      "text/plain": [
       "<Figure size 432x288 with 1 Axes>"
      ]
     },
     "metadata": {},
     "output_type": "display_data"
    }
   ],
   "source": [
    "plt.figure(1)\n",
    "plt.bar(x = pedidos_agrup.index.levels[0], height = pedidos_agrup[(\"Items\", \"%\")])\n",
    "plt.xlabel(\"Planta\")\n",
    "plt.ylabel(\"% Items\");"
   ]
  },
  {
   "cell_type": "markdown",
   "id": "a5783d68-336f-4d31-a364-fd22ab1be991",
   "metadata": {},
   "source": [
    "*Estadística descriptiva de Peso [kg/items] por cada conjunto Planta, Puerto de origen y Puerto de destino*"
   ]
  },
  {
   "cell_type": "code",
   "execution_count": 188,
   "id": "a8d5feaa-90f0-45be-af5d-9669aca4fa4a",
   "metadata": {},
   "outputs": [
    {
     "data": {
      "text/html": [
       "<div>\n",
       "<style scoped>\n",
       "    .dataframe tbody tr th:only-of-type {\n",
       "        vertical-align: middle;\n",
       "    }\n",
       "\n",
       "    .dataframe tbody tr th {\n",
       "        vertical-align: top;\n",
       "    }\n",
       "\n",
       "    .dataframe thead tr th {\n",
       "        text-align: left;\n",
       "    }\n",
       "\n",
       "    .dataframe thead tr:last-of-type th {\n",
       "        text-align: right;\n",
       "    }\n",
       "</style>\n",
       "<table border=\"1\" class=\"dataframe\">\n",
       "  <thead>\n",
       "    <tr>\n",
       "      <th></th>\n",
       "      <th></th>\n",
       "      <th></th>\n",
       "      <th colspan=\"6\" halign=\"left\">Peso [kg/item]</th>\n",
       "    </tr>\n",
       "    <tr>\n",
       "      <th></th>\n",
       "      <th></th>\n",
       "      <th></th>\n",
       "      <th>min</th>\n",
       "      <th>mean</th>\n",
       "      <th>max</th>\n",
       "      <th>std</th>\n",
       "      <th>sum</th>\n",
       "      <th>%</th>\n",
       "    </tr>\n",
       "    <tr>\n",
       "      <th>Planta</th>\n",
       "      <th>Puerto de origen</th>\n",
       "      <th>Puerto de destino</th>\n",
       "      <th></th>\n",
       "      <th></th>\n",
       "      <th></th>\n",
       "      <th></th>\n",
       "      <th></th>\n",
       "      <th></th>\n",
       "    </tr>\n",
       "  </thead>\n",
       "  <tbody>\n",
       "    <tr>\n",
       "      <th>3</th>\n",
       "      <th>4</th>\n",
       "      <th>9</th>\n",
       "      <td>0.00</td>\n",
       "      <td>15.86</td>\n",
       "      <td>1356.76</td>\n",
       "      <td>50.20</td>\n",
       "      <td>135486.51</td>\n",
       "      <td>73.99</td>\n",
       "    </tr>\n",
       "    <tr>\n",
       "      <th>4</th>\n",
       "      <th>5</th>\n",
       "      <th>9</th>\n",
       "      <td>2.10</td>\n",
       "      <td>2.10</td>\n",
       "      <td>2.10</td>\n",
       "      <td>NaN</td>\n",
       "      <td>2.10</td>\n",
       "      <td>0.00</td>\n",
       "    </tr>\n",
       "    <tr>\n",
       "      <th>8</th>\n",
       "      <th>4</th>\n",
       "      <th>9</th>\n",
       "      <td>2.29</td>\n",
       "      <td>14.50</td>\n",
       "      <td>43.64</td>\n",
       "      <td>10.37</td>\n",
       "      <td>1478.79</td>\n",
       "      <td>0.81</td>\n",
       "    </tr>\n",
       "    <tr>\n",
       "      <th>9</th>\n",
       "      <th>4</th>\n",
       "      <th>9</th>\n",
       "      <td>5.35</td>\n",
       "      <td>33.86</td>\n",
       "      <td>171.92</td>\n",
       "      <td>48.35</td>\n",
       "      <td>406.36</td>\n",
       "      <td>0.22</td>\n",
       "    </tr>\n",
       "    <tr>\n",
       "      <th>12</th>\n",
       "      <th>4</th>\n",
       "      <th>9</th>\n",
       "      <td>0.26</td>\n",
       "      <td>27.16</td>\n",
       "      <td>325.96</td>\n",
       "      <td>52.33</td>\n",
       "      <td>8147.43</td>\n",
       "      <td>4.45</td>\n",
       "    </tr>\n",
       "    <tr>\n",
       "      <th>13</th>\n",
       "      <th>4</th>\n",
       "      <th>9</th>\n",
       "      <td>0.35</td>\n",
       "      <td>63.12</td>\n",
       "      <td>946.50</td>\n",
       "      <td>127.13</td>\n",
       "      <td>5428.39</td>\n",
       "      <td>2.96</td>\n",
       "    </tr>\n",
       "    <tr>\n",
       "      <th>16</th>\n",
       "      <th>9</th>\n",
       "      <th>9</th>\n",
       "      <td>0.61</td>\n",
       "      <td>185.94</td>\n",
       "      <td>2338.41</td>\n",
       "      <td>264.06</td>\n",
       "      <td>32168.01</td>\n",
       "      <td>17.57</td>\n",
       "    </tr>\n",
       "  </tbody>\n",
       "</table>\n",
       "</div>"
      ],
      "text/plain": [
       "                                          Peso [kg/item]                   \\\n",
       "                                                     min    mean      max   \n",
       "Planta Puerto de origen Puerto de destino                                   \n",
       "3      4                9                           0.00   15.86  1356.76   \n",
       "4      5                9                           2.10    2.10     2.10   \n",
       "8      4                9                           2.29   14.50    43.64   \n",
       "9      4                9                           5.35   33.86   171.92   \n",
       "12     4                9                           0.26   27.16   325.96   \n",
       "13     4                9                           0.35   63.12   946.50   \n",
       "16     9                9                           0.61  185.94  2338.41   \n",
       "\n",
       "                                                                     \n",
       "                                              std        sum      %  \n",
       "Planta Puerto de origen Puerto de destino                            \n",
       "3      4                9                   50.20  135486.51  73.99  \n",
       "4      5                9                     NaN       2.10   0.00  \n",
       "8      4                9                   10.37    1478.79   0.81  \n",
       "9      4                9                   48.35     406.36   0.22  \n",
       "12     4                9                   52.33    8147.43   4.45  \n",
       "13     4                9                  127.13    5428.39   2.96  \n",
       "16     9                9                  264.06   32168.01  17.57  "
      ]
     },
     "execution_count": 188,
     "metadata": {},
     "output_type": "execute_result"
    }
   ],
   "source": [
    "pedidos_agrup = pedidos.groupby(by = [\"Planta\", \"Puerto de origen\", \"Puerto de destino\"]).agg({\"Peso [kg/item]\": [\"min\", \"mean\", \"max\", \"std\", \"sum\"]})\n",
    "\n",
    "total = pedidos_agrup[(\"Peso [kg/item]\", \"sum\")].sum()\n",
    "porcentaje = lambda x: x / total * 100\n",
    "\n",
    "pedidos_agrup[(\"Peso [kg/item]\", \"%\")] = pedidos_agrup[(\"Peso [kg/item]\", \"sum\")].apply(porcentaje)\n",
    "pedidos_agrup.round(2)"
   ]
  },
  {
   "cell_type": "code",
   "execution_count": 189,
   "id": "8d384e4d-401d-4a9d-9d63-c3603a15e7fb",
   "metadata": {},
   "outputs": [
    {
     "data": {
      "image/png": "[encoded data removed]",
      "text/plain": [
       "<Figure size 432x288 with 1 Axes>"
      ]
     },
     "metadata": {},
     "output_type": "display_data"
    }
   ],
   "source": [
    "plt.figure(1)\n",
    "plt.bar(x = pedidos_agrup.index.levels[0], height = pedidos_agrup[(\"Peso [kg/item]\", \"%\")])\n",
    "plt.xlabel(\"Planta\")\n",
    "plt.ylabel(\"% de Peso\");"
   ]
  },
  {
   "cell_type": "markdown",
   "id": "7b87c7b7-397b-4c44-a27f-49edee6df47f",
   "metadata": {},
   "source": [
    "*¿Hay alguna correlación entre Peso [kg/items] e Items?*"
   ]
  },
  {
   "cell_type": "code",
   "execution_count": 190,
   "id": "c57f757b-0c33-432d-86c5-d83fdc7130c9",
   "metadata": {},
   "outputs": [
    {
     "data": {
      "image/png": "[encoded data removed]",
      "text/plain": [
       "<Figure size 432x288 with 1 Axes>"
      ]
     },
     "metadata": {},
     "output_type": "display_data"
    }
   ],
   "source": [
    "plt.figure(1)\n",
    "plt.scatter(pedidos[\"Items\"], pedidos[\"Peso [kg/item]\"], s = 5)\n",
    "plt.xlabel(\"Items\")\n",
    "plt.ylabel(\"Peso [kg/item]\");"
   ]
  },
  {
   "cell_type": "code",
   "execution_count": 191,
   "id": "ed77e421-8bd3-4f38-89d9-2787ced7c41f",
   "metadata": {},
   "outputs": [
    {
     "data": {
      "text/plain": [
       "0.345"
      ]
     },
     "execution_count": 191,
     "metadata": {},
     "output_type": "execute_result"
    }
   ],
   "source": [
    "from scipy.stats import pearsonr \n",
    "\n",
    "r2, pvalue = pearsonr(x = pedidos[\"Items\"], y = pedidos[\"Peso [kg/item]\"])\n",
    "round(r2, 3)"
   ]
  },
  {
   "cell_type": "markdown",
   "id": "b2ebc619-18ca-486f-b49a-43fd06467c8a",
   "metadata": {},
   "source": [
    "## Tabla Fletes"
   ]
  },
  {
   "cell_type": "code",
   "execution_count": 192,
   "id": "8225a2c7-2a4b-4737-9c0b-fc29df493eed",
   "metadata": {},
   "outputs": [],
   "source": [
    "fletes = pd.read_excel(\"Logisitcs problem.xlsx\", sheet_name = \"FreightRates\")\n",
    "\n",
    "fletes.columns = [\"Transportista\", \"Puerto de origen\", \"Puerto de destino\", \"Peso mínimo [kg/item]\", \"Peso máximo [kg/item]\", \n",
    "                  \"Nivel de servicio\", \"Costo mínimo [USD/kg]\", \"Tasa de flete [USD/kg]\", \"Modo de transporte\", \"Envío [días]\", \n",
    "                  \"Tipo de transportista\"]"
   ]
  },
  {
   "cell_type": "code",
   "execution_count": 193,
   "id": "ac65edfc-b769-4b5a-8342-f2750e712dad",
   "metadata": {},
   "outputs": [
    {
     "name": "stdout",
     "output_type": "stream",
     "text": [
      "<class 'pandas.core.frame.DataFrame'>\n",
      "RangeIndex: 1540 entries, 0 to 1539\n",
      "Data columns (total 11 columns):\n",
      " #   Column                  Non-Null Count  Dtype  \n",
      "---  ------                  --------------  -----  \n",
      " 0   Transportista           1540 non-null   object \n",
      " 1   Puerto de origen        1540 non-null   object \n",
      " 2   Puerto de destino       1540 non-null   object \n",
      " 3   Peso mínimo [kg/item]   1540 non-null   float64\n",
      " 4   Peso máximo [kg/item]   1540 non-null   float64\n",
      " 5   Nivel de servicio       1540 non-null   object \n",
      " 6   Costo mínimo [USD/kg]   1540 non-null   float64\n",
      " 7   Tasa de flete [USD/kg]  1540 non-null   float64\n",
      " 8   Modo de transporte      1540 non-null   object \n",
      " 9   Envío [días]            1540 non-null   int64  \n",
      " 10  Tipo de transportista   1540 non-null   object \n",
      "dtypes: float64(4), int64(1), object(6)\n",
      "memory usage: 132.5+ KB\n"
     ]
    }
   ],
   "source": [
    "fletes.info()"
   ]
  },
  {
   "cell_type": "code",
   "execution_count": 194,
   "id": "610e83bb-805a-417f-8ed0-8b9f7fe15501",
   "metadata": {},
   "outputs": [
    {
     "data": {
      "text/html": [
       "<div>\n",
       "<style scoped>\n",
       "    .dataframe tbody tr th:only-of-type {\n",
       "        vertical-align: middle;\n",
       "    }\n",
       "\n",
       "    .dataframe tbody tr th {\n",
       "        vertical-align: top;\n",
       "    }\n",
       "\n",
       "    .dataframe thead th {\n",
       "        text-align: right;\n",
       "    }\n",
       "</style>\n",
       "<table border=\"1\" class=\"dataframe\">\n",
       "  <thead>\n",
       "    <tr style=\"text-align: right;\">\n",
       "      <th></th>\n",
       "      <th>Transportista</th>\n",
       "      <th>Puerto de origen</th>\n",
       "      <th>Puerto de destino</th>\n",
       "      <th>Peso mínimo [kg/item]</th>\n",
       "      <th>Peso máximo [kg/item]</th>\n",
       "      <th>Nivel de servicio</th>\n",
       "      <th>Costo mínimo [USD/kg]</th>\n",
       "      <th>Tasa de flete [USD/kg]</th>\n",
       "      <th>Modo de transporte</th>\n",
       "      <th>Envío [días]</th>\n",
       "      <th>Tipo de transportista</th>\n",
       "    </tr>\n",
       "  </thead>\n",
       "  <tbody>\n",
       "    <tr>\n",
       "      <th>0</th>\n",
       "      <td>V444_6</td>\n",
       "      <td>8</td>\n",
       "      <td>9</td>\n",
       "      <td>250.0</td>\n",
       "      <td>499.99</td>\n",
       "      <td>DTD</td>\n",
       "      <td>43.2272</td>\n",
       "      <td>0.7132</td>\n",
       "      <td>Aire</td>\n",
       "      <td>2</td>\n",
       "      <td>V88888888_0</td>\n",
       "    </tr>\n",
       "    <tr>\n",
       "      <th>1</th>\n",
       "      <td>V444_6</td>\n",
       "      <td>8</td>\n",
       "      <td>9</td>\n",
       "      <td>65.0</td>\n",
       "      <td>69.99</td>\n",
       "      <td>DTD</td>\n",
       "      <td>43.2272</td>\n",
       "      <td>0.7512</td>\n",
       "      <td>Aire</td>\n",
       "      <td>2</td>\n",
       "      <td>V88888888_0</td>\n",
       "    </tr>\n",
       "    <tr>\n",
       "      <th>2</th>\n",
       "      <td>V444_6</td>\n",
       "      <td>8</td>\n",
       "      <td>9</td>\n",
       "      <td>60.0</td>\n",
       "      <td>64.99</td>\n",
       "      <td>DTD</td>\n",
       "      <td>43.2272</td>\n",
       "      <td>0.7892</td>\n",
       "      <td>Aire</td>\n",
       "      <td>2</td>\n",
       "      <td>V88888888_0</td>\n",
       "    </tr>\n",
       "    <tr>\n",
       "      <th>3</th>\n",
       "      <td>V444_6</td>\n",
       "      <td>8</td>\n",
       "      <td>9</td>\n",
       "      <td>50.0</td>\n",
       "      <td>54.99</td>\n",
       "      <td>DTD</td>\n",
       "      <td>43.2272</td>\n",
       "      <td>0.8272</td>\n",
       "      <td>Aire</td>\n",
       "      <td>2</td>\n",
       "      <td>V88888888_0</td>\n",
       "    </tr>\n",
       "    <tr>\n",
       "      <th>4</th>\n",
       "      <td>V444_6</td>\n",
       "      <td>8</td>\n",
       "      <td>9</td>\n",
       "      <td>35.0</td>\n",
       "      <td>39.99</td>\n",
       "      <td>DTD</td>\n",
       "      <td>43.2272</td>\n",
       "      <td>1.0552</td>\n",
       "      <td>Aire</td>\n",
       "      <td>2</td>\n",
       "      <td>V88888888_0</td>\n",
       "    </tr>\n",
       "  </tbody>\n",
       "</table>\n",
       "</div>"
      ],
      "text/plain": [
       "  Transportista  Puerto de origen  Puerto de destino  Peso mínimo [kg/item]  \\\n",
       "0        V444_6                 8                  9                  250.0   \n",
       "1        V444_6                 8                  9                   65.0   \n",
       "2        V444_6                 8                  9                   60.0   \n",
       "3        V444_6                 8                  9                   50.0   \n",
       "4        V444_6                 8                  9                   35.0   \n",
       "\n",
       "   Peso máximo [kg/item] Nivel de servicio  Costo mínimo [USD/kg]  \\\n",
       "0                 499.99               DTD                43.2272   \n",
       "1                  69.99               DTD                43.2272   \n",
       "2                  64.99               DTD                43.2272   \n",
       "3                  54.99               DTD                43.2272   \n",
       "4                  39.99               DTD                43.2272   \n",
       "\n",
       "   Tasa de flete [USD/kg] Modo de transporte  Envío [días]  \\\n",
       "0                  0.7132               Aire             2   \n",
       "1                  0.7512               Aire             2   \n",
       "2                  0.7892               Aire             2   \n",
       "3                  0.8272               Aire             2   \n",
       "4                  1.0552               Aire             2   \n",
       "\n",
       "  Tipo de transportista  \n",
       "0           V88888888_0  \n",
       "1           V88888888_0  \n",
       "2           V88888888_0  \n",
       "3           V88888888_0  \n",
       "4           V88888888_0  "
      ]
     },
     "execution_count": 194,
     "metadata": {},
     "output_type": "execute_result"
    }
   ],
   "source": [
    "fletes[[\"Puerto de origen\", \"Puerto de destino\"]] = fletes[[\"Puerto de origen\", \"Puerto de destino\"]].replace(to_replace = \"[^\\d.]\", value = \"\", regex = True).astype(int)\n",
    "fletes[\"Modo de transporte\"] = fletes[\"Modo de transporte\"].replace({\"AIR   \": \"Aire\", \"GROUND\": \"Tierra\"}, regex = True)\n",
    "\n",
    "fletes.head()"
   ]
  },
  {
   "cell_type": "markdown",
   "id": "6d61933c-cd57-4482-93c9-f0c12346006f",
   "metadata": {},
   "source": [
    "*¿Cuántas filas y columnas tiene esta tabla?*"
   ]
  },
  {
   "cell_type": "code",
   "execution_count": 195,
   "id": "47cece75-d29d-48ca-948c-7eda2f2be937",
   "metadata": {},
   "outputs": [
    {
     "data": {
      "text/plain": [
       "(1540, 11)"
      ]
     },
     "execution_count": 195,
     "metadata": {},
     "output_type": "execute_result"
    }
   ],
   "source": [
    "fletes.shape"
   ]
  },
  {
   "cell_type": "markdown",
   "id": "581fcaa6-f18a-48b7-9d2f-63782ca8e163",
   "metadata": {},
   "source": [
    "*Estadística descriptiva de Tasa de flete [USD/kg] para cada conjunto Puerto de origen y Puerto de destino*"
   ]
  },
  {
   "cell_type": "code",
   "execution_count": 196,
   "id": "3b3dca68-152c-4f8d-ac54-a854eb7aac80",
   "metadata": {},
   "outputs": [
    {
     "data": {
      "text/html": [
       "<div>\n",
       "<style scoped>\n",
       "    .dataframe tbody tr th:only-of-type {\n",
       "        vertical-align: middle;\n",
       "    }\n",
       "\n",
       "    .dataframe tbody tr th {\n",
       "        vertical-align: top;\n",
       "    }\n",
       "\n",
       "    .dataframe thead tr th {\n",
       "        text-align: left;\n",
       "    }\n",
       "\n",
       "    .dataframe thead tr:last-of-type th {\n",
       "        text-align: right;\n",
       "    }\n",
       "</style>\n",
       "<table border=\"1\" class=\"dataframe\">\n",
       "  <thead>\n",
       "    <tr>\n",
       "      <th></th>\n",
       "      <th></th>\n",
       "      <th colspan=\"4\" halign=\"left\">Tasa de flete [USD/kg]</th>\n",
       "    </tr>\n",
       "    <tr>\n",
       "      <th></th>\n",
       "      <th></th>\n",
       "      <th>min</th>\n",
       "      <th>mean</th>\n",
       "      <th>max</th>\n",
       "      <th>std</th>\n",
       "    </tr>\n",
       "    <tr>\n",
       "      <th>Puerto de origen</th>\n",
       "      <th>Puerto de destino</th>\n",
       "      <th></th>\n",
       "      <th></th>\n",
       "      <th></th>\n",
       "      <th></th>\n",
       "    </tr>\n",
       "  </thead>\n",
       "  <tbody>\n",
       "    <tr>\n",
       "      <th>2</th>\n",
       "      <th>9</th>\n",
       "      <td>0.05</td>\n",
       "      <td>1.87</td>\n",
       "      <td>7.06</td>\n",
       "      <td>1.78</td>\n",
       "    </tr>\n",
       "    <tr>\n",
       "      <th>3</th>\n",
       "      <th>9</th>\n",
       "      <td>0.12</td>\n",
       "      <td>9.98</td>\n",
       "      <td>128.03</td>\n",
       "      <td>19.30</td>\n",
       "    </tr>\n",
       "    <tr>\n",
       "      <th>4</th>\n",
       "      <th>9</th>\n",
       "      <td>0.04</td>\n",
       "      <td>1.94</td>\n",
       "      <td>7.66</td>\n",
       "      <td>2.05</td>\n",
       "    </tr>\n",
       "    <tr>\n",
       "      <th>5</th>\n",
       "      <th>9</th>\n",
       "      <td>0.07</td>\n",
       "      <td>2.87</td>\n",
       "      <td>12.07</td>\n",
       "      <td>2.90</td>\n",
       "    </tr>\n",
       "    <tr>\n",
       "      <th>6</th>\n",
       "      <th>9</th>\n",
       "      <td>0.07</td>\n",
       "      <td>2.53</td>\n",
       "      <td>7.16</td>\n",
       "      <td>1.74</td>\n",
       "    </tr>\n",
       "    <tr>\n",
       "      <th>7</th>\n",
       "      <th>9</th>\n",
       "      <td>0.14</td>\n",
       "      <td>0.20</td>\n",
       "      <td>0.28</td>\n",
       "      <td>0.04</td>\n",
       "    </tr>\n",
       "    <tr>\n",
       "      <th>8</th>\n",
       "      <th>9</th>\n",
       "      <td>0.10</td>\n",
       "      <td>0.59</td>\n",
       "      <td>1.83</td>\n",
       "      <td>0.56</td>\n",
       "    </tr>\n",
       "    <tr>\n",
       "      <th>9</th>\n",
       "      <th>9</th>\n",
       "      <td>0.03</td>\n",
       "      <td>2.84</td>\n",
       "      <td>21.28</td>\n",
       "      <td>6.59</td>\n",
       "    </tr>\n",
       "    <tr>\n",
       "      <th>10</th>\n",
       "      <th>9</th>\n",
       "      <td>0.10</td>\n",
       "      <td>5.37</td>\n",
       "      <td>18.96</td>\n",
       "      <td>4.99</td>\n",
       "    </tr>\n",
       "    <tr>\n",
       "      <th>11</th>\n",
       "      <th>9</th>\n",
       "      <td>0.07</td>\n",
       "      <td>0.13</td>\n",
       "      <td>0.34</td>\n",
       "      <td>0.06</td>\n",
       "    </tr>\n",
       "  </tbody>\n",
       "</table>\n",
       "</div>"
      ],
      "text/plain": [
       "                                   Tasa de flete [USD/kg]                     \n",
       "                                                      min  mean     max    std\n",
       "Puerto de origen Puerto de destino                                            \n",
       "2                9                                   0.05  1.87    7.06   1.78\n",
       "3                9                                   0.12  9.98  128.03  19.30\n",
       "4                9                                   0.04  1.94    7.66   2.05\n",
       "5                9                                   0.07  2.87   12.07   2.90\n",
       "6                9                                   0.07  2.53    7.16   1.74\n",
       "7                9                                   0.14  0.20    0.28   0.04\n",
       "8                9                                   0.10  0.59    1.83   0.56\n",
       "9                9                                   0.03  2.84   21.28   6.59\n",
       "10               9                                   0.10  5.37   18.96   4.99\n",
       "11               9                                   0.07  0.13    0.34   0.06"
      ]
     },
     "execution_count": 196,
     "metadata": {},
     "output_type": "execute_result"
    }
   ],
   "source": [
    "fletes_agrup = fletes.groupby(by = [\"Puerto de origen\", \"Puerto de destino\"]).agg({\"Tasa de flete [USD/kg]\": [\"min\", \"mean\", \"max\", \"std\"]})\n",
    "fletes_agrup.round(2)"
   ]
  },
  {
   "cell_type": "code",
   "execution_count": 197,
   "id": "92da0a66-27b6-430c-995c-26dd2014cdb5",
   "metadata": {},
   "outputs": [
    {
     "data": {
      "image/png": "[encoded data removed]",
      "text/plain": [
       "<Figure size 432x288 with 1 Axes>"
      ]
     },
     "metadata": {},
     "output_type": "display_data"
    }
   ],
   "source": [
    "plt.figure(1)\n",
    "plt.hist(fletes[\"Tasa de flete [USD/kg]\"], bins = 100)\n",
    "plt.xlabel(\"Tasa de flete [USD/kg]\")\n",
    "plt.ylabel(\"Frecuencia absoluta\");"
   ]
  },
  {
   "cell_type": "markdown",
   "id": "c431dd6d-04ae-43af-ba1f-fa491505f9c8",
   "metadata": {},
   "source": [
    "*Estadística descriptiva de Envío [días] para cada conjunto Puerto de origen y Puerto de destino*"
   ]
  },
  {
   "cell_type": "code",
   "execution_count": 198,
   "id": "f18518cc-53f3-455f-b437-8804c1008243",
   "metadata": {},
   "outputs": [
    {
     "data": {
      "text/html": [
       "<div>\n",
       "<style scoped>\n",
       "    .dataframe tbody tr th:only-of-type {\n",
       "        vertical-align: middle;\n",
       "    }\n",
       "\n",
       "    .dataframe tbody tr th {\n",
       "        vertical-align: top;\n",
       "    }\n",
       "\n",
       "    .dataframe thead tr th {\n",
       "        text-align: left;\n",
       "    }\n",
       "\n",
       "    .dataframe thead tr:last-of-type th {\n",
       "        text-align: right;\n",
       "    }\n",
       "</style>\n",
       "<table border=\"1\" class=\"dataframe\">\n",
       "  <thead>\n",
       "    <tr>\n",
       "      <th></th>\n",
       "      <th></th>\n",
       "      <th colspan=\"4\" halign=\"left\">Envío [días]</th>\n",
       "    </tr>\n",
       "    <tr>\n",
       "      <th></th>\n",
       "      <th></th>\n",
       "      <th>min</th>\n",
       "      <th>mean</th>\n",
       "      <th>max</th>\n",
       "      <th>size</th>\n",
       "    </tr>\n",
       "    <tr>\n",
       "      <th>Puerto de origen</th>\n",
       "      <th>Puerto de destino</th>\n",
       "      <th></th>\n",
       "      <th></th>\n",
       "      <th></th>\n",
       "      <th></th>\n",
       "    </tr>\n",
       "  </thead>\n",
       "  <tbody>\n",
       "    <tr>\n",
       "      <th>2</th>\n",
       "      <th>9</th>\n",
       "      <td>0</td>\n",
       "      <td>1.62</td>\n",
       "      <td>14</td>\n",
       "      <td>226</td>\n",
       "    </tr>\n",
       "    <tr>\n",
       "      <th>3</th>\n",
       "      <th>9</th>\n",
       "      <td>0</td>\n",
       "      <td>2.91</td>\n",
       "      <td>14</td>\n",
       "      <td>45</td>\n",
       "    </tr>\n",
       "    <tr>\n",
       "      <th>4</th>\n",
       "      <th>9</th>\n",
       "      <td>0</td>\n",
       "      <td>1.58</td>\n",
       "      <td>14</td>\n",
       "      <td>231</td>\n",
       "    </tr>\n",
       "    <tr>\n",
       "      <th>5</th>\n",
       "      <th>9</th>\n",
       "      <td>1</td>\n",
       "      <td>1.27</td>\n",
       "      <td>4</td>\n",
       "      <td>219</td>\n",
       "    </tr>\n",
       "    <tr>\n",
       "      <th>6</th>\n",
       "      <th>9</th>\n",
       "      <td>1</td>\n",
       "      <td>1.99</td>\n",
       "      <td>3</td>\n",
       "      <td>479</td>\n",
       "    </tr>\n",
       "    <tr>\n",
       "      <th>7</th>\n",
       "      <th>9</th>\n",
       "      <td>3</td>\n",
       "      <td>4.50</td>\n",
       "      <td>6</td>\n",
       "      <td>20</td>\n",
       "    </tr>\n",
       "    <tr>\n",
       "      <th>8</th>\n",
       "      <th>9</th>\n",
       "      <td>2</td>\n",
       "      <td>4.82</td>\n",
       "      <td>14</td>\n",
       "      <td>39</td>\n",
       "    </tr>\n",
       "    <tr>\n",
       "      <th>9</th>\n",
       "      <th>9</th>\n",
       "      <td>0</td>\n",
       "      <td>4.42</td>\n",
       "      <td>14</td>\n",
       "      <td>24</td>\n",
       "    </tr>\n",
       "    <tr>\n",
       "      <th>10</th>\n",
       "      <th>9</th>\n",
       "      <td>2</td>\n",
       "      <td>3.17</td>\n",
       "      <td>6</td>\n",
       "      <td>222</td>\n",
       "    </tr>\n",
       "    <tr>\n",
       "      <th>11</th>\n",
       "      <th>9</th>\n",
       "      <td>0</td>\n",
       "      <td>5.29</td>\n",
       "      <td>14</td>\n",
       "      <td>35</td>\n",
       "    </tr>\n",
       "  </tbody>\n",
       "</table>\n",
       "</div>"
      ],
      "text/plain": [
       "                                   Envío [días]               \n",
       "                                            min  mean max size\n",
       "Puerto de origen Puerto de destino                            \n",
       "2                9                            0  1.62  14  226\n",
       "3                9                            0  2.91  14   45\n",
       "4                9                            0  1.58  14  231\n",
       "5                9                            1  1.27   4  219\n",
       "6                9                            1  1.99   3  479\n",
       "7                9                            3  4.50   6   20\n",
       "8                9                            2  4.82  14   39\n",
       "9                9                            0  4.42  14   24\n",
       "10               9                            2  3.17   6  222\n",
       "11               9                            0  5.29  14   35"
      ]
     },
     "execution_count": 198,
     "metadata": {},
     "output_type": "execute_result"
    }
   ],
   "source": [
    "fletes_agrup = fletes.groupby(by = [\"Puerto de origen\", \"Puerto de destino\"]).agg({\"Envío [días]\": [\"min\", \"mean\", \"max\", \"size\"]})\n",
    "fletes_agrup.round(2)"
   ]
  },
  {
   "cell_type": "code",
   "execution_count": 199,
   "id": "75812733-5f27-46c6-a036-447c54bdb38e",
   "metadata": {},
   "outputs": [
    {
     "data": {
      "image/png": "[encoded data removed]",
      "text/plain": [
       "<Figure size 432x288 with 1 Axes>"
      ]
     },
     "metadata": {},
     "output_type": "display_data"
    }
   ],
   "source": [
    "fletes_agrup = fletes.groupby(by = \"Envío [días]\").agg({\"Envío [días]\": \"size\"}).rename(columns = {\"Envío [días]\": \"Recuento\"})\n",
    "\n",
    "plt.figure(1)\n",
    "plt.bar(x = fletes_agrup.index, height = fletes_agrup[\"Recuento\"])\n",
    "plt.xlabel(\"Envío [días]\")\n",
    "plt.ylabel(\"Recuento\");"
   ]
  },
  {
   "cell_type": "markdown",
   "id": "b365d9c2-5a58-4cfb-9738-d456f7da61c9",
   "metadata": {},
   "source": [
    "*Estadística descriptiva de Modo de Transporte*"
   ]
  },
  {
   "cell_type": "code",
   "execution_count": 200,
   "id": "6f360db4-0059-4dc7-95a6-7c00ae97a129",
   "metadata": {},
   "outputs": [
    {
     "data": {
      "image/png": "[encoded data removed]",
      "text/plain": [
       "<Figure size 432x288 with 1 Axes>"
      ]
     },
     "metadata": {},
     "output_type": "display_data"
    }
   ],
   "source": [
    "fletes_agrup = fletes.groupby(by = \"Modo de transporte\").agg({\"Puerto de origen\": \"size\"})\n",
    "fletes_agrup = fletes_agrup.rename(columns = {\"Puerto de origen\": \"Recuento de Puerto de origen\"})\n",
    "\n",
    "plt.figure(1)\n",
    "plt.title(\"Modo de transporte\")\n",
    "plt.pie(x = fletes_agrup[\"Recuento de Puerto de origen\"], labels = fletes_agrup.index, autopct = \"%1.1f%%\");"
   ]
  },
  {
   "cell_type": "markdown",
   "id": "a111c376-6fd3-4789-84dd-e581640678f6",
   "metadata": {},
   "source": [
    "## Tabla Costos de Almacenaje"
   ]
  },
  {
   "cell_type": "code",
   "execution_count": 201,
   "id": "57aa9f11-af0a-4d06-8e29-b8d329df91b2",
   "metadata": {},
   "outputs": [],
   "source": [
    "costos_almacenaje = pd.read_excel(\"Logisitcs problem.xlsx\", sheet_name = \"WhCosts\")\n",
    "\n",
    "costos_almacenaje.columns = [\"Planta\", \"Costo específico [USD/item]\"]"
   ]
  },
  {
   "cell_type": "code",
   "execution_count": 202,
   "id": "d4fd0853-bc1c-4aa3-8705-17b84fbc875a",
   "metadata": {},
   "outputs": [
    {
     "name": "stdout",
     "output_type": "stream",
     "text": [
      "<class 'pandas.core.frame.DataFrame'>\n",
      "RangeIndex: 19 entries, 0 to 18\n",
      "Data columns (total 2 columns):\n",
      " #   Column                       Non-Null Count  Dtype  \n",
      "---  ------                       --------------  -----  \n",
      " 0   Planta                       19 non-null     object \n",
      " 1   Costo específico [USD/item]  19 non-null     float64\n",
      "dtypes: float64(1), object(1)\n",
      "memory usage: 432.0+ bytes\n"
     ]
    }
   ],
   "source": [
    "costos_almacenaje.info()"
   ]
  },
  {
   "cell_type": "code",
   "execution_count": 203,
   "id": "27bd4274-ae57-4a03-b21f-82715c354320",
   "metadata": {},
   "outputs": [
    {
     "data": {
      "text/html": [
       "<div>\n",
       "<style scoped>\n",
       "    .dataframe tbody tr th:only-of-type {\n",
       "        vertical-align: middle;\n",
       "    }\n",
       "\n",
       "    .dataframe tbody tr th {\n",
       "        vertical-align: top;\n",
       "    }\n",
       "\n",
       "    .dataframe thead th {\n",
       "        text-align: right;\n",
       "    }\n",
       "</style>\n",
       "<table border=\"1\" class=\"dataframe\">\n",
       "  <thead>\n",
       "    <tr style=\"text-align: right;\">\n",
       "      <th></th>\n",
       "      <th>Planta</th>\n",
       "      <th>Costo específico [USD/item]</th>\n",
       "    </tr>\n",
       "  </thead>\n",
       "  <tbody>\n",
       "    <tr>\n",
       "      <th>0</th>\n",
       "      <td>15</td>\n",
       "      <td>1.42</td>\n",
       "    </tr>\n",
       "    <tr>\n",
       "      <th>1</th>\n",
       "      <td>17</td>\n",
       "      <td>0.43</td>\n",
       "    </tr>\n",
       "    <tr>\n",
       "      <th>2</th>\n",
       "      <td>18</td>\n",
       "      <td>2.04</td>\n",
       "    </tr>\n",
       "    <tr>\n",
       "      <th>3</th>\n",
       "      <td>5</td>\n",
       "      <td>0.49</td>\n",
       "    </tr>\n",
       "    <tr>\n",
       "      <th>4</th>\n",
       "      <td>2</td>\n",
       "      <td>0.48</td>\n",
       "    </tr>\n",
       "  </tbody>\n",
       "</table>\n",
       "</div>"
      ],
      "text/plain": [
       "   Planta  Costo específico [USD/item]\n",
       "0      15                         1.42\n",
       "1      17                         0.43\n",
       "2      18                         2.04\n",
       "3       5                         0.49\n",
       "4       2                         0.48"
      ]
     },
     "execution_count": 203,
     "metadata": {},
     "output_type": "execute_result"
    }
   ],
   "source": [
    "costos_almacenaje[\"Planta\"] = costos_almacenaje[\"Planta\"].replace(to_replace = \"[^\\d.]\", value = \"\", regex = True).astype(int)\n",
    "\n",
    "costos_almacenaje.head().round(2)"
   ]
  },
  {
   "cell_type": "markdown",
   "id": "5fac7c82-fdee-4ba3-9538-2a9487ef9ce3",
   "metadata": {},
   "source": [
    "*Estadística descriptiva de Costo específico [USD/item]*"
   ]
  },
  {
   "cell_type": "code",
   "execution_count": 204,
   "id": "ceaaccf4-336f-4d81-bd25-9cc293aa0e03",
   "metadata": {},
   "outputs": [
    {
     "data": {
      "image/png": "[encoded data removed]",
      "text/plain": [
       "<Figure size 432x288 with 1 Axes>"
      ]
     },
     "metadata": {},
     "output_type": "display_data"
    }
   ],
   "source": [
    "plt.figure(1)\n",
    "plt.bar(x = costos_almacenaje[\"Planta\"], height = costos_almacenaje[\"Costo específico [USD/item]\"])\n",
    "plt.xlabel(\"Planta\")\n",
    "plt.xticks(costos_almacenaje[\"Planta\"])\n",
    "plt.ylabel(\"Costo específico [USD/item]\");"
   ]
  },
  {
   "cell_type": "markdown",
   "id": "9ad9011e-3e79-4bd6-a49f-b6ca4f7415f9",
   "metadata": {},
   "source": [
    "## Tabla Capacidad de Almacenaje"
   ]
  },
  {
   "cell_type": "code",
   "execution_count": 205,
   "id": "317efcfc-5446-41fe-bb72-51bb4764b486",
   "metadata": {},
   "outputs": [],
   "source": [
    "capacidad_almacenaje = pd.read_excel(\"Logisitcs problem.xlsx\", sheet_name = \"WhCapacities\")\n",
    "\n",
    "capacidad_almacenaje.columns = [\"Planta\", \"Capacidad [pedidos/día]\"]"
   ]
  },
  {
   "cell_type": "code",
   "execution_count": 206,
   "id": "747f3555-2c13-47b4-aead-d3074f23b6ce",
   "metadata": {},
   "outputs": [
    {
     "name": "stdout",
     "output_type": "stream",
     "text": [
      "<class 'pandas.core.frame.DataFrame'>\n",
      "RangeIndex: 19 entries, 0 to 18\n",
      "Data columns (total 2 columns):\n",
      " #   Column                   Non-Null Count  Dtype \n",
      "---  ------                   --------------  ----- \n",
      " 0   Planta                   19 non-null     object\n",
      " 1   Capacidad [pedidos/día]  19 non-null     int64 \n",
      "dtypes: int64(1), object(1)\n",
      "memory usage: 432.0+ bytes\n"
     ]
    }
   ],
   "source": [
    "capacidad_almacenaje.info()"
   ]
  },
  {
   "cell_type": "code",
   "execution_count": 207,
   "id": "b4fe582a-dfca-4db9-b8b7-db58519ff729",
   "metadata": {},
   "outputs": [
    {
     "data": {
      "text/html": [
       "<div>\n",
       "<style scoped>\n",
       "    .dataframe tbody tr th:only-of-type {\n",
       "        vertical-align: middle;\n",
       "    }\n",
       "\n",
       "    .dataframe tbody tr th {\n",
       "        vertical-align: top;\n",
       "    }\n",
       "\n",
       "    .dataframe thead th {\n",
       "        text-align: right;\n",
       "    }\n",
       "</style>\n",
       "<table border=\"1\" class=\"dataframe\">\n",
       "  <thead>\n",
       "    <tr style=\"text-align: right;\">\n",
       "      <th></th>\n",
       "      <th>Planta</th>\n",
       "      <th>Capacidad [pedidos/día]</th>\n",
       "    </tr>\n",
       "  </thead>\n",
       "  <tbody>\n",
       "    <tr>\n",
       "      <th>0</th>\n",
       "      <td>15</td>\n",
       "      <td>11</td>\n",
       "    </tr>\n",
       "    <tr>\n",
       "      <th>1</th>\n",
       "      <td>17</td>\n",
       "      <td>8</td>\n",
       "    </tr>\n",
       "    <tr>\n",
       "      <th>2</th>\n",
       "      <td>18</td>\n",
       "      <td>111</td>\n",
       "    </tr>\n",
       "    <tr>\n",
       "      <th>3</th>\n",
       "      <td>5</td>\n",
       "      <td>385</td>\n",
       "    </tr>\n",
       "    <tr>\n",
       "      <th>4</th>\n",
       "      <td>2</td>\n",
       "      <td>138</td>\n",
       "    </tr>\n",
       "  </tbody>\n",
       "</table>\n",
       "</div>"
      ],
      "text/plain": [
       "   Planta  Capacidad [pedidos/día]\n",
       "0      15                       11\n",
       "1      17                        8\n",
       "2      18                      111\n",
       "3       5                      385\n",
       "4       2                      138"
      ]
     },
     "execution_count": 207,
     "metadata": {},
     "output_type": "execute_result"
    }
   ],
   "source": [
    "capacidad_almacenaje[\"Planta\"] = capacidad_almacenaje[\"Planta\"].replace(to_replace = \"[^\\d.]\", value = \"\", regex = True).astype(int)\n",
    "\n",
    "capacidad_almacenaje.head().round(2)"
   ]
  },
  {
   "cell_type": "markdown",
   "id": "510a2bc4-aac5-4557-b5fa-603a14472266",
   "metadata": {},
   "source": [
    "*Estadística descriptiva de Capacidad [items/día]*"
   ]
  },
  {
   "cell_type": "code",
   "execution_count": 208,
   "id": "33e6e718-ab4f-41ca-850a-b5968e0ae562",
   "metadata": {},
   "outputs": [
    {
     "data": {
      "image/png": "[encoded data removed]",
      "text/plain": [
       "<Figure size 432x288 with 1 Axes>"
      ]
     },
     "metadata": {},
     "output_type": "display_data"
    }
   ],
   "source": [
    "plt.figure(1)\n",
    "plt.bar(x = capacidad_almacenaje[\"Planta\"], height = capacidad_almacenaje[\"Capacidad [pedidos/día]\"])\n",
    "plt.xlabel(\"Planta\")\n",
    "plt.xticks(capacidad_almacenaje[\"Planta\"])\n",
    "plt.ylabel(\"Capacidad [pedidos/día]\");"
   ]
  },
  {
   "cell_type": "markdown",
   "id": "3ec3264b-8a34-41e4-bde8-11638ca69d72",
   "metadata": {},
   "source": [
    "## Tabla Productos por cada Planta"
   ]
  },
  {
   "cell_type": "code",
   "execution_count": 209,
   "id": "0e2de0e1-a56b-4baa-a4ca-fcb7515f8c18",
   "metadata": {},
   "outputs": [],
   "source": [
    "productos_por_planta = pd.read_excel(\"Logisitcs problem.xlsx\", sheet_name = \"ProductsPerPlant\")\n",
    "\n",
    "productos_por_planta.columns = [\"Planta\", \"Producto\"]"
   ]
  },
  {
   "cell_type": "code",
   "execution_count": 210,
   "id": "9971c1c2-05a7-42f8-a336-953625cb8c0c",
   "metadata": {},
   "outputs": [
    {
     "name": "stdout",
     "output_type": "stream",
     "text": [
      "<class 'pandas.core.frame.DataFrame'>\n",
      "RangeIndex: 2036 entries, 0 to 2035\n",
      "Data columns (total 2 columns):\n",
      " #   Column    Non-Null Count  Dtype \n",
      "---  ------    --------------  ----- \n",
      " 0   Planta    2036 non-null   object\n",
      " 1   Producto  2036 non-null   int64 \n",
      "dtypes: int64(1), object(1)\n",
      "memory usage: 31.9+ KB\n"
     ]
    }
   ],
   "source": [
    "productos_por_planta.info()"
   ]
  },
  {
   "cell_type": "code",
   "execution_count": 211,
   "id": "81576217-c838-47c0-bffc-052eb433c5e2",
   "metadata": {},
   "outputs": [
    {
     "data": {
      "text/html": [
       "<div>\n",
       "<style scoped>\n",
       "    .dataframe tbody tr th:only-of-type {\n",
       "        vertical-align: middle;\n",
       "    }\n",
       "\n",
       "    .dataframe tbody tr th {\n",
       "        vertical-align: top;\n",
       "    }\n",
       "\n",
       "    .dataframe thead th {\n",
       "        text-align: right;\n",
       "    }\n",
       "</style>\n",
       "<table border=\"1\" class=\"dataframe\">\n",
       "  <thead>\n",
       "    <tr style=\"text-align: right;\">\n",
       "      <th></th>\n",
       "      <th>Planta</th>\n",
       "      <th>Producto</th>\n",
       "    </tr>\n",
       "  </thead>\n",
       "  <tbody>\n",
       "    <tr>\n",
       "      <th>0</th>\n",
       "      <td>15</td>\n",
       "      <td>1698815</td>\n",
       "    </tr>\n",
       "    <tr>\n",
       "      <th>1</th>\n",
       "      <td>17</td>\n",
       "      <td>1664419</td>\n",
       "    </tr>\n",
       "    <tr>\n",
       "      <th>2</th>\n",
       "      <td>17</td>\n",
       "      <td>1664426</td>\n",
       "    </tr>\n",
       "    <tr>\n",
       "      <th>3</th>\n",
       "      <td>17</td>\n",
       "      <td>1672826</td>\n",
       "    </tr>\n",
       "    <tr>\n",
       "      <th>4</th>\n",
       "      <td>17</td>\n",
       "      <td>1674916</td>\n",
       "    </tr>\n",
       "  </tbody>\n",
       "</table>\n",
       "</div>"
      ],
      "text/plain": [
       "   Planta  Producto\n",
       "0      15   1698815\n",
       "1      17   1664419\n",
       "2      17   1664426\n",
       "3      17   1672826\n",
       "4      17   1674916"
      ]
     },
     "execution_count": 211,
     "metadata": {},
     "output_type": "execute_result"
    }
   ],
   "source": [
    "productos_por_planta[\"Planta\"] = productos_por_planta[\"Planta\"].replace(to_replace = \"[^\\d.]\", value = \"\", regex = True).astype(int)\n",
    "\n",
    "productos_por_planta.head()"
   ]
  },
  {
   "cell_type": "markdown",
   "id": "1abf203a-faf9-47fd-b9b1-ee22e8afb762",
   "metadata": {},
   "source": [
    "*Estadística descriptiva de Recuento de Productos*"
   ]
  },
  {
   "cell_type": "code",
   "execution_count": 212,
   "id": "bd2f49a4-67de-4189-8723-e9d9539f4051",
   "metadata": {},
   "outputs": [
    {
     "data": {
      "image/png": "[encoded data removed]",
      "text/plain": [
       "<Figure size 432x288 with 1 Axes>"
      ]
     },
     "metadata": {},
     "output_type": "display_data"
    }
   ],
   "source": [
    "productos_agrup_por_planta = productos_por_planta.groupby(by = \"Planta\").agg({\"Planta\": \"size\"})\n",
    "productos_agrup_por_planta = productos_agrup_por_planta.rename(columns = {\"Planta\": \"Recuento de Productos\"})\n",
    "\n",
    "plt.figure(1)\n",
    "plt.bar(x = productos_agrup_por_planta.index, height = productos_agrup_por_planta[\"Recuento de Productos\"])\n",
    "plt.xlabel(\"Planta\")\n",
    "plt.xticks(productos_agrup_por_planta.index)\n",
    "plt.ylabel(\"Recuento de Productos\");"
   ]
  },
  {
   "cell_type": "markdown",
   "id": "13de2f4e-cb27-41c3-aa87-0b8b5e416556",
   "metadata": {},
   "source": [
    "## Tabla Clientes por cada Planta"
   ]
  },
  {
   "cell_type": "code",
   "execution_count": 213,
   "id": "aa4a2d6b-0564-4289-9d70-3c7aa6fec1c5",
   "metadata": {},
   "outputs": [],
   "source": [
    "clientes_por_planta = pd.read_excel(\"Logisitcs problem.xlsx\", sheet_name = \"VmiCustomers\")\n",
    "\n",
    "clientes_por_planta.columns = [\"Planta\", \"Cliente\"]"
   ]
  },
  {
   "cell_type": "code",
   "execution_count": 214,
   "id": "95f81009-00d1-4bf5-a5c7-72babaa153f2",
   "metadata": {},
   "outputs": [
    {
     "name": "stdout",
     "output_type": "stream",
     "text": [
      "<class 'pandas.core.frame.DataFrame'>\n",
      "RangeIndex: 14 entries, 0 to 13\n",
      "Data columns (total 2 columns):\n",
      " #   Column   Non-Null Count  Dtype \n",
      "---  ------   --------------  ----- \n",
      " 0   Planta   14 non-null     object\n",
      " 1   Cliente  14 non-null     object\n",
      "dtypes: object(2)\n",
      "memory usage: 352.0+ bytes\n"
     ]
    }
   ],
   "source": [
    "clientes_por_planta.info()"
   ]
  },
  {
   "cell_type": "code",
   "execution_count": 215,
   "id": "20e7dc67-a89f-4345-b3bf-ad778e660f62",
   "metadata": {},
   "outputs": [
    {
     "data": {
      "text/html": [
       "<div>\n",
       "<style scoped>\n",
       "    .dataframe tbody tr th:only-of-type {\n",
       "        vertical-align: middle;\n",
       "    }\n",
       "\n",
       "    .dataframe tbody tr th {\n",
       "        vertical-align: top;\n",
       "    }\n",
       "\n",
       "    .dataframe thead th {\n",
       "        text-align: right;\n",
       "    }\n",
       "</style>\n",
       "<table border=\"1\" class=\"dataframe\">\n",
       "  <thead>\n",
       "    <tr style=\"text-align: right;\">\n",
       "      <th></th>\n",
       "      <th>Planta</th>\n",
       "      <th>Cliente</th>\n",
       "    </tr>\n",
       "  </thead>\n",
       "  <tbody>\n",
       "    <tr>\n",
       "      <th>0</th>\n",
       "      <td>2</td>\n",
       "      <td>V5555555555555_16</td>\n",
       "    </tr>\n",
       "    <tr>\n",
       "      <th>1</th>\n",
       "      <td>2</td>\n",
       "      <td>V555555555555555_29</td>\n",
       "    </tr>\n",
       "    <tr>\n",
       "      <th>2</th>\n",
       "      <td>2</td>\n",
       "      <td>V555555555_3</td>\n",
       "    </tr>\n",
       "    <tr>\n",
       "      <th>3</th>\n",
       "      <td>2</td>\n",
       "      <td>V55555555555555_8</td>\n",
       "    </tr>\n",
       "    <tr>\n",
       "      <th>4</th>\n",
       "      <td>2</td>\n",
       "      <td>V55555555_9</td>\n",
       "    </tr>\n",
       "  </tbody>\n",
       "</table>\n",
       "</div>"
      ],
      "text/plain": [
       "   Planta              Cliente\n",
       "0       2    V5555555555555_16\n",
       "1       2  V555555555555555_29\n",
       "2       2         V555555555_3\n",
       "3       2    V55555555555555_8\n",
       "4       2          V55555555_9"
      ]
     },
     "execution_count": 215,
     "metadata": {},
     "output_type": "execute_result"
    }
   ],
   "source": [
    "clientes_por_planta[\"Planta\"] = clientes_por_planta[\"Planta\"].replace(to_replace = \"[^\\d.]\", value = \"\", regex = True).astype(int)\n",
    "\n",
    "clientes_por_planta.head()"
   ]
  },
  {
   "cell_type": "markdown",
   "id": "5b525663-9e63-42d1-9665-b38fa47fab23",
   "metadata": {},
   "source": [
    "*Estadística descriptiva de Clientes por cada Planta*"
   ]
  },
  {
   "cell_type": "code",
   "execution_count": 216,
   "id": "106a09d0-553a-4fd7-95d2-4608d303635e",
   "metadata": {},
   "outputs": [
    {
     "data": {
      "image/png": "[encoded data removed]",
      "text/plain": [
       "<Figure size 432x288 with 1 Axes>"
      ]
     },
     "metadata": {},
     "output_type": "display_data"
    }
   ],
   "source": [
    "clientes_agrup_por_planta = clientes_por_planta.groupby(by = \"Planta\").agg({\"Planta\": \"size\"}).rename(columns = {\"Planta\": \"Recuento de Clientes\"})\n",
    "\n",
    "plt.figure(1)\n",
    "plt.bar(x = clientes_agrup_por_planta.index, height = clientes_agrup_por_planta[\"Recuento de Clientes\"])\n",
    "plt.xlabel(\"Planta\")\n",
    "plt.xticks(productos_agrup_por_planta.index)\n",
    "plt.ylabel(\"Recuento de Clientes\");"
   ]
  },
  {
   "cell_type": "markdown",
   "id": "c96c8892-eac4-4b73-a796-e36d508b6f3c",
   "metadata": {},
   "source": [
    "## Tabla Puertos por cada Planta"
   ]
  },
  {
   "cell_type": "code",
   "execution_count": 217,
   "id": "98f27eac-84c1-4e6f-a174-80af7e8c48e1",
   "metadata": {},
   "outputs": [],
   "source": [
    "puertos_por_planta = pd.read_excel(\"Logisitcs problem.xlsx\", sheet_name = \"PlantPorts\").iloc[:, :2]\n",
    "\n",
    "puertos_por_planta.columns = [\"Planta\", \"Puerto de Origen\"]"
   ]
  },
  {
   "cell_type": "code",
   "execution_count": 218,
   "id": "76c319e7-7d2d-48ed-bfad-1d6925dc29a9",
   "metadata": {},
   "outputs": [
    {
     "name": "stdout",
     "output_type": "stream",
     "text": [
      "<class 'pandas.core.frame.DataFrame'>\n",
      "RangeIndex: 22 entries, 0 to 21\n",
      "Data columns (total 2 columns):\n",
      " #   Column            Non-Null Count  Dtype \n",
      "---  ------            --------------  ----- \n",
      " 0   Planta            22 non-null     object\n",
      " 1   Puerto de Origen  22 non-null     object\n",
      "dtypes: object(2)\n",
      "memory usage: 480.0+ bytes\n"
     ]
    }
   ],
   "source": [
    "puertos_por_planta.info()"
   ]
  },
  {
   "cell_type": "code",
   "execution_count": 219,
   "id": "8b7cb9bd-e30c-4a20-ab73-3d0a72a901c4",
   "metadata": {},
   "outputs": [
    {
     "data": {
      "text/html": [
       "<div>\n",
       "<style scoped>\n",
       "    .dataframe tbody tr th:only-of-type {\n",
       "        vertical-align: middle;\n",
       "    }\n",
       "\n",
       "    .dataframe tbody tr th {\n",
       "        vertical-align: top;\n",
       "    }\n",
       "\n",
       "    .dataframe thead th {\n",
       "        text-align: right;\n",
       "    }\n",
       "</style>\n",
       "<table border=\"1\" class=\"dataframe\">\n",
       "  <thead>\n",
       "    <tr style=\"text-align: right;\">\n",
       "      <th></th>\n",
       "      <th>Planta</th>\n",
       "      <th>Puerto de Origen</th>\n",
       "    </tr>\n",
       "  </thead>\n",
       "  <tbody>\n",
       "    <tr>\n",
       "      <th>0</th>\n",
       "      <td>1</td>\n",
       "      <td>1</td>\n",
       "    </tr>\n",
       "    <tr>\n",
       "      <th>1</th>\n",
       "      <td>1</td>\n",
       "      <td>2</td>\n",
       "    </tr>\n",
       "    <tr>\n",
       "      <th>2</th>\n",
       "      <td>2</td>\n",
       "      <td>3</td>\n",
       "    </tr>\n",
       "    <tr>\n",
       "      <th>3</th>\n",
       "      <td>3</td>\n",
       "      <td>4</td>\n",
       "    </tr>\n",
       "    <tr>\n",
       "      <th>4</th>\n",
       "      <td>4</td>\n",
       "      <td>5</td>\n",
       "    </tr>\n",
       "  </tbody>\n",
       "</table>\n",
       "</div>"
      ],
      "text/plain": [
       "   Planta  Puerto de Origen\n",
       "0       1                 1\n",
       "1       1                 2\n",
       "2       2                 3\n",
       "3       3                 4\n",
       "4       4                 5"
      ]
     },
     "execution_count": 219,
     "metadata": {},
     "output_type": "execute_result"
    }
   ],
   "source": [
    "puertos_por_planta[[\"Planta\", \"Puerto de Origen\"]] = puertos_por_planta[[\"Planta\", \"Puerto de Origen\"]].replace(to_replace = \"[^\\d.]\", value = \"\", regex = True).astype(int)\n",
    "\n",
    "puertos_por_planta.head()"
   ]
  },
  {
   "cell_type": "code",
   "execution_count": 220,
   "id": "fd036fe8-cf60-4429-a7ae-175c6d8c12e9",
   "metadata": {},
   "outputs": [
    {
     "data": {
      "image/png": "[encoded data removed]",
      "text/plain": [
       "<Figure size 432x288 with 1 Axes>"
      ]
     },
     "metadata": {},
     "output_type": "display_data"
    }
   ],
   "source": [
    "puertos_agrup_por_planta = puertos_por_planta.groupby(by = \"Planta\").agg({\"Planta\": \"size\"}).rename(columns = {\"Planta\": \"Recuento de Puertos de origen\"})\n",
    "\n",
    "plt.figure(1)\n",
    "plt.bar(x = puertos_agrup_por_planta.index, height = puertos_agrup_por_planta[\"Recuento de Puertos de origen\"])\n",
    "plt.xlabel(\"Planta\")\n",
    "plt.xticks(productos_agrup_por_planta.index)\n",
    "plt.ylabel(\"Recuento de Puertos de origen\");"
   ]
  },
  {
   "cell_type": "markdown",
   "id": "db6cf97b-3e22-4db8-afe0-7a9e4ed7059b",
   "metadata": {},
   "source": [
    "# 2da Etapa: Optimización"
   ]
  },
  {
   "cell_type": "markdown",
   "id": "f71b0107-3032-4bb7-8246-6a64e8276967",
   "metadata": {},
   "source": [
    "*Función Objetivo*\\\n",
    "Se desea conocer un conjunto de plantas de almacenaje, puertos de origen y puertos de destino que minimicen el costo total de la cadena de suministro.\n",
    "\n",
    "Nomenclatura:\n",
    "- k: ID de pedido\n",
    "- i: ID de planta de almacenamiento\n",
    "- p: ID de puerto de origen\n",
    "- j: ID de puerto de destino\n",
    "- c: ID de transportista\n",
    "- s: Nivel de servicio\n",
    "- t: Tiempo de envío [días]\n",
    "- m: Modo de transporte (aire o tierra)\n",
    "- q: Cantidad de items en cada pedido [items]\n",
    "\n",
    "- C: Costo de almacenamiento [USD/item]\n",
    "- M: Costo fijo de transporte [USD/kg]\n",
    "- X: Costo de almacenamiento [USD]\n",
    "- Y: Costo de transporte [USD/kg]\n",
    "- Z: Costo total de la cadena de suministro [USD]"
   ]
  },
  {
   "cell_type": "code",
   "execution_count": 221,
   "id": "7b56dc5c-b0a2-490d-ad9e-a63a9571fbc3",
   "metadata": {},
   "outputs": [
    {
     "data": {
      "text/html": [
       "<div>\n",
       "<style scoped>\n",
       "    .dataframe tbody tr th:only-of-type {\n",
       "        vertical-align: middle;\n",
       "    }\n",
       "\n",
       "    .dataframe tbody tr th {\n",
       "        vertical-align: top;\n",
       "    }\n",
       "\n",
       "    .dataframe thead th {\n",
       "        text-align: right;\n",
       "    }\n",
       "</style>\n",
       "<table border=\"1\" class=\"dataframe\">\n",
       "  <thead>\n",
       "    <tr style=\"text-align: right;\">\n",
       "      <th></th>\n",
       "      <th>Pedido</th>\n",
       "      <th>Fecha</th>\n",
       "      <th>Puerto de origen</th>\n",
       "      <th>Transportista</th>\n",
       "      <th>TPT</th>\n",
       "      <th>Nivel de servicio</th>\n",
       "      <th>Envío adelantado [días]</th>\n",
       "      <th>Envío tardío [días]</th>\n",
       "      <th>Cliente</th>\n",
       "      <th>Producto</th>\n",
       "      <th>...</th>\n",
       "      <th>Peso [kg/item]</th>\n",
       "      <th>Peso mínimo [kg/item]</th>\n",
       "      <th>Peso máximo [kg/item]</th>\n",
       "      <th>Costo mínimo [USD/kg]</th>\n",
       "      <th>Tasa de flete [USD/kg]</th>\n",
       "      <th>Modo de transporte</th>\n",
       "      <th>Envío [días]</th>\n",
       "      <th>Tipo de transportista</th>\n",
       "      <th>Costo específico [USD/item]</th>\n",
       "      <th>Capacidad [pedidos/día]</th>\n",
       "    </tr>\n",
       "  </thead>\n",
       "  <tbody>\n",
       "    <tr>\n",
       "      <th>0</th>\n",
       "      <td>1447385217</td>\n",
       "      <td>2013-05-26</td>\n",
       "      <td>9</td>\n",
       "      <td>V444_0</td>\n",
       "      <td>0</td>\n",
       "      <td>DTP</td>\n",
       "      <td>0</td>\n",
       "      <td>0</td>\n",
       "      <td>V55555_4</td>\n",
       "      <td>1692724</td>\n",
       "      <td>...</td>\n",
       "      <td>1.02</td>\n",
       "      <td>0.0</td>\n",
       "      <td>5000.0</td>\n",
       "      <td>31.28</td>\n",
       "      <td>12.28</td>\n",
       "      <td>Tierra</td>\n",
       "      <td>0</td>\n",
       "      <td>V88888888_0</td>\n",
       "      <td>1.92</td>\n",
       "      <td>457</td>\n",
       "    </tr>\n",
       "    <tr>\n",
       "      <th>1</th>\n",
       "      <td>1447337778</td>\n",
       "      <td>2013-05-26</td>\n",
       "      <td>9</td>\n",
       "      <td>V444_0</td>\n",
       "      <td>0</td>\n",
       "      <td>DTP</td>\n",
       "      <td>0</td>\n",
       "      <td>0</td>\n",
       "      <td>V55555_4</td>\n",
       "      <td>1692724</td>\n",
       "      <td>...</td>\n",
       "      <td>0.61</td>\n",
       "      <td>0.0</td>\n",
       "      <td>5000.0</td>\n",
       "      <td>31.28</td>\n",
       "      <td>12.28</td>\n",
       "      <td>Tierra</td>\n",
       "      <td>0</td>\n",
       "      <td>V88888888_0</td>\n",
       "      <td>1.92</td>\n",
       "      <td>457</td>\n",
       "    </tr>\n",
       "    <tr>\n",
       "      <th>2</th>\n",
       "      <td>1447406947</td>\n",
       "      <td>2013-05-26</td>\n",
       "      <td>9</td>\n",
       "      <td>V444_0</td>\n",
       "      <td>0</td>\n",
       "      <td>DTP</td>\n",
       "      <td>3</td>\n",
       "      <td>0</td>\n",
       "      <td>V555555_6</td>\n",
       "      <td>1692722</td>\n",
       "      <td>...</td>\n",
       "      <td>37.04</td>\n",
       "      <td>0.0</td>\n",
       "      <td>5000.0</td>\n",
       "      <td>31.28</td>\n",
       "      <td>12.28</td>\n",
       "      <td>Tierra</td>\n",
       "      <td>0</td>\n",
       "      <td>V88888888_0</td>\n",
       "      <td>1.92</td>\n",
       "      <td>457</td>\n",
       "    </tr>\n",
       "    <tr>\n",
       "      <th>3</th>\n",
       "      <td>1447154164</td>\n",
       "      <td>2013-05-26</td>\n",
       "      <td>9</td>\n",
       "      <td>V444_0</td>\n",
       "      <td>0</td>\n",
       "      <td>DTP</td>\n",
       "      <td>3</td>\n",
       "      <td>0</td>\n",
       "      <td>V555555_6</td>\n",
       "      <td>1692722</td>\n",
       "      <td>...</td>\n",
       "      <td>42.83</td>\n",
       "      <td>0.0</td>\n",
       "      <td>5000.0</td>\n",
       "      <td>31.28</td>\n",
       "      <td>12.28</td>\n",
       "      <td>Tierra</td>\n",
       "      <td>0</td>\n",
       "      <td>V88888888_0</td>\n",
       "      <td>1.92</td>\n",
       "      <td>457</td>\n",
       "    </tr>\n",
       "    <tr>\n",
       "      <th>4</th>\n",
       "      <td>1447163388</td>\n",
       "      <td>2013-05-26</td>\n",
       "      <td>9</td>\n",
       "      <td>V444_0</td>\n",
       "      <td>0</td>\n",
       "      <td>DTP</td>\n",
       "      <td>3</td>\n",
       "      <td>0</td>\n",
       "      <td>V555555_6</td>\n",
       "      <td>1692722</td>\n",
       "      <td>...</td>\n",
       "      <td>133.22</td>\n",
       "      <td>0.0</td>\n",
       "      <td>5000.0</td>\n",
       "      <td>31.28</td>\n",
       "      <td>12.28</td>\n",
       "      <td>Tierra</td>\n",
       "      <td>0</td>\n",
       "      <td>V88888888_0</td>\n",
       "      <td>1.92</td>\n",
       "      <td>457</td>\n",
       "    </tr>\n",
       "  </tbody>\n",
       "</table>\n",
       "<p>5 rows × 23 columns</p>\n",
       "</div>"
      ],
      "text/plain": [
       "       Pedido      Fecha  Puerto de origen Transportista  TPT  \\\n",
       "0  1447385217 2013-05-26                 9        V444_0    0   \n",
       "1  1447337778 2013-05-26                 9        V444_0    0   \n",
       "2  1447406947 2013-05-26                 9        V444_0    0   \n",
       "3  1447154164 2013-05-26                 9        V444_0    0   \n",
       "4  1447163388 2013-05-26                 9        V444_0    0   \n",
       "\n",
       "  Nivel de servicio  Envío adelantado [días]  Envío tardío [días]    Cliente  \\\n",
       "0               DTP                        0                    0   V55555_4   \n",
       "1               DTP                        0                    0   V55555_4   \n",
       "2               DTP                        3                    0  V555555_6   \n",
       "3               DTP                        3                    0  V555555_6   \n",
       "4               DTP                        3                    0  V555555_6   \n",
       "\n",
       "   Producto  ...  Peso [kg/item]  Peso mínimo [kg/item]  \\\n",
       "0   1692724  ...            1.02                    0.0   \n",
       "1   1692724  ...            0.61                    0.0   \n",
       "2   1692722  ...           37.04                    0.0   \n",
       "3   1692722  ...           42.83                    0.0   \n",
       "4   1692722  ...          133.22                    0.0   \n",
       "\n",
       "   Peso máximo [kg/item]  Costo mínimo [USD/kg]  Tasa de flete [USD/kg]  \\\n",
       "0                 5000.0                  31.28                   12.28   \n",
       "1                 5000.0                  31.28                   12.28   \n",
       "2                 5000.0                  31.28                   12.28   \n",
       "3                 5000.0                  31.28                   12.28   \n",
       "4                 5000.0                  31.28                   12.28   \n",
       "\n",
       "   Modo de transporte  Envío [días]  Tipo de transportista  \\\n",
       "0              Tierra             0            V88888888_0   \n",
       "1              Tierra             0            V88888888_0   \n",
       "2              Tierra             0            V88888888_0   \n",
       "3              Tierra             0            V88888888_0   \n",
       "4              Tierra             0            V88888888_0   \n",
       "\n",
       "  Costo específico [USD/item]  Capacidad [pedidos/día]  \n",
       "0                        1.92                      457  \n",
       "1                        1.92                      457  \n",
       "2                        1.92                      457  \n",
       "3                        1.92                      457  \n",
       "4                        1.92                      457  \n",
       "\n",
       "[5 rows x 23 columns]"
      ]
     },
     "execution_count": 221,
     "metadata": {},
     "output_type": "execute_result"
    }
   ],
   "source": [
    "df1 = pd.merge(pedidos, fletes, on = [\"Puerto de origen\", \"Puerto de destino\", \"Transportista\", \"Nivel de servicio\"])\n",
    "df2 = pd.merge(df1, costos_almacenaje, on = [\"Planta\"])\n",
    "df3 = pd.merge(df2, capacidad_almacenaje, on = [\"Planta\"])\n",
    "\n",
    "df3.head().round(2)"
   ]
  },
  {
   "cell_type": "markdown",
   "id": "4621f1c6-3609-42ce-bb1c-c6ea0ce2d571",
   "metadata": {},
   "source": [
    "*¿Cuántas filas y columnas tiene la nueva tabla?*"
   ]
  },
  {
   "cell_type": "code",
   "execution_count": 222,
   "id": "0be3d8f3-57cc-45c2-80b5-76ba1b4a009a",
   "metadata": {},
   "outputs": [
    {
     "data": {
      "text/plain": [
       "(146214, 23)"
      ]
     },
     "execution_count": 222,
     "metadata": {},
     "output_type": "execute_result"
    }
   ],
   "source": [
    "df3.shape"
   ]
  },
  {
   "cell_type": "markdown",
   "id": "a45ceae7-ec4b-4e55-a012-e2a5c8ee5005",
   "metadata": {},
   "source": [
    "*Estadística Descriptiva del Costo de Almacenaje [USD]*\n",
    "\n",
    "$$ w_{ikpjcstm} \\leq F_{ikpjcstm} $$"
   ]
  },
  {
   "cell_type": "code",
   "execution_count": 223,
   "id": "d2cba41e-4b38-4490-acf0-38d49065b1e0",
   "metadata": {},
   "outputs": [
    {
     "data": {
      "text/html": [
       "<div>\n",
       "<style scoped>\n",
       "    .dataframe tbody tr th:only-of-type {\n",
       "        vertical-align: middle;\n",
       "    }\n",
       "\n",
       "    .dataframe tbody tr th {\n",
       "        vertical-align: top;\n",
       "    }\n",
       "\n",
       "    .dataframe thead th {\n",
       "        text-align: right;\n",
       "    }\n",
       "</style>\n",
       "<table border=\"1\" class=\"dataframe\">\n",
       "  <thead>\n",
       "    <tr style=\"text-align: right;\">\n",
       "      <th></th>\n",
       "      <th>Cantidad [pedidos/día]</th>\n",
       "      <th>Capacidad [pedidos/día]</th>\n",
       "      <th>Cantidad real [pedidos/día]</th>\n",
       "    </tr>\n",
       "    <tr>\n",
       "      <th>Planta</th>\n",
       "      <th></th>\n",
       "      <th></th>\n",
       "      <th></th>\n",
       "    </tr>\n",
       "  </thead>\n",
       "  <tbody>\n",
       "    <tr>\n",
       "      <th>3</th>\n",
       "      <td>137800</td>\n",
       "      <td>1013</td>\n",
       "      <td>1013</td>\n",
       "    </tr>\n",
       "    <tr>\n",
       "      <th>8</th>\n",
       "      <td>1010</td>\n",
       "      <td>14</td>\n",
       "      <td>14</td>\n",
       "    </tr>\n",
       "    <tr>\n",
       "      <th>9</th>\n",
       "      <td>120</td>\n",
       "      <td>11</td>\n",
       "      <td>11</td>\n",
       "    </tr>\n",
       "    <tr>\n",
       "      <th>12</th>\n",
       "      <td>6390</td>\n",
       "      <td>209</td>\n",
       "      <td>209</td>\n",
       "    </tr>\n",
       "    <tr>\n",
       "      <th>13</th>\n",
       "      <td>860</td>\n",
       "      <td>490</td>\n",
       "      <td>490</td>\n",
       "    </tr>\n",
       "    <tr>\n",
       "      <th>16</th>\n",
       "      <td>34</td>\n",
       "      <td>457</td>\n",
       "      <td>34</td>\n",
       "    </tr>\n",
       "  </tbody>\n",
       "</table>\n",
       "</div>"
      ],
      "text/plain": [
       "        Cantidad [pedidos/día]  Capacidad [pedidos/día]  \\\n",
       "Planta                                                    \n",
       "3                       137800                     1013   \n",
       "8                         1010                       14   \n",
       "9                          120                       11   \n",
       "12                        6390                      209   \n",
       "13                         860                      490   \n",
       "16                          34                      457   \n",
       "\n",
       "        Cantidad real [pedidos/día]  \n",
       "Planta                               \n",
       "3                              1013  \n",
       "8                                14  \n",
       "9                                11  \n",
       "12                              209  \n",
       "13                              490  \n",
       "16                               34  "
      ]
     },
     "execution_count": 223,
     "metadata": {},
     "output_type": "execute_result"
    }
   ],
   "source": [
    "g3 = df3.groupby(by = \"Planta\").agg({\"Pedido\": \"size\", \"Capacidad [pedidos/día]\": \"mean\"}).rename(columns = {\"Pedido\": \"Cantidad [pedidos/día]\"})\n",
    "g3[\"Cantidad real [pedidos/día]\"] = np.where(g3[\"Cantidad [pedidos/día]\"] < g3[\"Capacidad [pedidos/día]\"], g3[\"Cantidad [pedidos/día]\"], \n",
    "                                             g3[\"Capacidad [pedidos/día]\"])\n",
    "\n",
    "g3"
   ]
  },
  {
   "cell_type": "markdown",
   "id": "f4c0d677-8d4a-41e8-8351-e863da9ef559",
   "metadata": {},
   "source": [
    "$$ X_{ki} = q_{ki}*C_i $$"
   ]
  },
  {
   "cell_type": "code",
   "execution_count": 224,
   "id": "f4cbf378-e818-402b-9909-21e7bca6250b",
   "metadata": {},
   "outputs": [
    {
     "data": {
      "text/html": [
       "<div>\n",
       "<style scoped>\n",
       "    .dataframe tbody tr th:only-of-type {\n",
       "        vertical-align: middle;\n",
       "    }\n",
       "\n",
       "    .dataframe tbody tr th {\n",
       "        vertical-align: top;\n",
       "    }\n",
       "\n",
       "    .dataframe thead tr th {\n",
       "        text-align: left;\n",
       "    }\n",
       "\n",
       "    .dataframe thead tr:last-of-type th {\n",
       "        text-align: right;\n",
       "    }\n",
       "</style>\n",
       "<table border=\"1\" class=\"dataframe\">\n",
       "  <thead>\n",
       "    <tr>\n",
       "      <th></th>\n",
       "      <th></th>\n",
       "      <th></th>\n",
       "      <th colspan=\"5\" halign=\"left\">Costo de almacenaje [USD]</th>\n",
       "    </tr>\n",
       "    <tr>\n",
       "      <th></th>\n",
       "      <th></th>\n",
       "      <th></th>\n",
       "      <th>min</th>\n",
       "      <th>mean</th>\n",
       "      <th>max</th>\n",
       "      <th>sum</th>\n",
       "      <th>%</th>\n",
       "    </tr>\n",
       "    <tr>\n",
       "      <th>Planta</th>\n",
       "      <th>Puerto de origen</th>\n",
       "      <th>Puerto de destino</th>\n",
       "      <th></th>\n",
       "      <th></th>\n",
       "      <th></th>\n",
       "      <th></th>\n",
       "      <th></th>\n",
       "    </tr>\n",
       "  </thead>\n",
       "  <tbody>\n",
       "    <tr>\n",
       "      <th>3</th>\n",
       "      <th>4</th>\n",
       "      <th>9</th>\n",
       "      <td>121.61</td>\n",
       "      <td>1170.68</td>\n",
       "      <td>290756.89</td>\n",
       "      <td>1.613191e+08</td>\n",
       "      <td>97.24</td>\n",
       "    </tr>\n",
       "    <tr>\n",
       "      <th>8</th>\n",
       "      <th>4</th>\n",
       "      <th>9</th>\n",
       "      <td>357.63</td>\n",
       "      <td>1430.16</td>\n",
       "      <td>2969.83</td>\n",
       "      <td>1.444466e+06</td>\n",
       "      <td>0.87</td>\n",
       "    </tr>\n",
       "    <tr>\n",
       "      <th>9</th>\n",
       "      <th>4</th>\n",
       "      <th>9</th>\n",
       "      <td>1070.13</td>\n",
       "      <td>8674.74</td>\n",
       "      <td>47004.27</td>\n",
       "      <td>1.040969e+06</td>\n",
       "      <td>0.63</td>\n",
       "    </tr>\n",
       "    <tr>\n",
       "      <th>12</th>\n",
       "      <th>4</th>\n",
       "      <th>9</th>\n",
       "      <td>182.46</td>\n",
       "      <td>291.55</td>\n",
       "      <td>1021.31</td>\n",
       "      <td>1.862992e+06</td>\n",
       "      <td>1.12</td>\n",
       "    </tr>\n",
       "    <tr>\n",
       "      <th>13</th>\n",
       "      <th>4</th>\n",
       "      <th>9</th>\n",
       "      <td>112.73</td>\n",
       "      <td>236.92</td>\n",
       "      <td>2463.14</td>\n",
       "      <td>2.037542e+05</td>\n",
       "      <td>0.12</td>\n",
       "    </tr>\n",
       "    <tr>\n",
       "      <th>16</th>\n",
       "      <th>9</th>\n",
       "      <th>9</th>\n",
       "      <td>539.47</td>\n",
       "      <td>703.10</td>\n",
       "      <td>1581.92</td>\n",
       "      <td>2.390544e+04</td>\n",
       "      <td>0.01</td>\n",
       "    </tr>\n",
       "  </tbody>\n",
       "</table>\n",
       "</div>"
      ],
      "text/plain": [
       "                                          Costo de almacenaje [USD]           \\\n",
       "                                                                min     mean   \n",
       "Planta Puerto de origen Puerto de destino                                      \n",
       "3      4                9                                    121.61  1170.68   \n",
       "8      4                9                                    357.63  1430.16   \n",
       "9      4                9                                   1070.13  8674.74   \n",
       "12     4                9                                    182.46   291.55   \n",
       "13     4                9                                    112.73   236.92   \n",
       "16     9                9                                    539.47   703.10   \n",
       "\n",
       "                                                                           \n",
       "                                                 max           sum      %  \n",
       "Planta Puerto de origen Puerto de destino                                  \n",
       "3      4                9                  290756.89  1.613191e+08  97.24  \n",
       "8      4                9                    2969.83  1.444466e+06   0.87  \n",
       "9      4                9                   47004.27  1.040969e+06   0.63  \n",
       "12     4                9                    1021.31  1.862992e+06   1.12  \n",
       "13     4                9                    2463.14  2.037542e+05   0.12  \n",
       "16     9                9                    1581.92  2.390544e+04   0.01  "
      ]
     },
     "execution_count": 224,
     "metadata": {},
     "output_type": "execute_result"
    }
   ],
   "source": [
    "df3[\"Costo de almacenaje [USD]\"] = df3[\"Items\"] * df3[\"Costo específico [USD/item]\"]\n",
    "df3_agrup = df3.groupby(by = [\"Planta\", \"Puerto de origen\", \"Puerto de destino\"]).agg({\"Costo de almacenaje [USD]\": [\"min\", \"mean\", \"max\", \"sum\"]})\n",
    "\n",
    "total = df3_agrup[(\"Costo de almacenaje [USD]\", \"sum\")].sum()\n",
    "porcentaje = lambda x: x / total * 100\n",
    "\n",
    "df3_agrup[(\"Costo de almacenaje [USD]\", \"%\")] = df3_agrup[(\"Costo de almacenaje [USD]\", \"sum\")].apply(porcentaje)\n",
    "df3_agrup.round(2)"
   ]
  },
  {
   "cell_type": "code",
   "execution_count": 225,
   "id": "992a58b4-57f5-4d40-adee-cbfc35ef64c9",
   "metadata": {},
   "outputs": [
    {
     "data": {
      "image/png": "[encoded data removed]",
      "text/plain": [
       "<Figure size 432x288 with 1 Axes>"
      ]
     },
     "metadata": {},
     "output_type": "display_data"
    }
   ],
   "source": [
    "plt.figure(1)\n",
    "plt.bar(x = df3_agrup.index.levels[0], height = df3_agrup[(\"Costo de almacenaje [USD]\", \"%\")])\n",
    "plt.xlabel(\"Planta\")\n",
    "plt.xticks(df3_agrup.index.levels[0])\n",
    "plt.ylabel(\"% Costo de Almacenaje\");"
   ]
  },
  {
   "cell_type": "markdown",
   "id": "93d40d6c-57a3-43d3-860d-4bccf0c49a9f",
   "metadata": {},
   "source": [
    "*Estadística Descriptiva del Costo de Transporte [USD]*\n",
    "\n",
    "$$ Si \\ Y_{ikpjcstm} < M_{ikpjcstm} \\ \\Rightarrow \\ Y_{ikpjcstm} = M_{ikpjcstm} $$\n",
    "\n",
    "$$ Si \\ s = CRF \\ \\Rightarrow \\ Y_{ikpjcstm} = 0 $$\n",
    "\n",
    "$$ Si \\ s \\neq CRF, \\ m = Tierra \\ \\Rightarrow \\ Y_{ikpjcstm} = \\frac{w_{ikpjcstm}}{\\sum_{i}{...\\sum_{m}{w_{ikpjcstm}}}}*R_{ikpjcstm} $$\n",
    "\n",
    "$$ Si \\ s \\neq CRF, \\ m \\neq Tierra \\ \\Rightarrow \\ Y_{ikpjcstm} = w_{ikpjcstm}*R_{ikpjcstm} $$"
   ]
  },
  {
   "cell_type": "code",
   "execution_count": 226,
   "id": "039e95dd-5a78-479f-b2c3-d822812b1c72",
   "metadata": {},
   "outputs": [
    {
     "data": {
      "text/html": [
       "<div>\n",
       "<style scoped>\n",
       "    .dataframe tbody tr th:only-of-type {\n",
       "        vertical-align: middle;\n",
       "    }\n",
       "\n",
       "    .dataframe tbody tr th {\n",
       "        vertical-align: top;\n",
       "    }\n",
       "\n",
       "    .dataframe thead th {\n",
       "        text-align: right;\n",
       "    }\n",
       "</style>\n",
       "<table border=\"1\" class=\"dataframe\">\n",
       "  <thead>\n",
       "    <tr style=\"text-align: right;\">\n",
       "      <th></th>\n",
       "      <th>Planta</th>\n",
       "      <th>Puerto de origen</th>\n",
       "      <th>Puerto de destino</th>\n",
       "      <th>Peso [kg]</th>\n",
       "      <th>Peso máximo [kg]</th>\n",
       "      <th>Peso real [kg]</th>\n",
       "      <th>Costo de transporte [USD]</th>\n",
       "    </tr>\n",
       "  </thead>\n",
       "  <tbody>\n",
       "    <tr>\n",
       "      <th>110139</th>\n",
       "      <td>3</td>\n",
       "      <td>4</td>\n",
       "      <td>9</td>\n",
       "      <td>4293.00</td>\n",
       "      <td>37496.25</td>\n",
       "      <td>4293.00</td>\n",
       "      <td>345.16</td>\n",
       "    </tr>\n",
       "    <tr>\n",
       "      <th>70003</th>\n",
       "      <td>3</td>\n",
       "      <td>4</td>\n",
       "      <td>9</td>\n",
       "      <td>330.07</td>\n",
       "      <td>3729996.27</td>\n",
       "      <td>330.07</td>\n",
       "      <td>95.23</td>\n",
       "    </tr>\n",
       "    <tr>\n",
       "      <th>8783</th>\n",
       "      <td>3</td>\n",
       "      <td>4</td>\n",
       "      <td>9</td>\n",
       "      <td>539.55</td>\n",
       "      <td>42295.77</td>\n",
       "      <td>539.55</td>\n",
       "      <td>26.11</td>\n",
       "    </tr>\n",
       "    <tr>\n",
       "      <th>131723</th>\n",
       "      <td>3</td>\n",
       "      <td>4</td>\n",
       "      <td>9</td>\n",
       "      <td>31710.08</td>\n",
       "      <td>7169992.83</td>\n",
       "      <td>31710.08</td>\n",
       "      <td>2359.23</td>\n",
       "    </tr>\n",
       "    <tr>\n",
       "      <th>118627</th>\n",
       "      <td>3</td>\n",
       "      <td>4</td>\n",
       "      <td>9</td>\n",
       "      <td>423.50</td>\n",
       "      <td>644.00</td>\n",
       "      <td>423.50</td>\n",
       "      <td>161.10</td>\n",
       "    </tr>\n",
       "    <tr>\n",
       "      <th>86903</th>\n",
       "      <td>3</td>\n",
       "      <td>4</td>\n",
       "      <td>9</td>\n",
       "      <td>70061.55</td>\n",
       "      <td>20309979.69</td>\n",
       "      <td>70061.55</td>\n",
       "      <td>5212.58</td>\n",
       "    </tr>\n",
       "    <tr>\n",
       "      <th>82233</th>\n",
       "      <td>3</td>\n",
       "      <td>4</td>\n",
       "      <td>9</td>\n",
       "      <td>244.96</td>\n",
       "      <td>2709997.29</td>\n",
       "      <td>244.96</td>\n",
       "      <td>101.83</td>\n",
       "    </tr>\n",
       "    <tr>\n",
       "      <th>4762</th>\n",
       "      <td>12</td>\n",
       "      <td>4</td>\n",
       "      <td>9</td>\n",
       "      <td>705.42</td>\n",
       "      <td>265997.34</td>\n",
       "      <td>705.42</td>\n",
       "      <td>53.61</td>\n",
       "    </tr>\n",
       "    <tr>\n",
       "      <th>13305</th>\n",
       "      <td>3</td>\n",
       "      <td>4</td>\n",
       "      <td>9</td>\n",
       "      <td>47.56</td>\n",
       "      <td>59747.61</td>\n",
       "      <td>47.56</td>\n",
       "      <td>2.02</td>\n",
       "    </tr>\n",
       "    <tr>\n",
       "      <th>38105</th>\n",
       "      <td>3</td>\n",
       "      <td>4</td>\n",
       "      <td>9</td>\n",
       "      <td>555.86</td>\n",
       "      <td>143744.25</td>\n",
       "      <td>555.86</td>\n",
       "      <td>23.57</td>\n",
       "    </tr>\n",
       "  </tbody>\n",
       "</table>\n",
       "</div>"
      ],
      "text/plain": [
       "        Planta  Puerto de origen  Puerto de destino  Peso [kg]  \\\n",
       "110139       3                 4                  9    4293.00   \n",
       "70003        3                 4                  9     330.07   \n",
       "8783         3                 4                  9     539.55   \n",
       "131723       3                 4                  9   31710.08   \n",
       "118627       3                 4                  9     423.50   \n",
       "86903        3                 4                  9   70061.55   \n",
       "82233        3                 4                  9     244.96   \n",
       "4762        12                 4                  9     705.42   \n",
       "13305        3                 4                  9      47.56   \n",
       "38105        3                 4                  9     555.86   \n",
       "\n",
       "        Peso máximo [kg]  Peso real [kg]  Costo de transporte [USD]  \n",
       "110139          37496.25         4293.00                     345.16  \n",
       "70003         3729996.27          330.07                      95.23  \n",
       "8783            42295.77          539.55                      26.11  \n",
       "131723        7169992.83        31710.08                    2359.23  \n",
       "118627            644.00          423.50                     161.10  \n",
       "86903        20309979.69        70061.55                    5212.58  \n",
       "82233         2709997.29          244.96                     101.83  \n",
       "4762           265997.34          705.42                      53.61  \n",
       "13305           59747.61           47.56                       2.02  \n",
       "38105          143744.25          555.86                      23.57  "
      ]
     },
     "execution_count": 226,
     "metadata": {},
     "output_type": "execute_result"
    }
   ],
   "source": [
    "df3[\"Peso [kg]\"] = df3[\"Items\"] * df3[\"Peso [kg/item]\"]\n",
    "df3[\"Peso máximo [kg]\"] = df3[\"Items\"] * df3[\"Peso máximo [kg/item]\"]\n",
    "df3[\"Peso real [kg]\"] = np.where(df3[\"Peso [kg]\"] < df3[\"Peso máximo [kg]\"], df3[\"Peso [kg]\"], df3[\"Peso máximo [kg]\"])\n",
    "\n",
    "a = df3[\"Peso real [kg]\"] / df3[\"Peso real [kg]\"].sum() * df3[\"Tasa de flete [USD/kg]\"]\n",
    "b = df3[\"Peso real [kg]\"] * df3[\"Tasa de flete [USD/kg]\"]\n",
    "c = df3[\"Costo mínimo [USD/kg]\"]\n",
    "\n",
    "df3[\"Costo de transporte [USD]\"] = np.where(df3[\"Nivel de servicio\"] == \"CRF\", 0, \n",
    "                                            np.where(df3[\"Modo de transporte\"] == \"Tierra\", np.where(a > c, a, c),\n",
    "                                                    np.where(b > c, b, c)))\n",
    "\n",
    "df3[[\"Planta\", \"Puerto de origen\", \"Puerto de destino\", \"Peso [kg]\", \"Peso máximo [kg]\", \n",
    "     \"Peso real [kg]\", \"Costo de transporte [USD]\"]].sample(10).round(2)"
   ]
  },
  {
   "cell_type": "code",
   "execution_count": 227,
   "id": "af25d896-8cf9-438e-a3ee-02e3b8030a5a",
   "metadata": {},
   "outputs": [
    {
     "data": {
      "text/html": [
       "<div>\n",
       "<style scoped>\n",
       "    .dataframe tbody tr th:only-of-type {\n",
       "        vertical-align: middle;\n",
       "    }\n",
       "\n",
       "    .dataframe tbody tr th {\n",
       "        vertical-align: top;\n",
       "    }\n",
       "\n",
       "    .dataframe thead tr th {\n",
       "        text-align: left;\n",
       "    }\n",
       "\n",
       "    .dataframe thead tr:last-of-type th {\n",
       "        text-align: right;\n",
       "    }\n",
       "</style>\n",
       "<table border=\"1\" class=\"dataframe\">\n",
       "  <thead>\n",
       "    <tr>\n",
       "      <th></th>\n",
       "      <th></th>\n",
       "      <th></th>\n",
       "      <th colspan=\"5\" halign=\"left\">Costo de transporte [USD]</th>\n",
       "    </tr>\n",
       "    <tr>\n",
       "      <th></th>\n",
       "      <th></th>\n",
       "      <th></th>\n",
       "      <th>min</th>\n",
       "      <th>mean</th>\n",
       "      <th>max</th>\n",
       "      <th>sum</th>\n",
       "      <th>%</th>\n",
       "    </tr>\n",
       "    <tr>\n",
       "      <th>Planta</th>\n",
       "      <th>Puerto de origen</th>\n",
       "      <th>Puerto de destino</th>\n",
       "      <th></th>\n",
       "      <th></th>\n",
       "      <th></th>\n",
       "      <th></th>\n",
       "      <th></th>\n",
       "    </tr>\n",
       "  </thead>\n",
       "  <tbody>\n",
       "    <tr>\n",
       "      <th>3</th>\n",
       "      <th>4</th>\n",
       "      <th>9</th>\n",
       "      <td>1.20</td>\n",
       "      <td>9893.20</td>\n",
       "      <td>15024018.01</td>\n",
       "      <td>1.363283e+09</td>\n",
       "      <td>98.63</td>\n",
       "    </tr>\n",
       "    <tr>\n",
       "      <th>8</th>\n",
       "      <th>4</th>\n",
       "      <th>9</th>\n",
       "      <td>88.23</td>\n",
       "      <td>2392.90</td>\n",
       "      <td>11920.83</td>\n",
       "      <td>2.416832e+06</td>\n",
       "      <td>0.17</td>\n",
       "    </tr>\n",
       "    <tr>\n",
       "      <th>9</th>\n",
       "      <th>4</th>\n",
       "      <th>9</th>\n",
       "      <td>521.53</td>\n",
       "      <td>77164.00</td>\n",
       "      <td>736734.03</td>\n",
       "      <td>9.259680e+06</td>\n",
       "      <td>0.67</td>\n",
       "    </tr>\n",
       "    <tr>\n",
       "      <th>12</th>\n",
       "      <th>4</th>\n",
       "      <th>9</th>\n",
       "      <td>3.71</td>\n",
       "      <td>710.63</td>\n",
       "      <td>14359.64</td>\n",
       "      <td>4.540899e+06</td>\n",
       "      <td>0.33</td>\n",
       "    </tr>\n",
       "    <tr>\n",
       "      <th>13</th>\n",
       "      <th>4</th>\n",
       "      <th>9</th>\n",
       "      <td>3.85</td>\n",
       "      <td>3202.19</td>\n",
       "      <td>210450.11</td>\n",
       "      <td>2.753888e+06</td>\n",
       "      <td>0.20</td>\n",
       "    </tr>\n",
       "    <tr>\n",
       "      <th>16</th>\n",
       "      <th>9</th>\n",
       "      <th>9</th>\n",
       "      <td>31.28</td>\n",
       "      <td>31.28</td>\n",
       "      <td>31.28</td>\n",
       "      <td>1.063470e+03</td>\n",
       "      <td>0.00</td>\n",
       "    </tr>\n",
       "  </tbody>\n",
       "</table>\n",
       "</div>"
      ],
      "text/plain": [
       "                                          Costo de transporte [USD]            \\\n",
       "                                                                min      mean   \n",
       "Planta Puerto de origen Puerto de destino                                       \n",
       "3      4                9                                      1.20   9893.20   \n",
       "8      4                9                                     88.23   2392.90   \n",
       "9      4                9                                    521.53  77164.00   \n",
       "12     4                9                                      3.71    710.63   \n",
       "13     4                9                                      3.85   3202.19   \n",
       "16     9                9                                     31.28     31.28   \n",
       "\n",
       "                                                                             \n",
       "                                                   max           sum      %  \n",
       "Planta Puerto de origen Puerto de destino                                    \n",
       "3      4                9                  15024018.01  1.363283e+09  98.63  \n",
       "8      4                9                     11920.83  2.416832e+06   0.17  \n",
       "9      4                9                    736734.03  9.259680e+06   0.67  \n",
       "12     4                9                     14359.64  4.540899e+06   0.33  \n",
       "13     4                9                    210450.11  2.753888e+06   0.20  \n",
       "16     9                9                        31.28  1.063470e+03   0.00  "
      ]
     },
     "execution_count": 227,
     "metadata": {},
     "output_type": "execute_result"
    }
   ],
   "source": [
    "df3_agrup = df3.groupby(by = [\"Planta\", \"Puerto de origen\", \"Puerto de destino\"]).agg({\"Costo de transporte [USD]\": [\"min\", \"mean\", \"max\", \"sum\"]})\n",
    "\n",
    "total = df3_agrup[(\"Costo de transporte [USD]\", \"sum\")].sum()\n",
    "porcentaje = lambda x: x / total * 100\n",
    "\n",
    "df3_agrup[(\"Costo de transporte [USD]\", \"%\")] = df3_agrup[(\"Costo de transporte [USD]\", \"sum\")].apply(porcentaje)\n",
    "df3_agrup.round(2)"
   ]
  },
  {
   "cell_type": "code",
   "execution_count": 228,
   "id": "52ea6fce-1c62-40f0-867a-76a406739660",
   "metadata": {},
   "outputs": [
    {
     "data": {
      "image/png": "[encoded data removed]",
      "text/plain": [
       "<Figure size 432x288 with 1 Axes>"
      ]
     },
     "metadata": {},
     "output_type": "display_data"
    }
   ],
   "source": [
    "plt.figure(1)\n",
    "plt.bar(x = df3_agrup.index.levels[0], height = df3_agrup[(\"Costo de transporte [USD]\", \"%\")])\n",
    "plt.xlabel(\"Planta\")\n",
    "plt.xticks(df3_agrup.index.levels[0])\n",
    "plt.ylabel(\"% Costo de Transporte\");"
   ]
  },
  {
   "cell_type": "markdown",
   "id": "bc033abf-debb-457d-9a35-585fa8a75f04",
   "metadata": {},
   "source": [
    "*Estadística Descriptiva del Costo Total [USD]*\n",
    "\n",
    "$$ Z_{ipj} = min \\sum_{k}{(X_{ki} + \\sum_{c}{...\\sum_{m}{Y_{ikpjcstm}}})} $$"
   ]
  },
  {
   "cell_type": "code",
   "execution_count": 229,
   "id": "6e51cc6f-c9c2-4d92-85ff-2d9ca22d9997",
   "metadata": {},
   "outputs": [
    {
     "data": {
      "text/html": [
       "<div>\n",
       "<style scoped>\n",
       "    .dataframe tbody tr th:only-of-type {\n",
       "        vertical-align: middle;\n",
       "    }\n",
       "\n",
       "    .dataframe tbody tr th {\n",
       "        vertical-align: top;\n",
       "    }\n",
       "\n",
       "    .dataframe thead tr th {\n",
       "        text-align: left;\n",
       "    }\n",
       "\n",
       "    .dataframe thead tr:last-of-type th {\n",
       "        text-align: right;\n",
       "    }\n",
       "</style>\n",
       "<table border=\"1\" class=\"dataframe\">\n",
       "  <thead>\n",
       "    <tr>\n",
       "      <th></th>\n",
       "      <th></th>\n",
       "      <th></th>\n",
       "      <th colspan=\"5\" halign=\"left\">Costo total [USD]</th>\n",
       "    </tr>\n",
       "    <tr>\n",
       "      <th></th>\n",
       "      <th></th>\n",
       "      <th></th>\n",
       "      <th>min</th>\n",
       "      <th>mean</th>\n",
       "      <th>max</th>\n",
       "      <th>sum</th>\n",
       "      <th>%</th>\n",
       "    </tr>\n",
       "    <tr>\n",
       "      <th>Planta</th>\n",
       "      <th>Puerto de origen</th>\n",
       "      <th>Puerto de destino</th>\n",
       "      <th></th>\n",
       "      <th></th>\n",
       "      <th></th>\n",
       "      <th></th>\n",
       "      <th></th>\n",
       "    </tr>\n",
       "  </thead>\n",
       "  <tbody>\n",
       "    <tr>\n",
       "      <th>3</th>\n",
       "      <th>4</th>\n",
       "      <th>9</th>\n",
       "      <td>123.11</td>\n",
       "      <td>11063.88</td>\n",
       "      <td>15314774.90</td>\n",
       "      <td>1.524602e+09</td>\n",
       "      <td>98.48</td>\n",
       "    </tr>\n",
       "    <tr>\n",
       "      <th>8</th>\n",
       "      <th>4</th>\n",
       "      <th>9</th>\n",
       "      <td>445.86</td>\n",
       "      <td>3823.07</td>\n",
       "      <td>14871.84</td>\n",
       "      <td>3.861298e+06</td>\n",
       "      <td>0.25</td>\n",
       "    </tr>\n",
       "    <tr>\n",
       "      <th>9</th>\n",
       "      <th>4</th>\n",
       "      <th>9</th>\n",
       "      <td>1591.66</td>\n",
       "      <td>85838.74</td>\n",
       "      <td>783738.30</td>\n",
       "      <td>1.030065e+07</td>\n",
       "      <td>0.67</td>\n",
       "    </tr>\n",
       "    <tr>\n",
       "      <th>12</th>\n",
       "      <th>4</th>\n",
       "      <th>9</th>\n",
       "      <td>192.14</td>\n",
       "      <td>1002.17</td>\n",
       "      <td>15150.55</td>\n",
       "      <td>6.403891e+06</td>\n",
       "      <td>0.41</td>\n",
       "    </tr>\n",
       "    <tr>\n",
       "      <th>13</th>\n",
       "      <th>4</th>\n",
       "      <th>9</th>\n",
       "      <td>121.62</td>\n",
       "      <td>3439.12</td>\n",
       "      <td>212913.25</td>\n",
       "      <td>2.957642e+06</td>\n",
       "      <td>0.19</td>\n",
       "    </tr>\n",
       "    <tr>\n",
       "      <th>16</th>\n",
       "      <th>9</th>\n",
       "      <th>9</th>\n",
       "      <td>570.74</td>\n",
       "      <td>734.38</td>\n",
       "      <td>1613.20</td>\n",
       "      <td>2.496891e+04</td>\n",
       "      <td>0.00</td>\n",
       "    </tr>\n",
       "  </tbody>\n",
       "</table>\n",
       "</div>"
      ],
      "text/plain": [
       "                                          Costo total [USD]            \\\n",
       "                                                        min      mean   \n",
       "Planta Puerto de origen Puerto de destino                               \n",
       "3      4                9                            123.11  11063.88   \n",
       "8      4                9                            445.86   3823.07   \n",
       "9      4                9                           1591.66  85838.74   \n",
       "12     4                9                            192.14   1002.17   \n",
       "13     4                9                            121.62   3439.12   \n",
       "16     9                9                            570.74    734.38   \n",
       "\n",
       "                                                                             \n",
       "                                                   max           sum      %  \n",
       "Planta Puerto de origen Puerto de destino                                    \n",
       "3      4                9                  15314774.90  1.524602e+09  98.48  \n",
       "8      4                9                     14871.84  3.861298e+06   0.25  \n",
       "9      4                9                    783738.30  1.030065e+07   0.67  \n",
       "12     4                9                     15150.55  6.403891e+06   0.41  \n",
       "13     4                9                    212913.25  2.957642e+06   0.19  \n",
       "16     9                9                      1613.20  2.496891e+04   0.00  "
      ]
     },
     "execution_count": 229,
     "metadata": {},
     "output_type": "execute_result"
    }
   ],
   "source": [
    "df3[\"Costo total [USD]\"] = df3[\"Costo de almacenaje [USD]\"] + df3[\"Costo de transporte [USD]\"]\n",
    "df3_agrup = df3.groupby(by = [\"Planta\", \"Puerto de origen\", \"Puerto de destino\"]).agg({\"Costo total [USD]\": [\"min\", \"mean\", \"max\", \"sum\"]})\n",
    "\n",
    "total = df3_agrup[(\"Costo total [USD]\", \"sum\")].sum()\n",
    "porcentaje = lambda x: x / total * 100\n",
    "\n",
    "df3_agrup[(\"Costo total [USD]\", \"%\")] = df3_agrup[(\"Costo total [USD]\", \"sum\")].apply(porcentaje)\n",
    "df3_agrup.round(2)"
   ]
  },
  {
   "cell_type": "code",
   "execution_count": 230,
   "id": "561b76f7-6180-4ef4-9f1e-fb15488819fc",
   "metadata": {},
   "outputs": [
    {
     "data": {
      "image/png": "[encoded data removed]",
      "text/plain": [
       "<Figure size 432x288 with 1 Axes>"
      ]
     },
     "metadata": {},
     "output_type": "display_data"
    }
   ],
   "source": [
    "plt.figure(1)\n",
    "plt.bar(x = df3_agrup.index.levels[0], height = df3_agrup[(\"Costo total [USD]\", \"%\")])\n",
    "plt.xlabel(\"Planta\")\n",
    "plt.xticks(df3_agrup.index.levels[0])\n",
    "plt.ylabel(\"% Costo total\");"
   ]
  },
  {
   "cell_type": "code",
   "execution_count": null,
   "id": "61f6d23a-8f88-41ad-a712-944bcf35d1cc",
   "metadata": {},
   "outputs": [],
   "source": []
  }
 ],
 "metadata": {
  "kernelspec": {
   "display_name": "Python 3",
   "language": "python",
   "name": "python3"
  },
  "language_info": {
   "codemirror_mode": {
    "name": "ipython",
    "version": 3
   },
   "file_extension": ".py",
   "mimetype": "text/x-python",
   "name": "python",
   "nbconvert_exporter": "python",
   "pygments_lexer": "ipython3",
   "version": "3.8.8"
  }
 },
 "nbformat": 4,
 "nbformat_minor": 5
}
