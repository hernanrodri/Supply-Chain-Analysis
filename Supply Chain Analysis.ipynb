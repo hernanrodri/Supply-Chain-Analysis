{
 "cells": [
  {
   "cell_type": "markdown",
   "id": "ed5b6332-86c3-4ba5-be90-2bc249c8d919",
   "metadata": {},
   "source": [
    "# Supply Chain Analysis (Análisis de una Cadena de Suministro)"
   ]
  },
  {
   "cell_type": "markdown",
   "id": "20653d50-d6d8-4ade-af40-debbd588d2d8",
   "metadata": {},
   "source": [
    "La base de datos original que utilizo para desarrollar el proyecto se encuentra en el repositorio de la Universidad de Londres. [Link](https://brunel.figshare.com/articles/dataset/Supply_Chain_Logistics_Problem_Dataset/7558679)"
   ]
  },
  {
   "cell_type": "code",
   "execution_count": 351,
   "id": "111a328f-c4a9-499e-b19c-0dca368ebe2f",
   "metadata": {},
   "outputs": [],
   "source": [
    "import numpy as np\n",
    "import pandas as pd\n",
    "from scipy.stats import pearsonr, contingency, chisquare\n",
    "import matplotlib.pyplot as plt\n",
    "\n",
    "%matplotlib notebook\n",
    "%matplotlib inline"
   ]
  },
  {
   "cell_type": "code",
   "execution_count": 352,
   "id": "8331e1b1-a5b1-4a4c-9b33-315bb70a22a1",
   "metadata": {},
   "outputs": [],
   "source": [
    "pedidos = pd.read_excel(\"Logisitcs problem.xlsx\", sheet_name = \"OrderList\")\n",
    "fletes = pd.read_excel(\"Logisitcs problem.xlsx\", sheet_name = \"FreightRates\")\n",
    "costos_almacenaje = pd.read_excel(\"Logisitcs problem.xlsx\", sheet_name = \"WhCosts\")\n",
    "capacidad_almacenaje = pd.read_excel(\"Logisitcs problem.xlsx\", sheet_name = \"WhCapacities\")\n",
    "productos_por_planta = pd.read_excel(\"Logisitcs problem.xlsx\", sheet_name = \"ProductsPerPlant\")\n",
    "clientes_por_planta = pd.read_excel(\"Logisitcs problem.xlsx\", sheet_name = \"VmiCustomers\")\n",
    "puertos_por_planta = pd.read_excel(\"Logisitcs problem.xlsx\", sheet_name = \"PlantPorts\").iloc[:, :2]"
   ]
  },
  {
   "cell_type": "code",
   "execution_count": 353,
   "id": "442c3524-b4e5-474f-ba9d-05b79569a468",
   "metadata": {},
   "outputs": [],
   "source": [
    "pedidos.columns = [\"Pedido\", \"Fecha\", \"Puerto de origen\", \"Transportista\", \"TPT\", \"Nivel de servicio\", \"Envío adelantado [días]\", \n",
    "                   \"Envío tardío [días]\", \"Cliente\", \"Producto\", \"Planta\", \"Puerto de destino\", \"Items\", \"Peso [kg/item]\"] #Qué es TPT?\n",
    "\n",
    "fletes.columns = [\"Transportista\", \"Puerto de origen\", \"Puerto de destino\", \"Peso mínimo [kg/item]\", \"Peso máximo [kg/item]\", \"Nivel de servicio\",\n",
    "                  \"Costo mínimo [USD/kg]\", \"Tasa de flete [USD/kg]\", \"Modo de transporte\", \"Envío [días]\", \"Tipo de transportista\"]\n",
    "\n",
    "costos_almacenaje.columns = [\"Planta\", \"Costo específico [USD/item]\"]\n",
    "capacidad_almacenaje.columns = [\"Planta\", \"Capacidad [kg/día]\"] #En qué unidades está esta capacidad?\n",
    "productos_por_planta.columns = [\"Planta\", \"Producto\"]\n",
    "clientes_por_planta.columns = [\"Planta\", \"Cliente\"]\n",
    "puertos_por_planta.columns = [\"Planta\", \"Puerto de Origen\"]"
   ]
  },
  {
   "cell_type": "markdown",
   "id": "6983ad41-9f4f-456f-9e4b-3c1e54bc3217",
   "metadata": {},
   "source": [
    "# Análisis exploratorio de los datos"
   ]
  },
  {
   "cell_type": "markdown",
   "id": "6d1ce0d2-a89f-4084-a0ba-2b89bf06ef79",
   "metadata": {},
   "source": [
    "## Tabla Pedidos"
   ]
  },
  {
   "cell_type": "code",
   "execution_count": 354,
   "id": "220fa2d7-1ad0-4789-8fe0-4dc77993db53",
   "metadata": {},
   "outputs": [
    {
     "name": "stdout",
     "output_type": "stream",
     "text": [
      "<class 'pandas.core.frame.DataFrame'>\n",
      "RangeIndex: 9215 entries, 0 to 9214\n",
      "Data columns (total 14 columns):\n",
      " #   Column                   Non-Null Count  Dtype         \n",
      "---  ------                   --------------  -----         \n",
      " 0   Pedido                   9215 non-null   float64       \n",
      " 1   Fecha                    9215 non-null   datetime64[ns]\n",
      " 2   Puerto de origen         9215 non-null   object        \n",
      " 3   Transportista            9215 non-null   object        \n",
      " 4   TPT                      9215 non-null   int64         \n",
      " 5   Nivel de servicio        9215 non-null   object        \n",
      " 6   Envío adelantado [días]  9215 non-null   int64         \n",
      " 7   Envío tardío [días]      9215 non-null   int64         \n",
      " 8   Cliente                  9215 non-null   object        \n",
      " 9   Producto                 9215 non-null   int64         \n",
      " 10  Planta                   9215 non-null   object        \n",
      " 11  Puerto de destino        9215 non-null   object        \n",
      " 12  Items                    9215 non-null   int64         \n",
      " 13  Peso [kg/item]           9215 non-null   float64       \n",
      "dtypes: datetime64[ns](1), float64(2), int64(5), object(6)\n",
      "memory usage: 1008.0+ KB\n"
     ]
    }
   ],
   "source": [
    "pedidos.info()"
   ]
  },
  {
   "cell_type": "markdown",
   "id": "fc10d035-ff5c-4e79-9053-97d5f9bbba05",
   "metadata": {},
   "source": [
    "*¿En qué fecha se realizaron los pedidos?*"
   ]
  },
  {
   "cell_type": "code",
   "execution_count": 355,
   "id": "a83cef3b-e9ba-482a-a3ba-5b9fbee918e0",
   "metadata": {},
   "outputs": [
    {
     "data": {
      "text/plain": [
       "'2013-05-26'"
      ]
     },
     "execution_count": 355,
     "metadata": {},
     "output_type": "execute_result"
    }
   ],
   "source": [
    "d = pedidos[\"Fecha\"].unique().astype(\"datetime64[D]\").astype(str)\n",
    "d[0]\n",
    "\n",
    "#Hay que acomodar la fecha en el formato dd-mm-aaaa"
   ]
  },
  {
   "cell_type": "markdown",
   "id": "ef07f122-5542-4dba-8d98-ae9b236b1c41",
   "metadata": {},
   "source": [
    "*¿Cuál es el total de pedidos en esa fecha?*"
   ]
  },
  {
   "cell_type": "code",
   "execution_count": 356,
   "id": "7b0f9141-1007-41ca-b241-02fba474584e",
   "metadata": {},
   "outputs": [
    {
     "data": {
      "text/plain": [
       "9215"
      ]
     },
     "execution_count": 356,
     "metadata": {},
     "output_type": "execute_result"
    }
   ],
   "source": [
    "pedidos.shape[0]"
   ]
  },
  {
   "cell_type": "markdown",
   "id": "227e8f9b-897a-40e8-9c04-851b8e754596",
   "metadata": {},
   "source": [
    "*¿Cuántos pedidos hubo por cada conjunto (Planta, Puerto de origen, Puerto de destino)?*"
   ]
  },
  {
   "cell_type": "code",
   "execution_count": 357,
   "id": "a4cd0076-25e7-4d6a-aed1-e1def08ae6f6",
   "metadata": {},
   "outputs": [],
   "source": [
    "pedidos[\"Pedido\"] = pedidos[\"Pedido\"].astype(int)\n",
    "lista = [\"Puerto de origen\", \"Planta\", \"Puerto de destino\"]\n",
    "pedidos[lista] = pedidos[lista].replace(to_replace = \"[^\\d.]\", value = \"\", regex = True).astype(int)"
   ]
  },
  {
   "cell_type": "code",
   "execution_count": 358,
   "id": "3af6179a-6948-47d9-b2b9-9b4f4bc1fcaf",
   "metadata": {},
   "outputs": [
    {
     "data": {
      "text/html": [
       "<div>\n",
       "<style scoped>\n",
       "    .dataframe tbody tr th:only-of-type {\n",
       "        vertical-align: middle;\n",
       "    }\n",
       "\n",
       "    .dataframe tbody tr th {\n",
       "        vertical-align: top;\n",
       "    }\n",
       "\n",
       "    .dataframe thead th {\n",
       "        text-align: right;\n",
       "    }\n",
       "</style>\n",
       "<table border=\"1\" class=\"dataframe\">\n",
       "  <thead>\n",
       "    <tr style=\"text-align: right;\">\n",
       "      <th></th>\n",
       "      <th></th>\n",
       "      <th></th>\n",
       "      <th>Recuento</th>\n",
       "      <th>%</th>\n",
       "    </tr>\n",
       "    <tr>\n",
       "      <th>Planta</th>\n",
       "      <th>Puerto de origen</th>\n",
       "      <th>Puerto de destino</th>\n",
       "      <th></th>\n",
       "      <th></th>\n",
       "    </tr>\n",
       "  </thead>\n",
       "  <tbody>\n",
       "    <tr>\n",
       "      <th>3</th>\n",
       "      <th>4</th>\n",
       "      <th>9</th>\n",
       "      <td>8541</td>\n",
       "      <td>92.69</td>\n",
       "    </tr>\n",
       "    <tr>\n",
       "      <th>4</th>\n",
       "      <th>5</th>\n",
       "      <th>9</th>\n",
       "      <td>1</td>\n",
       "      <td>0.01</td>\n",
       "    </tr>\n",
       "    <tr>\n",
       "      <th>8</th>\n",
       "      <th>4</th>\n",
       "      <th>9</th>\n",
       "      <td>102</td>\n",
       "      <td>1.11</td>\n",
       "    </tr>\n",
       "    <tr>\n",
       "      <th>9</th>\n",
       "      <th>4</th>\n",
       "      <th>9</th>\n",
       "      <td>12</td>\n",
       "      <td>0.13</td>\n",
       "    </tr>\n",
       "    <tr>\n",
       "      <th>12</th>\n",
       "      <th>4</th>\n",
       "      <th>9</th>\n",
       "      <td>300</td>\n",
       "      <td>3.26</td>\n",
       "    </tr>\n",
       "    <tr>\n",
       "      <th>13</th>\n",
       "      <th>4</th>\n",
       "      <th>9</th>\n",
       "      <td>86</td>\n",
       "      <td>0.93</td>\n",
       "    </tr>\n",
       "    <tr>\n",
       "      <th>16</th>\n",
       "      <th>9</th>\n",
       "      <th>9</th>\n",
       "      <td>173</td>\n",
       "      <td>1.88</td>\n",
       "    </tr>\n",
       "  </tbody>\n",
       "</table>\n",
       "</div>"
      ],
      "text/plain": [
       "                                           Recuento      %\n",
       "Planta Puerto de origen Puerto de destino                 \n",
       "3      4                9                      8541  92.69\n",
       "4      5                9                         1   0.01\n",
       "8      4                9                       102   1.11\n",
       "9      4                9                        12   0.13\n",
       "12     4                9                       300   3.26\n",
       "13     4                9                        86   0.93\n",
       "16     9                9                       173   1.88"
      ]
     },
     "execution_count": 358,
     "metadata": {},
     "output_type": "execute_result"
    }
   ],
   "source": [
    "pedidos_agrup = pedidos.groupby(by = [\"Planta\", \"Puerto de origen\", \"Puerto de destino\"]).agg({\"Pedido\": \"size\"})\n",
    "pedidos_agrup = pedidos_agrup.rename(columns = {\"Pedido\": \"Recuento\"})\n",
    "\n",
    "total = pedidos_agrup[\"Recuento\"].sum()\n",
    "porcentaje = lambda x: x / total * 100\n",
    "\n",
    "pedidos_agrup[\"%\"] = pedidos_agrup[\"Recuento\"].apply(porcentaje)\n",
    "pedidos_agrup.round(2)"
   ]
  },
  {
   "cell_type": "code",
   "execution_count": 359,
   "id": "32e80965-ebc4-4ab6-9dcb-5885c729a26b",
   "metadata": {},
   "outputs": [
    {
     "data": {
      "image/png": "[encoded data removed]",
      "text/plain": [
       "<Figure size 504x504 with 1 Axes>"
      ]
     },
     "metadata": {
      "needs_background": "light"
     },
     "output_type": "display_data"
    }
   ],
   "source": [
    "plt.figure(figsize = (7, 7))\n",
    "plt.bar(x = pedidos_agrup.index.levels[0], height = pedidos_agrup[\"%\"], color = \"olivedrab\")\n",
    "plt.xlabel(\"Planta\")\n",
    "plt.ylabel(\"% Recuento\");"
   ]
  },
  {
   "cell_type": "markdown",
   "id": "d529fd98-ac32-4e38-b3c7-4ee3aa2567d2",
   "metadata": {},
   "source": [
    "*Estadística Descriptiva de Items para cada conjunto (Planta, Puerto de origen, Puerto de destino)*"
   ]
  },
  {
   "cell_type": "code",
   "execution_count": 362,
   "id": "e6b15920-6cc7-4f0d-a36f-509e9bf8ad67",
   "metadata": {},
   "outputs": [
    {
     "data": {
      "text/html": [
       "<div>\n",
       "<style scoped>\n",
       "    .dataframe tbody tr th:only-of-type {\n",
       "        vertical-align: middle;\n",
       "    }\n",
       "\n",
       "    .dataframe tbody tr th {\n",
       "        vertical-align: top;\n",
       "    }\n",
       "\n",
       "    .dataframe thead tr th {\n",
       "        text-align: left;\n",
       "    }\n",
       "\n",
       "    .dataframe thead tr:last-of-type th {\n",
       "        text-align: right;\n",
       "    }\n",
       "</style>\n",
       "<table border=\"1\" class=\"dataframe\">\n",
       "  <thead>\n",
       "    <tr>\n",
       "      <th></th>\n",
       "      <th></th>\n",
       "      <th></th>\n",
       "      <th colspan=\"6\" halign=\"left\">Items</th>\n",
       "    </tr>\n",
       "    <tr>\n",
       "      <th></th>\n",
       "      <th></th>\n",
       "      <th></th>\n",
       "      <th>min</th>\n",
       "      <th>mean</th>\n",
       "      <th>max</th>\n",
       "      <th>std</th>\n",
       "      <th>sum</th>\n",
       "      <th>%</th>\n",
       "    </tr>\n",
       "    <tr>\n",
       "      <th>Planta</th>\n",
       "      <th>Puerto de origen</th>\n",
       "      <th>Puerto de destino</th>\n",
       "      <th></th>\n",
       "      <th></th>\n",
       "      <th></th>\n",
       "      <th></th>\n",
       "      <th></th>\n",
       "      <th></th>\n",
       "    </tr>\n",
       "  </thead>\n",
       "  <tbody>\n",
       "    <tr>\n",
       "      <th>3</th>\n",
       "      <th>4</th>\n",
       "      <th>9</th>\n",
       "      <td>235</td>\n",
       "      <td>3349.91</td>\n",
       "      <td>561847</td>\n",
       "      <td>16525.97</td>\n",
       "      <td>28611617</td>\n",
       "      <td>96.94</td>\n",
       "    </tr>\n",
       "    <tr>\n",
       "      <th>4</th>\n",
       "      <th>5</th>\n",
       "      <th>9</th>\n",
       "      <td>348</td>\n",
       "      <td>348.00</td>\n",
       "      <td>348</td>\n",
       "      <td>NaN</td>\n",
       "      <td>348</td>\n",
       "      <td>0.00</td>\n",
       "    </tr>\n",
       "    <tr>\n",
       "      <th>8</th>\n",
       "      <th>4</th>\n",
       "      <th>9</th>\n",
       "      <td>684</td>\n",
       "      <td>2715.76</td>\n",
       "      <td>5680</td>\n",
       "      <td>1504.06</td>\n",
       "      <td>277008</td>\n",
       "      <td>0.94</td>\n",
       "    </tr>\n",
       "    <tr>\n",
       "      <th>9</th>\n",
       "      <th>4</th>\n",
       "      <th>9</th>\n",
       "      <td>2301</td>\n",
       "      <td>18652.50</td>\n",
       "      <td>101069</td>\n",
       "      <td>28877.08</td>\n",
       "      <td>223830</td>\n",
       "      <td>0.76</td>\n",
       "    </tr>\n",
       "    <tr>\n",
       "      <th>12</th>\n",
       "      <th>4</th>\n",
       "      <th>9</th>\n",
       "      <td>236</td>\n",
       "      <td>373.33</td>\n",
       "      <td>1321</td>\n",
       "      <td>169.36</td>\n",
       "      <td>112000</td>\n",
       "      <td>0.38</td>\n",
       "    </tr>\n",
       "    <tr>\n",
       "      <th>13</th>\n",
       "      <th>4</th>\n",
       "      <th>9</th>\n",
       "      <td>240</td>\n",
       "      <td>504.41</td>\n",
       "      <td>5244</td>\n",
       "      <td>609.10</td>\n",
       "      <td>43379</td>\n",
       "      <td>0.15</td>\n",
       "    </tr>\n",
       "    <tr>\n",
       "      <th>16</th>\n",
       "      <th>9</th>\n",
       "      <th>9</th>\n",
       "      <td>280</td>\n",
       "      <td>1416.95</td>\n",
       "      <td>4464</td>\n",
       "      <td>1121.49</td>\n",
       "      <td>245133</td>\n",
       "      <td>0.83</td>\n",
       "    </tr>\n",
       "  </tbody>\n",
       "</table>\n",
       "</div>"
      ],
      "text/plain": [
       "                                          Items                              \\\n",
       "                                            min      mean     max       std   \n",
       "Planta Puerto de origen Puerto de destino                                     \n",
       "3      4                9                   235   3349.91  561847  16525.97   \n",
       "4      5                9                   348    348.00     348       NaN   \n",
       "8      4                9                   684   2715.76    5680   1504.06   \n",
       "9      4                9                  2301  18652.50  101069  28877.08   \n",
       "12     4                9                   236    373.33    1321    169.36   \n",
       "13     4                9                   240    504.41    5244    609.10   \n",
       "16     9                9                   280   1416.95    4464   1121.49   \n",
       "\n",
       "                                                            \n",
       "                                                sum      %  \n",
       "Planta Puerto de origen Puerto de destino                   \n",
       "3      4                9                  28611617  96.94  \n",
       "4      5                9                       348   0.00  \n",
       "8      4                9                    277008   0.94  \n",
       "9      4                9                    223830   0.76  \n",
       "12     4                9                    112000   0.38  \n",
       "13     4                9                     43379   0.15  \n",
       "16     9                9                    245133   0.83  "
      ]
     },
     "execution_count": 362,
     "metadata": {},
     "output_type": "execute_result"
    }
   ],
   "source": [
    "pedidos_agrup = pedidos.groupby(by = [\"Planta\", \"Puerto de origen\", \"Puerto de destino\"]).agg({\"Items\": [\"min\", \"mean\", \"max\", \"std\", \"sum\"]})\n",
    "\n",
    "total = pedidos_agrup[(\"Items\", \"sum\")].sum()\n",
    "porcentaje = lambda x: x / total * 100\n",
    "\n",
    "pedidos_agrup[(\"Items\", \"%\")] = pedidos_agrup[(\"Items\", \"sum\")].apply(porcentaje)\n",
    "pedidos_agrup.round(2)"
   ]
  },
  {
   "cell_type": "code",
   "execution_count": 365,
   "id": "3a099329-cf17-4f95-9a4d-ddde7a80eb11",
   "metadata": {},
   "outputs": [
    {
     "data": {
      "image/png": "[encoded data removed]",
      "text/plain": [
       "<Figure size 504x504 with 1 Axes>"
      ]
     },
     "metadata": {
      "needs_background": "light"
     },
     "output_type": "display_data"
    }
   ],
   "source": [
    "plt.figure(figsize = (7, 7))\n",
    "plt.bar(x = pedidos_agrup.index.levels[0], height = pedidos_agrup[(\"Items\", \"%\")], color = \"olivedrab\")\n",
    "plt.xlabel(\"Planta\")\n",
    "plt.ylabel(\"% Items\");"
   ]
  },
  {
   "cell_type": "markdown",
   "id": "b590c864-7b09-478f-a547-f9f699193d44",
   "metadata": {},
   "source": [
    "*Estadística Descriptiva de Peso [kg/items] para cada conjunto (Planta, Puerto de origen, Puerto de destino)*"
   ]
  },
  {
   "cell_type": "code",
   "execution_count": 366,
   "id": "6cd7ec7a-8c5f-4efd-bb19-827b35df7a73",
   "metadata": {},
   "outputs": [
    {
     "data": {
      "text/html": [
       "<div>\n",
       "<style scoped>\n",
       "    .dataframe tbody tr th:only-of-type {\n",
       "        vertical-align: middle;\n",
       "    }\n",
       "\n",
       "    .dataframe tbody tr th {\n",
       "        vertical-align: top;\n",
       "    }\n",
       "\n",
       "    .dataframe thead tr th {\n",
       "        text-align: left;\n",
       "    }\n",
       "\n",
       "    .dataframe thead tr:last-of-type th {\n",
       "        text-align: right;\n",
       "    }\n",
       "</style>\n",
       "<table border=\"1\" class=\"dataframe\">\n",
       "  <thead>\n",
       "    <tr>\n",
       "      <th></th>\n",
       "      <th></th>\n",
       "      <th></th>\n",
       "      <th colspan=\"4\" halign=\"left\">Peso [kg/item]</th>\n",
       "    </tr>\n",
       "    <tr>\n",
       "      <th></th>\n",
       "      <th></th>\n",
       "      <th></th>\n",
       "      <th>min</th>\n",
       "      <th>mean</th>\n",
       "      <th>max</th>\n",
       "      <th>std</th>\n",
       "    </tr>\n",
       "    <tr>\n",
       "      <th>Planta</th>\n",
       "      <th>Puerto de origen</th>\n",
       "      <th>Puerto de destino</th>\n",
       "      <th></th>\n",
       "      <th></th>\n",
       "      <th></th>\n",
       "      <th></th>\n",
       "    </tr>\n",
       "  </thead>\n",
       "  <tbody>\n",
       "    <tr>\n",
       "      <th>3</th>\n",
       "      <th>4</th>\n",
       "      <th>9</th>\n",
       "      <td>0.00</td>\n",
       "      <td>15.86</td>\n",
       "      <td>1356.76</td>\n",
       "      <td>50.20</td>\n",
       "    </tr>\n",
       "    <tr>\n",
       "      <th>4</th>\n",
       "      <th>5</th>\n",
       "      <th>9</th>\n",
       "      <td>2.10</td>\n",
       "      <td>2.10</td>\n",
       "      <td>2.10</td>\n",
       "      <td>NaN</td>\n",
       "    </tr>\n",
       "    <tr>\n",
       "      <th>8</th>\n",
       "      <th>4</th>\n",
       "      <th>9</th>\n",
       "      <td>2.29</td>\n",
       "      <td>14.50</td>\n",
       "      <td>43.64</td>\n",
       "      <td>10.37</td>\n",
       "    </tr>\n",
       "    <tr>\n",
       "      <th>9</th>\n",
       "      <th>4</th>\n",
       "      <th>9</th>\n",
       "      <td>5.35</td>\n",
       "      <td>33.86</td>\n",
       "      <td>171.92</td>\n",
       "      <td>48.35</td>\n",
       "    </tr>\n",
       "    <tr>\n",
       "      <th>12</th>\n",
       "      <th>4</th>\n",
       "      <th>9</th>\n",
       "      <td>0.26</td>\n",
       "      <td>27.16</td>\n",
       "      <td>325.96</td>\n",
       "      <td>52.33</td>\n",
       "    </tr>\n",
       "    <tr>\n",
       "      <th>13</th>\n",
       "      <th>4</th>\n",
       "      <th>9</th>\n",
       "      <td>0.35</td>\n",
       "      <td>63.12</td>\n",
       "      <td>946.50</td>\n",
       "      <td>127.13</td>\n",
       "    </tr>\n",
       "    <tr>\n",
       "      <th>16</th>\n",
       "      <th>9</th>\n",
       "      <th>9</th>\n",
       "      <td>0.61</td>\n",
       "      <td>185.94</td>\n",
       "      <td>2338.41</td>\n",
       "      <td>264.06</td>\n",
       "    </tr>\n",
       "  </tbody>\n",
       "</table>\n",
       "</div>"
      ],
      "text/plain": [
       "                                          Peso [kg/item]                   \\\n",
       "                                                     min    mean      max   \n",
       "Planta Puerto de origen Puerto de destino                                   \n",
       "3      4                9                           0.00   15.86  1356.76   \n",
       "4      5                9                           2.10    2.10     2.10   \n",
       "8      4                9                           2.29   14.50    43.64   \n",
       "9      4                9                           5.35   33.86   171.92   \n",
       "12     4                9                           0.26   27.16   325.96   \n",
       "13     4                9                           0.35   63.12   946.50   \n",
       "16     9                9                           0.61  185.94  2338.41   \n",
       "\n",
       "                                                   \n",
       "                                              std  \n",
       "Planta Puerto de origen Puerto de destino          \n",
       "3      4                9                   50.20  \n",
       "4      5                9                     NaN  \n",
       "8      4                9                   10.37  \n",
       "9      4                9                   48.35  \n",
       "12     4                9                   52.33  \n",
       "13     4                9                  127.13  \n",
       "16     9                9                  264.06  "
      ]
     },
     "execution_count": 366,
     "metadata": {},
     "output_type": "execute_result"
    }
   ],
   "source": [
    "pedidos_agrup = pedidos.groupby(by = [\"Planta\", \"Puerto de origen\", \"Puerto de destino\"]).agg({\"Peso [kg/item]\": [\"min\", \"mean\", \"max\", \"std\"]})\n",
    "pedidos_agrup.round(2)"
   ]
  },
  {
   "cell_type": "markdown",
   "id": "12bfbe3c-c2cc-4439-8229-a43d78d3258d",
   "metadata": {},
   "source": [
    "*Estadística Descriptiva de Peso [kg] para cada conjunto (Planta, Puerto de origen, Puerto de destino)*"
   ]
  },
  {
   "cell_type": "code",
   "execution_count": 367,
   "id": "940558af-fbbb-4044-a7de-cecce3c35630",
   "metadata": {},
   "outputs": [
    {
     "data": {
      "text/html": [
       "<div>\n",
       "<style scoped>\n",
       "    .dataframe tbody tr th:only-of-type {\n",
       "        vertical-align: middle;\n",
       "    }\n",
       "\n",
       "    .dataframe tbody tr th {\n",
       "        vertical-align: top;\n",
       "    }\n",
       "\n",
       "    .dataframe thead tr th {\n",
       "        text-align: left;\n",
       "    }\n",
       "\n",
       "    .dataframe thead tr:last-of-type th {\n",
       "        text-align: right;\n",
       "    }\n",
       "</style>\n",
       "<table border=\"1\" class=\"dataframe\">\n",
       "  <thead>\n",
       "    <tr>\n",
       "      <th></th>\n",
       "      <th></th>\n",
       "      <th></th>\n",
       "      <th colspan=\"6\" halign=\"left\">Peso [kg]</th>\n",
       "    </tr>\n",
       "    <tr>\n",
       "      <th></th>\n",
       "      <th></th>\n",
       "      <th></th>\n",
       "      <th>min</th>\n",
       "      <th>mean</th>\n",
       "      <th>max</th>\n",
       "      <th>std</th>\n",
       "      <th>sum</th>\n",
       "      <th>%</th>\n",
       "    </tr>\n",
       "    <tr>\n",
       "      <th>Planta</th>\n",
       "      <th>Puerto de origen</th>\n",
       "      <th>Puerto de destino</th>\n",
       "      <th></th>\n",
       "      <th></th>\n",
       "      <th></th>\n",
       "      <th></th>\n",
       "      <th></th>\n",
       "      <th></th>\n",
       "    </tr>\n",
       "  </thead>\n",
       "  <tbody>\n",
       "    <tr>\n",
       "      <th>3</th>\n",
       "      <th>4</th>\n",
       "      <th>9</th>\n",
       "      <td>0.00</td>\n",
       "      <td>450220.37</td>\n",
       "      <td>3.543400e+08</td>\n",
       "      <td>6837051.65</td>\n",
       "      <td>3.845332e+09</td>\n",
       "      <td>97.10</td>\n",
       "    </tr>\n",
       "    <tr>\n",
       "      <th>4</th>\n",
       "      <th>5</th>\n",
       "      <th>9</th>\n",
       "      <td>731.19</td>\n",
       "      <td>731.19</td>\n",
       "      <td>7.311900e+02</td>\n",
       "      <td>NaN</td>\n",
       "      <td>7.311900e+02</td>\n",
       "      <td>0.00</td>\n",
       "    </tr>\n",
       "    <tr>\n",
       "      <th>8</th>\n",
       "      <th>4</th>\n",
       "      <th>9</th>\n",
       "      <td>2080.80</td>\n",
       "      <td>54381.49</td>\n",
       "      <td>2.462982e+05</td>\n",
       "      <td>55826.22</td>\n",
       "      <td>5.546912e+06</td>\n",
       "      <td>0.14</td>\n",
       "    </tr>\n",
       "    <tr>\n",
       "      <th>9</th>\n",
       "      <th>4</th>\n",
       "      <th>9</th>\n",
       "      <td>12300.18</td>\n",
       "      <td>1904321.00</td>\n",
       "      <td>1.737580e+07</td>\n",
       "      <td>4966753.18</td>\n",
       "      <td>2.285185e+07</td>\n",
       "      <td>0.58</td>\n",
       "    </tr>\n",
       "    <tr>\n",
       "      <th>12</th>\n",
       "      <th>4</th>\n",
       "      <th>9</th>\n",
       "      <td>87.48</td>\n",
       "      <td>17698.06</td>\n",
       "      <td>3.170878e+05</td>\n",
       "      <td>46996.80</td>\n",
       "      <td>5.309418e+06</td>\n",
       "      <td>0.13</td>\n",
       "    </tr>\n",
       "    <tr>\n",
       "      <th>13</th>\n",
       "      <th>4</th>\n",
       "      <th>9</th>\n",
       "      <td>90.88</td>\n",
       "      <td>104671.33</td>\n",
       "      <td>4.963446e+06</td>\n",
       "      <td>543657.14</td>\n",
       "      <td>9.001734e+06</td>\n",
       "      <td>0.23</td>\n",
       "    </tr>\n",
       "    <tr>\n",
       "      <th>16</th>\n",
       "      <th>9</th>\n",
       "      <th>9</th>\n",
       "      <td>219.77</td>\n",
       "      <td>417614.22</td>\n",
       "      <td>3.630482e+06</td>\n",
       "      <td>729269.77</td>\n",
       "      <td>7.224726e+07</td>\n",
       "      <td>1.82</td>\n",
       "    </tr>\n",
       "  </tbody>\n",
       "</table>\n",
       "</div>"
      ],
      "text/plain": [
       "                                          Peso [kg]                            \\\n",
       "                                                min        mean           max   \n",
       "Planta Puerto de origen Puerto de destino                                       \n",
       "3      4                9                      0.00   450220.37  3.543400e+08   \n",
       "4      5                9                    731.19      731.19  7.311900e+02   \n",
       "8      4                9                   2080.80    54381.49  2.462982e+05   \n",
       "9      4                9                  12300.18  1904321.00  1.737580e+07   \n",
       "12     4                9                     87.48    17698.06  3.170878e+05   \n",
       "13     4                9                     90.88   104671.33  4.963446e+06   \n",
       "16     9                9                    219.77   417614.22  3.630482e+06   \n",
       "\n",
       "                                                                            \n",
       "                                                  std           sum      %  \n",
       "Planta Puerto de origen Puerto de destino                                   \n",
       "3      4                9                  6837051.65  3.845332e+09  97.10  \n",
       "4      5                9                         NaN  7.311900e+02   0.00  \n",
       "8      4                9                    55826.22  5.546912e+06   0.14  \n",
       "9      4                9                  4966753.18  2.285185e+07   0.58  \n",
       "12     4                9                    46996.80  5.309418e+06   0.13  \n",
       "13     4                9                   543657.14  9.001734e+06   0.23  \n",
       "16     9                9                   729269.77  7.224726e+07   1.82  "
      ]
     },
     "execution_count": 367,
     "metadata": {},
     "output_type": "execute_result"
    }
   ],
   "source": [
    "pedidos[\"Peso [kg]\"] = pedidos[\"Items\"] * pedidos[\"Peso [kg/item]\"]\n",
    "pedidos_agrup = pedidos.groupby(by = [\"Planta\", \"Puerto de origen\", \"Puerto de destino\"]).agg({\"Peso [kg]\": [\"min\", \"mean\", \"max\", \"std\", \"sum\"]})\n",
    "\n",
    "total = pedidos_agrup[(\"Peso [kg]\", \"sum\")].sum()\n",
    "porcentaje = lambda x: x / total * 100\n",
    "\n",
    "pedidos_agrup[(\"Peso [kg]\", \"%\")] = pedidos_agrup[(\"Peso [kg]\", \"sum\")].apply(porcentaje)\n",
    "pedidos_agrup.round(2)"
   ]
  },
  {
   "cell_type": "code",
   "execution_count": 370,
   "id": "e6fb0161-1746-4e26-8883-68a76225fee1",
   "metadata": {},
   "outputs": [
    {
     "data": {
      "image/png": "[encoded data removed]",
      "text/plain": [
       "<Figure size 504x504 with 1 Axes>"
      ]
     },
     "metadata": {
      "needs_background": "light"
     },
     "output_type": "display_data"
    }
   ],
   "source": [
    "plt.figure(figsize = (7, 7))\n",
    "plt.bar(x = pedidos_agrup.index.levels[0], height = pedidos_agrup[(\"Peso [kg]\", \"%\")], color = \"olivedrab\")\n",
    "plt.xlabel(\"Planta\")\n",
    "plt.ylabel(\"% de Peso\");"
   ]
  },
  {
   "cell_type": "markdown",
   "id": "4c34f7fd-3c52-4e1e-a177-c3227d179d0f",
   "metadata": {},
   "source": [
    "*¿Hay alguna correlación entre Peso [kg/items] e Items?*"
   ]
  },
  {
   "cell_type": "code",
   "execution_count": 288,
   "id": "06b9a0bf-d079-4df1-a0e0-1da1d355af6b",
   "metadata": {},
   "outputs": [
    {
     "data": {
      "image/png": "[encoded data removed]",
      "text/plain": [
       "<Figure size 504x504 with 1 Axes>"
      ]
     },
     "metadata": {
      "needs_background": "light"
     },
     "output_type": "display_data"
    }
   ],
   "source": [
    "plt.figure(figsize = (7, 7))\n",
    "plt.scatter(pedidos[\"Items\"], pedidos[\"Peso [kg/item]\"], s = 5, c = \"olivedrab\")\n",
    "plt.xlabel(\"Items\")\n",
    "plt.ylabel(\"Peso [kg/item]\");"
   ]
  },
  {
   "cell_type": "code",
   "execution_count": 371,
   "id": "b94440ac-b5a7-480a-94af-82252d4d4019",
   "metadata": {},
   "outputs": [
    {
     "data": {
      "text/plain": [
       "0.345"
      ]
     },
     "execution_count": 371,
     "metadata": {},
     "output_type": "execute_result"
    }
   ],
   "source": [
    "r2, pvalue = pearsonr(x = pedidos[\"Items\"], y = pedidos[\"Peso [kg/item]\"])\n",
    "round(r2, 3)"
   ]
  },
  {
   "cell_type": "markdown",
   "id": "e64efb93-909b-4a4a-a23d-8a10b794ad17",
   "metadata": {},
   "source": [
    "## Tabla Fletes"
   ]
  },
  {
   "cell_type": "code",
   "execution_count": 11,
   "id": "3c6c48e3-9227-4b83-b522-2313a266be41",
   "metadata": {},
   "outputs": [
    {
     "name": "stdout",
     "output_type": "stream",
     "text": [
      "<class 'pandas.core.frame.DataFrame'>\n",
      "RangeIndex: 1540 entries, 0 to 1539\n",
      "Data columns (total 11 columns):\n",
      " #   Column                  Non-Null Count  Dtype  \n",
      "---  ------                  --------------  -----  \n",
      " 0   Transportista           1540 non-null   object \n",
      " 1   Puerto de origen        1540 non-null   object \n",
      " 2   Puerto de destino       1540 non-null   object \n",
      " 3   Peso mínimo [kg/item]   1540 non-null   float64\n",
      " 4   Peso máximo [kg/item]   1540 non-null   float64\n",
      " 5   Nivel de servicio       1540 non-null   object \n",
      " 6   Costo mínimo [USD/kg]   1540 non-null   float64\n",
      " 7   Tasa de flete [USD/kg]  1540 non-null   float64\n",
      " 8   Modo de transporte      1540 non-null   object \n",
      " 9   Envío [días]            1540 non-null   int64  \n",
      " 10  Tipo de transportista   1540 non-null   object \n",
      "dtypes: float64(4), int64(1), object(6)\n",
      "memory usage: 132.5+ KB\n"
     ]
    }
   ],
   "source": [
    "fletes.info()"
   ]
  },
  {
   "cell_type": "code",
   "execution_count": 372,
   "id": "db3bb231-a81b-4a64-8b62-0e7b121e83b8",
   "metadata": {},
   "outputs": [],
   "source": [
    "lista = [\"Puerto de origen\", \"Puerto de destino\"]\n",
    "fletes[lista] = fletes[lista].replace(to_replace = \"[^\\d.]\", value = \"\", regex = True).astype(int)\n",
    "fletes[\"Modo de transporte\"] = fletes[\"Modo de transporte\"].replace({\"AIR   \": \"Aire\", \"GROUND\": \"Tierra\"}, regex = True)"
   ]
  },
  {
   "cell_type": "markdown",
   "id": "b77c83aa-6b78-49ee-8e58-9b0514f6d375",
   "metadata": {},
   "source": [
    "*Estadística Descriptiva de Tasa de flete [USD/kg] para cada conjunto (Puerto de origen, Puerto de destino)*"
   ]
  },
  {
   "cell_type": "code",
   "execution_count": 373,
   "id": "2f2e6c74-4dfa-4edc-866e-efcd77239b9d",
   "metadata": {},
   "outputs": [
    {
     "data": {
      "text/html": [
       "<div>\n",
       "<style scoped>\n",
       "    .dataframe tbody tr th:only-of-type {\n",
       "        vertical-align: middle;\n",
       "    }\n",
       "\n",
       "    .dataframe tbody tr th {\n",
       "        vertical-align: top;\n",
       "    }\n",
       "\n",
       "    .dataframe thead tr th {\n",
       "        text-align: left;\n",
       "    }\n",
       "\n",
       "    .dataframe thead tr:last-of-type th {\n",
       "        text-align: right;\n",
       "    }\n",
       "</style>\n",
       "<table border=\"1\" class=\"dataframe\">\n",
       "  <thead>\n",
       "    <tr>\n",
       "      <th></th>\n",
       "      <th></th>\n",
       "      <th colspan=\"4\" halign=\"left\">Tasa de flete [USD/kg]</th>\n",
       "    </tr>\n",
       "    <tr>\n",
       "      <th></th>\n",
       "      <th></th>\n",
       "      <th>min</th>\n",
       "      <th>mean</th>\n",
       "      <th>max</th>\n",
       "      <th>std</th>\n",
       "    </tr>\n",
       "    <tr>\n",
       "      <th>Puerto de origen</th>\n",
       "      <th>Puerto de destino</th>\n",
       "      <th></th>\n",
       "      <th></th>\n",
       "      <th></th>\n",
       "      <th></th>\n",
       "    </tr>\n",
       "  </thead>\n",
       "  <tbody>\n",
       "    <tr>\n",
       "      <th>2</th>\n",
       "      <th>9</th>\n",
       "      <td>0.05</td>\n",
       "      <td>1.87</td>\n",
       "      <td>7.06</td>\n",
       "      <td>1.78</td>\n",
       "    </tr>\n",
       "    <tr>\n",
       "      <th>3</th>\n",
       "      <th>9</th>\n",
       "      <td>0.12</td>\n",
       "      <td>9.98</td>\n",
       "      <td>128.03</td>\n",
       "      <td>19.30</td>\n",
       "    </tr>\n",
       "    <tr>\n",
       "      <th>4</th>\n",
       "      <th>9</th>\n",
       "      <td>0.04</td>\n",
       "      <td>1.94</td>\n",
       "      <td>7.66</td>\n",
       "      <td>2.05</td>\n",
       "    </tr>\n",
       "    <tr>\n",
       "      <th>5</th>\n",
       "      <th>9</th>\n",
       "      <td>0.07</td>\n",
       "      <td>2.87</td>\n",
       "      <td>12.07</td>\n",
       "      <td>2.90</td>\n",
       "    </tr>\n",
       "    <tr>\n",
       "      <th>6</th>\n",
       "      <th>9</th>\n",
       "      <td>0.07</td>\n",
       "      <td>2.53</td>\n",
       "      <td>7.16</td>\n",
       "      <td>1.74</td>\n",
       "    </tr>\n",
       "    <tr>\n",
       "      <th>7</th>\n",
       "      <th>9</th>\n",
       "      <td>0.14</td>\n",
       "      <td>0.20</td>\n",
       "      <td>0.28</td>\n",
       "      <td>0.04</td>\n",
       "    </tr>\n",
       "    <tr>\n",
       "      <th>8</th>\n",
       "      <th>9</th>\n",
       "      <td>0.10</td>\n",
       "      <td>0.59</td>\n",
       "      <td>1.83</td>\n",
       "      <td>0.56</td>\n",
       "    </tr>\n",
       "    <tr>\n",
       "      <th>9</th>\n",
       "      <th>9</th>\n",
       "      <td>0.03</td>\n",
       "      <td>2.84</td>\n",
       "      <td>21.28</td>\n",
       "      <td>6.59</td>\n",
       "    </tr>\n",
       "    <tr>\n",
       "      <th>10</th>\n",
       "      <th>9</th>\n",
       "      <td>0.10</td>\n",
       "      <td>5.37</td>\n",
       "      <td>18.96</td>\n",
       "      <td>4.99</td>\n",
       "    </tr>\n",
       "    <tr>\n",
       "      <th>11</th>\n",
       "      <th>9</th>\n",
       "      <td>0.07</td>\n",
       "      <td>0.13</td>\n",
       "      <td>0.34</td>\n",
       "      <td>0.06</td>\n",
       "    </tr>\n",
       "  </tbody>\n",
       "</table>\n",
       "</div>"
      ],
      "text/plain": [
       "                                   Tasa de flete [USD/kg]                     \n",
       "                                                      min  mean     max    std\n",
       "Puerto de origen Puerto de destino                                            \n",
       "2                9                                   0.05  1.87    7.06   1.78\n",
       "3                9                                   0.12  9.98  128.03  19.30\n",
       "4                9                                   0.04  1.94    7.66   2.05\n",
       "5                9                                   0.07  2.87   12.07   2.90\n",
       "6                9                                   0.07  2.53    7.16   1.74\n",
       "7                9                                   0.14  0.20    0.28   0.04\n",
       "8                9                                   0.10  0.59    1.83   0.56\n",
       "9                9                                   0.03  2.84   21.28   6.59\n",
       "10               9                                   0.10  5.37   18.96   4.99\n",
       "11               9                                   0.07  0.13    0.34   0.06"
      ]
     },
     "execution_count": 373,
     "metadata": {},
     "output_type": "execute_result"
    }
   ],
   "source": [
    "fletes_agrup = fletes.groupby(by = [\"Puerto de origen\", \"Puerto de destino\"]).agg({\"Tasa de flete [USD/kg]\": [\"min\", \"mean\", \"max\", \"std\"]})\n",
    "fletes_agrup.round(2)"
   ]
  },
  {
   "cell_type": "code",
   "execution_count": 374,
   "id": "01e813cf-a80d-41e7-9fe3-48a071a12d26",
   "metadata": {},
   "outputs": [
    {
     "data": {
      "image/png": "[encoded data removed]",
      "text/plain": [
       "<Figure size 504x504 with 1 Axes>"
      ]
     },
     "metadata": {
      "needs_background": "light"
     },
     "output_type": "display_data"
    }
   ],
   "source": [
    "plt.figure(figsize = (7, 7))\n",
    "plt.hist(fletes[\"Tasa de flete [USD/kg]\"], bins = 100, color = \"olivedrab\")\n",
    "plt.xlabel(\"Tasa de flete [USD/kg]\")\n",
    "plt.ylabel(\"Frecuencia absoluta\");"
   ]
  },
  {
   "cell_type": "code",
   "execution_count": 375,
   "id": "945b3c93-b835-453d-8d2f-c21f41c4c86f",
   "metadata": {},
   "outputs": [
    {
     "data": {
      "image/png": "[encoded data removed]",
      "text/plain": [
       "<Figure size 1080x1440 with 10 Axes>"
      ]
     },
     "metadata": {
      "needs_background": "light"
     },
     "output_type": "display_data"
    }
   ],
   "source": [
    "nrows = 5\n",
    "ncols = 2\n",
    "\n",
    "puerto_origen = fletes_agrup.index.levels[0].values\n",
    "puerto_origen = puerto_origen[: nrows*ncols].reshape(nrows, ncols)\n",
    "\n",
    "fig, ax = plt.subplots(nrows, ncols, figsize = (15, 20), sharey = True)\n",
    "plt.title(\"Tasa de flete [USD/kg]\")\n",
    "for i in range(nrows):\n",
    "    for j in range(ncols):\n",
    "        mask = fletes[\"Puerto de origen\"] == puerto_origen[i, j]\n",
    "        ax[i, j].set_title(\"Puerto de origen: {}\".format(puerto_origen[i, j]))\n",
    "        ax[i, j].hist(fletes.loc[mask, \"Tasa de flete [USD/kg]\"], bins = 20, color = \"olivedrab\");"
   ]
  },
  {
   "cell_type": "markdown",
   "id": "fb9b7c78-6956-446d-a90b-f57014ea873b",
   "metadata": {},
   "source": [
    "*Estadística Descriptiva de Envío [días] para cada conjunto (Puerto de origen, Puerto de destino)*"
   ]
  },
  {
   "cell_type": "code",
   "execution_count": 290,
   "id": "ea4ca908-32b8-4147-a057-e0518c753cf8",
   "metadata": {},
   "outputs": [
    {
     "data": {
      "text/html": [
       "<div>\n",
       "<style scoped>\n",
       "    .dataframe tbody tr th:only-of-type {\n",
       "        vertical-align: middle;\n",
       "    }\n",
       "\n",
       "    .dataframe tbody tr th {\n",
       "        vertical-align: top;\n",
       "    }\n",
       "\n",
       "    .dataframe thead tr th {\n",
       "        text-align: left;\n",
       "    }\n",
       "\n",
       "    .dataframe thead tr:last-of-type th {\n",
       "        text-align: right;\n",
       "    }\n",
       "</style>\n",
       "<table border=\"1\" class=\"dataframe\">\n",
       "  <thead>\n",
       "    <tr>\n",
       "      <th></th>\n",
       "      <th></th>\n",
       "      <th colspan=\"4\" halign=\"left\">Envío [días]</th>\n",
       "    </tr>\n",
       "    <tr>\n",
       "      <th></th>\n",
       "      <th></th>\n",
       "      <th>min</th>\n",
       "      <th>mean</th>\n",
       "      <th>max</th>\n",
       "      <th>size</th>\n",
       "    </tr>\n",
       "    <tr>\n",
       "      <th>Puerto de origen</th>\n",
       "      <th>Puerto de destino</th>\n",
       "      <th></th>\n",
       "      <th></th>\n",
       "      <th></th>\n",
       "      <th></th>\n",
       "    </tr>\n",
       "  </thead>\n",
       "  <tbody>\n",
       "    <tr>\n",
       "      <th>2</th>\n",
       "      <th>9</th>\n",
       "      <td>0</td>\n",
       "      <td>1.62</td>\n",
       "      <td>14</td>\n",
       "      <td>226</td>\n",
       "    </tr>\n",
       "    <tr>\n",
       "      <th>3</th>\n",
       "      <th>9</th>\n",
       "      <td>0</td>\n",
       "      <td>2.91</td>\n",
       "      <td>14</td>\n",
       "      <td>45</td>\n",
       "    </tr>\n",
       "    <tr>\n",
       "      <th>4</th>\n",
       "      <th>9</th>\n",
       "      <td>0</td>\n",
       "      <td>1.58</td>\n",
       "      <td>14</td>\n",
       "      <td>231</td>\n",
       "    </tr>\n",
       "    <tr>\n",
       "      <th>5</th>\n",
       "      <th>9</th>\n",
       "      <td>1</td>\n",
       "      <td>1.27</td>\n",
       "      <td>4</td>\n",
       "      <td>219</td>\n",
       "    </tr>\n",
       "    <tr>\n",
       "      <th>6</th>\n",
       "      <th>9</th>\n",
       "      <td>1</td>\n",
       "      <td>1.99</td>\n",
       "      <td>3</td>\n",
       "      <td>479</td>\n",
       "    </tr>\n",
       "    <tr>\n",
       "      <th>7</th>\n",
       "      <th>9</th>\n",
       "      <td>3</td>\n",
       "      <td>4.50</td>\n",
       "      <td>6</td>\n",
       "      <td>20</td>\n",
       "    </tr>\n",
       "    <tr>\n",
       "      <th>8</th>\n",
       "      <th>9</th>\n",
       "      <td>2</td>\n",
       "      <td>4.82</td>\n",
       "      <td>14</td>\n",
       "      <td>39</td>\n",
       "    </tr>\n",
       "    <tr>\n",
       "      <th>9</th>\n",
       "      <th>9</th>\n",
       "      <td>0</td>\n",
       "      <td>4.42</td>\n",
       "      <td>14</td>\n",
       "      <td>24</td>\n",
       "    </tr>\n",
       "    <tr>\n",
       "      <th>10</th>\n",
       "      <th>9</th>\n",
       "      <td>2</td>\n",
       "      <td>3.17</td>\n",
       "      <td>6</td>\n",
       "      <td>222</td>\n",
       "    </tr>\n",
       "    <tr>\n",
       "      <th>11</th>\n",
       "      <th>9</th>\n",
       "      <td>0</td>\n",
       "      <td>5.29</td>\n",
       "      <td>14</td>\n",
       "      <td>35</td>\n",
       "    </tr>\n",
       "  </tbody>\n",
       "</table>\n",
       "</div>"
      ],
      "text/plain": [
       "                                   Envío [días]               \n",
       "                                            min  mean max size\n",
       "Puerto de origen Puerto de destino                            \n",
       "2                9                            0  1.62  14  226\n",
       "3                9                            0  2.91  14   45\n",
       "4                9                            0  1.58  14  231\n",
       "5                9                            1  1.27   4  219\n",
       "6                9                            1  1.99   3  479\n",
       "7                9                            3  4.50   6   20\n",
       "8                9                            2  4.82  14   39\n",
       "9                9                            0  4.42  14   24\n",
       "10               9                            2  3.17   6  222\n",
       "11               9                            0  5.29  14   35"
      ]
     },
     "execution_count": 290,
     "metadata": {},
     "output_type": "execute_result"
    }
   ],
   "source": [
    "fletes_agrup = fletes.groupby(by = [\"Puerto de origen\", \"Puerto de destino\"]).agg({\"Envío [días]\": [\"min\", \"mean\", \"max\", \"size\"]})\n",
    "fletes_agrup.round(2)"
   ]
  },
  {
   "cell_type": "code",
   "execution_count": 293,
   "id": "772e0c62-a753-4fe2-9dcb-fe05421b4c1d",
   "metadata": {},
   "outputs": [
    {
     "data": {
      "image/png": "[encoded data removed]",
      "text/plain": [
       "<Figure size 504x504 with 1 Axes>"
      ]
     },
     "metadata": {
      "needs_background": "light"
     },
     "output_type": "display_data"
    }
   ],
   "source": [
    "fletes_agrup = fletes.groupby(by = \"Envío [días]\").agg({\"Envío [días]\": \"size\"}).rename(columns = {\"Envío [días]\": \"Recuento\"})\n",
    "\n",
    "plt.figure(figsize = (7, 7))\n",
    "plt.bar(x = fletes_agrup.index, height = fletes_agrup[\"Recuento\"], color = \"olivedrab\")\n",
    "plt.xlabel(\"Envío [días]\")\n",
    "plt.ylabel(\"Recuento\");"
   ]
  },
  {
   "cell_type": "markdown",
   "id": "bf93bde4-29d0-4b68-96c8-aff6f601633b",
   "metadata": {},
   "source": [
    "*Estadística Descriptiva de Modo de Transporte*"
   ]
  },
  {
   "cell_type": "code",
   "execution_count": 171,
   "id": "9a05a18a-c801-4f49-bcca-c0aef47013b4",
   "metadata": {},
   "outputs": [
    {
     "data": {
      "image/png": "[encoded data removed]",
      "text/plain": [
       "<Figure size 432x288 with 1 Axes>"
      ]
     },
     "metadata": {},
     "output_type": "display_data"
    }
   ],
   "source": [
    "fletes_agrup = fletes.groupby(by = \"Modo de transporte\").agg({\"Puerto de origen\": \"size\"})\n",
    "fletes_agrup = fletes_agrup.rename(columns = {\"Puerto de origen\": \"Recuento de Puerto de origen\"})\n",
    "\n",
    "plt.figure(1)\n",
    "plt.title(\"Modo de transporte\")\n",
    "plt.pie(x = fletes_agrup[\"Recuento de Puerto de origen\"], labels = fletes_agrup.index, radius = 1.5, autopct = \"%1.1f%%\", colors = [\"lightblue\", \"tan\"]);"
   ]
  },
  {
   "cell_type": "markdown",
   "id": "81e987ed-1f1a-4adf-b12f-45d4fea139c0",
   "metadata": {},
   "source": [
    "## Tabla Costos de Almacenaje"
   ]
  },
  {
   "cell_type": "code",
   "execution_count": 295,
   "id": "4834df80-0759-49ed-b6d3-4918c3737e26",
   "metadata": {},
   "outputs": [],
   "source": [
    "costos_almacenaje[\"Planta\"] = costos_almacenaje[\"Planta\"].replace(to_replace = \"[^\\d.]\", value = \"\", regex = True).astype(int)"
   ]
  },
  {
   "cell_type": "markdown",
   "id": "9d3ed827-1b67-4d9a-821b-821aabab5c30",
   "metadata": {},
   "source": [
    "*Estadística Descriptiva de Costo específico [USD/item]*"
   ]
  },
  {
   "cell_type": "code",
   "execution_count": 296,
   "id": "64807a51-4d08-421b-94ad-111f0aba9d1e",
   "metadata": {},
   "outputs": [
    {
     "data": {
      "image/png": "[encoded data removed]",
      "text/plain": [
       "<Figure size 504x504 with 1 Axes>"
      ]
     },
     "metadata": {
      "needs_background": "light"
     },
     "output_type": "display_data"
    }
   ],
   "source": [
    "plt.figure(figsize = (7, 7))\n",
    "plt.bar(x = costos_almacenaje[\"Planta\"], height = costos_almacenaje[\"Costo específico [USD/item]\"], color = \"olivedrab\")\n",
    "plt.xlabel(\"Planta\")\n",
    "plt.xticks(costos_almacenaje[\"Planta\"])\n",
    "plt.ylabel(\"Costo específico [USD/item]\");"
   ]
  },
  {
   "cell_type": "markdown",
   "id": "6a7e22af-b926-4560-afa2-138380e052eb",
   "metadata": {},
   "source": [
    "## Tabla Capacidad de Almacenaje"
   ]
  },
  {
   "cell_type": "code",
   "execution_count": 298,
   "id": "fd606480-bf6c-4bc7-a121-e4eb1a014b16",
   "metadata": {},
   "outputs": [],
   "source": [
    "capacidad_almacenaje[\"Planta\"] = capacidad_almacenaje[\"Planta\"].replace(to_replace = \"[^\\d.]\", value = \"\", regex = True).astype(int)"
   ]
  },
  {
   "cell_type": "markdown",
   "id": "db37979d-6637-4bbb-af4d-d9c3d843016b",
   "metadata": {},
   "source": [
    "*Estadística Descriptiva de Capacidad [kg/día]*"
   ]
  },
  {
   "cell_type": "code",
   "execution_count": 300,
   "id": "adc3e0bf-b13a-4f99-84fe-30263187b166",
   "metadata": {},
   "outputs": [
    {
     "data": {
      "image/png": "[encoded data removed]",
      "text/plain": [
       "<Figure size 504x504 with 1 Axes>"
      ]
     },
     "metadata": {
      "needs_background": "light"
     },
     "output_type": "display_data"
    }
   ],
   "source": [
    "plt.figure(figsize = (7, 7))\n",
    "plt.bar(x = capacidad_almacenaje[\"Planta\"], height = capacidad_almacenaje[\"Capacidad [kg/día]\"], color = \"olivedrab\")\n",
    "plt.xlabel(\"Planta\")\n",
    "plt.xticks(capacidad_almacenaje[\"Planta\"])\n",
    "plt.ylabel(\"Capacidad [kg/día]\");"
   ]
  },
  {
   "cell_type": "markdown",
   "id": "ad1eebf6-fc53-4d81-9cf5-51b7dd808ba6",
   "metadata": {},
   "source": [
    "## Tabla Productos por cada Planta"
   ]
  },
  {
   "cell_type": "code",
   "execution_count": 301,
   "id": "4a764944-51e8-4d41-9ccb-153bd36c1d67",
   "metadata": {},
   "outputs": [],
   "source": [
    "productos_por_planta[\"Planta\"] = productos_por_planta[\"Planta\"].replace(to_replace = \"[^\\d.]\", value = \"\", regex = True).astype(int)\n",
    "productos_agrup_por_planta = productos_por_planta.groupby(by = \"Planta\").agg({\"Planta\": \"size\"}).rename(columns = {\"Planta\": \"Recuento de Productos\"})"
   ]
  },
  {
   "cell_type": "markdown",
   "id": "3c91253d-323e-4902-bc84-ead4bd8f8465",
   "metadata": {},
   "source": [
    "*Estadística Descriptiva de Recuento de Productos*"
   ]
  },
  {
   "cell_type": "code",
   "execution_count": 307,
   "id": "abf83712-aac4-4062-90c9-b9a5c59c38f8",
   "metadata": {},
   "outputs": [
    {
     "data": {
      "image/png": "[encoded data removed]",
      "text/plain": [
       "<Figure size 504x504 with 1 Axes>"
      ]
     },
     "metadata": {
      "needs_background": "light"
     },
     "output_type": "display_data"
    }
   ],
   "source": [
    "plt.figure(figsize = (7, 7))\n",
    "plt.bar(x = productos_agrup_por_planta.index, height = productos_agrup_por_planta[\"Recuento de Productos\"], color = \"olivedrab\")\n",
    "plt.xlabel(\"Planta\")\n",
    "plt.xticks(productos_agrup_por_planta.index)\n",
    "plt.ylabel(\"Recuento de Productos\");"
   ]
  },
  {
   "cell_type": "markdown",
   "id": "2a4e9c21-b473-4a04-8b3c-0f87868b246f",
   "metadata": {},
   "source": [
    "## Tabla Clientes por cada Planta"
   ]
  },
  {
   "cell_type": "code",
   "execution_count": 304,
   "id": "dd80fccc-487d-4cd4-a5f4-3f8e5d47d724",
   "metadata": {},
   "outputs": [],
   "source": [
    "clientes_por_planta[\"Planta\"] = clientes_por_planta[\"Planta\"].replace(to_replace = \"[^\\d.]\", value = \"\", regex = True).astype(int)\n",
    "clientes_agrup_por_planta = clientes_por_planta.groupby(by = \"Planta\").agg({\"Planta\": \"size\"}).rename(columns = {\"Planta\": \"Recuento de Clientes\"})"
   ]
  },
  {
   "cell_type": "markdown",
   "id": "3a7adb6a-5715-42fd-86d5-60997a8319a9",
   "metadata": {},
   "source": [
    "*Estadística Descriptiva de Clientes por cada Planta*"
   ]
  },
  {
   "cell_type": "code",
   "execution_count": 308,
   "id": "61a8a43e-a4b1-4788-ac93-cd163e09453b",
   "metadata": {},
   "outputs": [
    {
     "data": {
      "image/png": "[encoded data removed]",
      "text/plain": [
       "<Figure size 504x504 with 1 Axes>"
      ]
     },
     "metadata": {
      "needs_background": "light"
     },
     "output_type": "display_data"
    }
   ],
   "source": [
    "plt.figure(figsize = (7, 7))\n",
    "plt.bar(x = clientes_agrup_por_planta.index, height = clientes_agrup_por_planta[\"Recuento de Clientes\"], color = \"olivedrab\")\n",
    "plt.xlabel(\"Planta\")\n",
    "plt.xticks(productos_agrup_por_planta.index)\n",
    "plt.ylabel(\"Recuento de Clientes\");"
   ]
  },
  {
   "cell_type": "markdown",
   "id": "5b16ae63-0152-41b0-8aa8-63f053bccb69",
   "metadata": {},
   "source": [
    "## Tabla Puertos por cada Planta"
   ]
  },
  {
   "cell_type": "code",
   "execution_count": 309,
   "id": "63fb49d4-2894-4bdd-a925-8e26c5875d7e",
   "metadata": {},
   "outputs": [],
   "source": [
    "puertos_por_planta[[\"Planta\", \"Puerto de Origen\"]] = puertos_por_planta[[\"Planta\", \"Puerto de Origen\"]].replace(to_replace = \"[^\\d.]\", value = \"\", regex = True).astype(int)\n",
    "puertos_agrup_por_planta = puertos_por_planta.groupby(by = \"Planta\").agg({\"Planta\": \"size\"}).rename(columns = {\"Planta\": \"Recuento de Puertos de origen\"})"
   ]
  },
  {
   "cell_type": "markdown",
   "id": "e90d7e96-b0b9-4fa8-bfff-5343ee3d9ac9",
   "metadata": {},
   "source": [
    "*Estadística Descriptiva de Puertos por cada Planta*"
   ]
  },
  {
   "cell_type": "code",
   "execution_count": 311,
   "id": "7a29d594-bdf6-4144-b355-67122a530bd7",
   "metadata": {},
   "outputs": [
    {
     "data": {
      "image/png": "[encoded data removed]",
      "text/plain": [
       "<Figure size 504x504 with 1 Axes>"
      ]
     },
     "metadata": {
      "needs_background": "light"
     },
     "output_type": "display_data"
    }
   ],
   "source": [
    "plt.figure(figsize = (7, 7))\n",
    "plt.bar(x = puertos_agrup_por_planta.index, height = puertos_agrup_por_planta[\"Recuento de Puertos de origen\"], color = \"olivedrab\")\n",
    "plt.xlabel(\"Planta\")\n",
    "plt.xticks(productos_agrup_por_planta.index)\n",
    "plt.ylabel(\"Recuento de Puertos de origen\");"
   ]
  },
  {
   "cell_type": "code",
   "execution_count": 235,
   "id": "787b74b3-7a3d-4d9a-b6e7-48c1f287a5d7",
   "metadata": {},
   "outputs": [
    {
     "data": {
      "text/html": [
       "<div>\n",
       "<style scoped>\n",
       "    .dataframe tbody tr th:only-of-type {\n",
       "        vertical-align: middle;\n",
       "    }\n",
       "\n",
       "    .dataframe tbody tr th {\n",
       "        vertical-align: top;\n",
       "    }\n",
       "\n",
       "    .dataframe thead th {\n",
       "        text-align: right;\n",
       "    }\n",
       "</style>\n",
       "<table border=\"1\" class=\"dataframe\">\n",
       "  <thead>\n",
       "    <tr style=\"text-align: right;\">\n",
       "      <th>Puerto de Origen</th>\n",
       "      <th>1</th>\n",
       "      <th>2</th>\n",
       "      <th>3</th>\n",
       "      <th>4</th>\n",
       "      <th>5</th>\n",
       "      <th>6</th>\n",
       "      <th>7</th>\n",
       "      <th>8</th>\n",
       "      <th>9</th>\n",
       "      <th>10</th>\n",
       "      <th>11</th>\n",
       "    </tr>\n",
       "    <tr>\n",
       "      <th>Planta</th>\n",
       "      <th></th>\n",
       "      <th></th>\n",
       "      <th></th>\n",
       "      <th></th>\n",
       "      <th></th>\n",
       "      <th></th>\n",
       "      <th></th>\n",
       "      <th></th>\n",
       "      <th></th>\n",
       "      <th></th>\n",
       "      <th></th>\n",
       "    </tr>\n",
       "  </thead>\n",
       "  <tbody>\n",
       "    <tr>\n",
       "      <th>1</th>\n",
       "      <td>1</td>\n",
       "      <td>1</td>\n",
       "      <td>0</td>\n",
       "      <td>0</td>\n",
       "      <td>0</td>\n",
       "      <td>0</td>\n",
       "      <td>0</td>\n",
       "      <td>0</td>\n",
       "      <td>0</td>\n",
       "      <td>0</td>\n",
       "      <td>0</td>\n",
       "    </tr>\n",
       "    <tr>\n",
       "      <th>2</th>\n",
       "      <td>0</td>\n",
       "      <td>0</td>\n",
       "      <td>1</td>\n",
       "      <td>0</td>\n",
       "      <td>0</td>\n",
       "      <td>0</td>\n",
       "      <td>0</td>\n",
       "      <td>0</td>\n",
       "      <td>0</td>\n",
       "      <td>0</td>\n",
       "      <td>0</td>\n",
       "    </tr>\n",
       "    <tr>\n",
       "      <th>3</th>\n",
       "      <td>0</td>\n",
       "      <td>0</td>\n",
       "      <td>0</td>\n",
       "      <td>1</td>\n",
       "      <td>0</td>\n",
       "      <td>0</td>\n",
       "      <td>0</td>\n",
       "      <td>0</td>\n",
       "      <td>0</td>\n",
       "      <td>0</td>\n",
       "      <td>0</td>\n",
       "    </tr>\n",
       "    <tr>\n",
       "      <th>4</th>\n",
       "      <td>0</td>\n",
       "      <td>0</td>\n",
       "      <td>0</td>\n",
       "      <td>0</td>\n",
       "      <td>1</td>\n",
       "      <td>0</td>\n",
       "      <td>0</td>\n",
       "      <td>0</td>\n",
       "      <td>0</td>\n",
       "      <td>0</td>\n",
       "      <td>0</td>\n",
       "    </tr>\n",
       "    <tr>\n",
       "      <th>5</th>\n",
       "      <td>0</td>\n",
       "      <td>0</td>\n",
       "      <td>0</td>\n",
       "      <td>0</td>\n",
       "      <td>0</td>\n",
       "      <td>1</td>\n",
       "      <td>0</td>\n",
       "      <td>0</td>\n",
       "      <td>0</td>\n",
       "      <td>0</td>\n",
       "      <td>0</td>\n",
       "    </tr>\n",
       "  </tbody>\n",
       "</table>\n",
       "</div>"
      ],
      "text/plain": [
       "Puerto de Origen  1   2   3   4   5   6   7   8   9   10  11\n",
       "Planta                                                      \n",
       "1                  1   1   0   0   0   0   0   0   0   0   0\n",
       "2                  0   0   1   0   0   0   0   0   0   0   0\n",
       "3                  0   0   0   1   0   0   0   0   0   0   0\n",
       "4                  0   0   0   0   1   0   0   0   0   0   0\n",
       "5                  0   0   0   0   0   1   0   0   0   0   0"
      ]
     },
     "execution_count": 235,
     "metadata": {},
     "output_type": "execute_result"
    }
   ],
   "source": [
    "puertos_por_planta_pivot = puertos_por_planta.pivot_table(index = \"Planta\", columns = \"Puerto de Origen\", aggfunc = \"size\").fillna(0).astype(int)\n",
    "puertos_por_planta_pivot.head()"
   ]
  },
  {
   "cell_type": "code",
   "execution_count": 237,
   "id": "bec08ecf-c347-4fd4-95db-66a70acbb0cb",
   "metadata": {},
   "outputs": [
    {
     "data": {
      "text/plain": [
       "(198.0, 0.6792308900252207)"
      ]
     },
     "execution_count": 237,
     "metadata": {},
     "output_type": "execute_result"
    }
   ],
   "source": [
    "datos_observados = puertos_por_planta_pivot\n",
    "datos_esperados = contingency.expected_freq(datos_observados)\n",
    "resultados = chisquare(datos_observados, datos_esperados, axis = None) #Estadístico Chi Cuadrado\n",
    "\n",
    "resultados.statistic, resultados.pvalue"
   ]
  },
  {
   "cell_type": "markdown",
   "id": "eef7f188-a0f4-41e1-ba70-bad173465765",
   "metadata": {},
   "source": [
    "## Tabla Completa"
   ]
  },
  {
   "cell_type": "markdown",
   "id": "3fca53bb-eaee-4c7f-a5f9-b0394fc33116",
   "metadata": {},
   "source": [
    "**Función Objetivo**\\\n",
    "Se desea conocer un conjunto de plantas de almacenaje, puertos de origen y puertos de destino que minimicen el costo total de la cadena de suministro. \n",
    "Matematicamente, se trata de un problema de optimización.\n",
    "\n",
    "Costo total = Costo de almacenaje + Costo de transporte\n",
    "\n",
    "El cliente decide qué nivel de servicio requiere:\n",
    "- DTD: Puerta a Puerta (Door To Door)\n",
    "- DTP: Puerta a Puerto (Door To Port)\n",
    "- CRF: Carga Referida por el Cliente (Customer Referred Freight)\n",
    "\n",
    "*Suposiciones:*\n",
    "\n",
    "-\n",
    "-\n",
    "-\n",
    "-\n"
   ]
  },
  {
   "cell_type": "markdown",
   "id": "a64837ee-7a42-4f19-8877-5d93000a556a",
   "metadata": {},
   "source": [
    "*Estadística Descriptiva del Costo de Almacenaje [USD]*"
   ]
  },
  {
   "cell_type": "code",
   "execution_count": 337,
   "id": "9ae874ff-a45c-4bf5-be7f-c927039ce86d",
   "metadata": {},
   "outputs": [
    {
     "data": {
      "text/html": [
       "<div>\n",
       "<style scoped>\n",
       "    .dataframe tbody tr th:only-of-type {\n",
       "        vertical-align: middle;\n",
       "    }\n",
       "\n",
       "    .dataframe tbody tr th {\n",
       "        vertical-align: top;\n",
       "    }\n",
       "\n",
       "    .dataframe thead tr th {\n",
       "        text-align: left;\n",
       "    }\n",
       "\n",
       "    .dataframe thead tr:last-of-type th {\n",
       "        text-align: right;\n",
       "    }\n",
       "</style>\n",
       "<table border=\"1\" class=\"dataframe\">\n",
       "  <thead>\n",
       "    <tr>\n",
       "      <th></th>\n",
       "      <th></th>\n",
       "      <th></th>\n",
       "      <th colspan=\"5\" halign=\"left\">Costo de almacenaje [USD]</th>\n",
       "    </tr>\n",
       "    <tr>\n",
       "      <th></th>\n",
       "      <th></th>\n",
       "      <th></th>\n",
       "      <th>min</th>\n",
       "      <th>mean</th>\n",
       "      <th>max</th>\n",
       "      <th>sum</th>\n",
       "      <th>%</th>\n",
       "    </tr>\n",
       "    <tr>\n",
       "      <th>Planta</th>\n",
       "      <th>Puerto de origen</th>\n",
       "      <th>Puerto de destino</th>\n",
       "      <th></th>\n",
       "      <th></th>\n",
       "      <th></th>\n",
       "      <th></th>\n",
       "      <th></th>\n",
       "    </tr>\n",
       "  </thead>\n",
       "  <tbody>\n",
       "    <tr>\n",
       "      <th>3</th>\n",
       "      <th>4</th>\n",
       "      <th>9</th>\n",
       "      <td>121.61</td>\n",
       "      <td>1170.68</td>\n",
       "      <td>290756.89</td>\n",
       "      <td>1.613191e+08</td>\n",
       "      <td>97.24</td>\n",
       "    </tr>\n",
       "    <tr>\n",
       "      <th>8</th>\n",
       "      <th>4</th>\n",
       "      <th>9</th>\n",
       "      <td>357.63</td>\n",
       "      <td>1430.16</td>\n",
       "      <td>2969.83</td>\n",
       "      <td>1.444466e+06</td>\n",
       "      <td>0.87</td>\n",
       "    </tr>\n",
       "    <tr>\n",
       "      <th>9</th>\n",
       "      <th>4</th>\n",
       "      <th>9</th>\n",
       "      <td>1070.13</td>\n",
       "      <td>8674.74</td>\n",
       "      <td>47004.27</td>\n",
       "      <td>1.040969e+06</td>\n",
       "      <td>0.63</td>\n",
       "    </tr>\n",
       "    <tr>\n",
       "      <th>12</th>\n",
       "      <th>4</th>\n",
       "      <th>9</th>\n",
       "      <td>182.46</td>\n",
       "      <td>291.55</td>\n",
       "      <td>1021.31</td>\n",
       "      <td>1.862992e+06</td>\n",
       "      <td>1.12</td>\n",
       "    </tr>\n",
       "    <tr>\n",
       "      <th>13</th>\n",
       "      <th>4</th>\n",
       "      <th>9</th>\n",
       "      <td>112.73</td>\n",
       "      <td>236.92</td>\n",
       "      <td>2463.14</td>\n",
       "      <td>2.037542e+05</td>\n",
       "      <td>0.12</td>\n",
       "    </tr>\n",
       "    <tr>\n",
       "      <th>16</th>\n",
       "      <th>9</th>\n",
       "      <th>9</th>\n",
       "      <td>539.47</td>\n",
       "      <td>703.10</td>\n",
       "      <td>1581.92</td>\n",
       "      <td>2.390544e+04</td>\n",
       "      <td>0.01</td>\n",
       "    </tr>\n",
       "  </tbody>\n",
       "</table>\n",
       "</div>"
      ],
      "text/plain": [
       "                                          Costo de almacenaje [USD]           \\\n",
       "                                                                min     mean   \n",
       "Planta Puerto de origen Puerto de destino                                      \n",
       "3      4                9                                    121.61  1170.68   \n",
       "8      4                9                                    357.63  1430.16   \n",
       "9      4                9                                   1070.13  8674.74   \n",
       "12     4                9                                    182.46   291.55   \n",
       "13     4                9                                    112.73   236.92   \n",
       "16     9                9                                    539.47   703.10   \n",
       "\n",
       "                                                                           \n",
       "                                                 max           sum      %  \n",
       "Planta Puerto de origen Puerto de destino                                  \n",
       "3      4                9                  290756.89  1.613191e+08  97.24  \n",
       "8      4                9                    2969.83  1.444466e+06   0.87  \n",
       "9      4                9                   47004.27  1.040969e+06   0.63  \n",
       "12     4                9                    1021.31  1.862992e+06   1.12  \n",
       "13     4                9                    2463.14  2.037542e+05   0.12  \n",
       "16     9                9                    1581.92  2.390544e+04   0.01  "
      ]
     },
     "execution_count": 337,
     "metadata": {},
     "output_type": "execute_result"
    }
   ],
   "source": [
    "df1 = pd.merge(pedidos, fletes, on = [\"Puerto de origen\", \"Puerto de destino\", \"Transportista\", \"Nivel de servicio\"])\n",
    "df2 = pd.merge(df1, costos_almacenaje, on = [\"Planta\"])\n",
    "df3 = pd.merge(df2, capacidad_almacenaje, on = [\"Planta\"])\n",
    "\n",
    "df3[\"Costo de almacenaje [USD]\"] = df3[\"Items\"] * df3[\"Costo específico [USD/item]\"]\n",
    "df3_agrup = df3.groupby(by = [\"Planta\", \"Puerto de origen\", \"Puerto de destino\"]).agg({\"Costo de almacenaje [USD]\": [\"min\", \"mean\", \"max\", \"sum\"]}).round(2)\n",
    "\n",
    "total = df3_agrup[(\"Costo de almacenaje [USD]\", \"sum\")].sum()\n",
    "porcentaje = lambda x: x / total * 100\n",
    "\n",
    "df3_agrup[(\"Costo de almacenaje [USD]\", \"%\")] = df3_agrup[(\"Costo de almacenaje [USD]\", \"sum\")].apply(porcentaje)\n",
    "df3_agrup.round(2)"
   ]
  },
  {
   "cell_type": "code",
   "execution_count": 340,
   "id": "895bb0bc-f61a-496c-9112-bb9b0bfe3101",
   "metadata": {},
   "outputs": [
    {
     "data": {
      "image/png": "[encoded data removed]",
      "text/plain": [
       "<Figure size 504x504 with 1 Axes>"
      ]
     },
     "metadata": {
      "needs_background": "light"
     },
     "output_type": "display_data"
    }
   ],
   "source": [
    "plt.figure(figsize = (7, 7))\n",
    "plt.bar(x = df3_agrup.index.levels[0], height = df3_agrup[(\"Costo de almacenaje [USD]\", \"%\")], color = \"olivedrab\")\n",
    "plt.xlabel(\"Planta\")\n",
    "plt.xticks(df3_agrup.index.levels[0])\n",
    "plt.ylabel(\"% Costo de Almacenaje\");"
   ]
  },
  {
   "cell_type": "markdown",
   "id": "55c3aa64-79a6-4bd2-bcd7-f11be7d3895d",
   "metadata": {},
   "source": [
    "*Estadística Descriptiva del Costo de Transporte [USD]*"
   ]
  },
  {
   "cell_type": "code",
   "execution_count": 342,
   "id": "a8041281-d7d9-4159-8245-f2fe19d20947",
   "metadata": {},
   "outputs": [
    {
     "data": {
      "text/html": [
       "<div>\n",
       "<style scoped>\n",
       "    .dataframe tbody tr th:only-of-type {\n",
       "        vertical-align: middle;\n",
       "    }\n",
       "\n",
       "    .dataframe tbody tr th {\n",
       "        vertical-align: top;\n",
       "    }\n",
       "\n",
       "    .dataframe thead tr th {\n",
       "        text-align: left;\n",
       "    }\n",
       "\n",
       "    .dataframe thead tr:last-of-type th {\n",
       "        text-align: right;\n",
       "    }\n",
       "</style>\n",
       "<table border=\"1\" class=\"dataframe\">\n",
       "  <thead>\n",
       "    <tr>\n",
       "      <th></th>\n",
       "      <th></th>\n",
       "      <th></th>\n",
       "      <th colspan=\"5\" halign=\"left\">Costo de transporte [USD]</th>\n",
       "    </tr>\n",
       "    <tr>\n",
       "      <th></th>\n",
       "      <th></th>\n",
       "      <th></th>\n",
       "      <th>min</th>\n",
       "      <th>mean</th>\n",
       "      <th>max</th>\n",
       "      <th>sum</th>\n",
       "      <th>%</th>\n",
       "    </tr>\n",
       "    <tr>\n",
       "      <th>Planta</th>\n",
       "      <th>Puerto de origen</th>\n",
       "      <th>Puerto de destino</th>\n",
       "      <th></th>\n",
       "      <th></th>\n",
       "      <th></th>\n",
       "      <th></th>\n",
       "      <th></th>\n",
       "    </tr>\n",
       "  </thead>\n",
       "  <tbody>\n",
       "    <tr>\n",
       "      <th>3</th>\n",
       "      <th>4</th>\n",
       "      <th>9</th>\n",
       "      <td>0.00</td>\n",
       "      <td>16635.35</td>\n",
       "      <td>17150058.30</td>\n",
       "      <td>2.292351e+09</td>\n",
       "      <td>97.71</td>\n",
       "    </tr>\n",
       "    <tr>\n",
       "      <th>8</th>\n",
       "      <th>4</th>\n",
       "      <th>9</th>\n",
       "      <td>88.23</td>\n",
       "      <td>2392.90</td>\n",
       "      <td>11920.83</td>\n",
       "      <td>2.416832e+06</td>\n",
       "      <td>0.10</td>\n",
       "    </tr>\n",
       "    <tr>\n",
       "      <th>9</th>\n",
       "      <th>4</th>\n",
       "      <th>9</th>\n",
       "      <td>521.53</td>\n",
       "      <td>83028.40</td>\n",
       "      <td>840988.85</td>\n",
       "      <td>9.963407e+06</td>\n",
       "      <td>0.42</td>\n",
       "    </tr>\n",
       "    <tr>\n",
       "      <th>12</th>\n",
       "      <th>4</th>\n",
       "      <th>9</th>\n",
       "      <td>3.71</td>\n",
       "      <td>2735.21</td>\n",
       "      <td>98032.14</td>\n",
       "      <td>1.747802e+07</td>\n",
       "      <td>0.75</td>\n",
       "    </tr>\n",
       "    <tr>\n",
       "      <th>13</th>\n",
       "      <th>4</th>\n",
       "      <th>9</th>\n",
       "      <td>3.85</td>\n",
       "      <td>4563.67</td>\n",
       "      <td>240230.79</td>\n",
       "      <td>3.924756e+06</td>\n",
       "      <td>0.17</td>\n",
       "    </tr>\n",
       "    <tr>\n",
       "      <th>16</th>\n",
       "      <th>9</th>\n",
       "      <th>9</th>\n",
       "      <td>2698.44</td>\n",
       "      <td>583942.84</td>\n",
       "      <td>9561053.88</td>\n",
       "      <td>1.985406e+07</td>\n",
       "      <td>0.85</td>\n",
       "    </tr>\n",
       "  </tbody>\n",
       "</table>\n",
       "</div>"
      ],
      "text/plain": [
       "                                          Costo de transporte [USD]  \\\n",
       "                                                                min   \n",
       "Planta Puerto de origen Puerto de destino                             \n",
       "3      4                9                                      0.00   \n",
       "8      4                9                                     88.23   \n",
       "9      4                9                                    521.53   \n",
       "12     4                9                                      3.71   \n",
       "13     4                9                                      3.85   \n",
       "16     9                9                                   2698.44   \n",
       "\n",
       "                                                                   \\\n",
       "                                                mean          max   \n",
       "Planta Puerto de origen Puerto de destino                           \n",
       "3      4                9                   16635.35  17150058.30   \n",
       "8      4                9                    2392.90     11920.83   \n",
       "9      4                9                   83028.40    840988.85   \n",
       "12     4                9                    2735.21     98032.14   \n",
       "13     4                9                    4563.67    240230.79   \n",
       "16     9                9                  583942.84   9561053.88   \n",
       "\n",
       "                                                                \n",
       "                                                    sum      %  \n",
       "Planta Puerto de origen Puerto de destino                       \n",
       "3      4                9                  2.292351e+09  97.71  \n",
       "8      4                9                  2.416832e+06   0.10  \n",
       "9      4                9                  9.963407e+06   0.42  \n",
       "12     4                9                  1.747802e+07   0.75  \n",
       "13     4                9                  3.924756e+06   0.17  \n",
       "16     9                9                  1.985406e+07   0.85  "
      ]
     },
     "execution_count": 342,
     "metadata": {},
     "output_type": "execute_result"
    }
   ],
   "source": [
    "df3[\"Costo de transporte [USD]\"] = np.where(df3[\"Nivel de servicio\"] == \"CRF\", 0, df3[\"Items\"] * df3[\"Peso [kg/item]\"] * df3[\"Tasa de flete [USD/kg]\"])\n",
    "df3_agrup = df3.groupby(by = [\"Planta\", \"Puerto de origen\", \"Puerto de destino\"]).agg({\"Costo de transporte [USD]\": [\"min\", \"mean\", \"max\", \"sum\"]}).round(2)\n",
    "\n",
    "total = df3_agrup[(\"Costo de transporte [USD]\", \"sum\")].sum()\n",
    "porcentaje = lambda x: x / total * 100\n",
    "\n",
    "df3_agrup[(\"Costo de transporte [USD]\", \"%\")] = df3_agrup[(\"Costo de transporte [USD]\", \"sum\")].apply(porcentaje)\n",
    "df3_agrup.round(2)"
   ]
  },
  {
   "cell_type": "code",
   "execution_count": 343,
   "id": "9e14f647-8fc5-4ff6-b1d5-c3715f4fd59e",
   "metadata": {},
   "outputs": [
    {
     "data": {
      "image/png": "[encoded data removed]",
      "text/plain": [
       "<Figure size 504x504 with 1 Axes>"
      ]
     },
     "metadata": {
      "needs_background": "light"
     },
     "output_type": "display_data"
    }
   ],
   "source": [
    "plt.figure(figsize = (7, 7))\n",
    "plt.bar(x = df3_agrup.index.levels[0], height = df3_agrup[(\"Costo de transporte [USD]\", \"%\")], color = \"olivedrab\")\n",
    "plt.xlabel(\"Planta\")\n",
    "plt.xticks(df3_agrup.index.levels[0])\n",
    "plt.ylabel(\"% Costo de Transporte\");"
   ]
  },
  {
   "cell_type": "markdown",
   "id": "eef84ee6-d143-487f-9823-b598af718cab",
   "metadata": {},
   "source": [
    "*Estadística Descriptiva del Costo Total [USD]*"
   ]
  },
  {
   "cell_type": "code",
   "execution_count": 345,
   "id": "245d46a1-f16f-4cfb-b791-68ce62fd1d14",
   "metadata": {},
   "outputs": [
    {
     "data": {
      "text/html": [
       "<div>\n",
       "<style scoped>\n",
       "    .dataframe tbody tr th:only-of-type {\n",
       "        vertical-align: middle;\n",
       "    }\n",
       "\n",
       "    .dataframe tbody tr th {\n",
       "        vertical-align: top;\n",
       "    }\n",
       "\n",
       "    .dataframe thead tr th {\n",
       "        text-align: left;\n",
       "    }\n",
       "\n",
       "    .dataframe thead tr:last-of-type th {\n",
       "        text-align: right;\n",
       "    }\n",
       "</style>\n",
       "<table border=\"1\" class=\"dataframe\">\n",
       "  <thead>\n",
       "    <tr>\n",
       "      <th></th>\n",
       "      <th></th>\n",
       "      <th></th>\n",
       "      <th colspan=\"5\" halign=\"left\">Costo total [USD]</th>\n",
       "    </tr>\n",
       "    <tr>\n",
       "      <th></th>\n",
       "      <th></th>\n",
       "      <th></th>\n",
       "      <th>min</th>\n",
       "      <th>mean</th>\n",
       "      <th>max</th>\n",
       "      <th>sum</th>\n",
       "      <th>%</th>\n",
       "    </tr>\n",
       "    <tr>\n",
       "      <th>Planta</th>\n",
       "      <th>Puerto de origen</th>\n",
       "      <th>Puerto de destino</th>\n",
       "      <th></th>\n",
       "      <th></th>\n",
       "      <th></th>\n",
       "      <th></th>\n",
       "      <th></th>\n",
       "    </tr>\n",
       "  </thead>\n",
       "  <tbody>\n",
       "    <tr>\n",
       "      <th>3</th>\n",
       "      <th>4</th>\n",
       "      <th>9</th>\n",
       "      <td>121.72</td>\n",
       "      <td>17806.02</td>\n",
       "      <td>17440815.18</td>\n",
       "      <td>2.453670e+09</td>\n",
       "      <td>97.68</td>\n",
       "    </tr>\n",
       "    <tr>\n",
       "      <th>8</th>\n",
       "      <th>4</th>\n",
       "      <th>9</th>\n",
       "      <td>445.86</td>\n",
       "      <td>3823.07</td>\n",
       "      <td>14871.84</td>\n",
       "      <td>3.861298e+06</td>\n",
       "      <td>0.15</td>\n",
       "    </tr>\n",
       "    <tr>\n",
       "      <th>9</th>\n",
       "      <th>4</th>\n",
       "      <th>9</th>\n",
       "      <td>1591.66</td>\n",
       "      <td>91703.13</td>\n",
       "      <td>887993.12</td>\n",
       "      <td>1.100438e+07</td>\n",
       "      <td>0.44</td>\n",
       "    </tr>\n",
       "    <tr>\n",
       "      <th>12</th>\n",
       "      <th>4</th>\n",
       "      <th>9</th>\n",
       "      <td>192.14</td>\n",
       "      <td>3026.76</td>\n",
       "      <td>98823.05</td>\n",
       "      <td>1.934101e+07</td>\n",
       "      <td>0.77</td>\n",
       "    </tr>\n",
       "    <tr>\n",
       "      <th>13</th>\n",
       "      <th>4</th>\n",
       "      <th>9</th>\n",
       "      <td>121.62</td>\n",
       "      <td>4800.59</td>\n",
       "      <td>242693.93</td>\n",
       "      <td>4.128510e+06</td>\n",
       "      <td>0.16</td>\n",
       "    </tr>\n",
       "    <tr>\n",
       "      <th>16</th>\n",
       "      <th>9</th>\n",
       "      <th>9</th>\n",
       "      <td>3385.73</td>\n",
       "      <td>584645.94</td>\n",
       "      <td>9561693.17</td>\n",
       "      <td>1.987796e+07</td>\n",
       "      <td>0.79</td>\n",
       "    </tr>\n",
       "  </tbody>\n",
       "</table>\n",
       "</div>"
      ],
      "text/plain": [
       "                                          Costo total [USD]             \\\n",
       "                                                        min       mean   \n",
       "Planta Puerto de origen Puerto de destino                                \n",
       "3      4                9                            121.72   17806.02   \n",
       "8      4                9                            445.86    3823.07   \n",
       "9      4                9                           1591.66   91703.13   \n",
       "12     4                9                            192.14    3026.76   \n",
       "13     4                9                            121.62    4800.59   \n",
       "16     9                9                           3385.73  584645.94   \n",
       "\n",
       "                                                                             \n",
       "                                                   max           sum      %  \n",
       "Planta Puerto de origen Puerto de destino                                    \n",
       "3      4                9                  17440815.18  2.453670e+09  97.68  \n",
       "8      4                9                     14871.84  3.861298e+06   0.15  \n",
       "9      4                9                    887993.12  1.100438e+07   0.44  \n",
       "12     4                9                     98823.05  1.934101e+07   0.77  \n",
       "13     4                9                    242693.93  4.128510e+06   0.16  \n",
       "16     9                9                   9561693.17  1.987796e+07   0.79  "
      ]
     },
     "execution_count": 345,
     "metadata": {},
     "output_type": "execute_result"
    }
   ],
   "source": [
    "df3[\"Costo total [USD]\"] = df3[\"Costo de almacenaje [USD]\"] + df3[\"Costo de transporte [USD]\"]\n",
    "df3_agrup = df3.groupby(by = [\"Planta\", \"Puerto de origen\", \"Puerto de destino\"]).agg({\"Costo total [USD]\": [\"min\", \"mean\", \"max\", \"sum\"]}).round(2)\n",
    "\n",
    "total = df3_agrup[(\"Costo total [USD]\", \"sum\")].sum()\n",
    "porcentaje = lambda x: x / total * 100\n",
    "\n",
    "df3_agrup[(\"Costo total [USD]\", \"%\")] = df3_agrup[(\"Costo total [USD]\", \"sum\")].apply(porcentaje)\n",
    "df3_agrup.round(2)"
   ]
  },
  {
   "cell_type": "code",
   "execution_count": 347,
   "id": "fc8a4c59-61a2-4542-8c22-e981f5d2f601",
   "metadata": {},
   "outputs": [
    {
     "data": {
      "image/png": "[encoded data removed]",
      "text/plain": [
       "<Figure size 504x504 with 1 Axes>"
      ]
     },
     "metadata": {
      "needs_background": "light"
     },
     "output_type": "display_data"
    }
   ],
   "source": [
    "plt.figure(figsize = (7, 7))\n",
    "plt.bar(x = df3_agrup.index.levels[0], height = df3_agrup[(\"Costo total [USD]\", \"%\")], color = \"olivedrab\")\n",
    "plt.xlabel(\"Planta\")\n",
    "plt.xticks(df3_agrup.index.levels[0])\n",
    "plt.ylabel(\"% Costo total\");"
   ]
  },
  {
   "cell_type": "code",
   "execution_count": 95,
   "id": "d44f26ef-071b-4aa6-84f7-aafbca2731ee",
   "metadata": {},
   "outputs": [],
   "source": [
    "#idx = pd.IndexSlice\n",
    "#df3_agrup.loc[idx[:, 4, 9], :]"
   ]
  }
 ],
 "metadata": {
  "kernelspec": {
   "display_name": "Python 3",
   "language": "python",
   "name": "python3"
  },
  "language_info": {
   "codemirror_mode": {
    "name": "ipython",
    "version": 3
   },
   "file_extension": ".py",
   "mimetype": "text/x-python",
   "name": "python",
   "nbconvert_exporter": "python",
   "pygments_lexer": "ipython3",
   "version": "3.8.8"
  }
 },
 "nbformat": 4,
 "nbformat_minor": 5
}
